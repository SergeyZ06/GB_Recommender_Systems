{
 "cells": [
  {
   "cell_type": "markdown",
   "id": "6e314e12",
   "metadata": {},
   "source": [
    "# 4th_homework"
   ]
  },
  {
   "cell_type": "markdown",
   "id": "3d849ce8",
   "metadata": {},
   "source": [
    "### Import Section"
   ]
  },
  {
   "cell_type": "code",
   "execution_count": 1,
   "id": "c547af5c",
   "metadata": {},
   "outputs": [],
   "source": [
    "import numpy as np\n",
    "import pandas as pd\n",
    "\n",
    "from scipy.sparse import csr_matrix\n",
    "\n",
    "from implicit.als import AlternatingLeastSquares\n",
    "from implicit.nearest_neighbours import ItemItemRecommender"
   ]
  },
  {
   "cell_type": "markdown",
   "id": "d7536d82",
   "metadata": {},
   "source": [
    "### Settings Section"
   ]
  },
  {
   "cell_type": "code",
   "execution_count": 2,
   "id": "a2ae14a7",
   "metadata": {},
   "outputs": [],
   "source": [
    "# random_state_global = 0"
   ]
  },
  {
   "cell_type": "markdown",
   "id": "9ec3d506",
   "metadata": {},
   "source": [
    "### Path Section"
   ]
  },
  {
   "cell_type": "code",
   "execution_count": 3,
   "id": "2d81dc26",
   "metadata": {},
   "outputs": [],
   "source": [
    "PATH_DATA_RETAIL = r'../2th lesson/retail_train.csv'\n",
    "PATH_DATA_PRODUCT = r'../2th lesson/product.csv'"
   ]
  },
  {
   "cell_type": "markdown",
   "id": "0d80ae84",
   "metadata": {},
   "source": [
    "## Tasks"
   ]
  },
  {
   "cell_type": "markdown",
   "id": "4dbd3260",
   "metadata": {},
   "source": [
    "1. Изучите структуру модуля src.\n",
    "2. Перенесите функции prefilter_items и postfilter_items из вебинара в модуль src.utils.py.\n",
    "3. Реализуйте функции get_similar_items_recommendation, get_similar_users_recommendation (они разбирались на вебинаре) и переместите в src.recommenders.py.\n",
    "4. Проверьте, что все модули корректно импортируются.\n",
    "5. Если вы еще не прочитали статью о рекомендательных системах и поиске в hh.ru, то обязательно прочитайте:\n",
    "https://habr.com/ru/company/hh/blog/347276/"
   ]
  },
  {
   "cell_type": "markdown",
   "id": "6de5da7f",
   "metadata": {},
   "source": [
    "## 1. Изучите структуру модуля src"
   ]
  },
  {
   "cell_type": "markdown",
   "id": "ece0ef0a",
   "metadata": {},
   "source": [
    "Для изучения процесса создания собственных пакетов был изучен официальный туториал:\n",
    "https://packaging.python.org/en/latest/tutorials/packaging-projects/\n",
    "\n",
    "На простом примере был создан собственный пакет \"example-package-YOUR-USERNAME-HERE-0.0.1.tar.gz\"."
   ]
  },
  {
   "cell_type": "code",
   "execution_count": 4,
   "id": "b041725c",
   "metadata": {},
   "outputs": [
    {
     "name": "stdout",
     "output_type": "stream",
     "text": [
      "Processing c:\\users\\zsv\\pycharmprojects\\geekbrains\\recommender systems\\4th lesson\\packaging_tutorial\\dist\\example-package-your-username-here-0.0.1.tar.gz\n",
      "  Installing build dependencies: started\n",
      "  Installing build dependencies: finished with status 'done'\n",
      "  Getting requirements to build wheel: started\n",
      "  Getting requirements to build wheel: finished with status 'done'\n",
      "  Installing backend dependencies: started\n",
      "  Installing backend dependencies: finished with status 'done'\n",
      "  Preparing metadata (pyproject.toml): started\n",
      "  Preparing metadata (pyproject.toml): finished with status 'done'\n",
      "Building wheels for collected packages: example-package-YOUR-USERNAME-HERE\n",
      "  Building wheel for example-package-YOUR-USERNAME-HERE (pyproject.toml): started\n",
      "  Building wheel for example-package-YOUR-USERNAME-HERE (pyproject.toml): finished with status 'done'\n",
      "  Created wheel for example-package-YOUR-USERNAME-HERE: filename=example_package_YOUR_USERNAME_HERE-0.0.1-py3-none-any.whl size=2833 sha256=4e3ec59f02015be6668302d5ce4b91801d8f5552e7795981a7d3d37a696cfde8\n",
      "  Stored in directory: c:\\users\\zsv\\appdata\\local\\pip\\cache\\wheels\\c8\\ae\\be\\34e0faf9e292dccbe04c696986299791a50d9c91b710b6e303\n",
      "Successfully built example-package-YOUR-USERNAME-HERE\n",
      "Installing collected packages: example-package-YOUR-USERNAME-HERE\n",
      "  Attempting uninstall: example-package-YOUR-USERNAME-HERE\n",
      "    Found existing installation: example-package-YOUR-USERNAME-HERE 0.0.1\n",
      "    Uninstalling example-package-YOUR-USERNAME-HERE-0.0.1:\n",
      "      Successfully uninstalled example-package-YOUR-USERNAME-HERE-0.0.1\n",
      "Successfully installed example-package-YOUR-USERNAME-HERE-0.0.1\n"
     ]
    },
    {
     "name": "stderr",
     "output_type": "stream",
     "text": [
      "WARNING: Ignoring invalid distribution -yrsistent (c:\\users\\zsv\\appdata\\local\\programs\\python\\python39\\lib\\site-packages)\n",
      "WARNING: Ignoring invalid distribution -yrsistent (c:\\users\\zsv\\appdata\\local\\programs\\python\\python39\\lib\\site-packages)\n",
      "WARNING: Ignoring invalid distribution -yrsistent (c:\\users\\zsv\\appdata\\local\\programs\\python\\python39\\lib\\site-packages)\n",
      "    WARNING: Ignoring invalid distribution -yrsistent (c:\\users\\zsv\\appdata\\local\\programs\\python\\python39\\lib\\site-packages)\n",
      "WARNING: Ignoring invalid distribution -yrsistent (c:\\users\\zsv\\appdata\\local\\programs\\python\\python39\\lib\\site-packages)\n",
      "WARNING: Ignoring invalid distribution -yrsistent (c:\\users\\zsv\\appdata\\local\\programs\\python\\python39\\lib\\site-packages)\n",
      "WARNING: Ignoring invalid distribution -yrsistent (c:\\users\\zsv\\appdata\\local\\programs\\python\\python39\\lib\\site-packages)\n"
     ]
    }
   ],
   "source": [
    "# Установка пакета-примера.\n",
    "!pip install packaging_tutorial\\dist\\example-package-YOUR-USERNAME-HERE-0.0.1.tar.gz"
   ]
  },
  {
   "cell_type": "code",
   "execution_count": 5,
   "id": "408bcc39",
   "metadata": {},
   "outputs": [
    {
     "data": {
      "text/plain": [
       "3"
      ]
     },
     "execution_count": 5,
     "metadata": {},
     "output_type": "execute_result"
    }
   ],
   "source": [
    "# Проверка.\n",
    "from example_package import example\n",
    "\n",
    "example.add_one(2)"
   ]
  },
  {
   "cell_type": "markdown",
   "id": "2768ba77",
   "metadata": {},
   "source": [
    "## 2. Перенесите функции prefilter_items и postfilter_items из вебинара в модуль src.utils.py."
   ]
  },
  {
   "cell_type": "markdown",
   "id": "d8750260",
   "metadata": {},
   "source": [
    "Сперва реализуем функции в основном коде и проверим их работоспособность."
   ]
  },
  {
   "cell_type": "code",
   "execution_count": 6,
   "id": "7b567de7",
   "metadata": {},
   "outputs": [],
   "source": [
    "df_products = pd.read_csv(PATH_DATA_PRODUCT)\n",
    "\n",
    "df_products.columns = [col.lower() for col in df_products.columns]\n",
    "df_products = df_products.rename(columns={'product_id': 'item_id'})"
   ]
  },
  {
   "cell_type": "code",
   "execution_count": 7,
   "id": "69da5879",
   "metadata": {},
   "outputs": [
    {
     "data": {
      "text/html": [
       "<div>\n",
       "<style scoped>\n",
       "    .dataframe tbody tr th:only-of-type {\n",
       "        vertical-align: middle;\n",
       "    }\n",
       "\n",
       "    .dataframe tbody tr th {\n",
       "        vertical-align: top;\n",
       "    }\n",
       "\n",
       "    .dataframe thead th {\n",
       "        text-align: right;\n",
       "    }\n",
       "</style>\n",
       "<table border=\"1\" class=\"dataframe\">\n",
       "  <thead>\n",
       "    <tr style=\"text-align: right;\">\n",
       "      <th></th>\n",
       "      <th>item_id</th>\n",
       "      <th>manufacturer</th>\n",
       "      <th>department</th>\n",
       "      <th>brand</th>\n",
       "      <th>commodity_desc</th>\n",
       "      <th>sub_commodity_desc</th>\n",
       "      <th>curr_size_of_product</th>\n",
       "    </tr>\n",
       "  </thead>\n",
       "  <tbody>\n",
       "    <tr>\n",
       "      <th>0</th>\n",
       "      <td>25671</td>\n",
       "      <td>2</td>\n",
       "      <td>GROCERY</td>\n",
       "      <td>National</td>\n",
       "      <td>FRZN ICE</td>\n",
       "      <td>ICE - CRUSHED/CUBED</td>\n",
       "      <td>22 LB</td>\n",
       "    </tr>\n",
       "    <tr>\n",
       "      <th>1</th>\n",
       "      <td>26081</td>\n",
       "      <td>2</td>\n",
       "      <td>MISC. TRANS.</td>\n",
       "      <td>National</td>\n",
       "      <td>NO COMMODITY DESCRIPTION</td>\n",
       "      <td>NO SUBCOMMODITY DESCRIPTION</td>\n",
       "      <td></td>\n",
       "    </tr>\n",
       "    <tr>\n",
       "      <th>2</th>\n",
       "      <td>26093</td>\n",
       "      <td>69</td>\n",
       "      <td>PASTRY</td>\n",
       "      <td>Private</td>\n",
       "      <td>BREAD</td>\n",
       "      <td>BREAD:ITALIAN/FRENCH</td>\n",
       "      <td></td>\n",
       "    </tr>\n",
       "    <tr>\n",
       "      <th>3</th>\n",
       "      <td>26190</td>\n",
       "      <td>69</td>\n",
       "      <td>GROCERY</td>\n",
       "      <td>Private</td>\n",
       "      <td>FRUIT - SHELF STABLE</td>\n",
       "      <td>APPLE SAUCE</td>\n",
       "      <td>50 OZ</td>\n",
       "    </tr>\n",
       "    <tr>\n",
       "      <th>4</th>\n",
       "      <td>26355</td>\n",
       "      <td>69</td>\n",
       "      <td>GROCERY</td>\n",
       "      <td>Private</td>\n",
       "      <td>COOKIES/CONES</td>\n",
       "      <td>SPECIALTY COOKIES</td>\n",
       "      <td>14 OZ</td>\n",
       "    </tr>\n",
       "  </tbody>\n",
       "</table>\n",
       "</div>"
      ],
      "text/plain": [
       "   item_id  manufacturer    department     brand            commodity_desc  \\\n",
       "0    25671             2       GROCERY  National                  FRZN ICE   \n",
       "1    26081             2  MISC. TRANS.  National  NO COMMODITY DESCRIPTION   \n",
       "2    26093            69        PASTRY   Private                     BREAD   \n",
       "3    26190            69       GROCERY   Private      FRUIT - SHELF STABLE   \n",
       "4    26355            69       GROCERY   Private             COOKIES/CONES   \n",
       "\n",
       "            sub_commodity_desc curr_size_of_product  \n",
       "0          ICE - CRUSHED/CUBED                22 LB  \n",
       "1  NO SUBCOMMODITY DESCRIPTION                       \n",
       "2         BREAD:ITALIAN/FRENCH                       \n",
       "3                  APPLE SAUCE                50 OZ  \n",
       "4            SPECIALTY COOKIES                14 OZ  "
      ]
     },
     "execution_count": 7,
     "metadata": {},
     "output_type": "execute_result"
    }
   ],
   "source": [
    "df_products.head()"
   ]
  },
  {
   "cell_type": "code",
   "execution_count": 8,
   "id": "0ced254e",
   "metadata": {},
   "outputs": [],
   "source": [
    "df_retail = pd.read_csv(PATH_DATA_RETAIL)"
   ]
  },
  {
   "cell_type": "code",
   "execution_count": 9,
   "id": "5bd6003a",
   "metadata": {},
   "outputs": [
    {
     "data": {
      "text/html": [
       "<div>\n",
       "<style scoped>\n",
       "    .dataframe tbody tr th:only-of-type {\n",
       "        vertical-align: middle;\n",
       "    }\n",
       "\n",
       "    .dataframe tbody tr th {\n",
       "        vertical-align: top;\n",
       "    }\n",
       "\n",
       "    .dataframe thead th {\n",
       "        text-align: right;\n",
       "    }\n",
       "</style>\n",
       "<table border=\"1\" class=\"dataframe\">\n",
       "  <thead>\n",
       "    <tr style=\"text-align: right;\">\n",
       "      <th></th>\n",
       "      <th>user_id</th>\n",
       "      <th>basket_id</th>\n",
       "      <th>day</th>\n",
       "      <th>item_id</th>\n",
       "      <th>quantity</th>\n",
       "      <th>sales_value</th>\n",
       "      <th>store_id</th>\n",
       "      <th>retail_disc</th>\n",
       "      <th>trans_time</th>\n",
       "      <th>week_no</th>\n",
       "      <th>coupon_disc</th>\n",
       "      <th>coupon_match_disc</th>\n",
       "    </tr>\n",
       "  </thead>\n",
       "  <tbody>\n",
       "    <tr>\n",
       "      <th>0</th>\n",
       "      <td>2375</td>\n",
       "      <td>26984851472</td>\n",
       "      <td>1</td>\n",
       "      <td>1004906</td>\n",
       "      <td>1</td>\n",
       "      <td>1.39</td>\n",
       "      <td>364</td>\n",
       "      <td>-0.60</td>\n",
       "      <td>1631</td>\n",
       "      <td>1</td>\n",
       "      <td>0.0</td>\n",
       "      <td>0.0</td>\n",
       "    </tr>\n",
       "    <tr>\n",
       "      <th>1</th>\n",
       "      <td>2375</td>\n",
       "      <td>26984851472</td>\n",
       "      <td>1</td>\n",
       "      <td>1033142</td>\n",
       "      <td>1</td>\n",
       "      <td>0.82</td>\n",
       "      <td>364</td>\n",
       "      <td>0.00</td>\n",
       "      <td>1631</td>\n",
       "      <td>1</td>\n",
       "      <td>0.0</td>\n",
       "      <td>0.0</td>\n",
       "    </tr>\n",
       "    <tr>\n",
       "      <th>2</th>\n",
       "      <td>2375</td>\n",
       "      <td>26984851472</td>\n",
       "      <td>1</td>\n",
       "      <td>1036325</td>\n",
       "      <td>1</td>\n",
       "      <td>0.99</td>\n",
       "      <td>364</td>\n",
       "      <td>-0.30</td>\n",
       "      <td>1631</td>\n",
       "      <td>1</td>\n",
       "      <td>0.0</td>\n",
       "      <td>0.0</td>\n",
       "    </tr>\n",
       "    <tr>\n",
       "      <th>3</th>\n",
       "      <td>2375</td>\n",
       "      <td>26984851472</td>\n",
       "      <td>1</td>\n",
       "      <td>1082185</td>\n",
       "      <td>1</td>\n",
       "      <td>1.21</td>\n",
       "      <td>364</td>\n",
       "      <td>0.00</td>\n",
       "      <td>1631</td>\n",
       "      <td>1</td>\n",
       "      <td>0.0</td>\n",
       "      <td>0.0</td>\n",
       "    </tr>\n",
       "    <tr>\n",
       "      <th>4</th>\n",
       "      <td>2375</td>\n",
       "      <td>26984851472</td>\n",
       "      <td>1</td>\n",
       "      <td>8160430</td>\n",
       "      <td>1</td>\n",
       "      <td>1.50</td>\n",
       "      <td>364</td>\n",
       "      <td>-0.39</td>\n",
       "      <td>1631</td>\n",
       "      <td>1</td>\n",
       "      <td>0.0</td>\n",
       "      <td>0.0</td>\n",
       "    </tr>\n",
       "  </tbody>\n",
       "</table>\n",
       "</div>"
      ],
      "text/plain": [
       "   user_id    basket_id  day  item_id  quantity  sales_value  store_id  \\\n",
       "0     2375  26984851472    1  1004906         1         1.39       364   \n",
       "1     2375  26984851472    1  1033142         1         0.82       364   \n",
       "2     2375  26984851472    1  1036325         1         0.99       364   \n",
       "3     2375  26984851472    1  1082185         1         1.21       364   \n",
       "4     2375  26984851472    1  8160430         1         1.50       364   \n",
       "\n",
       "   retail_disc  trans_time  week_no  coupon_disc  coupon_match_disc  \n",
       "0        -0.60        1631        1          0.0                0.0  \n",
       "1         0.00        1631        1          0.0                0.0  \n",
       "2        -0.30        1631        1          0.0                0.0  \n",
       "3         0.00        1631        1          0.0                0.0  \n",
       "4        -0.39        1631        1          0.0                0.0  "
      ]
     },
     "execution_count": 9,
     "metadata": {},
     "output_type": "execute_result"
    }
   ],
   "source": [
    "df_retail.head()"
   ]
  },
  {
   "cell_type": "code",
   "execution_count": 10,
   "id": "4a7142ec",
   "metadata": {},
   "outputs": [
    {
     "data": {
      "text/plain": [
       "((2278490, 12), (118314, 12))"
      ]
     },
     "execution_count": 10,
     "metadata": {},
     "output_type": "execute_result"
    }
   ],
   "source": [
    "# Три последние недели будут использованы для валидации обученной модели.\n",
    "test_size_weeks = 3\n",
    "\n",
    "# Разбиение данных на обучающую и тестовую выборки.\n",
    "df_train = df_retail[df_retail['week_no'] < df_retail['week_no'].max() - test_size_weeks].copy()\n",
    "df_test = df_retail[df_retail['week_no'] >= df_retail['week_no'].max() - test_size_weeks].copy()\n",
    "\n",
    "# Проверка вывод размерностей выборок.\n",
    "df_train.shape, df_test.shape"
   ]
  },
  {
   "cell_type": "code",
   "execution_count": 11,
   "id": "3cef834d",
   "metadata": {},
   "outputs": [
    {
     "data": {
      "text/html": [
       "<div>\n",
       "<style scoped>\n",
       "    .dataframe tbody tr th:only-of-type {\n",
       "        vertical-align: middle;\n",
       "    }\n",
       "\n",
       "    .dataframe tbody tr th {\n",
       "        vertical-align: top;\n",
       "    }\n",
       "\n",
       "    .dataframe thead th {\n",
       "        text-align: right;\n",
       "    }\n",
       "</style>\n",
       "<table border=\"1\" class=\"dataframe\">\n",
       "  <thead>\n",
       "    <tr style=\"text-align: right;\">\n",
       "      <th></th>\n",
       "      <th>user_id</th>\n",
       "      <th>actual</th>\n",
       "    </tr>\n",
       "  </thead>\n",
       "  <tbody>\n",
       "    <tr>\n",
       "      <th>0</th>\n",
       "      <td>1</td>\n",
       "      <td>[821867, 834484, 856942, 865456, 889248, 90795...</td>\n",
       "    </tr>\n",
       "    <tr>\n",
       "      <th>1</th>\n",
       "      <td>3</td>\n",
       "      <td>[835476, 851057, 872021, 878302, 879948, 90963...</td>\n",
       "    </tr>\n",
       "  </tbody>\n",
       "</table>\n",
       "</div>"
      ],
      "text/plain": [
       "   user_id                                             actual\n",
       "0        1  [821867, 834484, 856942, 865456, 889248, 90795...\n",
       "1        3  [835476, 851057, 872021, 878302, 879948, 90963..."
      ]
     },
     "execution_count": 11,
     "metadata": {},
     "output_type": "execute_result"
    }
   ],
   "source": [
    "# Формирование проверочной таблицы на валидационной выборке.\n",
    "result_test = df_test.copy().groupby('user_id')['item_id'].unique().reset_index()\n",
    "result_test.columns=['user_id', 'actual']\n",
    "result_test.head(2)"
   ]
  },
  {
   "cell_type": "markdown",
   "id": "0b9bf67b",
   "metadata": {},
   "source": [
    "### Prefilter Items"
   ]
  },
  {
   "cell_type": "code",
   "execution_count": 12,
   "id": "e6adbb0e",
   "metadata": {},
   "outputs": [],
   "source": [
    "# Функция для фильтрации продуктов.\n",
    "def prefilter_items(retail, products=None, departments=[], items_too_cheap=[], items_too_expensive=[]):\n",
    "    \n",
    "    # Уберем самые популярные товары (их и так купят).\n",
    "    popularity = retail.groupby('item_id')['user_id'].nunique().reset_index()\n",
    "    popularity = popularity.rename(columns={'user_id': 'share_unique_users'})\n",
    "    popularity['share_unique_users'] = popularity['share_unique_users'] / retail['user_id'].nunique()\n",
    "    top_popular = popularity.query('share_unique_users > 0.5')['item_id']\n",
    "    retail = retail[~retail['item_id'].isin(top_popular)]\n",
    "    \n",
    "    # Уберем самые НЕ популярные товары (их и так НЕ купят).\n",
    "    top_not_popular = popularity.query('share_unique_users < 0.01')['item_id']\n",
    "    retail = retail[~retail['item_id'].isin(top_not_popular)]\n",
    "    \n",
    "    # Уберем товары, которые не продавались за последние 12 месяцев.\n",
    "    weeks_actual = retail['week_no'].unique()[-12:]\n",
    "    items_actual = retail.loc[retail['week_no'].isin(weeks_actual), 'item_id'].unique()\n",
    "    retail = retail[retail['item_id'].isin(items_actual)]\n",
    "    \n",
    "    # Уберем не интересные для рекоммендаций категории (department).\n",
    "    if products is not None and departments != []:\n",
    "        items_dep = products.loc[products['department'].isin(departments), 'item_id']\n",
    "        retail = retail[retail['item_id'].isin(items_dep)]\n",
    "    \n",
    "    # Уберем слишком дешевые товары (на них не заработаем). 1 покупка из рассылок стоит 60 руб.\n",
    "    retail = retail[~retail['item_id'].isin(items_too_cheap)]\n",
    "    \n",
    "    # Уберем слишком дорогие товары.\n",
    "    retail = retail[~retail['item_id'].isin(items_too_expensive)]\n",
    "    \n",
    "    return retail"
   ]
  },
  {
   "cell_type": "code",
   "execution_count": 13,
   "id": "90f09500",
   "metadata": {},
   "outputs": [
    {
     "name": "stdout",
     "output_type": "stream",
     "text": [
      "Размерность таблицы до фильтрации:\t(2278490, 12)\n",
      "Размерность таблицы после фильтрации:\t(1690216, 12)\n",
      "\n",
      "Количество продуктов до фильтрации:\t86865\n",
      "Количество продуктов после фильтрации:\t10935\n",
      "\n",
      "CPU times: total: 2.12 s\n",
      "Wall time: 2.16 s\n"
     ]
    }
   ],
   "source": [
    "%%time\n",
    "\n",
    "\n",
    "df_train_pf = prefilter_items(df_train)\n",
    "\n",
    "print(f'Размерность таблицы до фильтрации:\\t{df_train.shape}\\n' \\\n",
    "      f'Размерность таблицы после фильтрации:\\t{df_train_pf.shape}\\n' \\\n",
    "      f'\\n' \\\n",
    "      f'Количество продуктов до фильтрации:\\t{df_train[\"item_id\"].nunique()}\\n' \\\n",
    "      f'Количество продуктов после фильтрации:\\t{df_train_pf[\"item_id\"].nunique()}\\n'\n",
    "     )"
   ]
  },
  {
   "cell_type": "code",
   "execution_count": 14,
   "id": "c93f7ad8",
   "metadata": {},
   "outputs": [
    {
     "data": {
      "text/plain": [
       "GROCERY      39021\n",
       "DRUG GM      31529\n",
       "PRODUCE       3118\n",
       "COSMETICS     3011\n",
       "NUTRITION     2914\n",
       "Name: department, dtype: int64"
      ]
     },
     "execution_count": 14,
     "metadata": {},
     "output_type": "execute_result"
    }
   ],
   "source": [
    "df_products['department'].value_counts().head()"
   ]
  },
  {
   "cell_type": "code",
   "execution_count": 15,
   "id": "586416e6",
   "metadata": {},
   "outputs": [
    {
     "name": "stdout",
     "output_type": "stream",
     "text": [
      "Размерность таблицы до фильтрации:\t(2278490, 12)\n",
      "Размерность таблицы после фильтрации:\t(1261301, 12)\n",
      "\n",
      "Количество продуктов до фильтрации:\t86865\n",
      "Количество продуктов после фильтрации:\t9008\n",
      "\n",
      "CPU times: total: 2.16 s\n",
      "Wall time: 2.18 s\n"
     ]
    }
   ],
   "source": [
    "%%time\n",
    "\n",
    "\n",
    "df_train_pf = prefilter_items(df_train, df_products, ['GROCERY', 'DRUG GM'])\n",
    "\n",
    "print(f'Размерность таблицы до фильтрации:\\t{df_train.shape}\\n' \\\n",
    "      f'Размерность таблицы после фильтрации:\\t{df_train_pf.shape}\\n' \\\n",
    "      f'\\n' \\\n",
    "      f'Количество продуктов до фильтрации:\\t{df_train[\"item_id\"].nunique()}\\n' \\\n",
    "      f'Количество продуктов после фильтрации:\\t{df_train_pf[\"item_id\"].nunique()}\\n'\n",
    "     )"
   ]
  },
  {
   "cell_type": "markdown",
   "id": "083be5d0",
   "metadata": {},
   "source": [
    "Функция фильтрации отсеивает:\n",
    "- наиболее и наименее популярные товары;\n",
    "- товары без продаж в течение 12 месяцев;\n",
    "- при указании параметра, товары из других категорий;\n",
    "- при указании параметров, слишком дешёвые и дорогие товары."
   ]
  },
  {
   "cell_type": "markdown",
   "id": "0cc4d28b",
   "metadata": {},
   "source": [
    "### Postfilter Items"
   ]
  },
  {
   "cell_type": "code",
   "execution_count": 16,
   "id": "021889ea",
   "metadata": {},
   "outputs": [],
   "source": [
    "def postfilter_items(user_id, recommednations):\n",
    "    pass"
   ]
  },
  {
   "cell_type": "markdown",
   "id": "6fa63bdf",
   "metadata": {},
   "source": [
    "## 3. Реализуйте функции get_similar_items_recommendation, get_similar_users_recommendation (они разбирались на вебинаре) и переместите в src.recommenders.py."
   ]
  },
  {
   "cell_type": "markdown",
   "id": "5412e684",
   "metadata": {},
   "source": [
    "#### Precision@K"
   ]
  },
  {
   "cell_type": "code",
   "execution_count": 17,
   "id": "7a655b6b",
   "metadata": {},
   "outputs": [],
   "source": [
    "def precision_at_k(recommended_list, bought_list, k=5):\n",
    "    \n",
    "    bought_list = np.array(bought_list)\n",
    "    recommended_list = np.array(recommended_list)\n",
    "    \n",
    "    bought_list = bought_list\n",
    "    recommended_list = recommended_list[:k]\n",
    "    \n",
    "    flags = np.isin(bought_list, recommended_list)\n",
    "    \n",
    "    precision = flags.sum() / len(recommended_list)\n",
    "    \n",
    "    return precision"
   ]
  },
  {
   "cell_type": "markdown",
   "id": "d03c873f",
   "metadata": {},
   "source": [
    "#### Get Recommendations"
   ]
  },
  {
   "cell_type": "code",
   "execution_count": 18,
   "id": "72a8e5a2",
   "metadata": {},
   "outputs": [],
   "source": [
    "def get_recommendations(user, model, N=5):\n",
    "    res = [id_to_itemid[rec[0]] for rec in \n",
    "                    model.recommend(userid=userid_to_id[user], \n",
    "                                    user_items=sparse_user_item,   # на вход user-item matrix\n",
    "                                    N=N, \n",
    "                                    filter_already_liked_items=False, \n",
    "                                    filter_items=[itemid_to_id[999999]], \n",
    "                                    recalculate_user=True)]\n",
    "    return res"
   ]
  },
  {
   "cell_type": "markdown",
   "id": "371008ef",
   "metadata": {},
   "source": [
    "#### Лучшая модель из предыдущего урока"
   ]
  },
  {
   "cell_type": "code",
   "execution_count": 19,
   "id": "7de02f6d",
   "metadata": {},
   "outputs": [],
   "source": [
    "# Формирование таблицы, где для каждого товара указано количество продаж.\n",
    "popularity = df_train.copy().groupby('item_id')['quantity'].sum().reset_index()\n",
    "popularity = popularity.rename(columns={'quantity': 'n_sold'})\n",
    "\n",
    "# Составление списка 5000 наиболее продаваемых товаров.\n",
    "top_5000 = popularity.copy().sort_values('n_sold', ascending=False).head(5000).item_id.tolist()\n",
    "\n",
    "# Товары вне топ 5000 определены в отдельную категорию.\n",
    "df_train.loc[~df_train['item_id'].isin(top_5000), 'item_id'] = 999999"
   ]
  },
  {
   "cell_type": "code",
   "execution_count": 20,
   "id": "c08a3c43",
   "metadata": {},
   "outputs": [
    {
     "data": {
      "text/html": [
       "<div>\n",
       "<style scoped>\n",
       "    .dataframe tbody tr th:only-of-type {\n",
       "        vertical-align: middle;\n",
       "    }\n",
       "\n",
       "    .dataframe tbody tr th {\n",
       "        vertical-align: top;\n",
       "    }\n",
       "\n",
       "    .dataframe thead th {\n",
       "        text-align: right;\n",
       "    }\n",
       "</style>\n",
       "<table border=\"1\" class=\"dataframe\">\n",
       "  <thead>\n",
       "    <tr style=\"text-align: right;\">\n",
       "      <th>item_id</th>\n",
       "      <th>202291</th>\n",
       "      <th>397896</th>\n",
       "      <th>420647</th>\n",
       "      <th>480014</th>\n",
       "      <th>545926</th>\n",
       "      <th>707683</th>\n",
       "      <th>731106</th>\n",
       "      <th>818980</th>\n",
       "      <th>819063</th>\n",
       "      <th>819227</th>\n",
       "      <th>...</th>\n",
       "      <th>15778533</th>\n",
       "      <th>15831255</th>\n",
       "      <th>15926712</th>\n",
       "      <th>15926775</th>\n",
       "      <th>15926844</th>\n",
       "      <th>15926886</th>\n",
       "      <th>15927403</th>\n",
       "      <th>15927661</th>\n",
       "      <th>15927850</th>\n",
       "      <th>16809471</th>\n",
       "    </tr>\n",
       "    <tr>\n",
       "      <th>user_id</th>\n",
       "      <th></th>\n",
       "      <th></th>\n",
       "      <th></th>\n",
       "      <th></th>\n",
       "      <th></th>\n",
       "      <th></th>\n",
       "      <th></th>\n",
       "      <th></th>\n",
       "      <th></th>\n",
       "      <th></th>\n",
       "      <th></th>\n",
       "      <th></th>\n",
       "      <th></th>\n",
       "      <th></th>\n",
       "      <th></th>\n",
       "      <th></th>\n",
       "      <th></th>\n",
       "      <th></th>\n",
       "      <th></th>\n",
       "      <th></th>\n",
       "      <th></th>\n",
       "    </tr>\n",
       "  </thead>\n",
       "  <tbody>\n",
       "    <tr>\n",
       "      <th>1</th>\n",
       "      <td>0.0</td>\n",
       "      <td>0.0</td>\n",
       "      <td>0.0</td>\n",
       "      <td>0.0</td>\n",
       "      <td>0.0</td>\n",
       "      <td>0.0</td>\n",
       "      <td>0.0</td>\n",
       "      <td>0.0</td>\n",
       "      <td>0.0</td>\n",
       "      <td>0.0</td>\n",
       "      <td>...</td>\n",
       "      <td>0.0</td>\n",
       "      <td>0.0</td>\n",
       "      <td>0.0</td>\n",
       "      <td>0.0</td>\n",
       "      <td>1.0</td>\n",
       "      <td>0.0</td>\n",
       "      <td>0.0</td>\n",
       "      <td>0.0</td>\n",
       "      <td>0.0</td>\n",
       "      <td>0.0</td>\n",
       "    </tr>\n",
       "    <tr>\n",
       "      <th>2</th>\n",
       "      <td>0.0</td>\n",
       "      <td>0.0</td>\n",
       "      <td>0.0</td>\n",
       "      <td>0.0</td>\n",
       "      <td>0.0</td>\n",
       "      <td>0.0</td>\n",
       "      <td>0.0</td>\n",
       "      <td>0.0</td>\n",
       "      <td>0.0</td>\n",
       "      <td>0.0</td>\n",
       "      <td>...</td>\n",
       "      <td>0.0</td>\n",
       "      <td>0.0</td>\n",
       "      <td>0.0</td>\n",
       "      <td>0.0</td>\n",
       "      <td>0.0</td>\n",
       "      <td>0.0</td>\n",
       "      <td>0.0</td>\n",
       "      <td>0.0</td>\n",
       "      <td>0.0</td>\n",
       "      <td>0.0</td>\n",
       "    </tr>\n",
       "    <tr>\n",
       "      <th>3</th>\n",
       "      <td>0.0</td>\n",
       "      <td>0.0</td>\n",
       "      <td>0.0</td>\n",
       "      <td>0.0</td>\n",
       "      <td>0.0</td>\n",
       "      <td>0.0</td>\n",
       "      <td>0.0</td>\n",
       "      <td>0.0</td>\n",
       "      <td>0.0</td>\n",
       "      <td>0.0</td>\n",
       "      <td>...</td>\n",
       "      <td>0.0</td>\n",
       "      <td>0.0</td>\n",
       "      <td>0.0</td>\n",
       "      <td>0.0</td>\n",
       "      <td>0.0</td>\n",
       "      <td>0.0</td>\n",
       "      <td>0.0</td>\n",
       "      <td>0.0</td>\n",
       "      <td>0.0</td>\n",
       "      <td>0.0</td>\n",
       "    </tr>\n",
       "  </tbody>\n",
       "</table>\n",
       "<p>3 rows × 5001 columns</p>\n",
       "</div>"
      ],
      "text/plain": [
       "item_id  202291    397896    420647    480014    545926    707683    731106    \\\n",
       "user_id                                                                         \n",
       "1             0.0       0.0       0.0       0.0       0.0       0.0       0.0   \n",
       "2             0.0       0.0       0.0       0.0       0.0       0.0       0.0   \n",
       "3             0.0       0.0       0.0       0.0       0.0       0.0       0.0   \n",
       "\n",
       "item_id  818980    819063    819227    ...  15778533  15831255  15926712  \\\n",
       "user_id                                ...                                 \n",
       "1             0.0       0.0       0.0  ...       0.0       0.0       0.0   \n",
       "2             0.0       0.0       0.0  ...       0.0       0.0       0.0   \n",
       "3             0.0       0.0       0.0  ...       0.0       0.0       0.0   \n",
       "\n",
       "item_id  15926775  15926844  15926886  15927403  15927661  15927850  16809471  \n",
       "user_id                                                                        \n",
       "1             0.0       1.0       0.0       0.0       0.0       0.0       0.0  \n",
       "2             0.0       0.0       0.0       0.0       0.0       0.0       0.0  \n",
       "3             0.0       0.0       0.0       0.0       0.0       0.0       0.0  \n",
       "\n",
       "[3 rows x 5001 columns]"
      ]
     },
     "execution_count": 20,
     "metadata": {},
     "output_type": "execute_result"
    }
   ],
   "source": [
    "# Подготовка User-Item матрицы.\n",
    "user_item_matrix = pd.pivot_table(df_train,\n",
    "                                  index='user_id',\n",
    "                                  columns='item_id', \n",
    "                                  values='quantity',\n",
    "                                  aggfunc='sum',\n",
    "                                  fill_value=0\n",
    "                                 )\n",
    "\n",
    "# Необходимый тип матрицы для implicit.\n",
    "user_item_matrix = user_item_matrix.astype(float) \n",
    "\n",
    "# Перевод в формат saprse matrix.\n",
    "sparse_user_item = csr_matrix(user_item_matrix).tocsr()\n",
    "\n",
    "user_item_matrix.head(3)"
   ]
  },
  {
   "cell_type": "code",
   "execution_count": 21,
   "id": "47c75fe9",
   "metadata": {},
   "outputs": [],
   "source": [
    "# Словари перевода user_id и item_id к порядковым id и наоброт\n",
    "userids = user_item_matrix.index.values\n",
    "itemids = user_item_matrix.columns.values\n",
    "\n",
    "matrix_userids = np.arange(len(userids))\n",
    "matrix_itemids = np.arange(len(itemids))\n",
    "\n",
    "id_to_itemid = dict(zip(matrix_itemids, itemids))\n",
    "id_to_userid = dict(zip(matrix_userids, userids))\n",
    "\n",
    "itemid_to_id = dict(zip(itemids, matrix_itemids))\n",
    "userid_to_id = dict(zip(userids, matrix_userids))"
   ]
  },
  {
   "cell_type": "code",
   "execution_count": 22,
   "id": "f33487bb",
   "metadata": {
    "scrolled": false
   },
   "outputs": [
    {
     "data": {
      "application/vnd.jupyter.widget-view+json": {
       "model_id": "9bbd8244080b4f49924a33a74da8cfa5",
       "version_major": 2,
       "version_minor": 0
      },
      "text/plain": [
       "  0%|          | 0/15 [00:00<?, ?it/s]"
      ]
     },
     "metadata": {},
     "output_type": "display_data"
    },
    {
     "name": "stdout",
     "output_type": "stream",
     "text": [
      "CPU times: total: 20.8 s\n",
      "Wall time: 13.1 s\n"
     ]
    },
    {
     "data": {
      "text/plain": [
       "0.16454456415279137"
      ]
     },
     "execution_count": 22,
     "metadata": {},
     "output_type": "execute_result"
    }
   ],
   "source": [
    "%%time\n",
    "\n",
    "\n",
    "# Инициализация модели.\n",
    "model_als = AlternatingLeastSquares(factors=10,\n",
    "                                    regularization=0.1,\n",
    "                                    iterations=15,\n",
    "                                    calculate_training_loss=True,\n",
    "                                    use_gpu=False)\n",
    "\n",
    "# Обучение модели.\n",
    "model_als.fit(csr_matrix(user_item_matrix).T.tocsr(), show_progress=True)\n",
    "\n",
    "# Выполнение прогноза.\n",
    "result = result_test.copy()\n",
    "result['als'] = result['user_id'].apply(lambda x: get_recommendations(x, model=model_als, N=5))\n",
    "metric = result.apply(lambda row: precision_at_k(row['als'], row['actual']), axis=1).mean()\n",
    "del result\n",
    "\n",
    "# Проверка: вывод метрики качества.\n",
    "metric"
   ]
  },
  {
   "cell_type": "markdown",
   "id": "6a53d202",
   "metadata": {},
   "source": [
    "### get_similar_items_recommendation"
   ]
  },
  {
   "cell_type": "code",
   "execution_count": 23,
   "id": "d17bf960",
   "metadata": {},
   "outputs": [],
   "source": [
    "# Функция для подбора похожих продуктов.\n",
    "def get_similar_items_recommendation(user, result_train, model, id_to_itemid, itemid_to_id, filter_items=[], N=5):\n",
    "    \"\"\"Рекомендуем товары, похожие на топ-N купленных юзером товаров\"\"\"\n",
    "    \n",
    "    # На вход функции поступает список купленных продуктов, из него выбираются топ-N купленных продуктов.\n",
    "    user_items = [*result_train.loc[result_train['user_id'] == 1, 'actual']][0][:N]\n",
    "    \n",
    "    # Список для хранения похожих продуктов.\n",
    "    res = []\n",
    "    \n",
    "    # Для каждого продукта из топа:\n",
    "    for item in user_items:\n",
    "        # выбрать второй наиболее похожий продукт, так как первый - это сам рассматриваемый продукт.\n",
    "        item_rec = id_to_itemid[model.similar_items(itemid_to_id[item], N=2)[1][0]]\n",
    "        \n",
    "        # Если продукт попал в категорию \"прочие\",\n",
    "        if item_rec in filter_items:\n",
    "            # выбрать следующий продукт.\n",
    "            item_rec = id_to_itemid[model.similar_items(itemid_to_id[item], N=3)[2][0]]\n",
    "        \n",
    "        res.append(id_to_itemid[model.similar_items(itemid_to_id[item], N=2)[1][0]])\n",
    "    \n",
    "    return res"
   ]
  },
  {
   "cell_type": "code",
   "execution_count": 24,
   "id": "9a5b2818",
   "metadata": {},
   "outputs": [
    {
     "data": {
      "text/html": [
       "<div>\n",
       "<style scoped>\n",
       "    .dataframe tbody tr th:only-of-type {\n",
       "        vertical-align: middle;\n",
       "    }\n",
       "\n",
       "    .dataframe tbody tr th {\n",
       "        vertical-align: top;\n",
       "    }\n",
       "\n",
       "    .dataframe thead th {\n",
       "        text-align: right;\n",
       "    }\n",
       "</style>\n",
       "<table border=\"1\" class=\"dataframe\">\n",
       "  <thead>\n",
       "    <tr style=\"text-align: right;\">\n",
       "      <th></th>\n",
       "      <th>user_id</th>\n",
       "      <th>actual</th>\n",
       "    </tr>\n",
       "  </thead>\n",
       "  <tbody>\n",
       "    <tr>\n",
       "      <th>0</th>\n",
       "      <td>1</td>\n",
       "      <td>[999999, 840361, 845307, 852014, 856942, 91267...</td>\n",
       "    </tr>\n",
       "    <tr>\n",
       "      <th>1</th>\n",
       "      <td>2</td>\n",
       "      <td>[854852, 930118, 1077555, 1098066, 999999, 556...</td>\n",
       "    </tr>\n",
       "  </tbody>\n",
       "</table>\n",
       "</div>"
      ],
      "text/plain": [
       "   user_id                                             actual\n",
       "0        1  [999999, 840361, 845307, 852014, 856942, 91267...\n",
       "1        2  [854852, 930118, 1077555, 1098066, 999999, 556..."
      ]
     },
     "execution_count": 24,
     "metadata": {},
     "output_type": "execute_result"
    }
   ],
   "source": [
    "# Формирование проверочной таблицы на обучающей выборке.\n",
    "result_train = df_train.copy().groupby('user_id')['item_id'].unique().reset_index()\n",
    "result_train.columns=['user_id', 'actual']\n",
    "result_train.head(2)"
   ]
  },
  {
   "cell_type": "code",
   "execution_count": 25,
   "id": "553a569c",
   "metadata": {
    "scrolled": true
   },
   "outputs": [
    {
     "data": {
      "text/plain": [
       "array([999999, 840361, 845307, 852014, 856942], dtype=int64)"
      ]
     },
     "execution_count": 25,
     "metadata": {},
     "output_type": "execute_result"
    }
   ],
   "source": [
    "# Топ 5 товаров первого пользователя.\n",
    "[*result_train.loc[result_train['user_id'] == 1, 'actual']][0][:5]"
   ]
  },
  {
   "cell_type": "code",
   "execution_count": 26,
   "id": "2cbfc5ca",
   "metadata": {},
   "outputs": [
    {
     "data": {
      "text/plain": [
       "[1082185, 904360, 9677236, 924760, 934399]"
      ]
     },
     "execution_count": 26,
     "metadata": {},
     "output_type": "execute_result"
    }
   ],
   "source": [
    "# Подбор похожих товаров на основе купленных.\n",
    "get_similar_items_recommendation(1, result_train, model_als, id_to_itemid, itemid_to_id, [999999], 5)"
   ]
  },
  {
   "cell_type": "code",
   "execution_count": 27,
   "id": "75ec3b28",
   "metadata": {},
   "outputs": [
    {
     "name": "stdout",
     "output_type": "stream",
     "text": [
      "CPU times: total: 3.91 s\n",
      "Wall time: 3.2 s\n"
     ]
    },
    {
     "data": {
      "text/plain": [
       "0.07482859941234085"
      ]
     },
     "execution_count": 27,
     "metadata": {},
     "output_type": "execute_result"
    }
   ],
   "source": [
    "%%time\n",
    "\n",
    "# Выполнение прогноза.\n",
    "result = result_test.copy()\n",
    "result['sir'] = result['user_id'].apply(lambda x:\n",
    "                                        get_similar_items_recommendation(x,\n",
    "                                                                         result_train,\n",
    "                                                                         model_als,\n",
    "                                                                         id_to_itemid,\n",
    "                                                                         itemid_to_id,\n",
    "                                                                         [999999],\n",
    "                                                                         5))\n",
    "\n",
    "metric = result.apply(lambda row: precision_at_k(row['sir'], row['actual']), axis=1).mean()\n",
    "del result\n",
    "\n",
    "# Проверка: вывод метрики качества.\n",
    "metric"
   ]
  },
  {
   "cell_type": "markdown",
   "id": "589daf49",
   "metadata": {},
   "source": [
    "### get_similar_users_recommendation"
   ]
  },
  {
   "cell_type": "code",
   "execution_count": 28,
   "id": "ae8a339b",
   "metadata": {},
   "outputs": [
    {
     "data": {
      "application/vnd.jupyter.widget-view+json": {
       "model_id": "e3bf2c30d7644cb7ae1ad7f2c84d8acf",
       "version_major": 2,
       "version_minor": 0
      },
      "text/plain": [
       "  0%|          | 0/5001 [00:00<?, ?it/s]"
      ]
     },
     "metadata": {},
     "output_type": "display_data"
    },
    {
     "name": "stdout",
     "output_type": "stream",
     "text": [
      "CPU times: total: 1.52 s\n",
      "Wall time: 621 ms\n"
     ]
    }
   ],
   "source": [
    "%%time\n",
    "\n",
    "# Инициализация модели для собственных прогнозов пользователя.\n",
    "own_recommender = ItemItemRecommender(K=1)\n",
    "\n",
    "# Обучение модели.\n",
    "own_recommender.fit(csr_matrix(user_item_matrix).T.tocsr(),\n",
    "                    show_progress=True)"
   ]
  },
  {
   "cell_type": "code",
   "execution_count": 29,
   "id": "a9def650",
   "metadata": {},
   "outputs": [
    {
     "data": {
      "text/plain": [
       "[(4346, 41882813736365.0), (4339, 383519267.0)]"
      ]
     },
     "execution_count": 29,
     "metadata": {},
     "output_type": "execute_result"
    }
   ],
   "source": [
    "# Проверка работы модели:\n",
    "# прогноз двух продуктов для первого пользователя.\n",
    "own_recommender.recommend(userid=1,\n",
    "                          user_items=csr_matrix(user_item_matrix).tocsr(),\n",
    "                          N=2,\n",
    "                          filter_items=[itemid_to_id[999999]])"
   ]
  },
  {
   "cell_type": "code",
   "execution_count": 30,
   "id": "06151e17",
   "metadata": {},
   "outputs": [],
   "source": [
    "# Функция для подбора продуктов похожих пользователей.\n",
    "def get_similar_users_recommendation(user, model_als, model_own, user_item_matrix, filter_items=[], N=5):\n",
    "    \"\"\"Рекомендуем топ-N товаров, среди купленных похожими юзерами\"\"\"\n",
    "    \n",
    "    # Формирование списка N похожих пользователей, кроме первого пользователя - это сам рассматриваемый пользователь.\n",
    "    list_similar_users = [user_id for user_id, _ in model_als.similar_users(user, N + 1)[1:]]\n",
    "    \n",
    "    # Список для хранения товаров похожих пользователей.\n",
    "    res = []\n",
    "    \n",
    "    # Для каждого похожего пользователя:\n",
    "    for similar_user in list_similar_users:\n",
    "        # выполнить прогноз N продуктов,\n",
    "        recs = model_own.recommend(userid=similar_user,\n",
    "                                   user_items=user_item_matrix,\n",
    "                                   N=N,\n",
    "                                   filter_items=filter_items)\n",
    "        \n",
    "        # выбрать первый продукт.\n",
    "        item = recs[0][0]\n",
    "        \n",
    "        # Для всех предсказанных продуктов текущего похожего пользователя:\n",
    "        for i in range(len(recs)):\n",
    "            # если продукт уже в списке предсказанных:\n",
    "            if item in res:\n",
    "                # выбрать следующий продукт.\n",
    "                item = recs[i][0]\n",
    "\n",
    "        # добавить продукт в список для рекомендации.\n",
    "        res.append(item)\n",
    "    \n",
    "    return res"
   ]
  },
  {
   "cell_type": "code",
   "execution_count": 31,
   "id": "4577a6f7",
   "metadata": {},
   "outputs": [
    {
     "name": "stdout",
     "output_type": "stream",
     "text": [
      "CPU times: total: 234 ms\n",
      "Wall time: 229 ms\n"
     ]
    },
    {
     "data": {
      "text/plain": [
       "[6534178, 6533889, 6534166, 6533889, 6533889]"
      ]
     },
     "execution_count": 31,
     "metadata": {},
     "output_type": "execute_result"
    }
   ],
   "source": [
    "%%time\n",
    "\n",
    "# Проверка работы функции:\n",
    "# прогноз продуктов пяти наиболее похожих пользователей для 1-го пользователя,\n",
    "recs = get_similar_users_recommendation(user=1,\n",
    "                                        model_als=model_als,\n",
    "                                        model_own=own_recommender,\n",
    "                                        user_item_matrix=csr_matrix(user_item_matrix).tocsr(),\n",
    "                                        filter_items=[itemid_to_id[999999]])\n",
    "\n",
    "# преобразование id продукта к itemid,\n",
    "recs = [id_to_itemid[x] for x in recs]\n",
    "\n",
    "# вывод продуктов пяти наиболее похожих пользователей для 1-го пользователя.\n",
    "recs"
   ]
  },
  {
   "cell_type": "markdown",
   "id": "00439c71",
   "metadata": {},
   "source": [
    "Продукты могут повторяться, так как модель \"own_recommender\" не всегда может спрогнозировать достаточное количество уникальных продуктов."
   ]
  },
  {
   "cell_type": "code",
   "execution_count": 32,
   "id": "d7e7ff22",
   "metadata": {
    "scrolled": true
   },
   "outputs": [
    {
     "name": "stdout",
     "output_type": "stream",
     "text": [
      "CPU times: total: 4.39 s\n",
      "Wall time: 4.4 s\n"
     ]
    },
    {
     "data": {
      "text/plain": [
       "0.0"
      ]
     },
     "execution_count": 32,
     "metadata": {},
     "output_type": "execute_result"
    }
   ],
   "source": [
    "%%time\n",
    "\n",
    "# Выполнение прогноза.\n",
    "# result = result_test.copy()\n",
    "result = result_test.iloc[0:20, :].copy()\n",
    "result['sur'] = result['user_id'].apply(lambda x:\n",
    "                                        get_similar_users_recommendation(user=1,\n",
    "                                                                         model_als=model_als,\n",
    "                                                                         model_own=own_recommender,\n",
    "                                                                         user_item_matrix=csr_matrix(user_item_matrix).tocsr(),\n",
    "                                                                         filter_items=[itemid_to_id[999999]]))\n",
    "\n",
    "metric = result.apply(lambda row: precision_at_k(row['sur'], row['actual']), axis=1).mean()\n",
    "del result\n",
    "\n",
    "# Проверка: вывод метрики качества.\n",
    "metric"
   ]
  },
  {
   "cell_type": "markdown",
   "id": "bb4d4df8",
   "metadata": {},
   "source": [
    "## 4. Проверьте, что все модули корректно импортируются."
   ]
  },
  {
   "cell_type": "code",
   "execution_count": 33,
   "id": "7749d99e",
   "metadata": {},
   "outputs": [
    {
     "name": "stdout",
     "output_type": "stream",
     "text": [
      "* Creating venv isolated environment...\n",
      "* Installing packages in isolated environment... (setuptools>=42)\n",
      "* Getting dependencies for sdist...\n",
      "running egg_info\n",
      "writing src\\package_4th_homework.egg-info\\PKG-INFO\n",
      "writing dependency_links to src\\package_4th_homework.egg-info\\dependency_links.txt\n",
      "writing top-level names to src\\package_4th_homework.egg-info\\top_level.txt\n",
      "reading manifest file 'src\\package_4th_homework.egg-info\\SOURCES.txt'\n",
      "adding license file 'LICENSE'\n",
      "writing manifest file 'src\\package_4th_homework.egg-info\\SOURCES.txt'\n",
      "* Building sdist...\n",
      "running sdist\n",
      "running egg_info\n",
      "writing src\\package_4th_homework.egg-info\\PKG-INFO\n",
      "writing dependency_links to src\\package_4th_homework.egg-info\\dependency_links.txt\n",
      "writing top-level names to src\\package_4th_homework.egg-info\\top_level.txt\n",
      "reading manifest file 'src\\package_4th_homework.egg-info\\SOURCES.txt'\n",
      "adding license file 'LICENSE'\n",
      "writing manifest file 'src\\package_4th_homework.egg-info\\SOURCES.txt'\n",
      "running check\n",
      "creating package_4th_homework-1\n",
      "creating package_4th_homework-1\\src\n",
      "creating package_4th_homework-1\\src\\package_4th_homework\n",
      "creating package_4th_homework-1\\src\\package_4th_homework.egg-info\n",
      "copying files to package_4th_homework-1...\n",
      "copying LICENSE -> package_4th_homework-1\n",
      "copying README.md -> package_4th_homework-1\n",
      "copying pyproject.toml -> package_4th_homework-1\n",
      "copying setup.cfg -> package_4th_homework-1\n",
      "copying src\\package_4th_homework\\__init__.py -> package_4th_homework-1\\src\\package_4th_homework\n",
      "copying src\\package_4th_homework\\recommenders.py -> package_4th_homework-1\\src\\package_4th_homework\n",
      "copying src\\package_4th_homework\\utils.py -> package_4th_homework-1\\src\\package_4th_homework\n",
      "copying src\\package_4th_homework.egg-info\\PKG-INFO -> package_4th_homework-1\\src\\package_4th_homework.egg-info\n",
      "copying src\\package_4th_homework.egg-info\\SOURCES.txt -> package_4th_homework-1\\src\\package_4th_homework.egg-info\n",
      "copying src\\package_4th_homework.egg-info\\dependency_links.txt -> package_4th_homework-1\\src\\package_4th_homework.egg-info\n",
      "copying src\\package_4th_homework.egg-info\\top_level.txt -> package_4th_homework-1\\src\\package_4th_homework.egg-info\n",
      "Writing package_4th_homework-1\\setup.cfg\n",
      "Creating tar archive\n",
      "removing 'package_4th_homework-1' (and everything under it)\n",
      "* Building wheel from sdist\n",
      "* Creating venv isolated environment...\n",
      "* Installing packages in isolated environment... (setuptools>=42)\n",
      "* Getting dependencies for wheel...\n",
      "running egg_info\n",
      "writing src\\package_4th_homework.egg-info\\PKG-INFO\n",
      "writing dependency_links to src\\package_4th_homework.egg-info\\dependency_links.txt\n",
      "writing top-level names to src\\package_4th_homework.egg-info\\top_level.txt\n",
      "reading manifest file 'src\\package_4th_homework.egg-info\\SOURCES.txt'\n",
      "adding license file 'LICENSE'\n",
      "writing manifest file 'src\\package_4th_homework.egg-info\\SOURCES.txt'\n",
      "* Installing packages in isolated environment... (wheel)\n",
      "* Building wheel...\n",
      "running bdist_wheel\n",
      "running build\n",
      "running build_py\n",
      "creating build\n",
      "creating build\\lib\n",
      "creating build\\lib\\package_4th_homework\n",
      "copying src\\package_4th_homework\\recommenders.py -> build\\lib\\package_4th_homework\n",
      "copying src\\package_4th_homework\\utils.py -> build\\lib\\package_4th_homework\n",
      "copying src\\package_4th_homework\\__init__.py -> build\\lib\\package_4th_homework\n",
      "installing to build\\bdist.win-amd64\\wheel\n",
      "running install\n",
      "running install_lib\n",
      "creating build\\bdist.win-amd64\n",
      "creating build\\bdist.win-amd64\\wheel\n",
      "creating build\\bdist.win-amd64\\wheel\\package_4th_homework\n",
      "copying build\\lib\\package_4th_homework\\recommenders.py -> build\\bdist.win-amd64\\wheel\\.\\package_4th_homework\n",
      "copying build\\lib\\package_4th_homework\\utils.py -> build\\bdist.win-amd64\\wheel\\.\\package_4th_homework\n",
      "copying build\\lib\\package_4th_homework\\__init__.py -> build\\bdist.win-amd64\\wheel\\.\\package_4th_homework\n",
      "running install_egg_info\n",
      "running egg_info\n",
      "writing src\\package_4th_homework.egg-info\\PKG-INFO\n",
      "writing dependency_links to src\\package_4th_homework.egg-info\\dependency_links.txt\n",
      "writing top-level names to src\\package_4th_homework.egg-info\\top_level.txt\n",
      "reading manifest file 'src\\package_4th_homework.egg-info\\SOURCES.txt'\n",
      "adding license file 'LICENSE'\n",
      "writing manifest file 'src\\package_4th_homework.egg-info\\SOURCES.txt'\n",
      "Copying src\\package_4th_homework.egg-info to build\\bdist.win-amd64\\wheel\\.\\package_4th_homework-1-py3.9.egg-info\n",
      "running install_scripts\n",
      "adding license file \"LICENSE\" (matched pattern \"LICEN[CS]E*\")\n",
      "creating build\\bdist.win-amd64\\wheel\\package_4th_homework-1.dist-info\\WHEEL\n",
      "creating 'C:\\Users\\zsv\\PycharmProjects\\GeekBrains\\Recommender Systems\\4th lesson\\dist\\tmpa0_i56a5\\package_4th_homework-1-py3-none-any.whl' and adding 'build\\bdist.win-amd64\\wheel' to it\n",
      "adding 'package_4th_homework/__init__.py'\n",
      "adding 'package_4th_homework/recommenders.py'\n",
      "adding 'package_4th_homework/utils.py'\n",
      "adding 'package_4th_homework-1.dist-info/LICENSE'\n",
      "adding 'package_4th_homework-1.dist-info/METADATA'\n",
      "adding 'package_4th_homework-1.dist-info/WHEEL'\n",
      "adding 'package_4th_homework-1.dist-info/top_level.txt'\n",
      "adding 'package_4th_homework-1.dist-info/RECORD'\n",
      "removing build\\bdist.win-amd64\\wheel\n",
      "Successfully built package_4th_homework-1.tar.gz and package_4th_homework-1-py3-none-any.whl\n"
     ]
    }
   ],
   "source": [
    "!py -m build"
   ]
  },
  {
   "cell_type": "code",
   "execution_count": 34,
   "id": "4307a93d",
   "metadata": {},
   "outputs": [
    {
     "name": "stdout",
     "output_type": "stream",
     "text": [
      "Processing c:\\users\\zsv\\pycharmprojects\\geekbrains\\recommender systems\\4th lesson\\dist\\package_4th_homework-1.tar.gz\n",
      "  Installing build dependencies: started\n",
      "  Installing build dependencies: finished with status 'done'\n",
      "  Getting requirements to build wheel: started\n",
      "  Getting requirements to build wheel: finished with status 'done'\n",
      "  Installing backend dependencies: started\n",
      "  Installing backend dependencies: finished with status 'done'\n",
      "  Preparing metadata (pyproject.toml): started\n",
      "  Preparing metadata (pyproject.toml): finished with status 'done'\n",
      "Building wheels for collected packages: package-4th-homework\n",
      "  Building wheel for package-4th-homework (pyproject.toml): started\n",
      "  Building wheel for package-4th-homework (pyproject.toml): finished with status 'done'\n",
      "  Created wheel for package-4th-homework: filename=package_4th_homework-1-py3-none-any.whl size=4457 sha256=1def2847033abe01262a1a44a6b91c2f53c02917d0f9da11fc3945bd5c777208\n",
      "  Stored in directory: c:\\users\\zsv\\appdata\\local\\pip\\cache\\wheels\\d6\\28\\65\\19efff1ad31bdc425fa53d2f808c6453d09f8d2abb599e945d\n",
      "Successfully built package-4th-homework\n",
      "Installing collected packages: package-4th-homework\n",
      "  Attempting uninstall: package-4th-homework\n",
      "    Found existing installation: package-4th-homework 1\n",
      "    Uninstalling package-4th-homework-1:\n",
      "      Successfully uninstalled package-4th-homework-1\n",
      "Successfully installed package-4th-homework-1\n"
     ]
    },
    {
     "name": "stderr",
     "output_type": "stream",
     "text": [
      "WARNING: Ignoring invalid distribution -yrsistent (c:\\users\\zsv\\appdata\\local\\programs\\python\\python39\\lib\\site-packages)\n",
      "WARNING: Ignoring invalid distribution -yrsistent (c:\\users\\zsv\\appdata\\local\\programs\\python\\python39\\lib\\site-packages)\n",
      "WARNING: Ignoring invalid distribution -yrsistent (c:\\users\\zsv\\appdata\\local\\programs\\python\\python39\\lib\\site-packages)\n",
      "    WARNING: Ignoring invalid distribution -yrsistent (c:\\users\\zsv\\appdata\\local\\programs\\python\\python39\\lib\\site-packages)\n",
      "WARNING: Ignoring invalid distribution -yrsistent (c:\\users\\zsv\\appdata\\local\\programs\\python\\python39\\lib\\site-packages)\n",
      "WARNING: Ignoring invalid distribution -yrsistent (c:\\users\\zsv\\appdata\\local\\programs\\python\\python39\\lib\\site-packages)\n",
      "WARNING: Ignoring invalid distribution -yrsistent (c:\\users\\zsv\\appdata\\local\\programs\\python\\python39\\lib\\site-packages)\n"
     ]
    }
   ],
   "source": [
    "# Установка пакета с разработанными функциями.\n",
    "!pip install dist\\package_4th_homework-1.tar.gz"
   ]
  },
  {
   "cell_type": "code",
   "execution_count": 35,
   "id": "7faee544",
   "metadata": {},
   "outputs": [],
   "source": [
    "from package_4th_homework import utils\n",
    "from package_4th_homework import recommenders"
   ]
  },
  {
   "cell_type": "code",
   "execution_count": 36,
   "id": "5c8b1cd9",
   "metadata": {},
   "outputs": [
    {
     "name": "stdout",
     "output_type": "stream",
     "text": [
      "Размерность таблицы до фильтрации:\t(2278490, 12)\n",
      "Размерность таблицы после фильтрации:\t(1313240, 12)\n",
      "\n",
      "Количество продуктов до фильтрации:\t5001\n",
      "Количество продуктов после фильтрации:\t4674\n",
      "\n",
      "CPU times: total: 1.81 s\n",
      "Wall time: 1.81 s\n"
     ]
    }
   ],
   "source": [
    "%%time\n",
    "\n",
    "\n",
    "df_train_2 = utils.prefilter_items(df_train)\n",
    "\n",
    "print(f'Размерность таблицы до фильтрации:\\t{df_train.shape}\\n' \\\n",
    "      f'Размерность таблицы после фильтрации:\\t{df_train_2.shape}\\n' \\\n",
    "      f'\\n' \\\n",
    "      f'Количество продуктов до фильтрации:\\t{df_train[\"item_id\"].nunique()}\\n' \\\n",
    "      f'Количество продуктов после фильтрации:\\t{df_train_2[\"item_id\"].nunique()}\\n'\n",
    "     )"
   ]
  },
  {
   "cell_type": "code",
   "execution_count": 37,
   "id": "9760910e",
   "metadata": {},
   "outputs": [
    {
     "data": {
      "text/plain": [
       "[1082185, 904360, 9677236, 924760, 934399]"
      ]
     },
     "execution_count": 37,
     "metadata": {},
     "output_type": "execute_result"
    }
   ],
   "source": [
    "# Подбор похожих товаров на основе купленных.\n",
    "recommenders.get_similar_items_recommendation(1, result_train, model_als, id_to_itemid, itemid_to_id, ['999999'], 5)"
   ]
  },
  {
   "cell_type": "code",
   "execution_count": 38,
   "id": "286aa77a",
   "metadata": {},
   "outputs": [
    {
     "name": "stdout",
     "output_type": "stream",
     "text": [
      "CPU times: total: 250 ms\n",
      "Wall time: 246 ms\n"
     ]
    },
    {
     "data": {
      "text/plain": [
       "[6534178, 6533889, 6534166, 6533889, 6533889]"
      ]
     },
     "execution_count": 38,
     "metadata": {},
     "output_type": "execute_result"
    }
   ],
   "source": [
    "%%time\n",
    "\n",
    "# Проверка работы функции:\n",
    "# прогноз продуктов пяти наиболее похожих пользователей для 1-го пользователя,\n",
    "recs = recommenders.get_similar_users_recommendation(user=1,\n",
    "                                                     model_als=model_als,\n",
    "                                                     model_own=own_recommender,\n",
    "                                                     user_item_matrix=csr_matrix(user_item_matrix).tocsr(),\n",
    "                                                     filter_items=[itemid_to_id[999999]])\n",
    "\n",
    "# преобразование id продукта к itemid,\n",
    "recs = [id_to_itemid[x] for x in recs]\n",
    "\n",
    "# вывод продуктов пяти наиболее похожих пользователей для 1-го пользователя.\n",
    "recs"
   ]
  },
  {
   "cell_type": "code",
   "execution_count": null,
   "id": "8aa6cfd6",
   "metadata": {},
   "outputs": [],
   "source": []
  }
 ],
 "metadata": {
  "kernelspec": {
   "display_name": "Python 3 (ipykernel)",
   "language": "python",
   "name": "python3"
  },
  "language_info": {
   "codemirror_mode": {
    "name": "ipython",
    "version": 3
   },
   "file_extension": ".py",
   "mimetype": "text/x-python",
   "name": "python",
   "nbconvert_exporter": "python",
   "pygments_lexer": "ipython3",
   "version": "3.9.5"
  }
 },
 "nbformat": 4,
 "nbformat_minor": 5
}
