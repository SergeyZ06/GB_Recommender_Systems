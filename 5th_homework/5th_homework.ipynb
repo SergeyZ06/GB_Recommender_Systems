{
 "cells": [
  {
   "cell_type": "markdown",
   "id": "b0b8ffd2",
   "metadata": {},
   "source": [
    "# 5th_homework"
   ]
  },
  {
   "cell_type": "markdown",
   "id": "9faa6e32",
   "metadata": {},
   "source": [
    "### Import Section"
   ]
  },
  {
   "cell_type": "code",
   "execution_count": 1,
   "id": "30210ed0",
   "metadata": {},
   "outputs": [
    {
     "name": "stderr",
     "output_type": "stream",
     "text": [
      "c:\\users\\sergeyz06\\appdata\\local\\programs\\python\\python39\\lib\\site-packages\\lightfm\\_lightfm_fast.py:9: UserWarning: LightFM was compiled without OpenMP support. Only a single thread will be used.\n",
      "  warnings.warn(\n"
     ]
    }
   ],
   "source": [
    "import numpy as np\n",
    "import pandas as pd\n",
    "\n",
    "import seaborn as sns\n",
    "from matplotlib import pyplot as plt\n",
    "\n",
    "from scipy.sparse import csr_matrix\n",
    "from scipy.sparse import coo_matrix\n",
    "\n",
    "import lightfm\n",
    "from lightfm.evaluation import precision_at_k"
   ]
  },
  {
   "cell_type": "markdown",
   "id": "d684600e",
   "metadata": {},
   "source": [
    "### Global Settings Section"
   ]
  },
  {
   "cell_type": "code",
   "execution_count": 2,
   "id": "c15a23ab",
   "metadata": {},
   "outputs": [],
   "source": [
    "random_state_global = 0"
   ]
  },
  {
   "cell_type": "markdown",
   "id": "2aebc8bf",
   "metadata": {},
   "source": [
    "### Path Section"
   ]
  },
  {
   "cell_type": "code",
   "execution_count": 3,
   "id": "56883916",
   "metadata": {},
   "outputs": [],
   "source": [
    "PATH_ROOT = r'../2th lesson/'"
   ]
  },
  {
   "cell_type": "markdown",
   "id": "328e8ff4",
   "metadata": {},
   "source": [
    "## Theoretical Part"
   ]
  },
  {
   "cell_type": "markdown",
   "id": "fd0798f4",
   "metadata": {},
   "source": [
    "#### 1. Ответьте на вопросы:\n",
    "* В чем принципиальное отличие гибридных рекомендательных систем от коллаборативной филтьтрации?\n",
    "* Приведите 2-3 примера задач, в которых необходимо использовать гибридные системы\n",
    "\n",
    "**Ответ:**\n",
    "\n",
    "Коллаборативная фильтрация используется в случае, когда имеются обширные массивы данных, чтобы можно было определить категории схожих пользователей и категории схожих товаров. Применение гибридных рекомендательных систем имеет смысл тогда, тогда для решения задачи рекомендации возможно применение разных методов и их объединение позволяет повысить эффективность.\n",
    "\n",
    "Так например гибридные рекомендательные системы могут быть использованы в следующих случаях:\n",
    "1. Рекомендация методов лечения пациента, когда индивидуальные особенности организма не позволяют применить коллаборативную фильтрацию и нужен разносторонний подход.\n",
    "2. Когда данные сильно отличаются друг от друга и необходима гибкость решения, как в судебной/юридической практике.\n",
    "3. При недостатке больших данных, например, покупка дорогого имущества."
   ]
  },
  {
   "cell_type": "markdown",
   "id": "8adb07e2",
   "metadata": {},
   "source": [
    "#### 2. Прочитайте статью про поиск на hh.ru\n",
    "https://habr.com/ru/company/hh/blog/347276/\n",
    "\n",
    "Нам интересна именно рекомендательная система, раздел \"Производительность системы\" можно пропустить Какие основные отличия предложенной системы от тех подходов, которые мы разбирали на семинарах? Какие проблемы могут возникнуть при выводе такой модели в продакшен?\n",
    "\n",
    "**Ответ:**\n",
    "\n",
    "Данная рекомендательная система является гибридной. Она состоит из нескольких моделей-фильтров и модели для финального ранжирования. При вводе такой системы в эксплуатацию могут возникнуть следующие проблемы:\n",
    "- финальная ранжирующая модель является ресурсоёмкой. В случае, когда модели-фильтры допустят большой объём информации, могут возникнуть проблемы с производительностью;\n",
    "- модели-фильтры также могут предоставить ранжирующей модели недостаточно данных или данные низкого качества, что приведёт к проблеме \"Garbage in, garbage out\"."
   ]
  },
  {
   "cell_type": "markdown",
   "id": "8ced0f2c",
   "metadata": {},
   "source": [
    "#### 3. На вебинаре мы рассматривали модель LightFM (https://making.lyst.com/lightfm/docs/lightfm.html).\n",
    "В работе Data Scientist'а важную часть занимает research - исследование существующих архитектур и разбор научных статей, в которых они описываются. Вам предлагается изчуть оригинальную статью про LightFM https://arxiv.org/pdf/1507.08439.pdf и ответить на следующие вопросы:\n",
    "\n",
    "1) Какой датасет используют авторы?\n",
    "\n",
    "2) Что используют в качестве признаков?\n",
    "\n",
    "3) С какими моделями сравнивают LightFM? Опишите их основные идеи кратко\n",
    "\n",
    "**Ответ:**\n",
    "\n",
    "1. Автор статьи использует данные из \"модного\" бизнеса. Ключевыми особенностями которых является сильная разреженность из-за большого количества новых продуктов и клиентов. В статье рассмотрен \"холодный\" старт в случае с разреженными и обильными данными.\n",
    "\n",
    "2. В качестве признаков используются отличительные семантические особенности в описании продуктов.\n",
    "\n",
    "3. В статье также фигурируют модель коллаборативной фильтрации, основанная на факторизации матрицы User-Item, и контентная модель, которая анализирует профиль (признаки) каждого продукта и конкретного пользователя и оценивает интерес последнего. Обе модели уступают LightFM."
   ]
  },
  {
   "cell_type": "markdown",
   "id": "6827c903",
   "metadata": {},
   "source": [
    "## Practical Part"
   ]
  },
  {
   "cell_type": "markdown",
   "id": "d6dc7420",
   "metadata": {},
   "source": [
    "### 1. Модуль SRC"
   ]
  },
  {
   "cell_type": "code",
   "execution_count": 4,
   "id": "a3f91bec",
   "metadata": {},
   "outputs": [],
   "source": [
    "# !pip install \"../4th lesson/4th_homework/dist/package_4th_homework-1.tar.gz\""
   ]
  },
  {
   "cell_type": "code",
   "execution_count": 5,
   "id": "a30f1284",
   "metadata": {},
   "outputs": [],
   "source": [
    "from package_4th_homework import utils\n",
    "from package_4th_homework import recommenders"
   ]
  },
  {
   "cell_type": "code",
   "execution_count": 6,
   "id": "b4fe5e4c",
   "metadata": {},
   "outputs": [
    {
     "data": {
      "text/plain": [
       "<function package_4th_homework.recommenders.get_similar_users_recommendation(user, model_als, model_own, user_item_matrix, filter_items=[], N=5)>"
      ]
     },
     "execution_count": 6,
     "metadata": {},
     "output_type": "execute_result"
    }
   ],
   "source": [
    "recommenders.get_similar_items_recommendation\n",
    "recommenders.get_similar_users_recommendation"
   ]
  },
  {
   "cell_type": "markdown",
   "id": "2fc84cb5",
   "metadata": {},
   "source": [
    "В данном модуле находятся функции реализованные в прошлом задании. Utils содержит фукнции \"prefilter_items\" и \"postfilter_items\" для фильтрации. Recommenders содержит функции \"get_similar_items_recommendation\" и \"get_similar_users_recommendation\" для рекомендации на основе похожих продуктов и продуктов похожих пользователей соответственно."
   ]
  },
  {
   "cell_type": "markdown",
   "id": "0a005d81",
   "metadata": {},
   "source": [
    "### 2. Работа с признаками"
   ]
  },
  {
   "cell_type": "code",
   "execution_count": 7,
   "id": "a80c68b0",
   "metadata": {},
   "outputs": [],
   "source": [
    "# Загрузка данных.\n",
    "data = pd.read_csv(PATH_ROOT + 'retail_train.csv')\n",
    "item_features = pd.read_csv(PATH_ROOT + 'product.csv')\n",
    "user_features = pd.read_csv(PATH_ROOT + 'hh_demographic.csv')\n",
    "\n",
    "# Обработка названий столбцов.\n",
    "item_features.columns = [col.lower() for col in item_features.columns]\n",
    "user_features.columns = [col.lower() for col in user_features.columns]\n",
    "\n",
    "item_features = item_features.rename(columns={'product_id': 'item_id'})\n",
    "user_features = user_features.rename(columns={'household_key': 'user_id'})\n",
    "\n",
    "# Разбиение на обучающую и проверочную выборки.\n",
    "test_size_weeks = 3\n",
    "\n",
    "data_train = data[data['week_no'] < data['week_no'].max() - test_size_weeks]\n",
    "data_test = data[data['week_no'] >= data['week_no'].max() - test_size_weeks]"
   ]
  },
  {
   "cell_type": "markdown",
   "id": "eea9e04c",
   "metadata": {},
   "source": [
    "#### item_features"
   ]
  },
  {
   "cell_type": "code",
   "execution_count": 8,
   "id": "3f70a0bf",
   "metadata": {},
   "outputs": [
    {
     "data": {
      "text/html": [
       "<div>\n",
       "<style scoped>\n",
       "    .dataframe tbody tr th:only-of-type {\n",
       "        vertical-align: middle;\n",
       "    }\n",
       "\n",
       "    .dataframe tbody tr th {\n",
       "        vertical-align: top;\n",
       "    }\n",
       "\n",
       "    .dataframe thead th {\n",
       "        text-align: right;\n",
       "    }\n",
       "</style>\n",
       "<table border=\"1\" class=\"dataframe\">\n",
       "  <thead>\n",
       "    <tr style=\"text-align: right;\">\n",
       "      <th></th>\n",
       "      <th>item_id</th>\n",
       "      <th>manufacturer</th>\n",
       "      <th>department</th>\n",
       "      <th>brand</th>\n",
       "      <th>commodity_desc</th>\n",
       "      <th>sub_commodity_desc</th>\n",
       "      <th>curr_size_of_product</th>\n",
       "    </tr>\n",
       "  </thead>\n",
       "  <tbody>\n",
       "    <tr>\n",
       "      <th>0</th>\n",
       "      <td>25671</td>\n",
       "      <td>2</td>\n",
       "      <td>GROCERY</td>\n",
       "      <td>National</td>\n",
       "      <td>FRZN ICE</td>\n",
       "      <td>ICE - CRUSHED/CUBED</td>\n",
       "      <td>22 LB</td>\n",
       "    </tr>\n",
       "    <tr>\n",
       "      <th>1</th>\n",
       "      <td>26081</td>\n",
       "      <td>2</td>\n",
       "      <td>MISC. TRANS.</td>\n",
       "      <td>National</td>\n",
       "      <td>NO COMMODITY DESCRIPTION</td>\n",
       "      <td>NO SUBCOMMODITY DESCRIPTION</td>\n",
       "      <td></td>\n",
       "    </tr>\n",
       "    <tr>\n",
       "      <th>2</th>\n",
       "      <td>26093</td>\n",
       "      <td>69</td>\n",
       "      <td>PASTRY</td>\n",
       "      <td>Private</td>\n",
       "      <td>BREAD</td>\n",
       "      <td>BREAD:ITALIAN/FRENCH</td>\n",
       "      <td></td>\n",
       "    </tr>\n",
       "    <tr>\n",
       "      <th>3</th>\n",
       "      <td>26190</td>\n",
       "      <td>69</td>\n",
       "      <td>GROCERY</td>\n",
       "      <td>Private</td>\n",
       "      <td>FRUIT - SHELF STABLE</td>\n",
       "      <td>APPLE SAUCE</td>\n",
       "      <td>50 OZ</td>\n",
       "    </tr>\n",
       "    <tr>\n",
       "      <th>4</th>\n",
       "      <td>26355</td>\n",
       "      <td>69</td>\n",
       "      <td>GROCERY</td>\n",
       "      <td>Private</td>\n",
       "      <td>COOKIES/CONES</td>\n",
       "      <td>SPECIALTY COOKIES</td>\n",
       "      <td>14 OZ</td>\n",
       "    </tr>\n",
       "  </tbody>\n",
       "</table>\n",
       "</div>"
      ],
      "text/plain": [
       "   item_id  manufacturer    department     brand            commodity_desc  \\\n",
       "0    25671             2       GROCERY  National                  FRZN ICE   \n",
       "1    26081             2  MISC. TRANS.  National  NO COMMODITY DESCRIPTION   \n",
       "2    26093            69        PASTRY   Private                     BREAD   \n",
       "3    26190            69       GROCERY   Private      FRUIT - SHELF STABLE   \n",
       "4    26355            69       GROCERY   Private             COOKIES/CONES   \n",
       "\n",
       "            sub_commodity_desc curr_size_of_product  \n",
       "0          ICE - CRUSHED/CUBED                22 LB  \n",
       "1  NO SUBCOMMODITY DESCRIPTION                       \n",
       "2         BREAD:ITALIAN/FRENCH                       \n",
       "3                  APPLE SAUCE                50 OZ  \n",
       "4            SPECIALTY COOKIES                14 OZ  "
      ]
     },
     "execution_count": 8,
     "metadata": {},
     "output_type": "execute_result"
    }
   ],
   "source": [
    "# Вывод первых пяти строк признаков продуктов.\n",
    "item_features.head()"
   ]
  },
  {
   "cell_type": "code",
   "execution_count": 9,
   "id": "354058d3",
   "metadata": {},
   "outputs": [
    {
     "data": {
      "text/html": [
       "<div>\n",
       "<style scoped>\n",
       "    .dataframe tbody tr th:only-of-type {\n",
       "        vertical-align: middle;\n",
       "    }\n",
       "\n",
       "    .dataframe tbody tr th {\n",
       "        vertical-align: top;\n",
       "    }\n",
       "\n",
       "    .dataframe thead th {\n",
       "        text-align: right;\n",
       "    }\n",
       "</style>\n",
       "<table border=\"1\" class=\"dataframe\">\n",
       "  <thead>\n",
       "    <tr style=\"text-align: right;\">\n",
       "      <th></th>\n",
       "      <th>count</th>\n",
       "      <th>unique</th>\n",
       "      <th>top</th>\n",
       "      <th>freq</th>\n",
       "      <th>mean</th>\n",
       "      <th>std</th>\n",
       "      <th>min</th>\n",
       "      <th>25%</th>\n",
       "      <th>50%</th>\n",
       "      <th>75%</th>\n",
       "      <th>max</th>\n",
       "    </tr>\n",
       "  </thead>\n",
       "  <tbody>\n",
       "    <tr>\n",
       "      <th>item_id</th>\n",
       "      <td>92353.0</td>\n",
       "      <td>NaN</td>\n",
       "      <td>NaN</td>\n",
       "      <td>NaN</td>\n",
       "      <td>5328352.836887</td>\n",
       "      <td>5359937.078029</td>\n",
       "      <td>25671.0</td>\n",
       "      <td>970628.0</td>\n",
       "      <td>1621091.0</td>\n",
       "      <td>9704770.0</td>\n",
       "      <td>18316298.0</td>\n",
       "    </tr>\n",
       "    <tr>\n",
       "      <th>manufacturer</th>\n",
       "      <td>92353.0</td>\n",
       "      <td>NaN</td>\n",
       "      <td>NaN</td>\n",
       "      <td>NaN</td>\n",
       "      <td>1739.22833</td>\n",
       "      <td>1818.26957</td>\n",
       "      <td>1.0</td>\n",
       "      <td>328.0</td>\n",
       "      <td>1094.0</td>\n",
       "      <td>2264.0</td>\n",
       "      <td>6477.0</td>\n",
       "    </tr>\n",
       "    <tr>\n",
       "      <th>department</th>\n",
       "      <td>92353</td>\n",
       "      <td>44</td>\n",
       "      <td>GROCERY</td>\n",
       "      <td>39021</td>\n",
       "      <td>NaN</td>\n",
       "      <td>NaN</td>\n",
       "      <td>NaN</td>\n",
       "      <td>NaN</td>\n",
       "      <td>NaN</td>\n",
       "      <td>NaN</td>\n",
       "      <td>NaN</td>\n",
       "    </tr>\n",
       "    <tr>\n",
       "      <th>brand</th>\n",
       "      <td>92353</td>\n",
       "      <td>2</td>\n",
       "      <td>National</td>\n",
       "      <td>78537</td>\n",
       "      <td>NaN</td>\n",
       "      <td>NaN</td>\n",
       "      <td>NaN</td>\n",
       "      <td>NaN</td>\n",
       "      <td>NaN</td>\n",
       "      <td>NaN</td>\n",
       "      <td>NaN</td>\n",
       "    </tr>\n",
       "    <tr>\n",
       "      <th>commodity_desc</th>\n",
       "      <td>92353</td>\n",
       "      <td>308</td>\n",
       "      <td>GREETING CARDS/WRAP/PARTY SPLY</td>\n",
       "      <td>2785</td>\n",
       "      <td>NaN</td>\n",
       "      <td>NaN</td>\n",
       "      <td>NaN</td>\n",
       "      <td>NaN</td>\n",
       "      <td>NaN</td>\n",
       "      <td>NaN</td>\n",
       "      <td>NaN</td>\n",
       "    </tr>\n",
       "    <tr>\n",
       "      <th>sub_commodity_desc</th>\n",
       "      <td>92353</td>\n",
       "      <td>2383</td>\n",
       "      <td>CARDS EVERYDAY</td>\n",
       "      <td>1005</td>\n",
       "      <td>NaN</td>\n",
       "      <td>NaN</td>\n",
       "      <td>NaN</td>\n",
       "      <td>NaN</td>\n",
       "      <td>NaN</td>\n",
       "      <td>NaN</td>\n",
       "      <td>NaN</td>\n",
       "    </tr>\n",
       "    <tr>\n",
       "      <th>curr_size_of_product</th>\n",
       "      <td>92353</td>\n",
       "      <td>4345</td>\n",
       "      <td></td>\n",
       "      <td>30607</td>\n",
       "      <td>NaN</td>\n",
       "      <td>NaN</td>\n",
       "      <td>NaN</td>\n",
       "      <td>NaN</td>\n",
       "      <td>NaN</td>\n",
       "      <td>NaN</td>\n",
       "      <td>NaN</td>\n",
       "    </tr>\n",
       "  </tbody>\n",
       "</table>\n",
       "</div>"
      ],
      "text/plain": [
       "                        count unique                             top   freq  \\\n",
       "item_id               92353.0    NaN                             NaN    NaN   \n",
       "manufacturer          92353.0    NaN                             NaN    NaN   \n",
       "department              92353     44                         GROCERY  39021   \n",
       "brand                   92353      2                        National  78537   \n",
       "commodity_desc          92353    308  GREETING CARDS/WRAP/PARTY SPLY   2785   \n",
       "sub_commodity_desc      92353   2383                  CARDS EVERYDAY   1005   \n",
       "curr_size_of_product    92353   4345                                  30607   \n",
       "\n",
       "                                mean             std      min       25%  \\\n",
       "item_id               5328352.836887  5359937.078029  25671.0  970628.0   \n",
       "manufacturer              1739.22833      1818.26957      1.0     328.0   \n",
       "department                       NaN             NaN      NaN       NaN   \n",
       "brand                            NaN             NaN      NaN       NaN   \n",
       "commodity_desc                   NaN             NaN      NaN       NaN   \n",
       "sub_commodity_desc               NaN             NaN      NaN       NaN   \n",
       "curr_size_of_product             NaN             NaN      NaN       NaN   \n",
       "\n",
       "                            50%        75%         max  \n",
       "item_id               1621091.0  9704770.0  18316298.0  \n",
       "manufacturer             1094.0     2264.0      6477.0  \n",
       "department                  NaN        NaN         NaN  \n",
       "brand                       NaN        NaN         NaN  \n",
       "commodity_desc              NaN        NaN         NaN  \n",
       "sub_commodity_desc          NaN        NaN         NaN  \n",
       "curr_size_of_product        NaN        NaN         NaN  "
      ]
     },
     "execution_count": 9,
     "metadata": {},
     "output_type": "execute_result"
    }
   ],
   "source": [
    "# Вывод основных статистик.\n",
    "item_features.describe(include='all').T"
   ]
  },
  {
   "cell_type": "code",
   "execution_count": 10,
   "id": "e757b4ca",
   "metadata": {},
   "outputs": [
    {
     "data": {
      "text/plain": [
       "6476"
      ]
     },
     "execution_count": 10,
     "metadata": {},
     "output_type": "execute_result"
    }
   ],
   "source": [
    "# Вывод количества уникальных производителей.\n",
    "item_features['manufacturer'].nunique()"
   ]
  },
  {
   "cell_type": "code",
   "execution_count": 11,
   "id": "20fa1246",
   "metadata": {},
   "outputs": [
    {
     "data": {
      "text/plain": [
       "GROCERY      42.25%\n",
       "DRUG GM      34.14%\n",
       "PRODUCE       3.38%\n",
       "COSMETICS     3.26%\n",
       "NUTRITION     3.16%\n",
       "Name: department, dtype: object"
      ]
     },
     "execution_count": 11,
     "metadata": {},
     "output_type": "execute_result"
    }
   ],
   "source": [
    "# Вывод распределения значений признака \"department\".\n",
    "item_features['department'].value_counts(normalize=True).apply('{:.2%}'.format).head()"
   ]
  },
  {
   "cell_type": "code",
   "execution_count": 12,
   "id": "a6aae3e1",
   "metadata": {},
   "outputs": [
    {
     "data": {
      "text/plain": [
       "Text(0, 0.5, 'Количество товаров')"
      ]
     },
     "execution_count": 12,
     "metadata": {},
     "output_type": "execute_result"
    },
    {
     "data": {
      "image/png": "[encoded data removed]",
      "text/plain": [
       "<Figure size 1080x360 with 1 Axes>"
      ]
     },
     "metadata": {
      "needs_background": "light"
     },
     "output_type": "display_data"
    }
   ],
   "source": [
    "plt.figure(figsize=(15, 5))\n",
    "plt.grid()\n",
    "\n",
    "sns.barplot(x=item_features['department'].value_counts().reset_index().head(10)['index'],\n",
    "            y=item_features['department'].value_counts().reset_index().head(10)['department'])\n",
    "\n",
    "plt.title('Распределение товаров категории \"department\"', fontdict={'size': 16});\n",
    "plt.xlabel('Наименование категории', fontdict={'size': 14})\n",
    "plt.ylabel('Количество товаров', fontdict={'size': 14})"
   ]
  },
  {
   "cell_type": "code",
   "execution_count": 13,
   "id": "37ad5235",
   "metadata": {},
   "outputs": [
    {
     "data": {
      "text/plain": [
       "National    85.04%\n",
       "Private     14.96%\n",
       "Name: brand, dtype: object"
      ]
     },
     "execution_count": 13,
     "metadata": {},
     "output_type": "execute_result"
    }
   ],
   "source": [
    "# Вывод распределения значений признака \"brand\".\n",
    "item_features['brand'].value_counts(normalize=True).apply('{:.2%}'.format)"
   ]
  },
  {
   "cell_type": "code",
   "execution_count": 14,
   "id": "7f701727",
   "metadata": {},
   "outputs": [
    {
     "data": {
      "text/plain": [
       "Text(0, 0.5, 'Количество товаров')"
      ]
     },
     "execution_count": 14,
     "metadata": {},
     "output_type": "execute_result"
    },
    {
     "data": {
      "image/png": "[encoded data removed]",
      "text/plain": [
       "<Figure size 360x360 with 1 Axes>"
      ]
     },
     "metadata": {
      "needs_background": "light"
     },
     "output_type": "display_data"
    }
   ],
   "source": [
    "plt.figure(figsize=(5, 5))\n",
    "plt.grid()\n",
    "\n",
    "sns.barplot(x=item_features['brand'].value_counts().reset_index().head(10)['index'],\n",
    "            y=item_features['brand'].value_counts().reset_index().head(10)['brand'])\n",
    "\n",
    "plt.title('Распределение товаров категории \"brand\"', fontdict={'size': 16});\n",
    "plt.xlabel('Наименование категории', fontdict={'size': 14})\n",
    "plt.ylabel('Количество товаров', fontdict={'size': 14})"
   ]
  },
  {
   "cell_type": "markdown",
   "id": "6049fa94",
   "metadata": {},
   "source": [
    "Согласно информации о товарах:\n",
    "- представлены товары достаточно большого количества производителей, 6476 уникальных производителей. Дальнейший анализ производителей невозможен, так как никакой другой информации о них не представлено;\n",
    "- большинство товаров из категорий \"GROCERY\" и \"DRUG GM\", ~42% и ~34% от всей выборки соответственно. Из-за достаточного количества товаров в данных категориях, поиск похожих товаров здесь будет наиболее эффективен;\n",
    "- в большинстве случаев бренд товара \"National\"."
   ]
  },
  {
   "cell_type": "markdown",
   "id": "6d2d8e9b",
   "metadata": {},
   "source": [
    "#### user_features"
   ]
  },
  {
   "cell_type": "code",
   "execution_count": 15,
   "id": "f7eecd56",
   "metadata": {},
   "outputs": [
    {
     "data": {
      "text/html": [
       "<div>\n",
       "<style scoped>\n",
       "    .dataframe tbody tr th:only-of-type {\n",
       "        vertical-align: middle;\n",
       "    }\n",
       "\n",
       "    .dataframe tbody tr th {\n",
       "        vertical-align: top;\n",
       "    }\n",
       "\n",
       "    .dataframe thead th {\n",
       "        text-align: right;\n",
       "    }\n",
       "</style>\n",
       "<table border=\"1\" class=\"dataframe\">\n",
       "  <thead>\n",
       "    <tr style=\"text-align: right;\">\n",
       "      <th></th>\n",
       "      <th>age_desc</th>\n",
       "      <th>marital_status_code</th>\n",
       "      <th>income_desc</th>\n",
       "      <th>homeowner_desc</th>\n",
       "      <th>hh_comp_desc</th>\n",
       "      <th>household_size_desc</th>\n",
       "      <th>kid_category_desc</th>\n",
       "      <th>user_id</th>\n",
       "    </tr>\n",
       "  </thead>\n",
       "  <tbody>\n",
       "    <tr>\n",
       "      <th>0</th>\n",
       "      <td>65+</td>\n",
       "      <td>A</td>\n",
       "      <td>35-49K</td>\n",
       "      <td>Homeowner</td>\n",
       "      <td>2 Adults No Kids</td>\n",
       "      <td>2</td>\n",
       "      <td>None/Unknown</td>\n",
       "      <td>1</td>\n",
       "    </tr>\n",
       "    <tr>\n",
       "      <th>1</th>\n",
       "      <td>45-54</td>\n",
       "      <td>A</td>\n",
       "      <td>50-74K</td>\n",
       "      <td>Homeowner</td>\n",
       "      <td>2 Adults No Kids</td>\n",
       "      <td>2</td>\n",
       "      <td>None/Unknown</td>\n",
       "      <td>7</td>\n",
       "    </tr>\n",
       "    <tr>\n",
       "      <th>2</th>\n",
       "      <td>25-34</td>\n",
       "      <td>U</td>\n",
       "      <td>25-34K</td>\n",
       "      <td>Unknown</td>\n",
       "      <td>2 Adults Kids</td>\n",
       "      <td>3</td>\n",
       "      <td>1</td>\n",
       "      <td>8</td>\n",
       "    </tr>\n",
       "    <tr>\n",
       "      <th>3</th>\n",
       "      <td>25-34</td>\n",
       "      <td>U</td>\n",
       "      <td>75-99K</td>\n",
       "      <td>Homeowner</td>\n",
       "      <td>2 Adults Kids</td>\n",
       "      <td>4</td>\n",
       "      <td>2</td>\n",
       "      <td>13</td>\n",
       "    </tr>\n",
       "    <tr>\n",
       "      <th>4</th>\n",
       "      <td>45-54</td>\n",
       "      <td>B</td>\n",
       "      <td>50-74K</td>\n",
       "      <td>Homeowner</td>\n",
       "      <td>Single Female</td>\n",
       "      <td>1</td>\n",
       "      <td>None/Unknown</td>\n",
       "      <td>16</td>\n",
       "    </tr>\n",
       "  </tbody>\n",
       "</table>\n",
       "</div>"
      ],
      "text/plain": [
       "  age_desc marital_status_code income_desc homeowner_desc      hh_comp_desc  \\\n",
       "0      65+                   A      35-49K      Homeowner  2 Adults No Kids   \n",
       "1    45-54                   A      50-74K      Homeowner  2 Adults No Kids   \n",
       "2    25-34                   U      25-34K        Unknown     2 Adults Kids   \n",
       "3    25-34                   U      75-99K      Homeowner     2 Adults Kids   \n",
       "4    45-54                   B      50-74K      Homeowner     Single Female   \n",
       "\n",
       "  household_size_desc kid_category_desc  user_id  \n",
       "0                   2      None/Unknown        1  \n",
       "1                   2      None/Unknown        7  \n",
       "2                   3                 1        8  \n",
       "3                   4                 2       13  \n",
       "4                   1      None/Unknown       16  "
      ]
     },
     "execution_count": 15,
     "metadata": {},
     "output_type": "execute_result"
    }
   ],
   "source": [
    "# Вывод первых пяти строк признаков пользователей.\n",
    "user_features.head()"
   ]
  },
  {
   "cell_type": "code",
   "execution_count": 16,
   "id": "23989a49",
   "metadata": {},
   "outputs": [
    {
     "data": {
      "text/html": [
       "<div>\n",
       "<style scoped>\n",
       "    .dataframe tbody tr th:only-of-type {\n",
       "        vertical-align: middle;\n",
       "    }\n",
       "\n",
       "    .dataframe tbody tr th {\n",
       "        vertical-align: top;\n",
       "    }\n",
       "\n",
       "    .dataframe thead th {\n",
       "        text-align: right;\n",
       "    }\n",
       "</style>\n",
       "<table border=\"1\" class=\"dataframe\">\n",
       "  <thead>\n",
       "    <tr style=\"text-align: right;\">\n",
       "      <th></th>\n",
       "      <th>count</th>\n",
       "      <th>unique</th>\n",
       "      <th>top</th>\n",
       "      <th>freq</th>\n",
       "      <th>mean</th>\n",
       "      <th>std</th>\n",
       "      <th>min</th>\n",
       "      <th>25%</th>\n",
       "      <th>50%</th>\n",
       "      <th>75%</th>\n",
       "      <th>max</th>\n",
       "    </tr>\n",
       "  </thead>\n",
       "  <tbody>\n",
       "    <tr>\n",
       "      <th>age_desc</th>\n",
       "      <td>801</td>\n",
       "      <td>6</td>\n",
       "      <td>45-54</td>\n",
       "      <td>288</td>\n",
       "      <td>NaN</td>\n",
       "      <td>NaN</td>\n",
       "      <td>NaN</td>\n",
       "      <td>NaN</td>\n",
       "      <td>NaN</td>\n",
       "      <td>NaN</td>\n",
       "      <td>NaN</td>\n",
       "    </tr>\n",
       "    <tr>\n",
       "      <th>marital_status_code</th>\n",
       "      <td>801</td>\n",
       "      <td>3</td>\n",
       "      <td>U</td>\n",
       "      <td>344</td>\n",
       "      <td>NaN</td>\n",
       "      <td>NaN</td>\n",
       "      <td>NaN</td>\n",
       "      <td>NaN</td>\n",
       "      <td>NaN</td>\n",
       "      <td>NaN</td>\n",
       "      <td>NaN</td>\n",
       "    </tr>\n",
       "    <tr>\n",
       "      <th>income_desc</th>\n",
       "      <td>801</td>\n",
       "      <td>12</td>\n",
       "      <td>50-74K</td>\n",
       "      <td>192</td>\n",
       "      <td>NaN</td>\n",
       "      <td>NaN</td>\n",
       "      <td>NaN</td>\n",
       "      <td>NaN</td>\n",
       "      <td>NaN</td>\n",
       "      <td>NaN</td>\n",
       "      <td>NaN</td>\n",
       "    </tr>\n",
       "    <tr>\n",
       "      <th>homeowner_desc</th>\n",
       "      <td>801</td>\n",
       "      <td>5</td>\n",
       "      <td>Homeowner</td>\n",
       "      <td>504</td>\n",
       "      <td>NaN</td>\n",
       "      <td>NaN</td>\n",
       "      <td>NaN</td>\n",
       "      <td>NaN</td>\n",
       "      <td>NaN</td>\n",
       "      <td>NaN</td>\n",
       "      <td>NaN</td>\n",
       "    </tr>\n",
       "    <tr>\n",
       "      <th>hh_comp_desc</th>\n",
       "      <td>801</td>\n",
       "      <td>6</td>\n",
       "      <td>2 Adults No Kids</td>\n",
       "      <td>255</td>\n",
       "      <td>NaN</td>\n",
       "      <td>NaN</td>\n",
       "      <td>NaN</td>\n",
       "      <td>NaN</td>\n",
       "      <td>NaN</td>\n",
       "      <td>NaN</td>\n",
       "      <td>NaN</td>\n",
       "    </tr>\n",
       "    <tr>\n",
       "      <th>household_size_desc</th>\n",
       "      <td>801</td>\n",
       "      <td>5</td>\n",
       "      <td>2</td>\n",
       "      <td>318</td>\n",
       "      <td>NaN</td>\n",
       "      <td>NaN</td>\n",
       "      <td>NaN</td>\n",
       "      <td>NaN</td>\n",
       "      <td>NaN</td>\n",
       "      <td>NaN</td>\n",
       "      <td>NaN</td>\n",
       "    </tr>\n",
       "    <tr>\n",
       "      <th>kid_category_desc</th>\n",
       "      <td>801</td>\n",
       "      <td>4</td>\n",
       "      <td>None/Unknown</td>\n",
       "      <td>558</td>\n",
       "      <td>NaN</td>\n",
       "      <td>NaN</td>\n",
       "      <td>NaN</td>\n",
       "      <td>NaN</td>\n",
       "      <td>NaN</td>\n",
       "      <td>NaN</td>\n",
       "      <td>NaN</td>\n",
       "    </tr>\n",
       "    <tr>\n",
       "      <th>user_id</th>\n",
       "      <td>801.0</td>\n",
       "      <td>NaN</td>\n",
       "      <td>NaN</td>\n",
       "      <td>NaN</td>\n",
       "      <td>1235.17603</td>\n",
       "      <td>736.804647</td>\n",
       "      <td>1.0</td>\n",
       "      <td>596.0</td>\n",
       "      <td>1218.0</td>\n",
       "      <td>1914.0</td>\n",
       "      <td>2499.0</td>\n",
       "    </tr>\n",
       "  </tbody>\n",
       "</table>\n",
       "</div>"
      ],
      "text/plain": [
       "                     count unique               top freq        mean  \\\n",
       "age_desc               801      6             45-54  288         NaN   \n",
       "marital_status_code    801      3                 U  344         NaN   \n",
       "income_desc            801     12            50-74K  192         NaN   \n",
       "homeowner_desc         801      5         Homeowner  504         NaN   \n",
       "hh_comp_desc           801      6  2 Adults No Kids  255         NaN   \n",
       "household_size_desc    801      5                 2  318         NaN   \n",
       "kid_category_desc      801      4      None/Unknown  558         NaN   \n",
       "user_id              801.0    NaN               NaN  NaN  1235.17603   \n",
       "\n",
       "                            std  min    25%     50%     75%     max  \n",
       "age_desc                    NaN  NaN    NaN     NaN     NaN     NaN  \n",
       "marital_status_code         NaN  NaN    NaN     NaN     NaN     NaN  \n",
       "income_desc                 NaN  NaN    NaN     NaN     NaN     NaN  \n",
       "homeowner_desc              NaN  NaN    NaN     NaN     NaN     NaN  \n",
       "hh_comp_desc                NaN  NaN    NaN     NaN     NaN     NaN  \n",
       "household_size_desc         NaN  NaN    NaN     NaN     NaN     NaN  \n",
       "kid_category_desc           NaN  NaN    NaN     NaN     NaN     NaN  \n",
       "user_id              736.804647  1.0  596.0  1218.0  1914.0  2499.0  "
      ]
     },
     "execution_count": 16,
     "metadata": {},
     "output_type": "execute_result"
    }
   ],
   "source": [
    "# Вывод основных статистик.\n",
    "user_features.describe(include='all').T"
   ]
  },
  {
   "cell_type": "code",
   "execution_count": 17,
   "id": "4cac2c09",
   "metadata": {},
   "outputs": [
    {
     "data": {
      "text/plain": [
       "45-54    35.96%\n",
       "35-44    24.22%\n",
       "25-34    17.73%\n",
       "65+       8.99%\n",
       "55-64     7.37%\n",
       "19-24     5.74%\n",
       "Name: age_desc, dtype: object"
      ]
     },
     "execution_count": 17,
     "metadata": {},
     "output_type": "execute_result"
    }
   ],
   "source": [
    "# Вывод распределения значений признака \"age_desc\".\n",
    "user_features['age_desc'].value_counts(normalize=True).apply('{:.2%}'.format)"
   ]
  },
  {
   "cell_type": "code",
   "execution_count": 18,
   "id": "83ae3e37",
   "metadata": {},
   "outputs": [
    {
     "data": {
      "text/plain": [
       "Text(0, 0.5, 'Количество клиентов')"
      ]
     },
     "execution_count": 18,
     "metadata": {},
     "output_type": "execute_result"
    },
    {
     "data": {
      "image/png": "[encoded data removed]",
      "text/plain": [
       "<Figure size 1080x360 with 1 Axes>"
      ]
     },
     "metadata": {
      "needs_background": "light"
     },
     "output_type": "display_data"
    }
   ],
   "source": [
    "plt.figure(figsize=(15, 5))\n",
    "plt.grid()\n",
    "\n",
    "sns.barplot(x=user_features['age_desc'].value_counts().reset_index().head(10)['index'],\n",
    "            y=user_features['age_desc'].value_counts().reset_index().head(10)['age_desc'])\n",
    "\n",
    "plt.title('Распределение клиентов в категориях возраста', fontdict={'size': 16});\n",
    "plt.xlabel('Категории возраста', fontdict={'size': 14})\n",
    "plt.ylabel('Количество клиентов', fontdict={'size': 14})"
   ]
  },
  {
   "cell_type": "code",
   "execution_count": 19,
   "id": "27137b8a",
   "metadata": {},
   "outputs": [
    {
     "data": {
      "text/plain": [
       "U    42.95%\n",
       "A    42.45%\n",
       "B    14.61%\n",
       "Name: marital_status_code, dtype: object"
      ]
     },
     "execution_count": 19,
     "metadata": {},
     "output_type": "execute_result"
    }
   ],
   "source": [
    "# Вывод распределения значений признака \"marital_status_code\".\n",
    "user_features['marital_status_code'].value_counts(normalize=True).apply('{:.2%}'.format)"
   ]
  },
  {
   "cell_type": "code",
   "execution_count": 20,
   "id": "62700a7d",
   "metadata": {},
   "outputs": [
    {
     "data": {
      "text/plain": [
       "50-74K    23.97%\n",
       "35-49K    21.47%\n",
       "75-99K    11.99%\n",
       "25-34K     9.61%\n",
       "15-24K     9.24%\n",
       "Name: income_desc, dtype: object"
      ]
     },
     "execution_count": 20,
     "metadata": {},
     "output_type": "execute_result"
    }
   ],
   "source": [
    "# Вывод распределения значений признака \"income_desc\".\n",
    "user_features['income_desc'].value_counts(normalize=True).apply('{:.2%}'.format).head()"
   ]
  },
  {
   "cell_type": "code",
   "execution_count": 21,
   "id": "2e1636ed",
   "metadata": {},
   "outputs": [
    {
     "data": {
      "text/plain": [
       "Text(0, 0.5, 'Количество клиентов')"
      ]
     },
     "execution_count": 21,
     "metadata": {},
     "output_type": "execute_result"
    },
    {
     "data": {
      "image/png": "[encoded data removed]",
      "text/plain": [
       "<Figure size 1080x360 with 1 Axes>"
      ]
     },
     "metadata": {
      "needs_background": "light"
     },
     "output_type": "display_data"
    }
   ],
   "source": [
    "plt.figure(figsize=(15, 5))\n",
    "plt.grid()\n",
    "\n",
    "sns.barplot(x=user_features['income_desc'].value_counts().reset_index().head(10)['index'],\n",
    "            y=user_features['income_desc'].value_counts().reset_index().head(10)['income_desc'])\n",
    "\n",
    "plt.title('Распределение клиентов в категориях дохода', fontdict={'size': 16});\n",
    "plt.xlabel('Категории дохода', fontdict={'size': 14})\n",
    "plt.ylabel('Количество клиентов', fontdict={'size': 14})"
   ]
  },
  {
   "cell_type": "code",
   "execution_count": 22,
   "id": "1c3f2044",
   "metadata": {},
   "outputs": [
    {
     "data": {
      "text/plain": [
       "Homeowner          62.92%\n",
       "Unknown            29.09%\n",
       "Renter              5.24%\n",
       "Probable Renter     1.37%\n",
       "Probable Owner      1.37%\n",
       "Name: homeowner_desc, dtype: object"
      ]
     },
     "execution_count": 22,
     "metadata": {},
     "output_type": "execute_result"
    }
   ],
   "source": [
    "# Вывод распределения значений признака \"homeowner_desc\".\n",
    "user_features['homeowner_desc'].value_counts(normalize=True).apply('{:.2%}'.format).head()"
   ]
  },
  {
   "cell_type": "code",
   "execution_count": 23,
   "id": "ca8b2b23",
   "metadata": {},
   "outputs": [
    {
     "data": {
      "text/plain": [
       "2 Adults No Kids    31.84%\n",
       "2 Adults Kids       23.35%\n",
       "Single Female       17.98%\n",
       "Single Male         11.86%\n",
       "Unknown              9.11%\n",
       "Name: hh_comp_desc, dtype: object"
      ]
     },
     "execution_count": 23,
     "metadata": {},
     "output_type": "execute_result"
    }
   ],
   "source": [
    "# Вывод распределения значений признака \"hh_comp_desc\".\n",
    "user_features['hh_comp_desc'].value_counts(normalize=True).apply('{:.2%}'.format).head()"
   ]
  },
  {
   "cell_type": "code",
   "execution_count": 24,
   "id": "d5585d7b",
   "metadata": {},
   "outputs": [
    {
     "data": {
      "text/plain": [
       "2     39.70%\n",
       "1     31.84%\n",
       "3     13.61%\n",
       "5+     8.24%\n",
       "4      6.62%\n",
       "Name: household_size_desc, dtype: object"
      ]
     },
     "execution_count": 24,
     "metadata": {},
     "output_type": "execute_result"
    }
   ],
   "source": [
    "# Вывод распределения значений признака \"household_size_desc\".\n",
    "user_features['household_size_desc'].value_counts(normalize=True).apply('{:.2%}'.format).head()"
   ]
  },
  {
   "cell_type": "code",
   "execution_count": 25,
   "id": "36ea7618",
   "metadata": {},
   "outputs": [
    {
     "data": {
      "text/plain": [
       "None/Unknown    69.66%\n",
       "1               14.23%\n",
       "3+               8.61%\n",
       "2                7.49%\n",
       "Name: kid_category_desc, dtype: object"
      ]
     },
     "execution_count": 25,
     "metadata": {},
     "output_type": "execute_result"
    }
   ],
   "source": [
    "# Вывод распределения значений признака \"kid_category_desc\".\n",
    "user_features['kid_category_desc'].value_counts(normalize=True).apply('{:.2%}'.format)"
   ]
  },
  {
   "cell_type": "markdown",
   "id": "b1d90be2",
   "metadata": {},
   "source": [
    "Анализ признаков клиентов позволил установить следующие закономерности:\n",
    "- возрастные категории \"45-54\", \"35-44\" и \"25-34\" представляют основное большиснтво покупателей с долями ~36%, ~24%, ~18% соответственно. В первую очередь необходимо ориентироваться на эти возрастные категории;\n",
    "- среди катеригой признака \"marital_status_code\" такжн присутствуют преобладание категорий \"U\" и \"A\" с практически равными долями ~43% и ~42% соответственно. Корректная интерпретация значений признака невозможна без сопроводительнорй документации;\n",
    "- топ-3 дохода клиентов следующий: \"50-74K\", \"35-49K\", \"75-99K\" с долями ~24%, ~21%, ~12% соответственно."
   ]
  },
  {
   "cell_type": "markdown",
   "id": "281dff22",
   "metadata": {},
   "source": [
    "#### Анализ категорий продуктов в истории покупок."
   ]
  },
  {
   "cell_type": "markdown",
   "id": "7c95aadb",
   "metadata": {},
   "source": [
    "Проверим категории купленных товаров."
   ]
  },
  {
   "cell_type": "code",
   "execution_count": 26,
   "id": "31fbfaa3",
   "metadata": {},
   "outputs": [
    {
     "data": {
      "text/plain": [
       "GROCERY       63.33%\n",
       "DRUG GM       10.67%\n",
       "PRODUCE        9.98%\n",
       "MEAT-PCKGD     4.33%\n",
       "MEAT           3.42%\n",
       "Name: department, dtype: object"
      ]
     },
     "execution_count": 26,
     "metadata": {},
     "output_type": "execute_result"
    }
   ],
   "source": [
    "# Вывод категорий продуктов, которые были куплены.\n",
    "(\n",
    "data_train\n",
    "    .merge(item_features[['item_id', 'department']], on='item_id')['department']\n",
    "    .value_counts(normalize=True)\n",
    "    .apply('{:.2%}'.format)\n",
    "    .head()\n",
    ")"
   ]
  },
  {
   "cell_type": "code",
   "execution_count": 27,
   "id": "4a980a8b",
   "metadata": {},
   "outputs": [
    {
     "data": {
      "text/plain": [
       "National    71.28%\n",
       "Private     28.72%\n",
       "Name: brand, dtype: object"
      ]
     },
     "execution_count": 27,
     "metadata": {},
     "output_type": "execute_result"
    }
   ],
   "source": [
    "# Вывод категорий продуктов, которые были куплены.\n",
    "(\n",
    "data_train\n",
    "    .merge(item_features[['item_id', 'brand']], on='item_id')['brand']\n",
    "    .value_counts(normalize=True)\n",
    "    .apply('{:.2%}'.format)\n",
    ")"
   ]
  },
  {
   "cell_type": "markdown",
   "id": "968287fc",
   "metadata": {},
   "source": [
    "Наибольшие категории товаров из описания товаров также являются и наиболее покупаемыми."
   ]
  },
  {
   "cell_type": "markdown",
   "id": "139fc304",
   "metadata": {},
   "source": [
    "#### Анализ категорий клиентов в истории покупок."
   ]
  },
  {
   "cell_type": "markdown",
   "id": "cf0afa25",
   "metadata": {},
   "source": [
    "Проверим отражает ли распределние клиентов их реальное участие в покупке товаров."
   ]
  },
  {
   "cell_type": "code",
   "execution_count": 28,
   "id": "340bf48a",
   "metadata": {},
   "outputs": [
    {
     "data": {
      "text/plain": [
       "45-54    36.39%\n",
       "35-44    27.09%\n",
       "25-34    17.40%\n",
       "65+       7.40%\n",
       "55-64     6.40%\n",
       "19-24     5.32%\n",
       "Name: age_desc, dtype: object"
      ]
     },
     "execution_count": 28,
     "metadata": {},
     "output_type": "execute_result"
    }
   ],
   "source": [
    "# Вывод категорий возраста пользователей, которые совершали покупки.\n",
    "(\n",
    "data_train\n",
    "    .merge(user_features[['user_id', 'age_desc']], on='user_id')['age_desc']\n",
    "    .value_counts(normalize=True)\n",
    "    .apply('{:.2%}'.format)\n",
    ")"
   ]
  },
  {
   "cell_type": "code",
   "execution_count": 29,
   "id": "04fb7fb6",
   "metadata": {},
   "outputs": [
    {
     "data": {
      "text/plain": [
       "50-74K       24.28%\n",
       "35-49K       19.53%\n",
       "75-99K       11.71%\n",
       "25-34K        9.03%\n",
       "Under 15K     8.12%\n",
       "Name: income_desc, dtype: object"
      ]
     },
     "execution_count": 29,
     "metadata": {},
     "output_type": "execute_result"
    }
   ],
   "source": [
    "# Вывод категорий дохода пользователей, которые совершали покупки.\n",
    "(\n",
    "data_train\n",
    "    .merge(user_features[['user_id', 'income_desc']], on='user_id')['income_desc']\n",
    "    .value_counts(normalize=True)\n",
    "    .apply('{:.2%}'.format)\n",
    "    .head()\n",
    ")"
   ]
  },
  {
   "cell_type": "markdown",
   "id": "61712419",
   "metadata": {},
   "source": [
    "Распределение категорий возраста и дохода клиентов из описания клиентов также наблюдается в истории покупок. Самые большие категории совершают больше покупок, что значит, что на них необходимо ориентироваться в первую очередь для получения лучших прогнозов."
   ]
  },
  {
   "cell_type": "markdown",
   "id": "be971c49",
   "metadata": {},
   "source": [
    "### 3. LightFM"
   ]
  },
  {
   "cell_type": "markdown",
   "id": "8473928b",
   "metadata": {},
   "source": [
    "#### Базовая модель из методички"
   ]
  },
  {
   "cell_type": "code",
   "execution_count": 30,
   "id": "52e44bdf",
   "metadata": {},
   "outputs": [
    {
     "name": "stderr",
     "output_type": "stream",
     "text": [
      "c:\\users\\sergeyz06\\appdata\\local\\programs\\python\\python39\\lib\\site-packages\\pandas\\core\\indexing.py:1817: SettingWithCopyWarning: \n",
      "A value is trying to be set on a copy of a slice from a DataFrame.\n",
      "Try using .loc[row_indexer,col_indexer] = value instead\n",
      "\n",
      "See the caveats in the documentation: https://pandas.pydata.org/pandas-docs/stable/user_guide/indexing.html#returning-a-view-versus-a-copy\n",
      "  self._setitem_single_column(loc, value, pi)\n"
     ]
    }
   ],
   "source": [
    "# Подготовка обучающего набора данных.\n",
    "popularity = data_train.groupby('item_id')['quantity'].sum().reset_index()\n",
    "popularity = popularity.rename(columns={'quantity': 'n_sold'})\n",
    "top_5000 = popularity.sort_values('n_sold', ascending=False).head(5000).item_id.tolist()\n",
    "data_train.loc[~data_train['item_id'].isin(top_5000), 'item_id'] = 999999\n",
    "\n",
    "user_item_matrix = pd.pivot_table(data_train,\n",
    "                                  index='user_id',\n",
    "                                  columns='item_id',\n",
    "                                  values='quantity',\n",
    "                                  aggfunc='count',\n",
    "                                  fill_value=0)\n",
    "\n",
    "user_item_matrix = user_item_matrix.astype(float)\n",
    "\n",
    "sparse_user_item = csr_matrix(user_item_matrix).tocsr()"
   ]
  },
  {
   "cell_type": "code",
   "execution_count": 31,
   "id": "58a2bfd7",
   "metadata": {},
   "outputs": [],
   "source": [
    "# Подготовка тестового набора данных.\n",
    "data_test = data_test[data_test['item_id'].isin(data_train['item_id'].unique())]\n",
    "test_user_item_matrix = pd.pivot_table(data_test,\n",
    "                                       index='user_id',\n",
    "                                       columns='item_id',\n",
    "                                       values='quantity',\n",
    "                                       aggfunc='count',\n",
    "                                       fill_value=0)\n",
    "\n",
    "# Добавление недостающих пользователей в тестовый набор данных.\n",
    "test_user_item_matrix = pd.DataFrame(user_item_matrix.index).join(test_user_item_matrix, on='user_id', how='left').fillna(0)\n",
    "test_user_item_matrix = test_user_item_matrix.set_index('user_id')\n",
    "\n",
    "# Добавление недостающих товаров в тестовый набор данных.\n",
    "items_absent = pd.DataFrame(index=test_user_item_matrix.index,\n",
    "                            columns=[[item for item in user_item_matrix.columns if item not in test_user_item_matrix.columns]])\n",
    "items_absent.loc[:, :] = 0\n",
    "test_user_item_matrix = test_user_item_matrix.join(items_absent)\n",
    "\n",
    "test_user_item_matrix = test_user_item_matrix.astype(float)\n",
    "sparse_user_item_test = csr_matrix(test_user_item_matrix).tocsr()"
   ]
  },
  {
   "cell_type": "code",
   "execution_count": 32,
   "id": "30dddc3a",
   "metadata": {},
   "outputs": [],
   "source": [
    "# Словари перевода user_id и item_id к порядковым id и наоброт.\n",
    "userids = user_item_matrix.index.values\n",
    "itemids = user_item_matrix.columns.values\n",
    "\n",
    "matrix_userids = np.arange(len(userids))\n",
    "matrix_itemids = np.arange(len(itemids))\n",
    "\n",
    "id_to_itemid = dict(zip(matrix_itemids, itemids))\n",
    "id_to_userid = dict(zip(matrix_userids, userids))\n",
    "\n",
    "itemid_to_id = dict(zip(itemids, matrix_itemids))\n",
    "userid_to_id = dict(zip(userids, matrix_userids))"
   ]
  },
  {
   "cell_type": "code",
   "execution_count": 33,
   "id": "f143fb7d",
   "metadata": {},
   "outputs": [],
   "source": [
    "# Подготовка матриц признаков пользователей и товаров.\n",
    "user_feat = pd.DataFrame(user_item_matrix.index)\n",
    "user_feat = user_feat.merge(user_features, on='user_id', how='left')\n",
    "user_feat = user_feat.set_index('user_id')\n",
    "\n",
    "item_feat = pd.DataFrame(user_item_matrix.columns)\n",
    "item_feat = item_feat.merge(item_features, on='item_id', how='left')\n",
    "item_feat = item_feat.set_index('item_id')\n",
    "\n",
    "user_feat_lightfm = pd.get_dummies(user_feat, columns=user_feat.columns.tolist())\n",
    "item_feat_lightfm = pd.get_dummies(item_feat, columns=item_feat.columns.tolist())"
   ]
  },
  {
   "cell_type": "code",
   "execution_count": 34,
   "id": "e1da1eb3",
   "metadata": {},
   "outputs": [],
   "source": [
    "# Инициализация модели.\n",
    "model = lightfm.LightFM(no_components=10,\n",
    "                        loss='warp',\n",
    "                        learning_rate=0.05,\n",
    "                        item_alpha=0.1,\n",
    "                        user_alpha=0.1,\n",
    "                        random_state=random_state_global)"
   ]
  },
  {
   "cell_type": "code",
   "execution_count": 35,
   "id": "e294e06e",
   "metadata": {},
   "outputs": [
    {
     "name": "stdout",
     "output_type": "stream",
     "text": [
      "Wall time: 45.6 s\n"
     ]
    },
    {
     "data": {
      "text/plain": [
       "<lightfm.lightfm.LightFM at 0x11e80276160>"
      ]
     },
     "execution_count": 35,
     "metadata": {},
     "output_type": "execute_result"
    }
   ],
   "source": [
    "%%time\n",
    "\n",
    "# Обучение модели.\n",
    "model.fit((sparse_user_item > 0) * 1,\n",
    "          sample_weight=coo_matrix(user_item_matrix),\n",
    "          user_features=csr_matrix(user_feat_lightfm.values).tocsr(),\n",
    "          item_features=csr_matrix(item_feat_lightfm.values).tocsr(),\n",
    "          epochs=15)"
   ]
  },
  {
   "cell_type": "code",
   "execution_count": 36,
   "id": "f3b4e277",
   "metadata": {},
   "outputs": [
    {
     "name": "stdout",
     "output_type": "stream",
     "text": [
      "Wall time: 3.6 s\n"
     ]
    }
   ],
   "source": [
    "%%time\n",
    "\n",
    "# Метрики.\n",
    "df_metrics = pd.DataFrame(columns=['train', 'test'])\n",
    "\n",
    "# Точность на обучающей выборке.\n",
    "df_metrics.loc['baseline', 'train'] = precision_at_k(model,\n",
    "                                                     sparse_user_item,\n",
    "                                                     user_features=csr_matrix(user_feat_lightfm.values).tocsr(),\n",
    "                                                     item_features=csr_matrix(item_feat_lightfm.values).tocsr(),\n",
    "                                                     k=5).mean()"
   ]
  },
  {
   "cell_type": "code",
   "execution_count": 37,
   "id": "ffe4157e",
   "metadata": {},
   "outputs": [
    {
     "name": "stdout",
     "output_type": "stream",
     "text": [
      "Wall time: 1.02 s\n"
     ]
    }
   ],
   "source": [
    "%%time\n",
    "\n",
    "# Точность на тестовой выборке.\n",
    "df_metrics.loc['baseline', 'test'] = precision_at_k(model,\n",
    "                                                    sparse_user_item_test,\n",
    "                                                    user_features=csr_matrix(user_feat_lightfm.values).tocsr(),\n",
    "                                                    item_features=csr_matrix(item_feat_lightfm.values).tocsr(),\n",
    "                                                    k=5).mean()"
   ]
  },
  {
   "cell_type": "code",
   "execution_count": 38,
   "id": "314bd07c",
   "metadata": {},
   "outputs": [
    {
     "data": {
      "text/html": [
       "<div>\n",
       "<style scoped>\n",
       "    .dataframe tbody tr th:only-of-type {\n",
       "        vertical-align: middle;\n",
       "    }\n",
       "\n",
       "    .dataframe tbody tr th {\n",
       "        vertical-align: top;\n",
       "    }\n",
       "\n",
       "    .dataframe thead th {\n",
       "        text-align: right;\n",
       "    }\n",
       "</style>\n",
       "<table border=\"1\" class=\"dataframe\">\n",
       "  <thead>\n",
       "    <tr style=\"text-align: right;\">\n",
       "      <th></th>\n",
       "      <th>train</th>\n",
       "      <th>test</th>\n",
       "    </tr>\n",
       "  </thead>\n",
       "  <tbody>\n",
       "    <tr>\n",
       "      <th>baseline</th>\n",
       "      <td>0.533574</td>\n",
       "      <td>0.003242</td>\n",
       "    </tr>\n",
       "  </tbody>\n",
       "</table>\n",
       "</div>"
      ],
      "text/plain": [
       "             train      test\n",
       "baseline  0.533574  0.003242"
      ]
     },
     "execution_count": 38,
     "metadata": {},
     "output_type": "execute_result"
    }
   ],
   "source": [
    "# Вывод метрик.\n",
    "df_metrics"
   ]
  },
  {
   "cell_type": "markdown",
   "id": "27044080",
   "metadata": {},
   "source": [
    "Базовая модель демонстрирует переобучение: на обучающей выборке метрика гораздо выше, чем на тренировочной."
   ]
  },
  {
   "cell_type": "markdown",
   "id": "7391be8f",
   "metadata": {},
   "source": [
    "#### Обучение и валидация модели без признаков пользователей и товаров"
   ]
  },
  {
   "cell_type": "code",
   "execution_count": 39,
   "id": "24e8a55c",
   "metadata": {},
   "outputs": [],
   "source": [
    "# Инициализация модели.\n",
    "model = lightfm.LightFM(no_components=10,\n",
    "                        loss='warp',\n",
    "                        learning_rate=0.05,\n",
    "                        item_alpha=0.1,\n",
    "                        user_alpha=0.1,\n",
    "                        random_state=random_state_global)"
   ]
  },
  {
   "cell_type": "code",
   "execution_count": 40,
   "id": "8b877f14",
   "metadata": {},
   "outputs": [
    {
     "name": "stdout",
     "output_type": "stream",
     "text": [
      "Wall time: 20.5 s\n"
     ]
    },
    {
     "data": {
      "text/plain": [
       "<lightfm.lightfm.LightFM at 0x11e8041e970>"
      ]
     },
     "execution_count": 40,
     "metadata": {},
     "output_type": "execute_result"
    }
   ],
   "source": [
    "%%time\n",
    "\n",
    "# Обучение модели.\n",
    "model.fit((sparse_user_item > 0) * 1,\n",
    "          sample_weight=coo_matrix(user_item_matrix),\n",
    "          epochs=15)"
   ]
  },
  {
   "cell_type": "code",
   "execution_count": 41,
   "id": "8ec4da24",
   "metadata": {},
   "outputs": [
    {
     "name": "stdout",
     "output_type": "stream",
     "text": [
      "Wall time: 3.22 s\n"
     ]
    }
   ],
   "source": [
    "%%time\n",
    "\n",
    "# Точность на обучающей выборке.\n",
    "df_metrics.loc['without_features', 'train'] = precision_at_k(model,\n",
    "                                                             sparse_user_item,\n",
    "                                                             k=5).mean()"
   ]
  },
  {
   "cell_type": "code",
   "execution_count": 42,
   "id": "56bf12c8",
   "metadata": {},
   "outputs": [
    {
     "name": "stdout",
     "output_type": "stream",
     "text": [
      "Wall time: 663 ms\n"
     ]
    }
   ],
   "source": [
    "%%time\n",
    "\n",
    "# Точность на тестовой выборке.\n",
    "df_metrics.loc['without_features', 'test'] = precision_at_k(model,\n",
    "                                                             sparse_user_item_test,\n",
    "                                                             k=5).mean()"
   ]
  },
  {
   "cell_type": "code",
   "execution_count": 43,
   "id": "7abd6457",
   "metadata": {},
   "outputs": [
    {
     "data": {
      "text/html": [
       "<div>\n",
       "<style scoped>\n",
       "    .dataframe tbody tr th:only-of-type {\n",
       "        vertical-align: middle;\n",
       "    }\n",
       "\n",
       "    .dataframe tbody tr th {\n",
       "        vertical-align: top;\n",
       "    }\n",
       "\n",
       "    .dataframe thead th {\n",
       "        text-align: right;\n",
       "    }\n",
       "</style>\n",
       "<table border=\"1\" class=\"dataframe\">\n",
       "  <thead>\n",
       "    <tr style=\"text-align: right;\">\n",
       "      <th></th>\n",
       "      <th>train</th>\n",
       "      <th>test</th>\n",
       "    </tr>\n",
       "  </thead>\n",
       "  <tbody>\n",
       "    <tr>\n",
       "      <th>baseline</th>\n",
       "      <td>0.533574</td>\n",
       "      <td>0.003242</td>\n",
       "    </tr>\n",
       "    <tr>\n",
       "      <th>without_features</th>\n",
       "      <td>0.034814</td>\n",
       "      <td>0.009726</td>\n",
       "    </tr>\n",
       "  </tbody>\n",
       "</table>\n",
       "</div>"
      ],
      "text/plain": [
       "                     train      test\n",
       "baseline          0.533574  0.003242\n",
       "without_features  0.034814  0.009726"
      ]
     },
     "execution_count": 43,
     "metadata": {},
     "output_type": "execute_result"
    }
   ],
   "source": [
    "# Вывод метрик.\n",
    "df_metrics"
   ]
  },
  {
   "cell_type": "markdown",
   "id": "707e6628",
   "metadata": {},
   "source": [
    "Обучение и валидация модели без признаков пользователей и товаров позволили снизить степерь переобучения."
   ]
  },
  {
   "cell_type": "markdown",
   "id": "338ce43a",
   "metadata": {},
   "source": [
    "#### Обучение и валидация настроенной модели без признаков пользователей и товаров"
   ]
  },
  {
   "cell_type": "code",
   "execution_count": 44,
   "id": "d931fb1f",
   "metadata": {},
   "outputs": [],
   "source": [
    "# Инициализация модели.\n",
    "model = lightfm.LightFM(no_components=10,\n",
    "                        loss='warp',\n",
    "                        learning_rate=0.05,\n",
    "                        item_alpha=0.09901,\n",
    "                        user_alpha=0.099,\n",
    "                        random_state=random_state_global)"
   ]
  },
  {
   "cell_type": "code",
   "execution_count": 45,
   "id": "57e6f76f",
   "metadata": {},
   "outputs": [
    {
     "name": "stdout",
     "output_type": "stream",
     "text": [
      "Wall time: 20.5 s\n"
     ]
    },
    {
     "data": {
      "text/plain": [
       "<lightfm.lightfm.LightFM at 0x11e88b3afa0>"
      ]
     },
     "execution_count": 45,
     "metadata": {},
     "output_type": "execute_result"
    }
   ],
   "source": [
    "%%time\n",
    "\n",
    "# Обучение модели.\n",
    "model.fit((sparse_user_item > 0) * 1,\n",
    "          sample_weight=coo_matrix(user_item_matrix),\n",
    "          epochs=15)"
   ]
  },
  {
   "cell_type": "code",
   "execution_count": 46,
   "id": "e7b48fb8",
   "metadata": {},
   "outputs": [
    {
     "name": "stdout",
     "output_type": "stream",
     "text": [
      "Wall time: 3.22 s\n"
     ]
    }
   ],
   "source": [
    "%%time\n",
    "\n",
    "# Точность на обучающей выборке.\n",
    "df_metrics.loc['without_features_settings', 'train'] = precision_at_k(model,\n",
    "                                                       sparse_user_item,\n",
    "                                                       k=5).mean()"
   ]
  },
  {
   "cell_type": "code",
   "execution_count": 47,
   "id": "8d0c3df8",
   "metadata": {},
   "outputs": [
    {
     "name": "stdout",
     "output_type": "stream",
     "text": [
      "Wall time: 677 ms\n"
     ]
    }
   ],
   "source": [
    "%%time\n",
    "\n",
    "# Точность на тестовой выборке.\n",
    "df_metrics.loc['without_features_settings', 'test'] = precision_at_k(model,\n",
    "                                                      sparse_user_item_test,\n",
    "                                                      k=5).mean()"
   ]
  },
  {
   "cell_type": "code",
   "execution_count": 48,
   "id": "0da28260",
   "metadata": {
    "scrolled": false
   },
   "outputs": [
    {
     "data": {
      "text/html": [
       "<div>\n",
       "<style scoped>\n",
       "    .dataframe tbody tr th:only-of-type {\n",
       "        vertical-align: middle;\n",
       "    }\n",
       "\n",
       "    .dataframe tbody tr th {\n",
       "        vertical-align: top;\n",
       "    }\n",
       "\n",
       "    .dataframe thead th {\n",
       "        text-align: right;\n",
       "    }\n",
       "</style>\n",
       "<table border=\"1\" class=\"dataframe\">\n",
       "  <thead>\n",
       "    <tr style=\"text-align: right;\">\n",
       "      <th></th>\n",
       "      <th>train</th>\n",
       "      <th>test</th>\n",
       "    </tr>\n",
       "  </thead>\n",
       "  <tbody>\n",
       "    <tr>\n",
       "      <th>baseline</th>\n",
       "      <td>0.533574</td>\n",
       "      <td>0.003242</td>\n",
       "    </tr>\n",
       "    <tr>\n",
       "      <th>without_features</th>\n",
       "      <td>0.034814</td>\n",
       "      <td>0.009726</td>\n",
       "    </tr>\n",
       "    <tr>\n",
       "      <th>without_features_settings</th>\n",
       "      <td>0.046659</td>\n",
       "      <td>0.015603</td>\n",
       "    </tr>\n",
       "  </tbody>\n",
       "</table>\n",
       "</div>"
      ],
      "text/plain": [
       "                              train      test\n",
       "baseline                   0.533574  0.003242\n",
       "without_features           0.034814  0.009726\n",
       "without_features_settings  0.046659  0.015603"
      ]
     },
     "execution_count": 48,
     "metadata": {},
     "output_type": "execute_result"
    }
   ],
   "source": [
    "# Вывод метрик.\n",
    "df_metrics"
   ]
  },
  {
   "cell_type": "markdown",
   "id": "6ad6cd78",
   "metadata": {},
   "source": [
    "Настройка гиперпараметров позволила улучшить метрику модели без признаков пользователей и товаров."
   ]
  },
  {
   "cell_type": "markdown",
   "id": "5caed375",
   "metadata": {},
   "source": [
    "#### Обучение и валидация настроенной модели с признаками пользователей и товаров"
   ]
  },
  {
   "cell_type": "code",
   "execution_count": 49,
   "id": "1189da28",
   "metadata": {},
   "outputs": [],
   "source": [
    "# Инициализация модели.\n",
    "model = lightfm.LightFM(no_components=8,\n",
    "                        loss='warp',\n",
    "                        learning_rate=0.05,\n",
    "                        item_alpha=5,\n",
    "                        user_alpha=5,\n",
    "                        random_state=random_state_global)"
   ]
  },
  {
   "cell_type": "code",
   "execution_count": 50,
   "id": "4497cab9",
   "metadata": {},
   "outputs": [
    {
     "name": "stdout",
     "output_type": "stream",
     "text": [
      "Wall time: 24.1 s\n"
     ]
    },
    {
     "data": {
      "text/plain": [
       "<lightfm.lightfm.LightFM at 0x11e80de7340>"
      ]
     },
     "execution_count": 50,
     "metadata": {},
     "output_type": "execute_result"
    }
   ],
   "source": [
    "%%time\n",
    "\n",
    "# Обучение модели.\n",
    "model.fit((sparse_user_item > 0) * 1,\n",
    "          sample_weight=coo_matrix(user_item_matrix),\n",
    "          user_features=csr_matrix(user_feat_lightfm.values).tocsr(),\n",
    "          item_features=csr_matrix(item_feat_lightfm.values).tocsr(),\n",
    "          epochs=15)"
   ]
  },
  {
   "cell_type": "code",
   "execution_count": 51,
   "id": "b3bd220e",
   "metadata": {},
   "outputs": [
    {
     "name": "stdout",
     "output_type": "stream",
     "text": [
      "Wall time: 3.64 s\n"
     ]
    }
   ],
   "source": [
    "%%time\n",
    "\n",
    "# Точность на обучающей выборке.\n",
    "df_metrics.loc['with_features_settings', 'train'] = precision_at_k(model,\n",
    "                                                                   sparse_user_item,\n",
    "                                                                   user_features=csr_matrix(user_feat_lightfm.values).tocsr(),\n",
    "                                                                   item_features=csr_matrix(item_feat_lightfm.values).tocsr(),\n",
    "                                                                   k=5).mean()"
   ]
  },
  {
   "cell_type": "code",
   "execution_count": 52,
   "id": "87c5bb29",
   "metadata": {},
   "outputs": [
    {
     "name": "stdout",
     "output_type": "stream",
     "text": [
      "Wall time: 960 ms\n"
     ]
    }
   ],
   "source": [
    "%%time\n",
    "\n",
    "# Точность на тестовой выборке.\n",
    "df_metrics.loc['with_features_settings', 'test'] = precision_at_k(model,\n",
    "                                                                  sparse_user_item_test,\n",
    "                                                                  user_features=csr_matrix(user_feat_lightfm.values).tocsr(),\n",
    "                                                                  item_features=csr_matrix(item_feat_lightfm.values).tocsr(),\n",
    "                                                                  k=5).mean()"
   ]
  },
  {
   "cell_type": "code",
   "execution_count": 53,
   "id": "773c4b13",
   "metadata": {
    "scrolled": true
   },
   "outputs": [
    {
     "data": {
      "text/html": [
       "<div>\n",
       "<style scoped>\n",
       "    .dataframe tbody tr th:only-of-type {\n",
       "        vertical-align: middle;\n",
       "    }\n",
       "\n",
       "    .dataframe tbody tr th {\n",
       "        vertical-align: top;\n",
       "    }\n",
       "\n",
       "    .dataframe thead th {\n",
       "        text-align: right;\n",
       "    }\n",
       "</style>\n",
       "<table border=\"1\" class=\"dataframe\">\n",
       "  <thead>\n",
       "    <tr style=\"text-align: right;\">\n",
       "      <th></th>\n",
       "      <th>train</th>\n",
       "      <th>test</th>\n",
       "    </tr>\n",
       "  </thead>\n",
       "  <tbody>\n",
       "    <tr>\n",
       "      <th>baseline</th>\n",
       "      <td>0.533574</td>\n",
       "      <td>0.003242</td>\n",
       "    </tr>\n",
       "    <tr>\n",
       "      <th>without_features</th>\n",
       "      <td>0.034814</td>\n",
       "      <td>0.009726</td>\n",
       "    </tr>\n",
       "    <tr>\n",
       "      <th>without_features_settings</th>\n",
       "      <td>0.046659</td>\n",
       "      <td>0.015603</td>\n",
       "    </tr>\n",
       "    <tr>\n",
       "      <th>with_features_settings</th>\n",
       "      <td>0.12453</td>\n",
       "      <td>0.010841</td>\n",
       "    </tr>\n",
       "  </tbody>\n",
       "</table>\n",
       "</div>"
      ],
      "text/plain": [
       "                              train      test\n",
       "baseline                   0.533574  0.003242\n",
       "without_features           0.034814  0.009726\n",
       "without_features_settings  0.046659  0.015603\n",
       "with_features_settings      0.12453  0.010841"
      ]
     },
     "execution_count": 53,
     "metadata": {},
     "output_type": "execute_result"
    }
   ],
   "source": [
    "# Вывод метрик.\n",
    "df_metrics"
   ]
  },
  {
   "cell_type": "markdown",
   "id": "7a490d38",
   "metadata": {},
   "source": [
    "Подбор гиперпараметров также улучшил метрику модели с признаками пользователей и товаров."
   ]
  },
  {
   "cell_type": "markdown",
   "id": "8874296b",
   "metadata": {},
   "source": [
    "### 4. Отбор признаков"
   ]
  },
  {
   "cell_type": "code",
   "execution_count": 54,
   "id": "60216d6a",
   "metadata": {},
   "outputs": [],
   "source": [
    "# Подготовка матриц признаков пользователей и товаров.\n",
    "list_user_features = ['user_id', 'age_desc', 'income_desc']\n",
    "list_item_features = ['item_id', 'department', 'brand']\n",
    "\n",
    "# list_user_features = ['age_desc', 'marital_status_code', 'income_desc', 'homeowner_desc',\n",
    "#                       'hh_comp_desc', 'household_size_desc', 'kid_category_desc', 'user_id']\n",
    "# list_item_features = ['item_id', 'manufacturer', 'department', 'brand', 'commodity_desc',\n",
    "#                       'sub_commodity_desc', 'curr_size_of_product']\n",
    "\n",
    "user_feat = pd.DataFrame(user_item_matrix.index)\n",
    "user_feat = user_feat.merge(user_features[list_user_features], on='user_id', how='left')\n",
    "user_feat = user_feat.set_index('user_id')\n",
    "\n",
    "item_feat = pd.DataFrame(user_item_matrix.columns)\n",
    "item_feat = item_feat.merge(item_features[list_item_features], on='item_id', how='left')\n",
    "item_feat = item_feat.set_index('item_id')\n",
    "\n",
    "user_feat_lightfm = pd.get_dummies(user_feat, columns=user_feat.columns.tolist())\n",
    "item_feat_lightfm = pd.get_dummies(item_feat, columns=item_feat.columns.tolist())"
   ]
  },
  {
   "cell_type": "code",
   "execution_count": 55,
   "id": "c6b5b755",
   "metadata": {},
   "outputs": [],
   "source": [
    "# Инициализация модели.\n",
    "model = lightfm.LightFM(no_components=8,\n",
    "                        loss='bpr',\n",
    "                        learning_rate=0.25,\n",
    "                        item_alpha=0.002, \n",
    "                        user_alpha=0.002,\n",
    "                        random_state=random_state_global)"
   ]
  },
  {
   "cell_type": "code",
   "execution_count": 56,
   "id": "0dd90327",
   "metadata": {},
   "outputs": [
    {
     "name": "stdout",
     "output_type": "stream",
     "text": [
      "Wall time: 18 s\n"
     ]
    },
    {
     "data": {
      "text/plain": [
       "<lightfm.lightfm.LightFM at 0x11e81ba69a0>"
      ]
     },
     "execution_count": 56,
     "metadata": {},
     "output_type": "execute_result"
    }
   ],
   "source": [
    "%%time\n",
    "\n",
    "# Обучение модели.\n",
    "model.fit((sparse_user_item > 0) * 1,\n",
    "          sample_weight=coo_matrix(user_item_matrix),\n",
    "          user_features=csr_matrix(user_feat_lightfm.values).tocsr(),\n",
    "          item_features=csr_matrix(item_feat_lightfm.values).tocsr(),\n",
    "          epochs=15)"
   ]
  },
  {
   "cell_type": "code",
   "execution_count": 57,
   "id": "09f949c1",
   "metadata": {},
   "outputs": [
    {
     "name": "stdout",
     "output_type": "stream",
     "text": [
      "Wall time: 2.92 s\n"
     ]
    }
   ],
   "source": [
    "%%time\n",
    "\n",
    "# Точность на обучающей выборке.\n",
    "df_metrics.loc['feature_engineering', 'train'] = precision_at_k(model,\n",
    "                                                                sparse_user_item,\n",
    "                                                                user_features=csr_matrix(user_feat_lightfm.values).tocsr(),\n",
    "                                                                item_features=csr_matrix(item_feat_lightfm.values).tocsr(),\n",
    "                                                                k=5).mean()"
   ]
  },
  {
   "cell_type": "code",
   "execution_count": 58,
   "id": "b2db578e",
   "metadata": {},
   "outputs": [
    {
     "name": "stdout",
     "output_type": "stream",
     "text": [
      "Wall time: 638 ms\n"
     ]
    }
   ],
   "source": [
    "%%time\n",
    "\n",
    "# Точность на тестовой выборке.\n",
    "df_metrics.loc['feature_engineering', 'test'] = precision_at_k(model,\n",
    "                                                               sparse_user_item_test,\n",
    "                                                               user_features=csr_matrix(user_feat_lightfm.values).tocsr(),\n",
    "                                                               item_features=csr_matrix(item_feat_lightfm.values).tocsr(),\n",
    "                                                               k=5).mean()"
   ]
  },
  {
   "cell_type": "code",
   "execution_count": 59,
   "id": "bbdc0685",
   "metadata": {
    "scrolled": true
   },
   "outputs": [
    {
     "data": {
      "text/html": [
       "<div>\n",
       "<style scoped>\n",
       "    .dataframe tbody tr th:only-of-type {\n",
       "        vertical-align: middle;\n",
       "    }\n",
       "\n",
       "    .dataframe tbody tr th {\n",
       "        vertical-align: top;\n",
       "    }\n",
       "\n",
       "    .dataframe thead th {\n",
       "        text-align: right;\n",
       "    }\n",
       "</style>\n",
       "<table border=\"1\" class=\"dataframe\">\n",
       "  <thead>\n",
       "    <tr style=\"text-align: right;\">\n",
       "      <th></th>\n",
       "      <th>train</th>\n",
       "      <th>test</th>\n",
       "    </tr>\n",
       "  </thead>\n",
       "  <tbody>\n",
       "    <tr>\n",
       "      <th>baseline</th>\n",
       "      <td>0.533574</td>\n",
       "      <td>0.003242</td>\n",
       "    </tr>\n",
       "    <tr>\n",
       "      <th>without_features</th>\n",
       "      <td>0.034814</td>\n",
       "      <td>0.009726</td>\n",
       "    </tr>\n",
       "    <tr>\n",
       "      <th>without_features_settings</th>\n",
       "      <td>0.046659</td>\n",
       "      <td>0.015603</td>\n",
       "    </tr>\n",
       "    <tr>\n",
       "      <th>with_features_settings</th>\n",
       "      <td>0.12453</td>\n",
       "      <td>0.010841</td>\n",
       "    </tr>\n",
       "    <tr>\n",
       "      <th>feature_engineering</th>\n",
       "      <td>0.202001</td>\n",
       "      <td>0.002432</td>\n",
       "    </tr>\n",
       "  </tbody>\n",
       "</table>\n",
       "</div>"
      ],
      "text/plain": [
       "                              train      test\n",
       "baseline                   0.533574  0.003242\n",
       "without_features           0.034814  0.009726\n",
       "without_features_settings  0.046659  0.015603\n",
       "with_features_settings      0.12453  0.010841\n",
       "feature_engineering        0.202001  0.002432"
      ]
     },
     "execution_count": 59,
     "metadata": {},
     "output_type": "execute_result"
    }
   ],
   "source": [
    "# Вывод метрик.\n",
    "df_metrics"
   ]
  },
  {
   "cell_type": "markdown",
   "id": "1908eb63",
   "metadata": {},
   "source": [
    "Замена и исключение признаков не принесли результата."
   ]
  },
  {
   "cell_type": "code",
   "execution_count": null,
   "id": "87fd95b5",
   "metadata": {},
   "outputs": [],
   "source": []
  }
 ],
 "metadata": {
  "kernelspec": {
   "display_name": "Python 3 (ipykernel)",
   "language": "python",
   "name": "python3"
  },
  "language_info": {
   "codemirror_mode": {
    "name": "ipython",
    "version": 3
   },
   "file_extension": ".py",
   "mimetype": "text/x-python",
   "name": "python",
   "nbconvert_exporter": "python",
   "pygments_lexer": "ipython3",
   "version": "3.9.4"
  }
 },
 "nbformat": 4,
 "nbformat_minor": 5
}
