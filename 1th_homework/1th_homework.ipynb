{
 "cells": [
  {
   "cell_type": "markdown",
   "id": "1d9b9464",
   "metadata": {},
   "source": [
    "# 1th_homework"
   ]
  },
  {
   "cell_type": "markdown",
   "id": "54b0f1c1",
   "metadata": {},
   "source": [
    "### Import Section"
   ]
  },
  {
   "cell_type": "code",
   "execution_count": 134,
   "id": "be50a63a",
   "metadata": {},
   "outputs": [],
   "source": [
    "import numpy as np\n",
    "import pandas as pd\n",
    "\n",
    "import torch\n",
    "\n",
    "import math"
   ]
  },
  {
   "cell_type": "markdown",
   "id": "f7112677",
   "metadata": {},
   "source": [
    "## 1. Hit Rate@k"
   ]
  },
  {
   "cell_type": "markdown",
   "id": "eb859399",
   "metadata": {},
   "source": [
    "**Исходные данные:**\n",
    "- recommended_list - список id рекомендованных товаров;\n",
    "- bought_list - список id купленных товаров."
   ]
  },
  {
   "cell_type": "code",
   "execution_count": 1,
   "id": "52f53140",
   "metadata": {},
   "outputs": [],
   "source": [
    "recommended_list = [143, 156, 1134, 991, 27, 1543, 3345, 533, 11, 43]\n",
    "bought_list = [521, 32, 143, 991]"
   ]
  },
  {
   "cell_type": "markdown",
   "id": "cec27978",
   "metadata": {},
   "source": [
    "**Исходная метрика Hit Rate**"
   ]
  },
  {
   "cell_type": "code",
   "execution_count": 5,
   "id": "f6cb67f5",
   "metadata": {},
   "outputs": [],
   "source": [
    "def hit_rate(recommended_list, bought_list):\n",
    "    \n",
    "    bought_list = np.array(bought_list)\n",
    "    recommended_list = np.array(recommended_list)\n",
    "    \n",
    "    flags = np.isin(bought_list, recommended_list)\n",
    "    \n",
    "    hit_rate = (flags.sum() > 0) * 1\n",
    "    \n",
    "    return hit_rate"
   ]
  },
  {
   "cell_type": "code",
   "execution_count": 6,
   "id": "201932c2",
   "metadata": {},
   "outputs": [
    {
     "data": {
      "text/plain": [
       "1"
      ]
     },
     "execution_count": 6,
     "metadata": {},
     "output_type": "execute_result"
    }
   ],
   "source": [
    "hit_rate(recommended_list, bought_list)"
   ]
  },
  {
   "cell_type": "markdown",
   "id": "0fdb2af7",
   "metadata": {},
   "source": [
    "**Усовершенствованная метрика Hit Rate@k**\n",
    "\n",
    "Предполагается, что id рекомендованных товаров расположены в списке recommended_list в порядке убывания критерия рекомендации, то есть сперва идут самые рекомендованные. В теле функции происходит проверка не по всем товарам, а только по срезу из k первых рекомендованных товаров."
   ]
  },
  {
   "cell_type": "code",
   "execution_count": 72,
   "id": "9cb528f8",
   "metadata": {},
   "outputs": [],
   "source": [
    "def hit_rate_at_k(recommended_list, bought_list, k=5):\n",
    "    \n",
    "    bought_list = np.array(bought_list)\n",
    "    recommended_list = np.array(recommended_list[:k])\n",
    "    \n",
    "    flags = np.isin(bought_list, recommended_list)\n",
    "    \n",
    "    hit_rate = int(flags.sum() > 0)\n",
    "    \n",
    "    return hit_rate"
   ]
  },
  {
   "cell_type": "code",
   "execution_count": 73,
   "id": "21270b6b",
   "metadata": {},
   "outputs": [
    {
     "data": {
      "text/plain": [
       "1"
      ]
     },
     "execution_count": 73,
     "metadata": {},
     "output_type": "execute_result"
    }
   ],
   "source": [
    "hit_rate_at_k(recommended_list, bought_list)"
   ]
  },
  {
   "cell_type": "code",
   "execution_count": 74,
   "id": "2990fe1b",
   "metadata": {},
   "outputs": [
    {
     "data": {
      "text/plain": [
       "0"
      ]
     },
     "execution_count": 74,
     "metadata": {},
     "output_type": "execute_result"
    }
   ],
   "source": [
    "hit_rate_at_k(recommended_list, bought_list[:2], k=3)"
   ]
  },
  {
   "cell_type": "markdown",
   "id": "430b59e5",
   "metadata": {},
   "source": [
    "## 2. Money Precision@k"
   ]
  },
  {
   "cell_type": "markdown",
   "id": "ed6d0aea",
   "metadata": {},
   "source": [
    "**Сгенерируем цены для товаров.**\n",
    "\n",
    "Цены будут храниться в словаре с доступом на уникальному id товара, то есть соответствие {id: цена}."
   ]
  },
  {
   "cell_type": "code",
   "execution_count": 21,
   "id": "7f3b9718",
   "metadata": {
    "scrolled": false
   },
   "outputs": [
    {
     "data": {
      "text/plain": [
       "{32: 428,\n",
       " 1543: 586,\n",
       " 521: 373,\n",
       " 11: 919,\n",
       " 43: 272,\n",
       " 1134: 26,\n",
       " 143: 893,\n",
       " 3345: 764,\n",
       " 533: 377,\n",
       " 27: 461,\n",
       " 156: 833,\n",
       " 991: 305}"
      ]
     },
     "execution_count": 21,
     "metadata": {},
     "output_type": "execute_result"
    }
   ],
   "source": [
    "# Набор всех уникальных id.\n",
    "set_all_ids = set(recommended_list + bought_list)\n",
    "\n",
    "# Генерация словаря со случайными ценами для каждого id товара от 0 до 1000.\n",
    "dict_prices = dict(zip(set_all_ids, np.random.randint(0, 1000, len(set_all_ids))))\n",
    "\n",
    "dict_prices"
   ]
  },
  {
   "cell_type": "markdown",
   "id": "92a99f42",
   "metadata": {},
   "source": [
    "**Метрика Money Precision@k**\n",
    "\n",
    "Метрика вычисляет долю суммы купленных рекомендованных товаров от суммы всех рекомендованных товаров."
   ]
  },
  {
   "cell_type": "code",
   "execution_count": 75,
   "id": "c9ca1114",
   "metadata": {},
   "outputs": [],
   "source": [
    "def money_precision_at_k(recommended_list, bought_list, prices_recommended, k=5):\n",
    "    \n",
    "    array_recommended = np.array(recommended_list[:k])\n",
    "    array_bought = np.array(bought_list)\n",
    "    array_prices_recommended = np.array(prices_recommended[:k])\n",
    "    \n",
    "    # Массив-маска флагов, 1 - товар был куплен, 0 - товар не был куплен.\n",
    "    array_flags = (np.isin(array_recommended, array_bought)).astype(int)\n",
    "    \n",
    "    # Вычисление точности: отношение сумм первых k купленных рекомендованных товаров и k рекомендованных товаров.\n",
    "    precision = (array_prices_recommended @ array_flags) / array_prices_recommended.sum()\n",
    "    \n",
    "    return np.round(precision, 3)"
   ]
  },
  {
   "cell_type": "markdown",
   "id": "a3971541",
   "metadata": {},
   "source": [
    "**Список цен рекомендованных товаров**"
   ]
  },
  {
   "cell_type": "code",
   "execution_count": 45,
   "id": "793a16d8",
   "metadata": {
    "scrolled": false
   },
   "outputs": [
    {
     "data": {
      "text/plain": [
       "[893, 833, 26, 305, 461, 586, 764, 377, 919, 272]"
      ]
     },
     "execution_count": 45,
     "metadata": {},
     "output_type": "execute_result"
    }
   ],
   "source": [
    "prices_recommended = list(map(dict_prices.get, recommended_list))\n",
    "\n",
    "prices_recommended"
   ]
  },
  {
   "cell_type": "markdown",
   "id": "91f224e0",
   "metadata": {},
   "source": [
    "**Проверка работы функции**"
   ]
  },
  {
   "cell_type": "code",
   "execution_count": 71,
   "id": "a57177ba",
   "metadata": {
    "scrolled": true
   },
   "outputs": [
    {
     "data": {
      "text/plain": [
       "0.51"
      ]
     },
     "execution_count": 71,
     "metadata": {},
     "output_type": "execute_result"
    }
   ],
   "source": [
    "money_precision_at_k(recommended_list, bought_list, prices_recommended, k=3)"
   ]
  },
  {
   "cell_type": "code",
   "execution_count": 63,
   "id": "0ca2a352",
   "metadata": {},
   "outputs": [
    {
     "name": "stdout",
     "output_type": "stream",
     "text": [
      "\n",
      "Флаг, куплен ли товар:\t\t\t[1, 0, 0, 1, 0, 0, 0, 0, 0, 0]\n",
      "Стоимость рекомендованного товара:\t[893, 833, 26, 305, 461, 586, 764, 377, 919, 272]\n",
      "\n"
     ]
    }
   ],
   "source": [
    "print(f'''\n",
    "Флаг, куплен ли товар:\\t\\t\\t{list((np.isin(recommended_list, bought_list)).astype(int))}\n",
    "Стоимость рекомендованного товара:\\t{prices_recommended}\n",
    "''')"
   ]
  },
  {
   "cell_type": "markdown",
   "id": "0b960ae9",
   "metadata": {},
   "source": [
    "Метрика должна была оценить долю стоимостей первых трёх рекомендованных товаров.\n",
    "\n",
    "    Первый товар: стоимость 893, был куплен.\n",
    "    Второй товар: стоимость 833, не был куплен.\n",
    "    Третий товар: стоимость 26,  не был куплен.\n",
    "\n",
    "$$a = \\frac{893 * 1 + 833 * 0 + 26 * 0}{893 * 1 + 833 * 1 + 26 * 1} = \\frac{893}{1752} \\approx 0.51$$\n",
    "\n",
    "Значения совпадают, метрика работает корректно."
   ]
  },
  {
   "cell_type": "markdown",
   "id": "fb739031",
   "metadata": {},
   "source": [
    "## 3. Money Recall@k"
   ]
  },
  {
   "cell_type": "markdown",
   "id": "34e9efdd",
   "metadata": {},
   "source": [
    "**Метрика Money Recall@k**\n",
    "\n",
    "Метрика вычисляет долю суммы купленных рекомендованных товаров от суммы всех купленных товаров."
   ]
  },
  {
   "cell_type": "code",
   "execution_count": 90,
   "id": "33e08cd9",
   "metadata": {},
   "outputs": [],
   "source": [
    "def money_recall_at_k(recommended_list, bought_list, prices_recommended, prices_bought, k=5):\n",
    "    \n",
    "    array_recommended = np.array(recommended_list[:k])\n",
    "    array_bought = np.array(bought_list)\n",
    "    array_prices_recommended = np.array(prices_recommended[:k])\n",
    "    array_prices_bought = np.array(prices_bought)\n",
    "    \n",
    "    # Массив-маска флагов, 1 - товар был куплен, 0 - товар не был куплен.\n",
    "    array_flags = (np.isin(array_recommended, array_bought)).astype(int)\n",
    "    \n",
    "    # Вычисление полноты: отношение сумм первых k купленных рекомендованных товаров и всех купленных товаров.\n",
    "    recall = (array_prices_recommended @ array_flags) / array_prices_bought.sum()\n",
    "    \n",
    "    return np.round(recall, 3)"
   ]
  },
  {
   "cell_type": "markdown",
   "id": "98930a48",
   "metadata": {},
   "source": [
    "**Список цен купленных товаров**"
   ]
  },
  {
   "cell_type": "code",
   "execution_count": 80,
   "id": "9876a7fa",
   "metadata": {
    "scrolled": true
   },
   "outputs": [
    {
     "data": {
      "text/plain": [
       "[373, 428, 893, 305]"
      ]
     },
     "execution_count": 80,
     "metadata": {},
     "output_type": "execute_result"
    }
   ],
   "source": [
    "prices_bought = list(map(dict_prices.get, bought_list))\n",
    "\n",
    "prices_bought"
   ]
  },
  {
   "cell_type": "markdown",
   "id": "cdf1ab96",
   "metadata": {},
   "source": [
    "**Проверка работы функции**"
   ]
  },
  {
   "cell_type": "code",
   "execution_count": 91,
   "id": "4eddc07d",
   "metadata": {
    "scrolled": true
   },
   "outputs": [
    {
     "data": {
      "text/plain": [
       "0.447"
      ]
     },
     "execution_count": 91,
     "metadata": {},
     "output_type": "execute_result"
    }
   ],
   "source": [
    "money_recall_at_k(recommended_list, bought_list, prices_recommended, prices_bought, k=3)"
   ]
  },
  {
   "cell_type": "code",
   "execution_count": 92,
   "id": "69cf1a31",
   "metadata": {},
   "outputs": [
    {
     "name": "stdout",
     "output_type": "stream",
     "text": [
      "\n",
      "Флаг, куплен ли товар:\t\t\t[1, 0, 0, 1, 0, 0, 0, 0, 0, 0]\n",
      "Стоимость рекомендованного товара:\t[893, 833, 26, 305, 461, 586, 764, 377, 919, 272]\n",
      "Стоимость купленного товара:\t\t[373, 428, 893, 305]\n",
      "\n"
     ]
    }
   ],
   "source": [
    "print(f'''\n",
    "Флаг, куплен ли товар:\\t\\t\\t{list((np.isin(recommended_list, bought_list)).astype(int))}\n",
    "Стоимость рекомендованного товара:\\t{prices_recommended}\n",
    "Стоимость купленного товара:\\t\\t{prices_bought}\n",
    "''')"
   ]
  },
  {
   "cell_type": "markdown",
   "id": "2fda5693",
   "metadata": {},
   "source": [
    "Метрика должна была оценить долю стоимостей первых трёх рекомендованных товаров.\n",
    "\n",
    "    Первый рекомендованный товар: стоимость 893, был куплен.\n",
    "    Второй рекомендованный товар: стоимость 833, не был куплен.\n",
    "    Третий рекомендованный товар: стоимость 26,  не был куплен.\n",
    "    \n",
    "    Первый купленный товар: стоимость 373.\n",
    "    Второй купленный товар: стоимость 428.\n",
    "    Третий купленный товар: стоимость 893.\n",
    "    Четвёртый купленный товар: стоимость 305.\n",
    "\n",
    "$$a = \\frac{893 * 1 + 833 * 0 + 26 * 0}{373 + 428 + 893 + 305} = \\frac{893}{1999} \\approx 0.447$$\n",
    "\n",
    "Значения совпадают, метрика работает корректно."
   ]
  },
  {
   "cell_type": "markdown",
   "id": "c9f1fed5",
   "metadata": {},
   "source": [
    "## 4. Mean Average Precision@k"
   ]
  },
  {
   "cell_type": "markdown",
   "id": "8c5ba1b2",
   "metadata": {},
   "source": [
    "**Исходная метрика Average Precision@k**"
   ]
  },
  {
   "cell_type": "code",
   "execution_count": 95,
   "id": "c5acbd41",
   "metadata": {},
   "outputs": [],
   "source": [
    "def precision_at_k(recommended_list, bought_list, k=5):\n",
    "    \n",
    "    bought_list = np.array(bought_list)\n",
    "    recommended_list = np.array(recommended_list)\n",
    "    \n",
    "    #assert len(bought_list) > len(recommended_list)\n",
    "    bought_list = bought_list  # Тут нет [:k] !!\n",
    "    recommended_list = recommended_list[:k]\n",
    "    \n",
    "    flags = np.isin(bought_list, recommended_list)\n",
    "    \n",
    "    precision = flags.sum() / len(recommended_list)\n",
    "    \n",
    "    return precision\n",
    "\n",
    "\n",
    "def ap_k(recommended_list, bought_list, k=5):\n",
    "    \n",
    "    bought_list = np.array(bought_list)\n",
    "    recommended_list = np.array(recommended_list)\n",
    "    \n",
    "    flags = np.isin(recommended_list, bought_list)\n",
    "    \n",
    "    if sum(flags) == 0:\n",
    "        return 0\n",
    "    \n",
    "    sum_ = 0\n",
    "    for i in range(0, k-1):\n",
    "        if flags[i] == True:\n",
    "            p_k = precision_at_k(recommended_list, bought_list, k=i+1)\n",
    "            sum_ += p_k\n",
    "            \n",
    "    result = sum_ / sum(flags)\n",
    "    \n",
    "    return result"
   ]
  },
  {
   "cell_type": "code",
   "execution_count": 96,
   "id": "d31a0a9a",
   "metadata": {
    "scrolled": true
   },
   "outputs": [
    {
     "data": {
      "text/plain": [
       "0.75"
      ]
     },
     "execution_count": 96,
     "metadata": {},
     "output_type": "execute_result"
    }
   ],
   "source": [
    "ap_k(recommended_list, bought_list, k=5)"
   ]
  },
  {
   "cell_type": "markdown",
   "id": "7eb89594",
   "metadata": {},
   "source": [
    "**Исходные данные:**\n",
    "- recommended_list - список списков id рекомендованных товаров, для каждого клиента отдельный список;\n",
    "- bought_list - список списков id купленных товаров, для каждого клиента отдельный список."
   ]
  },
  {
   "cell_type": "code",
   "execution_count": 97,
   "id": "bcc4498c",
   "metadata": {},
   "outputs": [],
   "source": [
    "recommended_list = [[143, 156, 1134, 991, 27, 1543, 3345, 533, 11, 43],\n",
    "                    [146, 156, 1134, 991, 27, 1543, 3345, 533, 11, 43],]\n",
    "\n",
    "bought_list = [[521, 32, 143, 991],\n",
    "               [146, 29]]"
   ]
  },
  {
   "cell_type": "markdown",
   "id": "a8c10a0f",
   "metadata": {},
   "source": [
    "**Метрика Mean Average Precision@k**\n",
    "\n",
    "Данная метрика, аналогично Average Precision@k, вычисляет среднюю точность для первых k покупок. Однако Mean Average Precision@k вычисляет среднюю точность для нескольких пользователей, затем возвращает средневзвешенную точность по всем клиентам."
   ]
  },
  {
   "cell_type": "code",
   "execution_count": 123,
   "id": "2a3ec4f5",
   "metadata": {},
   "outputs": [],
   "source": [
    "def map_k(recommended_list, bought_list, k=5, u=1):\n",
    "    \n",
    "    # Защита от ввода некорректного аргумента u.\n",
    "    len_list = len(recommended_list)\n",
    "    if (u < 0) or (u > len_list) or type(u) != int:\n",
    "        u = len_list\n",
    "    \n",
    "    result = 0\n",
    "    \n",
    "    # Для каждого клиента:\n",
    "    for i in range(u):\n",
    "        # вычислить среднюю точность первых k покупок.\n",
    "        result += ap_k(recommended_list[i], bought_list[i], k)\n",
    "    \n",
    "    # Усреднение метрики по всем клиентам.\n",
    "    result /= u\n",
    "    \n",
    "    return result"
   ]
  },
  {
   "cell_type": "code",
   "execution_count": 124,
   "id": "1f671cc8",
   "metadata": {},
   "outputs": [
    {
     "data": {
      "text/plain": [
       "0.5"
      ]
     },
     "execution_count": 124,
     "metadata": {},
     "output_type": "execute_result"
    }
   ],
   "source": [
    "map_k(recommended_list, bought_list, k=3, u=1)"
   ]
  },
  {
   "cell_type": "code",
   "execution_count": 125,
   "id": "18440f2b",
   "metadata": {},
   "outputs": [
    {
     "data": {
      "text/plain": [
       "0.75"
      ]
     },
     "execution_count": 125,
     "metadata": {},
     "output_type": "execute_result"
    }
   ],
   "source": [
    "map_k(recommended_list, bought_list, k=3, u=2)"
   ]
  },
  {
   "cell_type": "markdown",
   "id": "a401db3c",
   "metadata": {},
   "source": [
    "## 5. Normalized Discounted Cumulative Gain@k"
   ]
  },
  {
   "cell_type": "code",
   "execution_count": 128,
   "id": "4fe8816e",
   "metadata": {},
   "outputs": [],
   "source": [
    "N = 5\n",
    "ys_true = torch.randint(0, 5, (N, ))\n",
    "ys_pred = torch.rand(N)"
   ]
  },
  {
   "cell_type": "markdown",
   "id": "a9da6866",
   "metadata": {},
   "source": [
    "Истинные метки, чем больше число, тем выше заинтересованность клиента в объекте."
   ]
  },
  {
   "cell_type": "code",
   "execution_count": 129,
   "id": "1812fea1",
   "metadata": {},
   "outputs": [
    {
     "data": {
      "text/plain": [
       "tensor([4, 1, 0, 2, 3])"
      ]
     },
     "execution_count": 129,
     "metadata": {},
     "output_type": "execute_result"
    }
   ],
   "source": [
    "ys_true"
   ]
  },
  {
   "cell_type": "markdown",
   "id": "3e7a19af",
   "metadata": {},
   "source": [
    "Результат прогноза модели - коэффициент важности объекта. Чем больше число, тем приоритетнее объект."
   ]
  },
  {
   "cell_type": "code",
   "execution_count": 131,
   "id": "0404027b",
   "metadata": {},
   "outputs": [
    {
     "data": {
      "text/plain": [
       "tensor([0.2074, 0.7182, 0.4096, 0.0619, 0.8712])"
      ]
     },
     "execution_count": 131,
     "metadata": {},
     "output_type": "execute_result"
    }
   ],
   "source": [
    "ys_pred"
   ]
  },
  {
   "cell_type": "markdown",
   "id": "d8024d6a",
   "metadata": {},
   "source": [
    "Ранжирование объектов согласно прогнозу модели: на первом месте объект с индексом 4 и т.д."
   ]
  },
  {
   "cell_type": "code",
   "execution_count": 133,
   "id": "19704109",
   "metadata": {
    "scrolled": true
   },
   "outputs": [
    {
     "data": {
      "text/plain": [
       "tensor([4, 1, 2, 0, 3])"
      ]
     },
     "execution_count": 133,
     "metadata": {},
     "output_type": "execute_result"
    }
   ],
   "source": [
    "_, indices = torch.sort(ys_pred, descending=True, dim=0)\n",
    "\n",
    "indices"
   ]
  },
  {
   "cell_type": "markdown",
   "id": "3a13f69a",
   "metadata": {},
   "source": [
    "**Метрика Discounted cumulative gain@k**"
   ]
  },
  {
   "cell_type": "code",
   "execution_count": 137,
   "id": "76e5d2fb",
   "metadata": {},
   "outputs": [],
   "source": [
    "def compute_gain(y_value: float, gain_scheme: str) -> float:\n",
    "    if gain_scheme == \"exp2\":\n",
    "        gain = 2 ** y_value - 1\n",
    "    elif gain_scheme == \"const\":\n",
    "        gain = y_value\n",
    "    else:\n",
    "        raise ValueError(f\"{gain_scheme} method not supported, only exp2 and const.\")\n",
    "    return float(gain)\n",
    "\n",
    "\n",
    "def dcg(ys_true: torch.Tensor, ys_pred: torch.Tensor, gain_scheme: str) -> float:\n",
    "    _, argsort = torch.sort(ys_pred, descending=True, dim=0)\n",
    "    ys_true_sorted = ys_true[argsort]\n",
    "    ret = 0\n",
    "    for idx, cur_y in enumerate(ys_true_sorted, 1):\n",
    "        gain = compute_gain(cur_y, gain_scheme)\n",
    "        \n",
    "        # your code\n",
    "        \n",
    "        # Для каждого элемента после второго элемента:\n",
    "        if idx > 2:\n",
    "            # штрафовать прирост в зависимости от расположения.\n",
    "            gain /= math.log2(idx)\n",
    "        \n",
    "        # Суммирование прироста.\n",
    "        ret += gain\n",
    "    \n",
    "    # Нормирование по количеству объектов в пронозе.\n",
    "    ret /= len(ys_true)\n",
    "        \n",
    "    return ret"
   ]
  },
  {
   "cell_type": "code",
   "execution_count": 139,
   "id": "26688669",
   "metadata": {},
   "outputs": [
    {
     "data": {
      "text/plain": [
       "1.3722706232293571"
      ]
     },
     "execution_count": 139,
     "metadata": {},
     "output_type": "execute_result"
    }
   ],
   "source": [
    "dcg(ys_true, ys_pred, 'const')"
   ]
  },
  {
   "cell_type": "markdown",
   "id": "6fa3b7dc",
   "metadata": {},
   "source": [
    "Попробуем перегенерировать исходные данные, чтобы получить другое значение метрики."
   ]
  },
  {
   "cell_type": "code",
   "execution_count": 140,
   "id": "6c6ce039",
   "metadata": {},
   "outputs": [
    {
     "data": {
      "text/plain": [
       "(tensor([3, 3, 1, 2, 1]), tensor([0.1212, 0.7432, 0.1412, 0.1689, 0.1709]))"
      ]
     },
     "execution_count": 140,
     "metadata": {},
     "output_type": "execute_result"
    }
   ],
   "source": [
    "ys_true = torch.randint(0, 5, (N, ))\n",
    "ys_pred = torch.rand(N)\n",
    "\n",
    "ys_true, ys_pred"
   ]
  },
  {
   "cell_type": "code",
   "execution_count": 141,
   "id": "5a269933",
   "metadata": {},
   "outputs": [
    {
     "data": {
      "text/plain": [
       "1.410777836272619"
      ]
     },
     "execution_count": 141,
     "metadata": {},
     "output_type": "execute_result"
    }
   ],
   "source": [
    "dcg(ys_true, ys_pred, 'const')"
   ]
  },
  {
   "cell_type": "markdown",
   "id": "16fe8af7",
   "metadata": {},
   "source": [
    "Значение метрики выше, так как один из важных объектов был поставлен моделью на первое место."
   ]
  },
  {
   "cell_type": "markdown",
   "id": "56c617be",
   "metadata": {},
   "source": [
    "## Mean Reciprocal Rank@k"
   ]
  },
  {
   "cell_type": "code",
   "execution_count": 142,
   "id": "40a3d913",
   "metadata": {},
   "outputs": [],
   "source": [
    "recommended_list = [[143, 156, 1134, 991, 27, 1543, 3345, 533, 11, 43],\n",
    "                    [146, 156, 1134, 991, 27, 1543, 3345, 533, 11, 43],]\n",
    "\n",
    "bought_list = [[521, 32, 143, 991],\n",
    "               [146, 29]]"
   ]
  },
  {
   "cell_type": "markdown",
   "id": "c60aa502",
   "metadata": {},
   "source": [
    "В контексте покупки товара метрика будет учитывать позицию купленного товара в писке рекомендованных товаров. Если купленного товара нет в списке рекомендованных, то его обратный ранг будет равен нулю, что снизит среднее по всем рангам."
   ]
  },
  {
   "cell_type": "code",
   "execution_count": 153,
   "id": "79598041",
   "metadata": {},
   "outputs": [],
   "source": [
    "def reciprocal_rank(recommended_list, bought_list):\n",
    "    \n",
    "    result = 0\n",
    "    \n",
    "    # Для каждого купленного товара:\n",
    "    for item in bought_list:\n",
    "        # пробовать найти его позицию в списке рекомендаций.\n",
    "        try:\n",
    "            # Если товар найден, то вычислить его обратный ранг.\n",
    "            rank = 1 / (1 + recommended_list.index(item))\n",
    "        except:\n",
    "            # Иначе использовать нулевой ранг.\n",
    "            rank = 0\n",
    "        \n",
    "        # Суммировать ранги.\n",
    "        result += rank\n",
    "    \n",
    "    # Вычислить среднее.\n",
    "    result /= len(bought_list)\n",
    "    \n",
    "    return result"
   ]
  },
  {
   "cell_type": "code",
   "execution_count": 154,
   "id": "e58d66c3",
   "metadata": {
    "scrolled": true
   },
   "outputs": [
    {
     "data": {
      "text/plain": [
       "0.3125"
      ]
     },
     "execution_count": 154,
     "metadata": {},
     "output_type": "execute_result"
    }
   ],
   "source": [
    "reciprocal_rank(recommended_list[0], bought_list[0])"
   ]
  },
  {
   "cell_type": "markdown",
   "id": "7647bfae",
   "metadata": {},
   "source": [
    "У первого клиента из четёрых рекомендованных товаров только два оказались куплены. Первый товар был на первом месте, второй - на четвёртом."
   ]
  },
  {
   "cell_type": "code",
   "execution_count": 155,
   "id": "bcaa14a5",
   "metadata": {},
   "outputs": [
    {
     "data": {
      "text/plain": [
       "0.5"
      ]
     },
     "execution_count": 155,
     "metadata": {},
     "output_type": "execute_result"
    }
   ],
   "source": [
    "reciprocal_rank(recommended_list[1], bought_list[1])"
   ]
  },
  {
   "cell_type": "markdown",
   "id": "0537c566",
   "metadata": {},
   "source": [
    "У второго клиента был верно предсказан только один товар из двух, однако предсказанный товар был на первом месте, поэтому метрика получилась выше. "
   ]
  },
  {
   "cell_type": "code",
   "execution_count": 156,
   "id": "a94a14f1",
   "metadata": {},
   "outputs": [],
   "source": [
    "recommended_list = [[1, 2, 3, 4],\n",
    "                    [1, 2, 3, 4]]\n",
    "\n",
    "bought_list = [[1, 2, 3, 4],\n",
    "               [1]]"
   ]
  },
  {
   "cell_type": "code",
   "execution_count": 157,
   "id": "e1281b91",
   "metadata": {},
   "outputs": [
    {
     "data": {
      "text/plain": [
       "0.5208333333333333"
      ]
     },
     "execution_count": 157,
     "metadata": {},
     "output_type": "execute_result"
    }
   ],
   "source": [
    "reciprocal_rank(recommended_list[0], bought_list[0])"
   ]
  },
  {
   "cell_type": "code",
   "execution_count": 158,
   "id": "99180320",
   "metadata": {},
   "outputs": [
    {
     "data": {
      "text/plain": [
       "1.0"
      ]
     },
     "execution_count": 158,
     "metadata": {},
     "output_type": "execute_result"
    }
   ],
   "source": [
    "reciprocal_rank(recommended_list[1], bought_list[1])"
   ]
  },
  {
   "cell_type": "markdown",
   "id": "113e50e7",
   "metadata": {},
   "source": [
    "Данная метрика необъективна в случае нескольких покупок из одного списка рекомендаций. Для первого клиента модель сделала верную рекомендацию для всех его покупок, однако метрика получилась ниже, чем для второго клиента с одной покупкой."
   ]
  },
  {
   "cell_type": "code",
   "execution_count": null,
   "id": "006121c9",
   "metadata": {},
   "outputs": [],
   "source": []
  }
 ],
 "metadata": {
  "kernelspec": {
   "display_name": "Python 3 (ipykernel)",
   "language": "python",
   "name": "python3"
  },
  "language_info": {
   "codemirror_mode": {
    "name": "ipython",
    "version": 3
   },
   "file_extension": ".py",
   "mimetype": "text/x-python",
   "name": "python",
   "nbconvert_exporter": "python",
   "pygments_lexer": "ipython3",
   "version": "3.9.4"
  }
 },
 "nbformat": 4,
 "nbformat_minor": 5
}
