{
 "cells": [
  {
   "cell_type": "markdown",
   "id": "a6b1b75d",
   "metadata": {},
   "source": [
    "# 8th_homework"
   ]
  },
  {
   "cell_type": "markdown",
   "id": "37fcf320",
   "metadata": {},
   "source": [
    "## Стратегия выполнения проекта"
   ]
  },
  {
   "cell_type": "markdown",
   "id": "ffeca977",
   "metadata": {},
   "source": [
    "Для выполнения курсового проекта используется двухуровневая рекомендательная система:\n",
    "- на первом уровне модель <code>AlternatingLeastSquares</code> составляет список наиболее подходящих товаров для каждого клиента;\n",
    "- на втором уровне модель <code>CatBoostClassifier</code>, используя признаки пользователей и товаров, для каждого клиента оставляет пять наиболее подходящих товаров.\n",
    "\n",
    "Применение модели второго уровня значительно улучшает метрику <code>Precision@5</code>, однако **не для всех пользователей и товаров есть признаки**, необходимые для работы модели второго уровня. В случаях, когда о пользователях и товарах ничего не известно, используется модель первого уровня."
   ]
  },
  {
   "cell_type": "markdown",
   "id": "355e4e5c",
   "metadata": {},
   "source": [
    "## Подготовка"
   ]
  },
  {
   "cell_type": "markdown",
   "id": "c9724f7f",
   "metadata": {},
   "source": [
    "### Импорт библиотек"
   ]
  },
  {
   "cell_type": "code",
   "execution_count": 1,
   "id": "170a73d9",
   "metadata": {},
   "outputs": [],
   "source": [
    "import numpy as np\n",
    "import pandas as pd\n",
    "\n",
    "from src import utils\n",
    "from src import recommenders\n",
    "from src import metrics\n",
    "\n",
    "from catboost import CatBoostClassifier"
   ]
  },
  {
   "cell_type": "markdown",
   "id": "1c2b5858",
   "metadata": {},
   "source": [
    "### Импорт данных"
   ]
  },
  {
   "cell_type": "code",
   "execution_count": 2,
   "id": "f4954665",
   "metadata": {},
   "outputs": [],
   "source": [
    "PATH_DATA = r'../2th lesson/retail_train.csv'\n",
    "PATH_ITEM_FEATURES = r'../2th lesson/product.csv'\n",
    "PATH_USER_FEATURES = r'../2th lesson/hh_demographic.csv'\n",
    "\n",
    "PATH_RESULT = r'recommendations.csv'"
   ]
  },
  {
   "cell_type": "markdown",
   "id": "7c2dc831",
   "metadata": {},
   "source": [
    "### Глобальные настройки проекта"
   ]
  },
  {
   "cell_type": "code",
   "execution_count": 3,
   "id": "650fe7fa",
   "metadata": {},
   "outputs": [],
   "source": [
    "random_state_global = 0"
   ]
  },
  {
   "cell_type": "markdown",
   "id": "46ce4090",
   "metadata": {},
   "source": [
    "## Модель первого уровня"
   ]
  },
  {
   "cell_type": "markdown",
   "id": "2476065f",
   "metadata": {},
   "source": [
    "### Загрузка данных"
   ]
  },
  {
   "cell_type": "code",
   "execution_count": 4,
   "id": "fe5f65da",
   "metadata": {},
   "outputs": [],
   "source": [
    "# Загрузка данных.\n",
    "data = pd.read_csv(PATH_DATA)\n",
    "item_features = pd.read_csv(PATH_ITEM_FEATURES)\n",
    "user_features = pd.read_csv(PATH_USER_FEATURES)\n",
    "\n",
    "# Обработка названий столбцов.\n",
    "item_features.columns = [col.lower() for col in item_features.columns]\n",
    "user_features.columns = [col.lower() for col in user_features.columns]\n",
    "\n",
    "item_features = item_features.rename(columns={'product_id': 'item_id'})\n",
    "user_features = user_features.rename(columns={'household_key': 'user_id'})"
   ]
  },
  {
   "cell_type": "code",
   "execution_count": 5,
   "id": "56a41759",
   "metadata": {},
   "outputs": [
    {
     "data": {
      "text/html": [
       "<div>\n",
       "<style scoped>\n",
       "    .dataframe tbody tr th:only-of-type {\n",
       "        vertical-align: middle;\n",
       "    }\n",
       "\n",
       "    .dataframe tbody tr th {\n",
       "        vertical-align: top;\n",
       "    }\n",
       "\n",
       "    .dataframe thead th {\n",
       "        text-align: right;\n",
       "    }\n",
       "</style>\n",
       "<table border=\"1\" class=\"dataframe\">\n",
       "  <thead>\n",
       "    <tr style=\"text-align: right;\">\n",
       "      <th></th>\n",
       "      <th>user_id</th>\n",
       "      <th>basket_id</th>\n",
       "      <th>day</th>\n",
       "      <th>item_id</th>\n",
       "      <th>quantity</th>\n",
       "      <th>sales_value</th>\n",
       "      <th>store_id</th>\n",
       "      <th>retail_disc</th>\n",
       "      <th>trans_time</th>\n",
       "      <th>week_no</th>\n",
       "      <th>coupon_disc</th>\n",
       "      <th>coupon_match_disc</th>\n",
       "    </tr>\n",
       "  </thead>\n",
       "  <tbody>\n",
       "    <tr>\n",
       "      <th>0</th>\n",
       "      <td>2375</td>\n",
       "      <td>26984851472</td>\n",
       "      <td>1</td>\n",
       "      <td>1004906</td>\n",
       "      <td>1</td>\n",
       "      <td>1.39</td>\n",
       "      <td>364</td>\n",
       "      <td>-0.6</td>\n",
       "      <td>1631</td>\n",
       "      <td>1</td>\n",
       "      <td>0.0</td>\n",
       "      <td>0.0</td>\n",
       "    </tr>\n",
       "    <tr>\n",
       "      <th>1</th>\n",
       "      <td>2375</td>\n",
       "      <td>26984851472</td>\n",
       "      <td>1</td>\n",
       "      <td>1033142</td>\n",
       "      <td>1</td>\n",
       "      <td>0.82</td>\n",
       "      <td>364</td>\n",
       "      <td>0.0</td>\n",
       "      <td>1631</td>\n",
       "      <td>1</td>\n",
       "      <td>0.0</td>\n",
       "      <td>0.0</td>\n",
       "    </tr>\n",
       "  </tbody>\n",
       "</table>\n",
       "</div>"
      ],
      "text/plain": [
       "   user_id    basket_id  day  item_id  quantity  sales_value  store_id  \\\n",
       "0     2375  26984851472    1  1004906         1         1.39       364   \n",
       "1     2375  26984851472    1  1033142         1         0.82       364   \n",
       "\n",
       "   retail_disc  trans_time  week_no  coupon_disc  coupon_match_disc  \n",
       "0         -0.6        1631        1          0.0                0.0  \n",
       "1          0.0        1631        1          0.0                0.0  "
      ]
     },
     "execution_count": 5,
     "metadata": {},
     "output_type": "execute_result"
    }
   ],
   "source": [
    "# Проверка.\n",
    "data.head(2)"
   ]
  },
  {
   "cell_type": "code",
   "execution_count": 6,
   "id": "476a3ee0",
   "metadata": {},
   "outputs": [
    {
     "data": {
      "text/html": [
       "<div>\n",
       "<style scoped>\n",
       "    .dataframe tbody tr th:only-of-type {\n",
       "        vertical-align: middle;\n",
       "    }\n",
       "\n",
       "    .dataframe tbody tr th {\n",
       "        vertical-align: top;\n",
       "    }\n",
       "\n",
       "    .dataframe thead th {\n",
       "        text-align: right;\n",
       "    }\n",
       "</style>\n",
       "<table border=\"1\" class=\"dataframe\">\n",
       "  <thead>\n",
       "    <tr style=\"text-align: right;\">\n",
       "      <th></th>\n",
       "      <th>item_id</th>\n",
       "      <th>manufacturer</th>\n",
       "      <th>department</th>\n",
       "      <th>brand</th>\n",
       "      <th>commodity_desc</th>\n",
       "      <th>sub_commodity_desc</th>\n",
       "      <th>curr_size_of_product</th>\n",
       "    </tr>\n",
       "  </thead>\n",
       "  <tbody>\n",
       "    <tr>\n",
       "      <th>0</th>\n",
       "      <td>25671</td>\n",
       "      <td>2</td>\n",
       "      <td>GROCERY</td>\n",
       "      <td>National</td>\n",
       "      <td>FRZN ICE</td>\n",
       "      <td>ICE - CRUSHED/CUBED</td>\n",
       "      <td>22 LB</td>\n",
       "    </tr>\n",
       "    <tr>\n",
       "      <th>1</th>\n",
       "      <td>26081</td>\n",
       "      <td>2</td>\n",
       "      <td>MISC. TRANS.</td>\n",
       "      <td>National</td>\n",
       "      <td>NO COMMODITY DESCRIPTION</td>\n",
       "      <td>NO SUBCOMMODITY DESCRIPTION</td>\n",
       "      <td></td>\n",
       "    </tr>\n",
       "  </tbody>\n",
       "</table>\n",
       "</div>"
      ],
      "text/plain": [
       "   item_id  manufacturer    department     brand            commodity_desc  \\\n",
       "0    25671             2       GROCERY  National                  FRZN ICE   \n",
       "1    26081             2  MISC. TRANS.  National  NO COMMODITY DESCRIPTION   \n",
       "\n",
       "            sub_commodity_desc curr_size_of_product  \n",
       "0          ICE - CRUSHED/CUBED                22 LB  \n",
       "1  NO SUBCOMMODITY DESCRIPTION                       "
      ]
     },
     "execution_count": 6,
     "metadata": {},
     "output_type": "execute_result"
    }
   ],
   "source": [
    "# Проверка.\n",
    "item_features.head(2)"
   ]
  },
  {
   "cell_type": "code",
   "execution_count": 7,
   "id": "6e434120",
   "metadata": {
    "scrolled": true
   },
   "outputs": [
    {
     "data": {
      "text/html": [
       "<div>\n",
       "<style scoped>\n",
       "    .dataframe tbody tr th:only-of-type {\n",
       "        vertical-align: middle;\n",
       "    }\n",
       "\n",
       "    .dataframe tbody tr th {\n",
       "        vertical-align: top;\n",
       "    }\n",
       "\n",
       "    .dataframe thead th {\n",
       "        text-align: right;\n",
       "    }\n",
       "</style>\n",
       "<table border=\"1\" class=\"dataframe\">\n",
       "  <thead>\n",
       "    <tr style=\"text-align: right;\">\n",
       "      <th></th>\n",
       "      <th>age_desc</th>\n",
       "      <th>marital_status_code</th>\n",
       "      <th>income_desc</th>\n",
       "      <th>homeowner_desc</th>\n",
       "      <th>hh_comp_desc</th>\n",
       "      <th>household_size_desc</th>\n",
       "      <th>kid_category_desc</th>\n",
       "      <th>user_id</th>\n",
       "    </tr>\n",
       "  </thead>\n",
       "  <tbody>\n",
       "    <tr>\n",
       "      <th>0</th>\n",
       "      <td>65+</td>\n",
       "      <td>A</td>\n",
       "      <td>35-49K</td>\n",
       "      <td>Homeowner</td>\n",
       "      <td>2 Adults No Kids</td>\n",
       "      <td>2</td>\n",
       "      <td>None/Unknown</td>\n",
       "      <td>1</td>\n",
       "    </tr>\n",
       "    <tr>\n",
       "      <th>1</th>\n",
       "      <td>45-54</td>\n",
       "      <td>A</td>\n",
       "      <td>50-74K</td>\n",
       "      <td>Homeowner</td>\n",
       "      <td>2 Adults No Kids</td>\n",
       "      <td>2</td>\n",
       "      <td>None/Unknown</td>\n",
       "      <td>7</td>\n",
       "    </tr>\n",
       "  </tbody>\n",
       "</table>\n",
       "</div>"
      ],
      "text/plain": [
       "  age_desc marital_status_code income_desc homeowner_desc      hh_comp_desc  \\\n",
       "0      65+                   A      35-49K      Homeowner  2 Adults No Kids   \n",
       "1    45-54                   A      50-74K      Homeowner  2 Adults No Kids   \n",
       "\n",
       "  household_size_desc kid_category_desc  user_id  \n",
       "0                   2      None/Unknown        1  \n",
       "1                   2      None/Unknown        7  "
      ]
     },
     "execution_count": 7,
     "metadata": {},
     "output_type": "execute_result"
    }
   ],
   "source": [
    "# Проверка.\n",
    "user_features.head(2)"
   ]
  },
  {
   "cell_type": "markdown",
   "id": "54f22fbb",
   "metadata": {},
   "source": [
    "### Разбиение данных"
   ]
  },
  {
   "cell_type": "code",
   "execution_count": 8,
   "id": "f3325954",
   "metadata": {},
   "outputs": [],
   "source": [
    "# Разбиение данных.\n",
    "data_train, data_test = utils.train_test_split(data, 'week_no', data['week_no'].max() - 9)\n",
    "data_valid, data_test = utils.train_test_split(data_test, 'week_no', data_test['week_no'].max() - 3)"
   ]
  },
  {
   "cell_type": "code",
   "execution_count": 9,
   "id": "6d52eb3a",
   "metadata": {},
   "outputs": [
    {
     "data": {
      "text/plain": [
       "(2396804, 12)"
      ]
     },
     "execution_count": 9,
     "metadata": {},
     "output_type": "execute_result"
    }
   ],
   "source": [
    "# Проверка: размер исходного набора данных.\n",
    "data.shape"
   ]
  },
  {
   "cell_type": "code",
   "execution_count": 10,
   "id": "91728023",
   "metadata": {},
   "outputs": [
    {
     "data": {
      "text/plain": [
       "(2108779, 12)"
      ]
     },
     "execution_count": 10,
     "metadata": {},
     "output_type": "execute_result"
    }
   ],
   "source": [
    "# Проверка: размер обучающего набора данных.\n",
    "data_train.shape"
   ]
  },
  {
   "cell_type": "code",
   "execution_count": 11,
   "id": "a7f876da",
   "metadata": {},
   "outputs": [
    {
     "data": {
      "text/plain": [
       "(165198, 12)"
      ]
     },
     "execution_count": 11,
     "metadata": {},
     "output_type": "execute_result"
    }
   ],
   "source": [
    "# Удаление товаров, которых нет в обучающей выборке.\n",
    "data_valid = data_valid[data_valid['user_id'].isin(data_train['user_id'])]\n",
    "data_valid = data_valid[data_valid['item_id'].isin(data_train['item_id'])]\n",
    "\n",
    "# Проверка: размер валидационного набора данных.\n",
    "data_valid.shape"
   ]
  },
  {
   "cell_type": "code",
   "execution_count": 12,
   "id": "eec39ee1",
   "metadata": {},
   "outputs": [
    {
     "data": {
      "text/plain": [
       "array([86, 87, 88, 89, 90, 91], dtype=int64)"
      ]
     },
     "execution_count": 12,
     "metadata": {},
     "output_type": "execute_result"
    }
   ],
   "source": [
    "# Проверка: недели валидационного набора данных.\n",
    "data_valid['week_no'].unique()"
   ]
  },
  {
   "cell_type": "code",
   "execution_count": 13,
   "id": "8aafbc7c",
   "metadata": {},
   "outputs": [
    {
     "data": {
      "text/plain": [
       "(114212, 12)"
      ]
     },
     "execution_count": 13,
     "metadata": {},
     "output_type": "execute_result"
    }
   ],
   "source": [
    "# Удаление товаров, которых нет в обучающей выборке.\n",
    "data_test = data_test[data_test['user_id'].isin(data_train['user_id'])]\n",
    "data_test = data_test[data_test['item_id'].isin(data_train['item_id'])]\n",
    "\n",
    "# Проверка: размер тестового набора данных.\n",
    "data_test.shape"
   ]
  },
  {
   "cell_type": "code",
   "execution_count": 14,
   "id": "50e307bd",
   "metadata": {},
   "outputs": [
    {
     "data": {
      "text/plain": [
       "array([92, 93, 94, 95], dtype=int64)"
      ]
     },
     "execution_count": 14,
     "metadata": {},
     "output_type": "execute_result"
    }
   ],
   "source": [
    "# Проверка: недели тестового набора данных.\n",
    "data_test['week_no'].unique()"
   ]
  },
  {
   "cell_type": "markdown",
   "id": "accb21d6",
   "metadata": {},
   "source": [
    "### Обработка данных"
   ]
  },
  {
   "cell_type": "code",
   "execution_count": 15,
   "id": "3e015687",
   "metadata": {},
   "outputs": [
    {
     "data": {
      "text/html": [
       "<div>\n",
       "<style scoped>\n",
       "    .dataframe tbody tr th:only-of-type {\n",
       "        vertical-align: middle;\n",
       "    }\n",
       "\n",
       "    .dataframe tbody tr th {\n",
       "        vertical-align: top;\n",
       "    }\n",
       "\n",
       "    .dataframe thead th {\n",
       "        text-align: right;\n",
       "    }\n",
       "</style>\n",
       "<table border=\"1\" class=\"dataframe\">\n",
       "  <thead>\n",
       "    <tr style=\"text-align: right;\">\n",
       "      <th></th>\n",
       "      <th>user_id</th>\n",
       "      <th>basket_id</th>\n",
       "      <th>day</th>\n",
       "      <th>item_id</th>\n",
       "      <th>quantity</th>\n",
       "      <th>sales_value</th>\n",
       "      <th>store_id</th>\n",
       "      <th>retail_disc</th>\n",
       "      <th>trans_time</th>\n",
       "      <th>week_no</th>\n",
       "      <th>coupon_disc</th>\n",
       "      <th>coupon_match_disc</th>\n",
       "    </tr>\n",
       "  </thead>\n",
       "  <tbody>\n",
       "    <tr>\n",
       "      <th>2109568</th>\n",
       "      <td>856</td>\n",
       "      <td>40630539494</td>\n",
       "      <td>593</td>\n",
       "      <td>999999</td>\n",
       "      <td>1</td>\n",
       "      <td>1.99</td>\n",
       "      <td>372</td>\n",
       "      <td>-1.0</td>\n",
       "      <td>1831</td>\n",
       "      <td>85</td>\n",
       "      <td>0.0</td>\n",
       "      <td>0.0</td>\n",
       "    </tr>\n",
       "    <tr>\n",
       "      <th>2109569</th>\n",
       "      <td>856</td>\n",
       "      <td>40630539494</td>\n",
       "      <td>593</td>\n",
       "      <td>1120213</td>\n",
       "      <td>1</td>\n",
       "      <td>1.67</td>\n",
       "      <td>372</td>\n",
       "      <td>0.0</td>\n",
       "      <td>1831</td>\n",
       "      <td>85</td>\n",
       "      <td>0.0</td>\n",
       "      <td>0.0</td>\n",
       "    </tr>\n",
       "    <tr>\n",
       "      <th>2109570</th>\n",
       "      <td>856</td>\n",
       "      <td>40630539494</td>\n",
       "      <td>593</td>\n",
       "      <td>999999</td>\n",
       "      <td>1</td>\n",
       "      <td>5.69</td>\n",
       "      <td>372</td>\n",
       "      <td>-0.3</td>\n",
       "      <td>1831</td>\n",
       "      <td>85</td>\n",
       "      <td>0.0</td>\n",
       "      <td>0.0</td>\n",
       "    </tr>\n",
       "    <tr>\n",
       "      <th>2109571</th>\n",
       "      <td>856</td>\n",
       "      <td>40630539494</td>\n",
       "      <td>593</td>\n",
       "      <td>999999</td>\n",
       "      <td>1</td>\n",
       "      <td>10.99</td>\n",
       "      <td>372</td>\n",
       "      <td>-3.3</td>\n",
       "      <td>1831</td>\n",
       "      <td>85</td>\n",
       "      <td>0.0</td>\n",
       "      <td>0.0</td>\n",
       "    </tr>\n",
       "    <tr>\n",
       "      <th>2109572</th>\n",
       "      <td>856</td>\n",
       "      <td>40630539494</td>\n",
       "      <td>593</td>\n",
       "      <td>999999</td>\n",
       "      <td>1</td>\n",
       "      <td>0.89</td>\n",
       "      <td>372</td>\n",
       "      <td>0.0</td>\n",
       "      <td>1831</td>\n",
       "      <td>85</td>\n",
       "      <td>0.0</td>\n",
       "      <td>0.0</td>\n",
       "    </tr>\n",
       "  </tbody>\n",
       "</table>\n",
       "</div>"
      ],
      "text/plain": [
       "         user_id    basket_id  day  item_id  quantity  sales_value  store_id  \\\n",
       "2109568      856  40630539494  593   999999         1         1.99       372   \n",
       "2109569      856  40630539494  593  1120213         1         1.67       372   \n",
       "2109570      856  40630539494  593   999999         1         5.69       372   \n",
       "2109571      856  40630539494  593   999999         1        10.99       372   \n",
       "2109572      856  40630539494  593   999999         1         0.89       372   \n",
       "\n",
       "         retail_disc  trans_time  week_no  coupon_disc  coupon_match_disc  \n",
       "2109568         -1.0        1831       85          0.0                0.0  \n",
       "2109569          0.0        1831       85          0.0                0.0  \n",
       "2109570         -0.3        1831       85          0.0                0.0  \n",
       "2109571         -3.3        1831       85          0.0                0.0  \n",
       "2109572          0.0        1831       85          0.0                0.0  "
      ]
     },
     "execution_count": 15,
     "metadata": {},
     "output_type": "execute_result"
    }
   ],
   "source": [
    "# Фильтрация товаров.\n",
    "data_train = utils.prefilter_items(data_train, 'item_id', 'quantity')\n",
    "\n",
    "# Проверка.\n",
    "data_train.tail()"
   ]
  },
  {
   "cell_type": "markdown",
   "id": "62603baf",
   "metadata": {},
   "source": [
    "### Подготовка таблиц для результатов прогнозирования"
   ]
  },
  {
   "cell_type": "code",
   "execution_count": 16,
   "id": "b8b89d52",
   "metadata": {},
   "outputs": [
    {
     "data": {
      "text/html": [
       "<div>\n",
       "<style scoped>\n",
       "    .dataframe tbody tr th:only-of-type {\n",
       "        vertical-align: middle;\n",
       "    }\n",
       "\n",
       "    .dataframe tbody tr th {\n",
       "        vertical-align: top;\n",
       "    }\n",
       "\n",
       "    .dataframe thead th {\n",
       "        text-align: right;\n",
       "    }\n",
       "</style>\n",
       "<table border=\"1\" class=\"dataframe\">\n",
       "  <thead>\n",
       "    <tr style=\"text-align: right;\">\n",
       "      <th></th>\n",
       "      <th>user_id</th>\n",
       "      <th>actual</th>\n",
       "    </tr>\n",
       "  </thead>\n",
       "  <tbody>\n",
       "    <tr>\n",
       "      <th>0</th>\n",
       "      <td>1</td>\n",
       "      <td>[999999, 840361, 845307, 852014, 856942, 91267...</td>\n",
       "    </tr>\n",
       "    <tr>\n",
       "      <th>1</th>\n",
       "      <td>2</td>\n",
       "      <td>[854852, 930118, 1077555, 1098066, 999999, 556...</td>\n",
       "    </tr>\n",
       "  </tbody>\n",
       "</table>\n",
       "</div>"
      ],
      "text/plain": [
       "   user_id                                             actual\n",
       "0        1  [999999, 840361, 845307, 852014, 856942, 91267...\n",
       "1        2  [854852, 930118, 1077555, 1098066, 999999, 556..."
      ]
     },
     "execution_count": 16,
     "metadata": {},
     "output_type": "execute_result"
    }
   ],
   "source": [
    "# Подготовка тренировочной таблицы.\n",
    "result_train = utils.prepare_result(data_train)\n",
    "\n",
    "# Проверка.\n",
    "result_train.head(2)"
   ]
  },
  {
   "cell_type": "code",
   "execution_count": 17,
   "id": "36801fda",
   "metadata": {},
   "outputs": [
    {
     "data": {
      "text/html": [
       "<div>\n",
       "<style scoped>\n",
       "    .dataframe tbody tr th:only-of-type {\n",
       "        vertical-align: middle;\n",
       "    }\n",
       "\n",
       "    .dataframe tbody tr th {\n",
       "        vertical-align: top;\n",
       "    }\n",
       "\n",
       "    .dataframe thead th {\n",
       "        text-align: right;\n",
       "    }\n",
       "</style>\n",
       "<table border=\"1\" class=\"dataframe\">\n",
       "  <thead>\n",
       "    <tr style=\"text-align: right;\">\n",
       "      <th></th>\n",
       "      <th>user_id</th>\n",
       "      <th>actual</th>\n",
       "    </tr>\n",
       "  </thead>\n",
       "  <tbody>\n",
       "    <tr>\n",
       "      <th>0</th>\n",
       "      <td>1</td>\n",
       "      <td>[853529, 865456, 867607, 872137, 875240, 87737...</td>\n",
       "    </tr>\n",
       "    <tr>\n",
       "      <th>1</th>\n",
       "      <td>2</td>\n",
       "      <td>[838136, 839656, 861272, 866211, 870791, 87391...</td>\n",
       "    </tr>\n",
       "  </tbody>\n",
       "</table>\n",
       "</div>"
      ],
      "text/plain": [
       "   user_id                                             actual\n",
       "0        1  [853529, 865456, 867607, 872137, 875240, 87737...\n",
       "1        2  [838136, 839656, 861272, 866211, 870791, 87391..."
      ]
     },
     "execution_count": 17,
     "metadata": {},
     "output_type": "execute_result"
    }
   ],
   "source": [
    "# Подготовка валидационной таблицы.\n",
    "result_valid = utils.prepare_result(data_valid)\n",
    "\n",
    "# Проверка.\n",
    "result_valid.head(2)"
   ]
  },
  {
   "cell_type": "code",
   "execution_count": 18,
   "id": "02d0fd2c",
   "metadata": {},
   "outputs": [
    {
     "data": {
      "text/html": [
       "<div>\n",
       "<style scoped>\n",
       "    .dataframe tbody tr th:only-of-type {\n",
       "        vertical-align: middle;\n",
       "    }\n",
       "\n",
       "    .dataframe tbody tr th {\n",
       "        vertical-align: top;\n",
       "    }\n",
       "\n",
       "    .dataframe thead th {\n",
       "        text-align: right;\n",
       "    }\n",
       "</style>\n",
       "<table border=\"1\" class=\"dataframe\">\n",
       "  <thead>\n",
       "    <tr style=\"text-align: right;\">\n",
       "      <th></th>\n",
       "      <th>user_id</th>\n",
       "      <th>actual</th>\n",
       "    </tr>\n",
       "  </thead>\n",
       "  <tbody>\n",
       "    <tr>\n",
       "      <th>0</th>\n",
       "      <td>1</td>\n",
       "      <td>[821867, 834484, 856942, 865456, 889248, 90795...</td>\n",
       "    </tr>\n",
       "    <tr>\n",
       "      <th>1</th>\n",
       "      <td>3</td>\n",
       "      <td>[835476, 851057, 872021, 878302, 879948, 90963...</td>\n",
       "    </tr>\n",
       "  </tbody>\n",
       "</table>\n",
       "</div>"
      ],
      "text/plain": [
       "   user_id                                             actual\n",
       "0        1  [821867, 834484, 856942, 865456, 889248, 90795...\n",
       "1        3  [835476, 851057, 872021, 878302, 879948, 90963..."
      ]
     },
     "execution_count": 18,
     "metadata": {},
     "output_type": "execute_result"
    }
   ],
   "source": [
    "# Подготовка тестовой таблицы.\n",
    "result_test = utils.prepare_result(data_test)\n",
    "\n",
    "# Проверка.\n",
    "result_test.head(2)"
   ]
  },
  {
   "cell_type": "markdown",
   "id": "103b7e71",
   "metadata": {},
   "source": [
    "### Построение модели первого уровня"
   ]
  },
  {
   "cell_type": "markdown",
   "id": "892a6cec",
   "metadata": {},
   "source": [
    "#### Обучение модели"
   ]
  },
  {
   "cell_type": "code",
   "execution_count": 19,
   "id": "0442575b",
   "metadata": {},
   "outputs": [],
   "source": [
    "# Формирование таблицы метрик.\n",
    "df_metrics = pd.DataFrame()"
   ]
  },
  {
   "cell_type": "code",
   "execution_count": 20,
   "id": "9e3a6ffb",
   "metadata": {},
   "outputs": [],
   "source": [
    "# Инициализация модели первого уровня.\n",
    "model_1 = recommenders.MainRecommender(random_state=random_state_global)"
   ]
  },
  {
   "cell_type": "code",
   "execution_count": 21,
   "id": "b1c825bb",
   "metadata": {
    "scrolled": false
   },
   "outputs": [
    {
     "name": "stderr",
     "output_type": "stream",
     "text": [
      "WARNING:root:OpenBLAS detected. Its highly recommend to set the environment variable 'export OPENBLAS_NUM_THREADS=1' to disable its internal multithreading\n"
     ]
    },
    {
     "data": {
      "application/vnd.jupyter.widget-view+json": {
       "model_id": "e6e1655a56134f4490da6f3d6405c161",
       "version_major": 2,
       "version_minor": 0
      },
      "text/plain": [
       "  0%|          | 0/15 [00:00<?, ?it/s]"
      ]
     },
     "metadata": {},
     "output_type": "display_data"
    },
    {
     "data": {
      "application/vnd.jupyter.widget-view+json": {
       "model_id": "819917f18aa24aed848781738bead040",
       "version_major": 2,
       "version_minor": 0
      },
      "text/plain": [
       "  0%|          | 0/5001 [00:00<?, ?it/s]"
      ]
     },
     "metadata": {},
     "output_type": "display_data"
    },
    {
     "name": "stdout",
     "output_type": "stream",
     "text": [
      "Wall time: 3.3 s\n"
     ]
    }
   ],
   "source": [
    "%%time\n",
    "\n",
    "# Обучения модели первого уровня.\n",
    "model_1.fit(data_train)"
   ]
  },
  {
   "cell_type": "markdown",
   "id": "84203fee",
   "metadata": {},
   "source": [
    "#### Прогноз на обучающей выборке"
   ]
  },
  {
   "cell_type": "code",
   "execution_count": 22,
   "id": "18de4f0f",
   "metadata": {},
   "outputs": [
    {
     "name": "stdout",
     "output_type": "stream",
     "text": [
      "Wall time: 6.46 s\n"
     ]
    },
    {
     "data": {
      "text/html": [
       "<div>\n",
       "<style scoped>\n",
       "    .dataframe tbody tr th:only-of-type {\n",
       "        vertical-align: middle;\n",
       "    }\n",
       "\n",
       "    .dataframe tbody tr th {\n",
       "        vertical-align: top;\n",
       "    }\n",
       "\n",
       "    .dataframe thead th {\n",
       "        text-align: right;\n",
       "    }\n",
       "</style>\n",
       "<table border=\"1\" class=\"dataframe\">\n",
       "  <thead>\n",
       "    <tr style=\"text-align: right;\">\n",
       "      <th></th>\n",
       "      <th>user_id</th>\n",
       "      <th>actual</th>\n",
       "      <th>model_1</th>\n",
       "    </tr>\n",
       "  </thead>\n",
       "  <tbody>\n",
       "    <tr>\n",
       "      <th>0</th>\n",
       "      <td>1</td>\n",
       "      <td>[999999, 840361, 845307, 852014, 856942, 91267...</td>\n",
       "      <td>[981760, 1005186, 911878, 962568, 826249, 8623...</td>\n",
       "    </tr>\n",
       "    <tr>\n",
       "      <th>1</th>\n",
       "      <td>2</td>\n",
       "      <td>[854852, 930118, 1077555, 1098066, 999999, 556...</td>\n",
       "      <td>[981760, 1005186, 844165, 911878, 826249, 8623...</td>\n",
       "    </tr>\n",
       "  </tbody>\n",
       "</table>\n",
       "</div>"
      ],
      "text/plain": [
       "   user_id                                             actual  \\\n",
       "0        1  [999999, 840361, 845307, 852014, 856942, 91267...   \n",
       "1        2  [854852, 930118, 1077555, 1098066, 999999, 556...   \n",
       "\n",
       "                                             model_1  \n",
       "0  [981760, 1005186, 911878, 962568, 826249, 8623...  \n",
       "1  [981760, 1005186, 844165, 911878, 826249, 8623...  "
      ]
     },
     "execution_count": 22,
     "metadata": {},
     "output_type": "execute_result"
    }
   ],
   "source": [
    "%%time\n",
    "\n",
    "# Прогнозирование при помощи модели AlternatingLeastSquares на учебной выборке.\n",
    "result_train['model_1'] = result_train['user_id'].apply(lambda user_id: model_1.predict_als(user_id, N=50))\n",
    "\n",
    "# Проверка.\n",
    "result_train.head(2)"
   ]
  },
  {
   "cell_type": "code",
   "execution_count": 23,
   "id": "abfe818f",
   "metadata": {},
   "outputs": [],
   "source": [
    "# Вычисление метрик на тестовой выборке.\n",
    "df_metrics.loc['model_1', 'precision_train'] = metrics.precision_at_k(result_train['actual'], result_train['model_1'], K=5)"
   ]
  },
  {
   "cell_type": "markdown",
   "id": "57b334a2",
   "metadata": {},
   "source": [
    "#### Прогноз на валидационной выборке"
   ]
  },
  {
   "cell_type": "code",
   "execution_count": 24,
   "id": "4b8feea7",
   "metadata": {},
   "outputs": [
    {
     "name": "stdout",
     "output_type": "stream",
     "text": [
      "Wall time: 6.01 s\n"
     ]
    },
    {
     "data": {
      "text/html": [
       "<div>\n",
       "<style scoped>\n",
       "    .dataframe tbody tr th:only-of-type {\n",
       "        vertical-align: middle;\n",
       "    }\n",
       "\n",
       "    .dataframe tbody tr th {\n",
       "        vertical-align: top;\n",
       "    }\n",
       "\n",
       "    .dataframe thead th {\n",
       "        text-align: right;\n",
       "    }\n",
       "</style>\n",
       "<table border=\"1\" class=\"dataframe\">\n",
       "  <thead>\n",
       "    <tr style=\"text-align: right;\">\n",
       "      <th></th>\n",
       "      <th>user_id</th>\n",
       "      <th>actual</th>\n",
       "      <th>model_1</th>\n",
       "    </tr>\n",
       "  </thead>\n",
       "  <tbody>\n",
       "    <tr>\n",
       "      <th>0</th>\n",
       "      <td>1</td>\n",
       "      <td>[853529, 865456, 867607, 872137, 875240, 87737...</td>\n",
       "      <td>[981760, 1005186, 911878, 962568, 826249, 8623...</td>\n",
       "    </tr>\n",
       "    <tr>\n",
       "      <th>1</th>\n",
       "      <td>2</td>\n",
       "      <td>[838136, 839656, 861272, 866211, 870791, 87391...</td>\n",
       "      <td>[981760, 1005186, 844165, 911878, 826249, 8623...</td>\n",
       "    </tr>\n",
       "  </tbody>\n",
       "</table>\n",
       "</div>"
      ],
      "text/plain": [
       "   user_id                                             actual  \\\n",
       "0        1  [853529, 865456, 867607, 872137, 875240, 87737...   \n",
       "1        2  [838136, 839656, 861272, 866211, 870791, 87391...   \n",
       "\n",
       "                                             model_1  \n",
       "0  [981760, 1005186, 911878, 962568, 826249, 8623...  \n",
       "1  [981760, 1005186, 844165, 911878, 826249, 8623...  "
      ]
     },
     "execution_count": 24,
     "metadata": {},
     "output_type": "execute_result"
    }
   ],
   "source": [
    "%%time\n",
    "\n",
    "# Прогнозирование при помощи модели AlternatingLeastSquares на валидационной выборке.\n",
    "result_valid['model_1'] = result_valid['user_id'].apply(lambda user_id: model_1.predict_als(user_id, N=50))\n",
    "\n",
    "# Проверка.\n",
    "result_valid.head(2)"
   ]
  },
  {
   "cell_type": "code",
   "execution_count": 25,
   "id": "e2d2b623",
   "metadata": {},
   "outputs": [],
   "source": [
    "# Вычисление метрик на валидационной выборке.\n",
    "df_metrics.loc['model_1', 'precision_valid'] = metrics.precision_at_k(result_valid['actual'], result_train['model_1'], K=5)"
   ]
  },
  {
   "cell_type": "markdown",
   "id": "e4687d14",
   "metadata": {},
   "source": [
    "#### Прогноз на тестовой выборке"
   ]
  },
  {
   "cell_type": "code",
   "execution_count": 26,
   "id": "407437df",
   "metadata": {},
   "outputs": [
    {
     "name": "stdout",
     "output_type": "stream",
     "text": [
      "Wall time: 5.75 s\n"
     ]
    },
    {
     "data": {
      "text/html": [
       "<div>\n",
       "<style scoped>\n",
       "    .dataframe tbody tr th:only-of-type {\n",
       "        vertical-align: middle;\n",
       "    }\n",
       "\n",
       "    .dataframe tbody tr th {\n",
       "        vertical-align: top;\n",
       "    }\n",
       "\n",
       "    .dataframe thead th {\n",
       "        text-align: right;\n",
       "    }\n",
       "</style>\n",
       "<table border=\"1\" class=\"dataframe\">\n",
       "  <thead>\n",
       "    <tr style=\"text-align: right;\">\n",
       "      <th></th>\n",
       "      <th>user_id</th>\n",
       "      <th>actual</th>\n",
       "      <th>model_1</th>\n",
       "    </tr>\n",
       "  </thead>\n",
       "  <tbody>\n",
       "    <tr>\n",
       "      <th>0</th>\n",
       "      <td>1</td>\n",
       "      <td>[821867, 834484, 856942, 865456, 889248, 90795...</td>\n",
       "      <td>[981760, 1005186, 911878, 962568, 826249, 8623...</td>\n",
       "    </tr>\n",
       "    <tr>\n",
       "      <th>1</th>\n",
       "      <td>3</td>\n",
       "      <td>[835476, 851057, 872021, 878302, 879948, 90963...</td>\n",
       "      <td>[981760, 6533889, 1053690, 929668, 844165, 965...</td>\n",
       "    </tr>\n",
       "  </tbody>\n",
       "</table>\n",
       "</div>"
      ],
      "text/plain": [
       "   user_id                                             actual  \\\n",
       "0        1  [821867, 834484, 856942, 865456, 889248, 90795...   \n",
       "1        3  [835476, 851057, 872021, 878302, 879948, 90963...   \n",
       "\n",
       "                                             model_1  \n",
       "0  [981760, 1005186, 911878, 962568, 826249, 8623...  \n",
       "1  [981760, 6533889, 1053690, 929668, 844165, 965...  "
      ]
     },
     "execution_count": 26,
     "metadata": {},
     "output_type": "execute_result"
    }
   ],
   "source": [
    "%%time\n",
    "\n",
    "# Прогнозирование при помощи модели AlternatingLeastSquares на тестовой выборке.\n",
    "result_test['model_1'] = result_test['user_id'].apply(lambda user_id: model_1.predict_als(user_id, N=50))\n",
    "\n",
    "# Проверка.\n",
    "result_test.head(2)"
   ]
  },
  {
   "cell_type": "code",
   "execution_count": 27,
   "id": "cb345224",
   "metadata": {},
   "outputs": [],
   "source": [
    "# Вычисление метрик на валидационной выборке.\n",
    "df_metrics.loc['model_1', 'precision_test'] = metrics.precision_at_k(result_test['actual'], result_test['model_1'], K=5)"
   ]
  },
  {
   "cell_type": "markdown",
   "id": "d96fe160",
   "metadata": {},
   "source": [
    "#### Анализ метрик"
   ]
  },
  {
   "cell_type": "code",
   "execution_count": 28,
   "id": "529343c9",
   "metadata": {},
   "outputs": [
    {
     "data": {
      "text/html": [
       "<div>\n",
       "<style scoped>\n",
       "    .dataframe tbody tr th:only-of-type {\n",
       "        vertical-align: middle;\n",
       "    }\n",
       "\n",
       "    .dataframe tbody tr th {\n",
       "        vertical-align: top;\n",
       "    }\n",
       "\n",
       "    .dataframe thead th {\n",
       "        text-align: right;\n",
       "    }\n",
       "</style>\n",
       "<table border=\"1\" class=\"dataframe\">\n",
       "  <thead>\n",
       "    <tr style=\"text-align: right;\">\n",
       "      <th></th>\n",
       "      <th>precision_train</th>\n",
       "      <th>precision_valid</th>\n",
       "      <th>precision_test</th>\n",
       "    </tr>\n",
       "  </thead>\n",
       "  <tbody>\n",
       "    <tr>\n",
       "      <th>model_1</th>\n",
       "      <td>0.390793</td>\n",
       "      <td>0.070777</td>\n",
       "      <td>0.083121</td>\n",
       "    </tr>\n",
       "  </tbody>\n",
       "</table>\n",
       "</div>"
      ],
      "text/plain": [
       "         precision_train  precision_valid  precision_test\n",
       "model_1         0.390793         0.070777        0.083121"
      ]
     },
     "execution_count": 28,
     "metadata": {},
     "output_type": "execute_result"
    }
   ],
   "source": [
    "# Вывод метрик.\n",
    "df_metrics"
   ]
  },
  {
   "cell_type": "markdown",
   "id": "10e71f66",
   "metadata": {},
   "source": [
    "## Модель второго уровня"
   ]
  },
  {
   "cell_type": "markdown",
   "id": "640014b8",
   "metadata": {},
   "source": [
    "### Подготовка данных для модели второго уровня - обучающая выборка"
   ]
  },
  {
   "cell_type": "code",
   "execution_count": 29,
   "id": "1128eff3",
   "metadata": {
    "scrolled": true
   },
   "outputs": [
    {
     "data": {
      "text/html": [
       "<div>\n",
       "<style scoped>\n",
       "    .dataframe tbody tr th:only-of-type {\n",
       "        vertical-align: middle;\n",
       "    }\n",
       "\n",
       "    .dataframe tbody tr th {\n",
       "        vertical-align: top;\n",
       "    }\n",
       "\n",
       "    .dataframe thead th {\n",
       "        text-align: right;\n",
       "    }\n",
       "</style>\n",
       "<table border=\"1\" class=\"dataframe\">\n",
       "  <thead>\n",
       "    <tr style=\"text-align: right;\">\n",
       "      <th></th>\n",
       "      <th>user_id</th>\n",
       "      <th>actual</th>\n",
       "      <th>model_1</th>\n",
       "    </tr>\n",
       "  </thead>\n",
       "  <tbody>\n",
       "    <tr>\n",
       "      <th>0</th>\n",
       "      <td>1</td>\n",
       "      <td>[853529, 865456, 867607, 872137, 875240, 87737...</td>\n",
       "      <td>[981760, 1005186, 911878, 962568, 826249, 8623...</td>\n",
       "    </tr>\n",
       "    <tr>\n",
       "      <th>1</th>\n",
       "      <td>2</td>\n",
       "      <td>[838136, 839656, 861272, 866211, 870791, 87391...</td>\n",
       "      <td>[981760, 1005186, 844165, 911878, 826249, 8623...</td>\n",
       "    </tr>\n",
       "  </tbody>\n",
       "</table>\n",
       "</div>"
      ],
      "text/plain": [
       "   user_id                                             actual  \\\n",
       "0        1  [853529, 865456, 867607, 872137, 875240, 87737...   \n",
       "1        2  [838136, 839656, 861272, 866211, 870791, 87391...   \n",
       "\n",
       "                                             model_1  \n",
       "0  [981760, 1005186, 911878, 962568, 826249, 8623...  \n",
       "1  [981760, 1005186, 844165, 911878, 826249, 8623...  "
      ]
     },
     "execution_count": 29,
     "metadata": {},
     "output_type": "execute_result"
    }
   ],
   "source": [
    "# Вывод результатов прогноза моделей первого уровня на валидационной выборке.\n",
    "result_valid.head(2)"
   ]
  },
  {
   "cell_type": "code",
   "execution_count": 30,
   "id": "e3e85af7",
   "metadata": {},
   "outputs": [
    {
     "data": {
      "text/html": [
       "<div>\n",
       "<style scoped>\n",
       "    .dataframe tbody tr th:only-of-type {\n",
       "        vertical-align: middle;\n",
       "    }\n",
       "\n",
       "    .dataframe tbody tr th {\n",
       "        vertical-align: top;\n",
       "    }\n",
       "\n",
       "    .dataframe thead th {\n",
       "        text-align: right;\n",
       "    }\n",
       "</style>\n",
       "<table border=\"1\" class=\"dataframe\">\n",
       "  <thead>\n",
       "    <tr style=\"text-align: right;\">\n",
       "      <th></th>\n",
       "      <th>user_id</th>\n",
       "      <th>item_id</th>\n",
       "      <th>actual</th>\n",
       "    </tr>\n",
       "  </thead>\n",
       "  <tbody>\n",
       "    <tr>\n",
       "      <th>0</th>\n",
       "      <td>1</td>\n",
       "      <td>981760</td>\n",
       "      <td>0</td>\n",
       "    </tr>\n",
       "    <tr>\n",
       "      <th>1</th>\n",
       "      <td>1</td>\n",
       "      <td>1005186</td>\n",
       "      <td>1</td>\n",
       "    </tr>\n",
       "    <tr>\n",
       "      <th>2</th>\n",
       "      <td>1</td>\n",
       "      <td>844165</td>\n",
       "      <td>0</td>\n",
       "    </tr>\n",
       "    <tr>\n",
       "      <th>3</th>\n",
       "      <td>1</td>\n",
       "      <td>911878</td>\n",
       "      <td>0</td>\n",
       "    </tr>\n",
       "    <tr>\n",
       "      <th>4</th>\n",
       "      <td>1</td>\n",
       "      <td>826249</td>\n",
       "      <td>0</td>\n",
       "    </tr>\n",
       "  </tbody>\n",
       "</table>\n",
       "</div>"
      ],
      "text/plain": [
       "   user_id  item_id  actual\n",
       "0        1   981760       0\n",
       "1        1  1005186       1\n",
       "2        1   844165       0\n",
       "3        1   911878       0\n",
       "4        1   826249       0"
      ]
     },
     "execution_count": 30,
     "metadata": {},
     "output_type": "execute_result"
    }
   ],
   "source": [
    "# Подготовка таблицы для проверки модели второго уровня.\n",
    "X_train = utils.prepare_result_lvl_2(data=result_valid, feature_predicted='model_1')\n",
    "\n",
    "# Проверка.\n",
    "X_train.head()"
   ]
  },
  {
   "cell_type": "markdown",
   "id": "2865ae03",
   "metadata": {},
   "source": [
    "#### Добавление признаков пользователей и товаров"
   ]
  },
  {
   "cell_type": "code",
   "execution_count": 31,
   "id": "b26f493e",
   "metadata": {},
   "outputs": [],
   "source": [
    "def add_features(X):\n",
    "    # Добавление признаков пользователей \"age_desc\" и \"income_desc\".\n",
    "    X = X.merge(user_features[['user_id', 'age_desc', 'income_desc']], on='user_id')\n",
    "    \n",
    "    # Добавление признаков товаров \"manufacturer\" и \"department\".\n",
    "    X = X.merge(item_features[['item_id', 'manufacturer', 'department']], on='item_id')\n",
    "    \n",
    "    # Формирование таблицы признаков пользователь-товар.\n",
    "    user_item_features = data_train.copy()\n",
    "\n",
    "    user_item_features['user_item_id'] = (\n",
    "        user_item_features['user_id']\n",
    "        .astype(str)\n",
    "        .str\n",
    "        .cat(user_item_features['item_id'].astype(str), sep='_')\n",
    "    )\n",
    "\n",
    "    user_item_features = (\n",
    "        user_item_features\n",
    "        .groupby(by='user_item_id')[['quantity', 'sales_value']]\n",
    "        .sum()\n",
    "        .reset_index()\n",
    "    )\n",
    "    \n",
    "    # Формирование идентификатора пользователь-товар.\n",
    "    X['user_item_id'] = (\n",
    "        X['user_id']\n",
    "        .astype(str)\n",
    "        .str\n",
    "        .cat(X['item_id'].astype(str), sep='_')\n",
    "    )\n",
    "    \n",
    "    # Добавление признаков пользователь-товар \"quantity\" и \"sales_value\".\n",
    "    X = X.merge(user_item_features, on='user_item_id')\n",
    "    X = X.drop(columns=['user_item_id'])\n",
    "    \n",
    "    return X"
   ]
  },
  {
   "cell_type": "code",
   "execution_count": 32,
   "id": "bcbb1670",
   "metadata": {},
   "outputs": [],
   "source": [
    "# Добавление признаков пользователей и товаров.\n",
    "X_train = add_features(X_train)"
   ]
  },
  {
   "cell_type": "code",
   "execution_count": 33,
   "id": "a2fb54ed",
   "metadata": {
    "scrolled": true
   },
   "outputs": [
    {
     "name": "stdout",
     "output_type": "stream",
     "text": [
      "<class 'pandas.core.frame.DataFrame'>\n",
      "Int64Index: 14449 entries, 0 to 14448\n",
      "Data columns (total 9 columns):\n",
      " #   Column        Non-Null Count  Dtype  \n",
      "---  ------        --------------  -----  \n",
      " 0   user_id       14449 non-null  int64  \n",
      " 1   item_id       14449 non-null  int64  \n",
      " 2   actual        14449 non-null  int32  \n",
      " 3   age_desc      14449 non-null  object \n",
      " 4   income_desc   14449 non-null  object \n",
      " 5   manufacturer  14449 non-null  int64  \n",
      " 6   department    14449 non-null  object \n",
      " 7   quantity      14449 non-null  int64  \n",
      " 8   sales_value   14449 non-null  float64\n",
      "dtypes: float64(1), int32(1), int64(4), object(3)\n",
      "memory usage: 1.0+ MB\n"
     ]
    }
   ],
   "source": [
    "# Проверка структуры сформированной таблицы.\n",
    "X_train.info()"
   ]
  },
  {
   "cell_type": "markdown",
   "id": "c02d48c6",
   "metadata": {},
   "source": [
    "### Подготовка данных для модели второго уровня - тестовая выборка"
   ]
  },
  {
   "cell_type": "code",
   "execution_count": 34,
   "id": "3630f76f",
   "metadata": {},
   "outputs": [
    {
     "data": {
      "text/html": [
       "<div>\n",
       "<style scoped>\n",
       "    .dataframe tbody tr th:only-of-type {\n",
       "        vertical-align: middle;\n",
       "    }\n",
       "\n",
       "    .dataframe tbody tr th {\n",
       "        vertical-align: top;\n",
       "    }\n",
       "\n",
       "    .dataframe thead th {\n",
       "        text-align: right;\n",
       "    }\n",
       "</style>\n",
       "<table border=\"1\" class=\"dataframe\">\n",
       "  <thead>\n",
       "    <tr style=\"text-align: right;\">\n",
       "      <th></th>\n",
       "      <th>user_id</th>\n",
       "      <th>actual</th>\n",
       "      <th>model_1</th>\n",
       "    </tr>\n",
       "  </thead>\n",
       "  <tbody>\n",
       "    <tr>\n",
       "      <th>0</th>\n",
       "      <td>1</td>\n",
       "      <td>[821867, 834484, 856942, 865456, 889248, 90795...</td>\n",
       "      <td>[981760, 1005186, 911878, 962568, 826249, 8623...</td>\n",
       "    </tr>\n",
       "    <tr>\n",
       "      <th>1</th>\n",
       "      <td>3</td>\n",
       "      <td>[835476, 851057, 872021, 878302, 879948, 90963...</td>\n",
       "      <td>[981760, 6533889, 1053690, 929668, 844165, 965...</td>\n",
       "    </tr>\n",
       "  </tbody>\n",
       "</table>\n",
       "</div>"
      ],
      "text/plain": [
       "   user_id                                             actual  \\\n",
       "0        1  [821867, 834484, 856942, 865456, 889248, 90795...   \n",
       "1        3  [835476, 851057, 872021, 878302, 879948, 90963...   \n",
       "\n",
       "                                             model_1  \n",
       "0  [981760, 1005186, 911878, 962568, 826249, 8623...  \n",
       "1  [981760, 6533889, 1053690, 929668, 844165, 965...  "
      ]
     },
     "execution_count": 34,
     "metadata": {},
     "output_type": "execute_result"
    }
   ],
   "source": [
    "# Вывод результатов прогноза моделей первого уровня на тестовой выборке.\n",
    "result_test.head(2)"
   ]
  },
  {
   "cell_type": "code",
   "execution_count": 35,
   "id": "f0e59c5b",
   "metadata": {
    "scrolled": true
   },
   "outputs": [
    {
     "data": {
      "text/html": [
       "<div>\n",
       "<style scoped>\n",
       "    .dataframe tbody tr th:only-of-type {\n",
       "        vertical-align: middle;\n",
       "    }\n",
       "\n",
       "    .dataframe tbody tr th {\n",
       "        vertical-align: top;\n",
       "    }\n",
       "\n",
       "    .dataframe thead th {\n",
       "        text-align: right;\n",
       "    }\n",
       "</style>\n",
       "<table border=\"1\" class=\"dataframe\">\n",
       "  <thead>\n",
       "    <tr style=\"text-align: right;\">\n",
       "      <th></th>\n",
       "      <th>user_id</th>\n",
       "      <th>item_id</th>\n",
       "      <th>actual</th>\n",
       "    </tr>\n",
       "  </thead>\n",
       "  <tbody>\n",
       "    <tr>\n",
       "      <th>0</th>\n",
       "      <td>1</td>\n",
       "      <td>981760</td>\n",
       "      <td>0</td>\n",
       "    </tr>\n",
       "    <tr>\n",
       "      <th>1</th>\n",
       "      <td>1</td>\n",
       "      <td>6533889</td>\n",
       "      <td>0</td>\n",
       "    </tr>\n",
       "    <tr>\n",
       "      <th>2</th>\n",
       "      <td>1</td>\n",
       "      <td>1053690</td>\n",
       "      <td>0</td>\n",
       "    </tr>\n",
       "    <tr>\n",
       "      <th>3</th>\n",
       "      <td>1</td>\n",
       "      <td>929668</td>\n",
       "      <td>0</td>\n",
       "    </tr>\n",
       "    <tr>\n",
       "      <th>4</th>\n",
       "      <td>1</td>\n",
       "      <td>844165</td>\n",
       "      <td>0</td>\n",
       "    </tr>\n",
       "  </tbody>\n",
       "</table>\n",
       "</div>"
      ],
      "text/plain": [
       "   user_id  item_id  actual\n",
       "0        1   981760       0\n",
       "1        1  6533889       0\n",
       "2        1  1053690       0\n",
       "3        1   929668       0\n",
       "4        1   844165       0"
      ]
     },
     "execution_count": 35,
     "metadata": {},
     "output_type": "execute_result"
    }
   ],
   "source": [
    "# Подготовка таблицы для проверки модели второго уровня.\n",
    "X_test = utils.prepare_result_lvl_2(data=result_test, feature_predicted='model_1')\n",
    "\n",
    "# Проверка.\n",
    "X_test.head()"
   ]
  },
  {
   "cell_type": "markdown",
   "id": "2fd6b82b",
   "metadata": {},
   "source": [
    "#### Добавление признаков пользователей и товаров"
   ]
  },
  {
   "cell_type": "code",
   "execution_count": 36,
   "id": "7c1e2b9d",
   "metadata": {},
   "outputs": [],
   "source": [
    "# Добавление признаков пользователей и товаров.\n",
    "X_test = add_features(X_test)"
   ]
  },
  {
   "cell_type": "code",
   "execution_count": 37,
   "id": "0b6ec42b",
   "metadata": {},
   "outputs": [
    {
     "name": "stdout",
     "output_type": "stream",
     "text": [
      "<class 'pandas.core.frame.DataFrame'>\n",
      "Int64Index: 13047 entries, 0 to 13046\n",
      "Data columns (total 9 columns):\n",
      " #   Column        Non-Null Count  Dtype  \n",
      "---  ------        --------------  -----  \n",
      " 0   user_id       13047 non-null  int64  \n",
      " 1   item_id       13047 non-null  int64  \n",
      " 2   actual        13047 non-null  int32  \n",
      " 3   age_desc      13047 non-null  object \n",
      " 4   income_desc   13047 non-null  object \n",
      " 5   manufacturer  13047 non-null  int64  \n",
      " 6   department    13047 non-null  object \n",
      " 7   quantity      13047 non-null  int64  \n",
      " 8   sales_value   13047 non-null  float64\n",
      "dtypes: float64(1), int32(1), int64(4), object(3)\n",
      "memory usage: 968.3+ KB\n"
     ]
    }
   ],
   "source": [
    "# Проверка структуры сформированной таблицы.\n",
    "X_test.info()"
   ]
  },
  {
   "cell_type": "markdown",
   "id": "bd329c90",
   "metadata": {},
   "source": [
    "### Построение модели второго уровня"
   ]
  },
  {
   "cell_type": "code",
   "execution_count": 38,
   "id": "e438cd47",
   "metadata": {},
   "outputs": [
    {
     "name": "stdout",
     "output_type": "stream",
     "text": [
      "Wall time: 41.1 s\n"
     ]
    },
    {
     "data": {
      "text/plain": [
       "<catboost.core.CatBoostClassifier at 0x1b1010fb3d0>"
      ]
     },
     "execution_count": 38,
     "metadata": {},
     "output_type": "execute_result"
    }
   ],
   "source": [
    "%%time\n",
    "\n",
    "# Список категориальных признаков.\n",
    "cat_feats = ['user_id', 'item_id', 'age_desc', 'income_desc', 'department']\n",
    "\n",
    "# Инициализация модели второго уровня.\n",
    "model_2 = CatBoostClassifier(silent=True, task_type='GPU', cat_features=cat_feats, random_state=random_state_global)\n",
    "\n",
    "# Обучение модели второго уровня.\n",
    "model_2.fit(X_train.drop(columns=['actual']), X_train['actual'])"
   ]
  },
  {
   "cell_type": "markdown",
   "id": "452219b7",
   "metadata": {},
   "source": [
    "#### Прогноз на обучающей выборке"
   ]
  },
  {
   "cell_type": "code",
   "execution_count": 39,
   "id": "df91e4f2",
   "metadata": {},
   "outputs": [],
   "source": [
    "def model_2_predict(result, X):\n",
    "    # Прогноз покупки пользователем товара.\n",
    "    y_pred = X[['user_id', 'item_id']].copy()\n",
    "    y_pred['predict'] = model_2.predict(X.drop(columns=['actual']))\n",
    "    \n",
    "    # Формирование списка потенциально купленных товаров для каждого пользователя.\n",
    "    result = result_test.merge(y_pred[y_pred['predict'] == 1]\n",
    "                               .groupby(by='user_id')['item_id']\n",
    "                               .agg(list)\n",
    "                               .reset_index()\n",
    "                               .rename(columns={'item_id': 'model_2'}),\n",
    "                               on='user_id',\n",
    "                               how='left')\n",
    "    \n",
    "    # Если модель второго уровня не дала результатов, использовать модель первого уровня.\n",
    "    result['model_2'] = result['model_2'].fillna(result['model_1'])\n",
    "    \n",
    "    # Испольовать для прогноза только первые пять товаров.\n",
    "    result['model_2'] = result['model_2'].apply(lambda x: x[:5])\n",
    "    \n",
    "    return result"
   ]
  },
  {
   "cell_type": "code",
   "execution_count": 40,
   "id": "933bcdb0",
   "metadata": {},
   "outputs": [
    {
     "data": {
      "text/html": [
       "<div>\n",
       "<style scoped>\n",
       "    .dataframe tbody tr th:only-of-type {\n",
       "        vertical-align: middle;\n",
       "    }\n",
       "\n",
       "    .dataframe tbody tr th {\n",
       "        vertical-align: top;\n",
       "    }\n",
       "\n",
       "    .dataframe thead th {\n",
       "        text-align: right;\n",
       "    }\n",
       "</style>\n",
       "<table border=\"1\" class=\"dataframe\">\n",
       "  <thead>\n",
       "    <tr style=\"text-align: right;\">\n",
       "      <th></th>\n",
       "      <th>user_id</th>\n",
       "      <th>actual</th>\n",
       "      <th>model_1</th>\n",
       "      <th>model_2</th>\n",
       "    </tr>\n",
       "  </thead>\n",
       "  <tbody>\n",
       "    <tr>\n",
       "      <th>0</th>\n",
       "      <td>1</td>\n",
       "      <td>[821867, 834484, 856942, 865456, 889248, 90795...</td>\n",
       "      <td>[981760, 1005186, 911878, 962568, 826249, 8623...</td>\n",
       "      <td>[840361, 995242, 1082185]</td>\n",
       "    </tr>\n",
       "    <tr>\n",
       "      <th>1</th>\n",
       "      <td>3</td>\n",
       "      <td>[835476, 851057, 872021, 878302, 879948, 90963...</td>\n",
       "      <td>[981760, 6533889, 1053690, 929668, 844165, 965...</td>\n",
       "      <td>[981760, 6533889, 1053690, 929668, 844165]</td>\n",
       "    </tr>\n",
       "    <tr>\n",
       "      <th>2</th>\n",
       "      <td>6</td>\n",
       "      <td>[920308, 926804, 946489, 1006718, 1017061, 107...</td>\n",
       "      <td>[981760, 6533889, 1005186, 911878, 962568, 961...</td>\n",
       "      <td>[981760, 6533889, 1005186, 911878, 962568]</td>\n",
       "    </tr>\n",
       "    <tr>\n",
       "      <th>3</th>\n",
       "      <td>7</td>\n",
       "      <td>[840386, 889774, 898068, 909714, 929067, 95347...</td>\n",
       "      <td>[981760, 1005186, 844165, 911878, 826249, 8623...</td>\n",
       "      <td>[1082185]</td>\n",
       "    </tr>\n",
       "    <tr>\n",
       "      <th>4</th>\n",
       "      <td>8</td>\n",
       "      <td>[835098, 872137, 910439, 924610, 992977, 10412...</td>\n",
       "      <td>[981760, 6533889, 1005186, 1053690, 929668, 82...</td>\n",
       "      <td>[1082185]</td>\n",
       "    </tr>\n",
       "  </tbody>\n",
       "</table>\n",
       "</div>"
      ],
      "text/plain": [
       "   user_id                                             actual  \\\n",
       "0        1  [821867, 834484, 856942, 865456, 889248, 90795...   \n",
       "1        3  [835476, 851057, 872021, 878302, 879948, 90963...   \n",
       "2        6  [920308, 926804, 946489, 1006718, 1017061, 107...   \n",
       "3        7  [840386, 889774, 898068, 909714, 929067, 95347...   \n",
       "4        8  [835098, 872137, 910439, 924610, 992977, 10412...   \n",
       "\n",
       "                                             model_1  \\\n",
       "0  [981760, 1005186, 911878, 962568, 826249, 8623...   \n",
       "1  [981760, 6533889, 1053690, 929668, 844165, 965...   \n",
       "2  [981760, 6533889, 1005186, 911878, 962568, 961...   \n",
       "3  [981760, 1005186, 844165, 911878, 826249, 8623...   \n",
       "4  [981760, 6533889, 1005186, 1053690, 929668, 82...   \n",
       "\n",
       "                                      model_2  \n",
       "0                   [840361, 995242, 1082185]  \n",
       "1  [981760, 6533889, 1053690, 929668, 844165]  \n",
       "2  [981760, 6533889, 1005186, 911878, 962568]  \n",
       "3                                   [1082185]  \n",
       "4                                   [1082185]  "
      ]
     },
     "execution_count": 40,
     "metadata": {},
     "output_type": "execute_result"
    }
   ],
   "source": [
    "# Формирование результатов прогноза двухуровневой модели.\n",
    "result_valid = model_2_predict(result_valid, X_train)\n",
    "\n",
    "# Проверка.\n",
    "result_valid.head()"
   ]
  },
  {
   "cell_type": "code",
   "execution_count": 41,
   "id": "ccf20ead",
   "metadata": {
    "scrolled": false
   },
   "outputs": [],
   "source": [
    "# Вычисление метрик на валидационной выборке.\n",
    "df_metrics.loc['model_2', 'precision_valid'] = metrics.precision_at_k(result_valid['actual'], result_valid['model_2'], K=5)"
   ]
  },
  {
   "cell_type": "markdown",
   "id": "c96ffeb3",
   "metadata": {},
   "source": [
    "#### Прогноз на тестовой выборке"
   ]
  },
  {
   "cell_type": "code",
   "execution_count": 42,
   "id": "798b859c",
   "metadata": {},
   "outputs": [
    {
     "data": {
      "text/html": [
       "<div>\n",
       "<style scoped>\n",
       "    .dataframe tbody tr th:only-of-type {\n",
       "        vertical-align: middle;\n",
       "    }\n",
       "\n",
       "    .dataframe tbody tr th {\n",
       "        vertical-align: top;\n",
       "    }\n",
       "\n",
       "    .dataframe thead th {\n",
       "        text-align: right;\n",
       "    }\n",
       "</style>\n",
       "<table border=\"1\" class=\"dataframe\">\n",
       "  <thead>\n",
       "    <tr style=\"text-align: right;\">\n",
       "      <th></th>\n",
       "      <th>user_id</th>\n",
       "      <th>actual</th>\n",
       "      <th>model_1</th>\n",
       "      <th>model_2</th>\n",
       "    </tr>\n",
       "  </thead>\n",
       "  <tbody>\n",
       "    <tr>\n",
       "      <th>0</th>\n",
       "      <td>1</td>\n",
       "      <td>[821867, 834484, 856942, 865456, 889248, 90795...</td>\n",
       "      <td>[981760, 1005186, 911878, 962568, 826249, 8623...</td>\n",
       "      <td>[995242, 1082185]</td>\n",
       "    </tr>\n",
       "    <tr>\n",
       "      <th>1</th>\n",
       "      <td>3</td>\n",
       "      <td>[835476, 851057, 872021, 878302, 879948, 90963...</td>\n",
       "      <td>[981760, 6533889, 1053690, 929668, 844165, 965...</td>\n",
       "      <td>[981760, 6533889, 1053690, 929668, 844165]</td>\n",
       "    </tr>\n",
       "    <tr>\n",
       "      <th>2</th>\n",
       "      <td>6</td>\n",
       "      <td>[920308, 926804, 946489, 1006718, 1017061, 107...</td>\n",
       "      <td>[981760, 6533889, 1005186, 911878, 962568, 961...</td>\n",
       "      <td>[981760, 6533889, 1005186, 911878, 962568]</td>\n",
       "    </tr>\n",
       "    <tr>\n",
       "      <th>3</th>\n",
       "      <td>7</td>\n",
       "      <td>[840386, 889774, 898068, 909714, 929067, 95347...</td>\n",
       "      <td>[981760, 1005186, 844165, 911878, 826249, 8623...</td>\n",
       "      <td>[1082185]</td>\n",
       "    </tr>\n",
       "    <tr>\n",
       "      <th>4</th>\n",
       "      <td>8</td>\n",
       "      <td>[835098, 872137, 910439, 924610, 992977, 10412...</td>\n",
       "      <td>[981760, 6533889, 1005186, 1053690, 929668, 82...</td>\n",
       "      <td>[1082185]</td>\n",
       "    </tr>\n",
       "  </tbody>\n",
       "</table>\n",
       "</div>"
      ],
      "text/plain": [
       "   user_id                                             actual  \\\n",
       "0        1  [821867, 834484, 856942, 865456, 889248, 90795...   \n",
       "1        3  [835476, 851057, 872021, 878302, 879948, 90963...   \n",
       "2        6  [920308, 926804, 946489, 1006718, 1017061, 107...   \n",
       "3        7  [840386, 889774, 898068, 909714, 929067, 95347...   \n",
       "4        8  [835098, 872137, 910439, 924610, 992977, 10412...   \n",
       "\n",
       "                                             model_1  \\\n",
       "0  [981760, 1005186, 911878, 962568, 826249, 8623...   \n",
       "1  [981760, 6533889, 1053690, 929668, 844165, 965...   \n",
       "2  [981760, 6533889, 1005186, 911878, 962568, 961...   \n",
       "3  [981760, 1005186, 844165, 911878, 826249, 8623...   \n",
       "4  [981760, 6533889, 1005186, 1053690, 929668, 82...   \n",
       "\n",
       "                                      model_2  \n",
       "0                           [995242, 1082185]  \n",
       "1  [981760, 6533889, 1053690, 929668, 844165]  \n",
       "2  [981760, 6533889, 1005186, 911878, 962568]  \n",
       "3                                   [1082185]  \n",
       "4                                   [1082185]  "
      ]
     },
     "execution_count": 42,
     "metadata": {},
     "output_type": "execute_result"
    }
   ],
   "source": [
    "# Формирование результатов прогноза двухуровневой модели.\n",
    "result_test = model_2_predict(result_test, X_test)\n",
    "\n",
    "# Проверка.\n",
    "result_test.head()"
   ]
  },
  {
   "cell_type": "code",
   "execution_count": 43,
   "id": "b880824a",
   "metadata": {},
   "outputs": [],
   "source": [
    "# Вычисление метрик на тестовой выборке.\n",
    "df_metrics.loc['model_2', 'precision_test'] = metrics.precision_at_k(result_test['actual'], result_test['model_2'], K=5)"
   ]
  },
  {
   "cell_type": "markdown",
   "id": "06adc33a",
   "metadata": {},
   "source": [
    "#### Анализ метрик"
   ]
  },
  {
   "cell_type": "code",
   "execution_count": 44,
   "id": "58827a7a",
   "metadata": {},
   "outputs": [
    {
     "data": {
      "text/html": [
       "<div>\n",
       "<style scoped>\n",
       "    .dataframe tbody tr th:only-of-type {\n",
       "        vertical-align: middle;\n",
       "    }\n",
       "\n",
       "    .dataframe tbody tr th {\n",
       "        vertical-align: top;\n",
       "    }\n",
       "\n",
       "    .dataframe thead th {\n",
       "        text-align: right;\n",
       "    }\n",
       "</style>\n",
       "<table border=\"1\" class=\"dataframe\">\n",
       "  <thead>\n",
       "    <tr style=\"text-align: right;\">\n",
       "      <th></th>\n",
       "      <th>precision_train</th>\n",
       "      <th>precision_valid</th>\n",
       "      <th>precision_test</th>\n",
       "    </tr>\n",
       "  </thead>\n",
       "  <tbody>\n",
       "    <tr>\n",
       "      <th>model_1</th>\n",
       "      <td>0.390793</td>\n",
       "      <td>0.070777</td>\n",
       "      <td>0.083121</td>\n",
       "    </tr>\n",
       "    <tr>\n",
       "      <th>model_2</th>\n",
       "      <td>NaN</td>\n",
       "      <td>0.208342</td>\n",
       "      <td>0.198839</td>\n",
       "    </tr>\n",
       "  </tbody>\n",
       "</table>\n",
       "</div>"
      ],
      "text/plain": [
       "         precision_train  precision_valid  precision_test\n",
       "model_1         0.390793         0.070777        0.083121\n",
       "model_2              NaN         0.208342        0.198839"
      ]
     },
     "execution_count": 44,
     "metadata": {},
     "output_type": "execute_result"
    }
   ],
   "source": [
    "# Вывод метрик.\n",
    "df_metrics"
   ]
  },
  {
   "cell_type": "markdown",
   "id": "77758b50",
   "metadata": {},
   "source": [
    "### Сохранение результатов"
   ]
  },
  {
   "cell_type": "code",
   "execution_count": 45,
   "id": "0403f9d0",
   "metadata": {},
   "outputs": [],
   "source": [
    "# Сохранение результатов.\n",
    "result_test[['user_id', 'model_2']].to_csv(PATH_RESULT, index=False)"
   ]
  },
  {
   "cell_type": "code",
   "execution_count": null,
   "id": "a824e2b7",
   "metadata": {},
   "outputs": [],
   "source": []
  }
 ],
 "metadata": {
  "kernelspec": {
   "display_name": "Python 3 (ipykernel)",
   "language": "python",
   "name": "python3"
  },
  "language_info": {
   "codemirror_mode": {
    "name": "ipython",
    "version": 3
   },
   "file_extension": ".py",
   "mimetype": "text/x-python",
   "name": "python",
   "nbconvert_exporter": "python",
   "pygments_lexer": "ipython3",
   "version": "3.9.4"
  }
 },
 "nbformat": 4,
 "nbformat_minor": 5
}
