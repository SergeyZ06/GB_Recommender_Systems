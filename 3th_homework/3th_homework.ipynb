{
 "cells": [
  {
   "cell_type": "markdown",
   "id": "96f11651",
   "metadata": {},
   "source": [
    "# 3th_homework"
   ]
  },
  {
   "cell_type": "markdown",
   "id": "77121a4e",
   "metadata": {},
   "source": [
    "### Import Section"
   ]
  },
  {
   "cell_type": "code",
   "execution_count": 1,
   "id": "4e2d9176",
   "metadata": {},
   "outputs": [],
   "source": [
    "import os\n",
    "\n",
    "import numpy as np\n",
    "import pandas as pd\n",
    "\n",
    "from scipy.sparse import csr_matrix\n",
    "\n",
    "# import implicit\n",
    "from implicit.als import AlternatingLeastSquares\n",
    "\n",
    "# import seaborn as sns\n",
    "import plotly.graph_objects as go"
   ]
  },
  {
   "cell_type": "markdown",
   "id": "43777fd6",
   "metadata": {},
   "source": [
    "### Global Settings Section"
   ]
  },
  {
   "cell_type": "code",
   "execution_count": 2,
   "id": "12ca44ce",
   "metadata": {},
   "outputs": [],
   "source": [
    "# Отключение многопоточности Numpy, чтобы избежать предупреждения от AlternatingLeastSquares:\n",
    "# \"WARNING:root:OpenBLAS detected.\"\n",
    "# \"Its highly recommend to set the environment variable 'export OPENBLAS_NUM_THREADS=1' to disable its internal multithreading\"\n",
    "os.environ['OPENBLAS_NUM_THREADS'] = '1'\n",
    "\n",
    "# random_state_global = 0"
   ]
  },
  {
   "cell_type": "markdown",
   "id": "81d4ed99",
   "metadata": {},
   "source": [
    "### Path Section"
   ]
  },
  {
   "cell_type": "code",
   "execution_count": 3,
   "id": "8f863143",
   "metadata": {},
   "outputs": [],
   "source": [
    "PATH_DATA_RETAIL_TRAIN = r'../2th lesson/retail_train.csv'"
   ]
  },
  {
   "cell_type": "markdown",
   "id": "1e78741b",
   "metadata": {},
   "source": [
    "## Theoretical Part"
   ]
  },
  {
   "cell_type": "markdown",
   "id": "f042bbca",
   "metadata": {},
   "source": [
    "**1. Вспомним прошлый вебинар, мы рассматривали User-User рекомендации и Item-Item рекомендации. Чем они отличаются и чем они похожи? Если есть функция item_item_rec(interaction_matrix). Можно ли использовать эту функцию для user_user_rec?\n",
    "В чем принципиальные отличия item-item рекомендаций от ALS?**\n",
    "\n",
    "User-User рекомендации строятся на оценке эмбеддинга пользователя:\n",
    "- эмбеддинг пользователя;\n",
    "- поиск наиболее похожих пользователей;\n",
    "- подготовка рекомендаций на основе усреднённой оценки пользователей.\n",
    "\n",
    "Item-Item рекомендации, аналогично, используют эмбеддинг продукта:\n",
    "- эмбеддинг продукта;\n",
    "- поиск наиболее похожих продуктов;\n",
    "- рекомендация новых товаров для пользователя.\n",
    "    \n",
    "Схожесть заключается в эмбеддинге и поиске похожих пользователей или продуктов. Различия - для продуктов достаточно рекомендовать наиболее похожие продукты согласно некой мере схожести, для пользователей нужна некая грруповая оценка новых продуктов.\n",
    "    \n",
    "Поэтому без доработок функцию вряд ли получится применить.\n",
    "    \n",
    "ALS отличается от Item-Item тем, что использует категоризацию пользователей и продуктов. Item-Item использует наиболее похожие продукты, а ALS наиболее близкие категории как для продуктов, так и для пользователей. Затем для пользователей с соответствующей категорией могут быть подобраны наиболее вероятные продукты из этой категории.\n",
    "\n",
    "***\n",
    "\n",
    "**2. Приведите 3 примера весов (те, которых не было на вебинаре: сумма покупок, количество покупок - неинтересно) user-item матрицы для задачи рекомендаций товаров**\n",
    "    \n",
    "1. Частота совершения действий клиентом. Например, количество обращений за услугой в месяц.\n",
    "2. Непрерывность пользования сервисом. Например, число месяцев подряд когда клиент покупал абонемент или подписку.\n",
    "3. Доля использования сервиса. Например, дочитал ли пользователь книгу или досмотрел фильм.\n",
    "\n",
    "***\n",
    "\n",
    "**3. Какие ограничения есть у ALS? (Тип информации, линейность/нелинейность факторов и т д)**\n",
    "    \n",
    "Так как метод ALS построен на факторизации матриц, основным требованием является возможность разложения матрицы. То есть, возможность найти сингулярные вектора матрицы, определитель матрицы и т.д. Работает только с положительными числами.\n",
    "    \n",
    "Достаточное количество и адекватность информации для сегментного представления пользователей и продуктов. При сильном дисбалансе сегментов работа метода будет затруднена."
   ]
  },
  {
   "cell_type": "markdown",
   "id": "e91b50b4",
   "metadata": {},
   "source": [
    "## Practical Part"
   ]
  },
  {
   "cell_type": "code",
   "execution_count": 4,
   "id": "0848e766",
   "metadata": {},
   "outputs": [],
   "source": [
    "df_data = pd.read_csv(PATH_DATA_RETAIL_TRAIN)"
   ]
  },
  {
   "cell_type": "code",
   "execution_count": 5,
   "id": "76c9b84c",
   "metadata": {},
   "outputs": [
    {
     "data": {
      "text/html": [
       "<div>\n",
       "<style scoped>\n",
       "    .dataframe tbody tr th:only-of-type {\n",
       "        vertical-align: middle;\n",
       "    }\n",
       "\n",
       "    .dataframe tbody tr th {\n",
       "        vertical-align: top;\n",
       "    }\n",
       "\n",
       "    .dataframe thead th {\n",
       "        text-align: right;\n",
       "    }\n",
       "</style>\n",
       "<table border=\"1\" class=\"dataframe\">\n",
       "  <thead>\n",
       "    <tr style=\"text-align: right;\">\n",
       "      <th></th>\n",
       "      <th>user_id</th>\n",
       "      <th>basket_id</th>\n",
       "      <th>day</th>\n",
       "      <th>item_id</th>\n",
       "      <th>quantity</th>\n",
       "      <th>sales_value</th>\n",
       "      <th>store_id</th>\n",
       "      <th>retail_disc</th>\n",
       "      <th>trans_time</th>\n",
       "      <th>week_no</th>\n",
       "      <th>coupon_disc</th>\n",
       "      <th>coupon_match_disc</th>\n",
       "    </tr>\n",
       "  </thead>\n",
       "  <tbody>\n",
       "    <tr>\n",
       "      <th>0</th>\n",
       "      <td>2375</td>\n",
       "      <td>26984851472</td>\n",
       "      <td>1</td>\n",
       "      <td>1004906</td>\n",
       "      <td>1</td>\n",
       "      <td>1.39</td>\n",
       "      <td>364</td>\n",
       "      <td>-0.60</td>\n",
       "      <td>1631</td>\n",
       "      <td>1</td>\n",
       "      <td>0.0</td>\n",
       "      <td>0.0</td>\n",
       "    </tr>\n",
       "    <tr>\n",
       "      <th>1</th>\n",
       "      <td>2375</td>\n",
       "      <td>26984851472</td>\n",
       "      <td>1</td>\n",
       "      <td>1033142</td>\n",
       "      <td>1</td>\n",
       "      <td>0.82</td>\n",
       "      <td>364</td>\n",
       "      <td>0.00</td>\n",
       "      <td>1631</td>\n",
       "      <td>1</td>\n",
       "      <td>0.0</td>\n",
       "      <td>0.0</td>\n",
       "    </tr>\n",
       "    <tr>\n",
       "      <th>2</th>\n",
       "      <td>2375</td>\n",
       "      <td>26984851472</td>\n",
       "      <td>1</td>\n",
       "      <td>1036325</td>\n",
       "      <td>1</td>\n",
       "      <td>0.99</td>\n",
       "      <td>364</td>\n",
       "      <td>-0.30</td>\n",
       "      <td>1631</td>\n",
       "      <td>1</td>\n",
       "      <td>0.0</td>\n",
       "      <td>0.0</td>\n",
       "    </tr>\n",
       "    <tr>\n",
       "      <th>3</th>\n",
       "      <td>2375</td>\n",
       "      <td>26984851472</td>\n",
       "      <td>1</td>\n",
       "      <td>1082185</td>\n",
       "      <td>1</td>\n",
       "      <td>1.21</td>\n",
       "      <td>364</td>\n",
       "      <td>0.00</td>\n",
       "      <td>1631</td>\n",
       "      <td>1</td>\n",
       "      <td>0.0</td>\n",
       "      <td>0.0</td>\n",
       "    </tr>\n",
       "    <tr>\n",
       "      <th>4</th>\n",
       "      <td>2375</td>\n",
       "      <td>26984851472</td>\n",
       "      <td>1</td>\n",
       "      <td>8160430</td>\n",
       "      <td>1</td>\n",
       "      <td>1.50</td>\n",
       "      <td>364</td>\n",
       "      <td>-0.39</td>\n",
       "      <td>1631</td>\n",
       "      <td>1</td>\n",
       "      <td>0.0</td>\n",
       "      <td>0.0</td>\n",
       "    </tr>\n",
       "  </tbody>\n",
       "</table>\n",
       "</div>"
      ],
      "text/plain": [
       "   user_id    basket_id  day  item_id  quantity  sales_value  store_id  \\\n",
       "0     2375  26984851472    1  1004906         1         1.39       364   \n",
       "1     2375  26984851472    1  1033142         1         0.82       364   \n",
       "2     2375  26984851472    1  1036325         1         0.99       364   \n",
       "3     2375  26984851472    1  1082185         1         1.21       364   \n",
       "4     2375  26984851472    1  8160430         1         1.50       364   \n",
       "\n",
       "   retail_disc  trans_time  week_no  coupon_disc  coupon_match_disc  \n",
       "0        -0.60        1631        1          0.0                0.0  \n",
       "1         0.00        1631        1          0.0                0.0  \n",
       "2        -0.30        1631        1          0.0                0.0  \n",
       "3         0.00        1631        1          0.0                0.0  \n",
       "4        -0.39        1631        1          0.0                0.0  "
      ]
     },
     "execution_count": 5,
     "metadata": {},
     "output_type": "execute_result"
    }
   ],
   "source": [
    "df_data.head()"
   ]
  },
  {
   "cell_type": "code",
   "execution_count": 6,
   "id": "d82891e3",
   "metadata": {},
   "outputs": [
    {
     "data": {
      "text/plain": [
       "((2278490, 12), (118314, 12))"
      ]
     },
     "execution_count": 6,
     "metadata": {},
     "output_type": "execute_result"
    }
   ],
   "source": [
    "# Три последние недели будут использованы для валидации обученной модели.\n",
    "test_size_weeks = 3\n",
    "\n",
    "# Разбиение данных на обучающую и тестовую выборки.\n",
    "df_data_train = df_data[df_data['week_no'] < df_data['week_no'].max() - test_size_weeks].copy()\n",
    "df_data_test = df_data[df_data['week_no'] >= df_data['week_no'].max() - test_size_weeks].copy()\n",
    "\n",
    "# Проверка вывод размерностей выборок.\n",
    "df_data_train.shape, df_data_test.shape"
   ]
  },
  {
   "cell_type": "code",
   "execution_count": 7,
   "id": "282b0642",
   "metadata": {},
   "outputs": [
    {
     "data": {
      "text/html": [
       "<div>\n",
       "<style scoped>\n",
       "    .dataframe tbody tr th:only-of-type {\n",
       "        vertical-align: middle;\n",
       "    }\n",
       "\n",
       "    .dataframe tbody tr th {\n",
       "        vertical-align: top;\n",
       "    }\n",
       "\n",
       "    .dataframe thead th {\n",
       "        text-align: right;\n",
       "    }\n",
       "</style>\n",
       "<table border=\"1\" class=\"dataframe\">\n",
       "  <thead>\n",
       "    <tr style=\"text-align: right;\">\n",
       "      <th></th>\n",
       "      <th>user_id</th>\n",
       "      <th>actual</th>\n",
       "    </tr>\n",
       "  </thead>\n",
       "  <tbody>\n",
       "    <tr>\n",
       "      <th>0</th>\n",
       "      <td>1</td>\n",
       "      <td>[825123, 831447, 840361, 845307, 852014, 85498...</td>\n",
       "    </tr>\n",
       "    <tr>\n",
       "      <th>1</th>\n",
       "      <td>2</td>\n",
       "      <td>[854852, 930118, 1077555, 1098066, 5567388, 55...</td>\n",
       "    </tr>\n",
       "  </tbody>\n",
       "</table>\n",
       "</div>"
      ],
      "text/plain": [
       "   user_id                                             actual\n",
       "0        1  [825123, 831447, 840361, 845307, 852014, 85498...\n",
       "1        2  [854852, 930118, 1077555, 1098066, 5567388, 55..."
      ]
     },
     "execution_count": 7,
     "metadata": {},
     "output_type": "execute_result"
    }
   ],
   "source": [
    "# Формирование проверочной таблицы на обучающей выборке.\n",
    "result_train = df_data_train.copy().groupby('user_id')['item_id'].unique().reset_index()\n",
    "result_train.columns=['user_id', 'actual']\n",
    "result_train.head(2)"
   ]
  },
  {
   "cell_type": "code",
   "execution_count": 8,
   "id": "8119fac3",
   "metadata": {},
   "outputs": [
    {
     "data": {
      "text/html": [
       "<div>\n",
       "<style scoped>\n",
       "    .dataframe tbody tr th:only-of-type {\n",
       "        vertical-align: middle;\n",
       "    }\n",
       "\n",
       "    .dataframe tbody tr th {\n",
       "        vertical-align: top;\n",
       "    }\n",
       "\n",
       "    .dataframe thead th {\n",
       "        text-align: right;\n",
       "    }\n",
       "</style>\n",
       "<table border=\"1\" class=\"dataframe\">\n",
       "  <thead>\n",
       "    <tr style=\"text-align: right;\">\n",
       "      <th></th>\n",
       "      <th>user_id</th>\n",
       "      <th>actual</th>\n",
       "    </tr>\n",
       "  </thead>\n",
       "  <tbody>\n",
       "    <tr>\n",
       "      <th>0</th>\n",
       "      <td>1</td>\n",
       "      <td>[821867, 834484, 856942, 865456, 889248, 90795...</td>\n",
       "    </tr>\n",
       "    <tr>\n",
       "      <th>1</th>\n",
       "      <td>3</td>\n",
       "      <td>[835476, 851057, 872021, 878302, 879948, 90963...</td>\n",
       "    </tr>\n",
       "  </tbody>\n",
       "</table>\n",
       "</div>"
      ],
      "text/plain": [
       "   user_id                                             actual\n",
       "0        1  [821867, 834484, 856942, 865456, 889248, 90795...\n",
       "1        3  [835476, 851057, 872021, 878302, 879948, 90963..."
      ]
     },
     "execution_count": 8,
     "metadata": {},
     "output_type": "execute_result"
    }
   ],
   "source": [
    "# Формирование проверочной таблицы на валидачионной выборке.\n",
    "result_test = df_data_test.copy().groupby('user_id')['item_id'].unique().reset_index()\n",
    "result_test.columns=['user_id', 'actual']\n",
    "result_test.head(2)"
   ]
  },
  {
   "cell_type": "markdown",
   "id": "c91bf4ae",
   "metadata": {},
   "source": [
    "#### Precision@K"
   ]
  },
  {
   "cell_type": "code",
   "execution_count": 9,
   "id": "ca4781b8",
   "metadata": {},
   "outputs": [],
   "source": [
    "def precision_at_k(recommended_list, bought_list, k=5):\n",
    "    \n",
    "    bought_list = np.array(bought_list)\n",
    "    recommended_list = np.array(recommended_list)\n",
    "    \n",
    "    bought_list = bought_list\n",
    "    recommended_list = recommended_list[:k]\n",
    "    \n",
    "    flags = np.isin(bought_list, recommended_list)\n",
    "    \n",
    "    precision = flags.sum() / len(recommended_list)\n",
    "    \n",
    "    return precision"
   ]
  },
  {
   "cell_type": "markdown",
   "id": "59b0ce5d",
   "metadata": {},
   "source": [
    "#### Get Recommendations"
   ]
  },
  {
   "cell_type": "code",
   "execution_count": 10,
   "id": "033734d1",
   "metadata": {},
   "outputs": [],
   "source": [
    "def get_recommendations(user, model, N=5):\n",
    "    res = [id_to_itemid[rec[0]] for rec in \n",
    "                    model.recommend(userid=userid_to_id[user], \n",
    "                                    user_items=sparse_user_item,   # на вход user-item matrix\n",
    "                                    N=N, \n",
    "                                    filter_already_liked_items=False, \n",
    "                                    filter_items=[itemid_to_id[999999]], \n",
    "                                    recalculate_user=True)]\n",
    "    return res"
   ]
  },
  {
   "cell_type": "markdown",
   "id": "8c5b4bba",
   "metadata": {},
   "source": [
    "### Построение модели на основе признака \"quantity\""
   ]
  },
  {
   "cell_type": "markdown",
   "id": "4446a990",
   "metadata": {},
   "source": [
    "#### Подготовка User-Item матрицы"
   ]
  },
  {
   "cell_type": "code",
   "execution_count": 11,
   "id": "5fc1fc5b",
   "metadata": {},
   "outputs": [],
   "source": [
    "# Формирование таблицы, где для каждого товара указано количество продаж.\n",
    "popularity = df_data_train.copy().groupby('item_id')['quantity'].sum().reset_index()\n",
    "popularity = popularity.rename(columns={'quantity': 'n_sold'})\n",
    "\n",
    "# Составление списка 5000 наиболее продаваемых товаров.\n",
    "top_5000 = popularity.copy().sort_values('n_sold', ascending=False).head(5000).item_id.tolist()\n",
    "\n",
    "# Товары вне топ 5000 определены в отдельную категорию.\n",
    "df_data_train.loc[~df_data_train['item_id'].isin(top_5000), 'item_id'] = 999999"
   ]
  },
  {
   "cell_type": "code",
   "execution_count": 12,
   "id": "2283d03e",
   "metadata": {},
   "outputs": [
    {
     "data": {
      "text/html": [
       "<div>\n",
       "<style scoped>\n",
       "    .dataframe tbody tr th:only-of-type {\n",
       "        vertical-align: middle;\n",
       "    }\n",
       "\n",
       "    .dataframe tbody tr th {\n",
       "        vertical-align: top;\n",
       "    }\n",
       "\n",
       "    .dataframe thead th {\n",
       "        text-align: right;\n",
       "    }\n",
       "</style>\n",
       "<table border=\"1\" class=\"dataframe\">\n",
       "  <thead>\n",
       "    <tr style=\"text-align: right;\">\n",
       "      <th>item_id</th>\n",
       "      <th>202291</th>\n",
       "      <th>397896</th>\n",
       "      <th>420647</th>\n",
       "      <th>480014</th>\n",
       "      <th>545926</th>\n",
       "      <th>707683</th>\n",
       "      <th>731106</th>\n",
       "      <th>818980</th>\n",
       "      <th>819063</th>\n",
       "      <th>819227</th>\n",
       "      <th>...</th>\n",
       "      <th>15778533</th>\n",
       "      <th>15831255</th>\n",
       "      <th>15926712</th>\n",
       "      <th>15926775</th>\n",
       "      <th>15926844</th>\n",
       "      <th>15926886</th>\n",
       "      <th>15927403</th>\n",
       "      <th>15927661</th>\n",
       "      <th>15927850</th>\n",
       "      <th>16809471</th>\n",
       "    </tr>\n",
       "    <tr>\n",
       "      <th>user_id</th>\n",
       "      <th></th>\n",
       "      <th></th>\n",
       "      <th></th>\n",
       "      <th></th>\n",
       "      <th></th>\n",
       "      <th></th>\n",
       "      <th></th>\n",
       "      <th></th>\n",
       "      <th></th>\n",
       "      <th></th>\n",
       "      <th></th>\n",
       "      <th></th>\n",
       "      <th></th>\n",
       "      <th></th>\n",
       "      <th></th>\n",
       "      <th></th>\n",
       "      <th></th>\n",
       "      <th></th>\n",
       "      <th></th>\n",
       "      <th></th>\n",
       "      <th></th>\n",
       "    </tr>\n",
       "  </thead>\n",
       "  <tbody>\n",
       "    <tr>\n",
       "      <th>1</th>\n",
       "      <td>0.0</td>\n",
       "      <td>0.0</td>\n",
       "      <td>0.0</td>\n",
       "      <td>0.0</td>\n",
       "      <td>0.0</td>\n",
       "      <td>0.0</td>\n",
       "      <td>0.0</td>\n",
       "      <td>0.0</td>\n",
       "      <td>0.0</td>\n",
       "      <td>0.0</td>\n",
       "      <td>...</td>\n",
       "      <td>0.0</td>\n",
       "      <td>0.0</td>\n",
       "      <td>0.0</td>\n",
       "      <td>0.0</td>\n",
       "      <td>1.0</td>\n",
       "      <td>0.0</td>\n",
       "      <td>0.0</td>\n",
       "      <td>0.0</td>\n",
       "      <td>0.0</td>\n",
       "      <td>0.0</td>\n",
       "    </tr>\n",
       "    <tr>\n",
       "      <th>2</th>\n",
       "      <td>0.0</td>\n",
       "      <td>0.0</td>\n",
       "      <td>0.0</td>\n",
       "      <td>0.0</td>\n",
       "      <td>0.0</td>\n",
       "      <td>0.0</td>\n",
       "      <td>0.0</td>\n",
       "      <td>0.0</td>\n",
       "      <td>0.0</td>\n",
       "      <td>0.0</td>\n",
       "      <td>...</td>\n",
       "      <td>0.0</td>\n",
       "      <td>0.0</td>\n",
       "      <td>0.0</td>\n",
       "      <td>0.0</td>\n",
       "      <td>0.0</td>\n",
       "      <td>0.0</td>\n",
       "      <td>0.0</td>\n",
       "      <td>0.0</td>\n",
       "      <td>0.0</td>\n",
       "      <td>0.0</td>\n",
       "    </tr>\n",
       "    <tr>\n",
       "      <th>3</th>\n",
       "      <td>0.0</td>\n",
       "      <td>0.0</td>\n",
       "      <td>0.0</td>\n",
       "      <td>0.0</td>\n",
       "      <td>0.0</td>\n",
       "      <td>0.0</td>\n",
       "      <td>0.0</td>\n",
       "      <td>0.0</td>\n",
       "      <td>0.0</td>\n",
       "      <td>0.0</td>\n",
       "      <td>...</td>\n",
       "      <td>0.0</td>\n",
       "      <td>0.0</td>\n",
       "      <td>0.0</td>\n",
       "      <td>0.0</td>\n",
       "      <td>0.0</td>\n",
       "      <td>0.0</td>\n",
       "      <td>0.0</td>\n",
       "      <td>0.0</td>\n",
       "      <td>0.0</td>\n",
       "      <td>0.0</td>\n",
       "    </tr>\n",
       "  </tbody>\n",
       "</table>\n",
       "<p>3 rows × 5001 columns</p>\n",
       "</div>"
      ],
      "text/plain": [
       "item_id  202291    397896    420647    480014    545926    707683    731106    \\\n",
       "user_id                                                                         \n",
       "1             0.0       0.0       0.0       0.0       0.0       0.0       0.0   \n",
       "2             0.0       0.0       0.0       0.0       0.0       0.0       0.0   \n",
       "3             0.0       0.0       0.0       0.0       0.0       0.0       0.0   \n",
       "\n",
       "item_id  818980    819063    819227    ...  15778533  15831255  15926712  \\\n",
       "user_id                                ...                                 \n",
       "1             0.0       0.0       0.0  ...       0.0       0.0       0.0   \n",
       "2             0.0       0.0       0.0  ...       0.0       0.0       0.0   \n",
       "3             0.0       0.0       0.0  ...       0.0       0.0       0.0   \n",
       "\n",
       "item_id  15926775  15926844  15926886  15927403  15927661  15927850  16809471  \n",
       "user_id                                                                        \n",
       "1             0.0       1.0       0.0       0.0       0.0       0.0       0.0  \n",
       "2             0.0       0.0       0.0       0.0       0.0       0.0       0.0  \n",
       "3             0.0       0.0       0.0       0.0       0.0       0.0       0.0  \n",
       "\n",
       "[3 rows x 5001 columns]"
      ]
     },
     "execution_count": 12,
     "metadata": {},
     "output_type": "execute_result"
    }
   ],
   "source": [
    "user_item_matrix = pd.pivot_table(df_data_train,\n",
    "                                  index='user_id',\n",
    "                                  columns='item_id', \n",
    "                                  values='quantity',\n",
    "#                                   aggfunc='count', \n",
    "                                  aggfunc='sum',\n",
    "                                  fill_value=0\n",
    "                                 )\n",
    "\n",
    "# Необходимый тип матрицы для implicit.\n",
    "user_item_matrix = user_item_matrix.astype(float) \n",
    "\n",
    "# Перевод в формат saprse matrix.\n",
    "sparse_user_item = csr_matrix(user_item_matrix).tocsr()\n",
    "\n",
    "user_item_matrix.head(3)"
   ]
  },
  {
   "cell_type": "markdown",
   "id": "63f792be",
   "metadata": {},
   "source": [
    "#### Словари перевода user_id и item_id к порядковым id и наоброт"
   ]
  },
  {
   "cell_type": "code",
   "execution_count": 13,
   "id": "9372c389",
   "metadata": {},
   "outputs": [],
   "source": [
    "userids = user_item_matrix.index.values\n",
    "itemids = user_item_matrix.columns.values\n",
    "\n",
    "matrix_userids = np.arange(len(userids))\n",
    "matrix_itemids = np.arange(len(itemids))\n",
    "\n",
    "id_to_itemid = dict(zip(matrix_itemids, itemids))\n",
    "id_to_userid = dict(zip(matrix_userids, userids))\n",
    "\n",
    "itemid_to_id = dict(zip(itemids, matrix_itemids))\n",
    "userid_to_id = dict(zip(userids, matrix_userids))"
   ]
  },
  {
   "cell_type": "markdown",
   "id": "0d803321",
   "metadata": {},
   "source": [
    "#### Базовая модель из урока"
   ]
  },
  {
   "cell_type": "code",
   "execution_count": 14,
   "id": "f52af651",
   "metadata": {},
   "outputs": [
    {
     "data": {
      "application/vnd.jupyter.widget-view+json": {
       "model_id": "67fbef611a61493da1d24122b8431d38",
       "version_major": 2,
       "version_minor": 0
      },
      "text/plain": [
       "  0%|          | 0/15 [00:00<?, ?it/s]"
      ]
     },
     "metadata": {},
     "output_type": "display_data"
    },
    {
     "name": "stdout",
     "output_type": "stream",
     "text": [
      "Wall time: 12.6 s\n"
     ]
    },
    {
     "data": {
      "text/plain": [
       "0.1694417238001959"
      ]
     },
     "execution_count": 14,
     "metadata": {},
     "output_type": "execute_result"
    }
   ],
   "source": [
    "%%time\n",
    "\n",
    "\n",
    "model = AlternatingLeastSquares(factors=44, \n",
    "                                regularization=0.001,\n",
    "                                iterations=15, \n",
    "                                calculate_training_loss=True, \n",
    "                                use_gpu=False)\n",
    "\n",
    "model.fit(csr_matrix(user_item_matrix).T.tocsr(),  # На вход item-user matrix\n",
    "          show_progress=True)\n",
    "\n",
    "result = result_test.copy()\n",
    "result['als'] = result['user_id'].apply(lambda x: get_recommendations(x, model=model, N=5))\n",
    "metric_base_als = result.apply(lambda row: precision_at_k(row['als'], row['actual']), axis=1).mean()\n",
    "del result\n",
    "\n",
    "metric_base_als"
   ]
  },
  {
   "cell_type": "markdown",
   "id": "4f7e604b",
   "metadata": {},
   "source": [
    "Используем метрику базовой модели из урока для оценки перебора параметров."
   ]
  },
  {
   "cell_type": "markdown",
   "id": "62eb6018",
   "metadata": {},
   "source": [
    "#### Обучение модели при помощи перебора параметров"
   ]
  },
  {
   "cell_type": "code",
   "execution_count": 15,
   "id": "432c8307",
   "metadata": {},
   "outputs": [
    {
     "data": {
      "text/html": [
       "<div>\n",
       "<style scoped>\n",
       "    .dataframe tbody tr th:only-of-type {\n",
       "        vertical-align: middle;\n",
       "    }\n",
       "\n",
       "    .dataframe tbody tr th {\n",
       "        vertical-align: top;\n",
       "    }\n",
       "\n",
       "    .dataframe thead th {\n",
       "        text-align: right;\n",
       "    }\n",
       "</style>\n",
       "<table border=\"1\" class=\"dataframe\">\n",
       "  <thead>\n",
       "    <tr style=\"text-align: right;\">\n",
       "      <th></th>\n",
       "      <th>10</th>\n",
       "      <th>15</th>\n",
       "      <th>20</th>\n",
       "    </tr>\n",
       "  </thead>\n",
       "  <tbody>\n",
       "    <tr>\n",
       "      <th>0.1</th>\n",
       "      <td>0.0</td>\n",
       "      <td>0.0</td>\n",
       "      <td>0.0</td>\n",
       "    </tr>\n",
       "    <tr>\n",
       "      <th>0.05</th>\n",
       "      <td>0.0</td>\n",
       "      <td>0.0</td>\n",
       "      <td>0.0</td>\n",
       "    </tr>\n",
       "    <tr>\n",
       "      <th>0.01</th>\n",
       "      <td>0.0</td>\n",
       "      <td>0.0</td>\n",
       "      <td>0.0</td>\n",
       "    </tr>\n",
       "    <tr>\n",
       "      <th>0.005</th>\n",
       "      <td>0.0</td>\n",
       "      <td>0.0</td>\n",
       "      <td>0.0</td>\n",
       "    </tr>\n",
       "    <tr>\n",
       "      <th>0.001</th>\n",
       "      <td>0.0</td>\n",
       "      <td>0.0</td>\n",
       "      <td>0.0</td>\n",
       "    </tr>\n",
       "  </tbody>\n",
       "</table>\n",
       "</div>"
      ],
      "text/plain": [
       "        10   15   20\n",
       "0.1    0.0  0.0  0.0\n",
       "0.05   0.0  0.0  0.0\n",
       "0.01   0.0  0.0  0.0\n",
       "0.005  0.0  0.0  0.0\n",
       "0.001  0.0  0.0  0.0"
      ]
     },
     "execution_count": 15,
     "metadata": {},
     "output_type": "execute_result"
    }
   ],
   "source": [
    "# Формирование таблицы гиперпараметров для подсчёта метрик\n",
    "# столбцы - количество итераций,\n",
    "# строки - коэффициенты ругеляризации.\n",
    "# Данные параметры были получены методом перебора.\n",
    "df_metrics = pd.DataFrame(np.zeros((5, 3)),\n",
    "                          index=['0.1', '0.05', '0.01', '0.005', '0.001'],\n",
    "                          columns=['10', '15', '20',])\n",
    "\n",
    "# Проверка.\n",
    "df_metrics"
   ]
  },
  {
   "cell_type": "code",
   "execution_count": 16,
   "id": "bba74eb2",
   "metadata": {
    "scrolled": true
   },
   "outputs": [
    {
     "name": "stdout",
     "output_type": "stream",
     "text": [
      "Wall time: 3min 45s\n"
     ]
    }
   ],
   "source": [
    "%%time\n",
    "\n",
    "\n",
    "# Формирования таблиц метрик для обучающей и валидационной выборок.\n",
    "df_metrics_quantity_train = df_metrics.copy()\n",
    "df_metrics_quantity_test = df_metrics.copy()\n",
    "\n",
    "# Перебор гиперпараметров, указанных в таблице метрик.\n",
    "for n_factors in df_metrics_quantity_train.columns:\n",
    "    for reg_coeff in df_metrics_quantity_train.index:\n",
    "        \n",
    "        # Таблицы для оценки качества прогнозирования.\n",
    "        result_train_temp = result_train.copy()\n",
    "        result_test_temp = result_test.copy()\n",
    "        \n",
    "        # Инициализация модели с выбранными гиперпараметрами.\n",
    "        model = AlternatingLeastSquares(factors=int(n_factors),\n",
    "                                        regularization=float(reg_coeff),\n",
    "                                        iterations=15,\n",
    "                                        calculate_training_loss=True,\n",
    "                                        use_gpu=False)\n",
    "        \n",
    "        # Обучение модели.\n",
    "        model.fit(csr_matrix(user_item_matrix).T.tocsr(), show_progress=False)\n",
    "        \n",
    "        # Прогнозирование о оценка качества на тернировочной выборке.\n",
    "        result_train_temp['als'] = result_train_temp['user_id'].apply(lambda x: get_recommendations(x, model=model, N=5))\n",
    "        df_metrics_quantity_train.loc[reg_coeff, n_factors] = (\n",
    "            result_train_temp\n",
    "            .apply(lambda row: precision_at_k(row['als'], row['actual']), axis=1)\n",
    "            .mean()        \n",
    "        )\n",
    "        del result_train_temp\n",
    "        \n",
    "        # Прогнозирование о оценка качества на валидационной выборке.\n",
    "        result_test_temp['als'] = result_test_temp['user_id'].apply(lambda x: get_recommendations(x, model=model, N=5))\n",
    "        df_metrics_quantity_test.loc[reg_coeff, n_factors] = (\n",
    "            result_test_temp\n",
    "            .apply(lambda row: precision_at_k(row['als'], row['actual']), axis=1)\n",
    "            .mean()        \n",
    "        )   \n",
    "        del result_test_temp"
   ]
  },
  {
   "cell_type": "code",
   "execution_count": 17,
   "id": "cad2f396",
   "metadata": {},
   "outputs": [
    {
     "data": {
      "text/html": [
       "<div>\n",
       "<style scoped>\n",
       "    .dataframe tbody tr th:only-of-type {\n",
       "        vertical-align: middle;\n",
       "    }\n",
       "\n",
       "    .dataframe tbody tr th {\n",
       "        vertical-align: top;\n",
       "    }\n",
       "\n",
       "    .dataframe thead th {\n",
       "        text-align: right;\n",
       "    }\n",
       "</style>\n",
       "<table border=\"1\" class=\"dataframe\">\n",
       "  <thead>\n",
       "    <tr style=\"text-align: right;\">\n",
       "      <th></th>\n",
       "      <th>10</th>\n",
       "      <th>15</th>\n",
       "      <th>20</th>\n",
       "    </tr>\n",
       "  </thead>\n",
       "  <tbody>\n",
       "    <tr>\n",
       "      <th>0.1</th>\n",
       "      <td>0.626571</td>\n",
       "      <td>0.624810</td>\n",
       "      <td>0.614246</td>\n",
       "    </tr>\n",
       "    <tr>\n",
       "      <th>0.05</th>\n",
       "      <td>0.616887</td>\n",
       "      <td>0.604482</td>\n",
       "      <td>0.627051</td>\n",
       "    </tr>\n",
       "    <tr>\n",
       "      <th>0.01</th>\n",
       "      <td>0.601040</td>\n",
       "      <td>0.629772</td>\n",
       "      <td>0.639776</td>\n",
       "    </tr>\n",
       "    <tr>\n",
       "      <th>0.005</th>\n",
       "      <td>0.612965</td>\n",
       "      <td>0.633854</td>\n",
       "      <td>0.648579</td>\n",
       "    </tr>\n",
       "    <tr>\n",
       "      <th>0.001</th>\n",
       "      <td>0.608163</td>\n",
       "      <td>0.642337</td>\n",
       "      <td>0.654262</td>\n",
       "    </tr>\n",
       "  </tbody>\n",
       "</table>\n",
       "</div>"
      ],
      "text/plain": [
       "             10        15        20\n",
       "0.1    0.626571  0.624810  0.614246\n",
       "0.05   0.616887  0.604482  0.627051\n",
       "0.01   0.601040  0.629772  0.639776\n",
       "0.005  0.612965  0.633854  0.648579\n",
       "0.001  0.608163  0.642337  0.654262"
      ]
     },
     "execution_count": 17,
     "metadata": {},
     "output_type": "execute_result"
    }
   ],
   "source": [
    "df_metrics_quantity_train"
   ]
  },
  {
   "cell_type": "code",
   "execution_count": 18,
   "id": "db56d5d7",
   "metadata": {},
   "outputs": [
    {
     "data": {
      "text/html": [
       "<div>\n",
       "<style scoped>\n",
       "    .dataframe tbody tr th:only-of-type {\n",
       "        vertical-align: middle;\n",
       "    }\n",
       "\n",
       "    .dataframe tbody tr th {\n",
       "        vertical-align: top;\n",
       "    }\n",
       "\n",
       "    .dataframe thead th {\n",
       "        text-align: right;\n",
       "    }\n",
       "</style>\n",
       "<table border=\"1\" class=\"dataframe\">\n",
       "  <thead>\n",
       "    <tr style=\"text-align: right;\">\n",
       "      <th></th>\n",
       "      <th>10</th>\n",
       "      <th>15</th>\n",
       "      <th>20</th>\n",
       "    </tr>\n",
       "  </thead>\n",
       "  <tbody>\n",
       "    <tr>\n",
       "      <th>0.1</th>\n",
       "      <td>0.177963</td>\n",
       "      <td>0.174633</td>\n",
       "      <td>0.168266</td>\n",
       "    </tr>\n",
       "    <tr>\n",
       "      <th>0.05</th>\n",
       "      <td>0.175710</td>\n",
       "      <td>0.166210</td>\n",
       "      <td>0.166112</td>\n",
       "    </tr>\n",
       "    <tr>\n",
       "      <th>0.01</th>\n",
       "      <td>0.172870</td>\n",
       "      <td>0.174339</td>\n",
       "      <td>0.170323</td>\n",
       "    </tr>\n",
       "    <tr>\n",
       "      <th>0.005</th>\n",
       "      <td>0.172772</td>\n",
       "      <td>0.173066</td>\n",
       "      <td>0.173849</td>\n",
       "    </tr>\n",
       "    <tr>\n",
       "      <th>0.001</th>\n",
       "      <td>0.168952</td>\n",
       "      <td>0.172478</td>\n",
       "      <td>0.174437</td>\n",
       "    </tr>\n",
       "  </tbody>\n",
       "</table>\n",
       "</div>"
      ],
      "text/plain": [
       "             10        15        20\n",
       "0.1    0.177963  0.174633  0.168266\n",
       "0.05   0.175710  0.166210  0.166112\n",
       "0.01   0.172870  0.174339  0.170323\n",
       "0.005  0.172772  0.173066  0.173849\n",
       "0.001  0.168952  0.172478  0.174437"
      ]
     },
     "execution_count": 18,
     "metadata": {},
     "output_type": "execute_result"
    }
   ],
   "source": [
    "df_metrics_quantity_test"
   ]
  },
  {
   "cell_type": "markdown",
   "id": "41ef723a",
   "metadata": {},
   "source": [
    "Анализ метрик качества обученной модели на основе признака \"quantity\" показал следующие особенности:\n",
    "- качество прогнозирования на обучающей выборке гораздо лучше, чем на валидационной. Модель переобучилась;\n",
    "- перебор гиперпараметров позволил получить метрики качества лучшие, чем метрика базовой модели."
   ]
  },
  {
   "cell_type": "markdown",
   "id": "7dfebaac",
   "metadata": {},
   "source": [
    "### Построение модели на основе признака \"sales_value\""
   ]
  },
  {
   "cell_type": "markdown",
   "id": "1d7a50d8",
   "metadata": {},
   "source": [
    "#### Подготовка User-Item матрицы"
   ]
  },
  {
   "cell_type": "code",
   "execution_count": 19,
   "id": "807ab4de",
   "metadata": {},
   "outputs": [
    {
     "data": {
      "text/plain": [
       "((2278490, 12), (118314, 12))"
      ]
     },
     "execution_count": 19,
     "metadata": {},
     "output_type": "execute_result"
    }
   ],
   "source": [
    "# Три последние недели будут использованы для валидации обученной модели.\n",
    "test_size_weeks = 3\n",
    "\n",
    "# Разбиение данных на обучающую и тестовую выборки.\n",
    "df_data_train = df_data[df_data['week_no'] < df_data['week_no'].max() - test_size_weeks].copy()\n",
    "df_data_test = df_data[df_data['week_no'] >= df_data['week_no'].max() - test_size_weeks].copy()\n",
    "\n",
    "# Проверка вывод размерностей выборок.\n",
    "df_data_train.shape, df_data_test.shape"
   ]
  },
  {
   "cell_type": "code",
   "execution_count": 20,
   "id": "b8161530",
   "metadata": {},
   "outputs": [],
   "source": [
    "# Формирование таблицы, где для каждого товара указан объём продаж.\n",
    "popularity = (\n",
    "    df_data_train\n",
    "    .copy()\n",
    "    .groupby('item_id')['sales_value']\n",
    "    .sum()\n",
    "    .reset_index()\n",
    "    .rename(columns={'sales_value': 'n_sold'})\n",
    ")\n",
    "\n",
    "# Составление списка 5000 наиболее продаваемых товаров.\n",
    "top_5000 = popularity.copy().sort_values('n_sold', ascending=False).head(5000).item_id.tolist()\n",
    "\n",
    "# Товары вне топ 5000 определены в отдельную категорию.\n",
    "df_data_train.loc[~df_data_train['item_id'].isin(top_5000), 'item_id'] = 999999"
   ]
  },
  {
   "cell_type": "code",
   "execution_count": 21,
   "id": "762115d1",
   "metadata": {},
   "outputs": [
    {
     "data": {
      "text/html": [
       "<div>\n",
       "<style scoped>\n",
       "    .dataframe tbody tr th:only-of-type {\n",
       "        vertical-align: middle;\n",
       "    }\n",
       "\n",
       "    .dataframe tbody tr th {\n",
       "        vertical-align: top;\n",
       "    }\n",
       "\n",
       "    .dataframe thead th {\n",
       "        text-align: right;\n",
       "    }\n",
       "</style>\n",
       "<table border=\"1\" class=\"dataframe\">\n",
       "  <thead>\n",
       "    <tr style=\"text-align: right;\">\n",
       "      <th>item_id</th>\n",
       "      <th>259120</th>\n",
       "      <th>397896</th>\n",
       "      <th>420647</th>\n",
       "      <th>480014</th>\n",
       "      <th>818981</th>\n",
       "      <th>819063</th>\n",
       "      <th>819255</th>\n",
       "      <th>819304</th>\n",
       "      <th>819308</th>\n",
       "      <th>819330</th>\n",
       "      <th>...</th>\n",
       "      <th>15926844</th>\n",
       "      <th>15926886</th>\n",
       "      <th>15971546</th>\n",
       "      <th>15972074</th>\n",
       "      <th>15972298</th>\n",
       "      <th>15972565</th>\n",
       "      <th>15972790</th>\n",
       "      <th>16053266</th>\n",
       "      <th>16100266</th>\n",
       "      <th>16769635</th>\n",
       "    </tr>\n",
       "    <tr>\n",
       "      <th>user_id</th>\n",
       "      <th></th>\n",
       "      <th></th>\n",
       "      <th></th>\n",
       "      <th></th>\n",
       "      <th></th>\n",
       "      <th></th>\n",
       "      <th></th>\n",
       "      <th></th>\n",
       "      <th></th>\n",
       "      <th></th>\n",
       "      <th></th>\n",
       "      <th></th>\n",
       "      <th></th>\n",
       "      <th></th>\n",
       "      <th></th>\n",
       "      <th></th>\n",
       "      <th></th>\n",
       "      <th></th>\n",
       "      <th></th>\n",
       "      <th></th>\n",
       "      <th></th>\n",
       "    </tr>\n",
       "  </thead>\n",
       "  <tbody>\n",
       "    <tr>\n",
       "      <th>1</th>\n",
       "      <td>0.0</td>\n",
       "      <td>0.0</td>\n",
       "      <td>0.0</td>\n",
       "      <td>0.0</td>\n",
       "      <td>0.0</td>\n",
       "      <td>0.0</td>\n",
       "      <td>0.00</td>\n",
       "      <td>0.0</td>\n",
       "      <td>0.0</td>\n",
       "      <td>0.0</td>\n",
       "      <td>...</td>\n",
       "      <td>2.5</td>\n",
       "      <td>0.0</td>\n",
       "      <td>0.0</td>\n",
       "      <td>0.0</td>\n",
       "      <td>0.0</td>\n",
       "      <td>0.0</td>\n",
       "      <td>0.0</td>\n",
       "      <td>0.0</td>\n",
       "      <td>0.0</td>\n",
       "      <td>0.0</td>\n",
       "    </tr>\n",
       "    <tr>\n",
       "      <th>2</th>\n",
       "      <td>0.0</td>\n",
       "      <td>0.0</td>\n",
       "      <td>0.0</td>\n",
       "      <td>0.0</td>\n",
       "      <td>0.0</td>\n",
       "      <td>0.0</td>\n",
       "      <td>0.00</td>\n",
       "      <td>0.0</td>\n",
       "      <td>0.0</td>\n",
       "      <td>0.0</td>\n",
       "      <td>...</td>\n",
       "      <td>0.0</td>\n",
       "      <td>0.0</td>\n",
       "      <td>0.0</td>\n",
       "      <td>0.0</td>\n",
       "      <td>0.0</td>\n",
       "      <td>0.0</td>\n",
       "      <td>0.0</td>\n",
       "      <td>0.0</td>\n",
       "      <td>0.0</td>\n",
       "      <td>0.0</td>\n",
       "    </tr>\n",
       "    <tr>\n",
       "      <th>3</th>\n",
       "      <td>0.0</td>\n",
       "      <td>0.0</td>\n",
       "      <td>0.0</td>\n",
       "      <td>0.0</td>\n",
       "      <td>0.0</td>\n",
       "      <td>0.0</td>\n",
       "      <td>3.49</td>\n",
       "      <td>0.0</td>\n",
       "      <td>0.0</td>\n",
       "      <td>0.0</td>\n",
       "      <td>...</td>\n",
       "      <td>0.0</td>\n",
       "      <td>0.0</td>\n",
       "      <td>0.0</td>\n",
       "      <td>0.0</td>\n",
       "      <td>0.0</td>\n",
       "      <td>0.0</td>\n",
       "      <td>0.0</td>\n",
       "      <td>0.0</td>\n",
       "      <td>0.0</td>\n",
       "      <td>0.0</td>\n",
       "    </tr>\n",
       "  </tbody>\n",
       "</table>\n",
       "<p>3 rows × 5001 columns</p>\n",
       "</div>"
      ],
      "text/plain": [
       "item_id  259120    397896    420647    480014    818981    819063    819255    \\\n",
       "user_id                                                                         \n",
       "1             0.0       0.0       0.0       0.0       0.0       0.0      0.00   \n",
       "2             0.0       0.0       0.0       0.0       0.0       0.0      0.00   \n",
       "3             0.0       0.0       0.0       0.0       0.0       0.0      3.49   \n",
       "\n",
       "item_id  819304    819308    819330    ...  15926844  15926886  15971546  \\\n",
       "user_id                                ...                                 \n",
       "1             0.0       0.0       0.0  ...       2.5       0.0       0.0   \n",
       "2             0.0       0.0       0.0  ...       0.0       0.0       0.0   \n",
       "3             0.0       0.0       0.0  ...       0.0       0.0       0.0   \n",
       "\n",
       "item_id  15972074  15972298  15972565  15972790  16053266  16100266  16769635  \n",
       "user_id                                                                        \n",
       "1             0.0       0.0       0.0       0.0       0.0       0.0       0.0  \n",
       "2             0.0       0.0       0.0       0.0       0.0       0.0       0.0  \n",
       "3             0.0       0.0       0.0       0.0       0.0       0.0       0.0  \n",
       "\n",
       "[3 rows x 5001 columns]"
      ]
     },
     "execution_count": 21,
     "metadata": {},
     "output_type": "execute_result"
    }
   ],
   "source": [
    "user_item_matrix = pd.pivot_table(df_data_train,\n",
    "                                  index='user_id',\n",
    "                                  columns='item_id', \n",
    "                                  values='sales_value',\n",
    "#                                   aggfunc='count', \n",
    "                                  aggfunc='sum',\n",
    "                                  fill_value=0\n",
    "                                 )\n",
    "\n",
    "# Необходимый тип матрицы для implicit.\n",
    "user_item_matrix = user_item_matrix.astype(float) \n",
    "\n",
    "# Перевод в формат saprse matrix.\n",
    "sparse_user_item = csr_matrix(user_item_matrix).tocsr()\n",
    "\n",
    "user_item_matrix.head(3)"
   ]
  },
  {
   "cell_type": "markdown",
   "id": "6999df94",
   "metadata": {},
   "source": [
    "#### Словари перевода user_id и item_id к порядковым id и наоброт"
   ]
  },
  {
   "cell_type": "code",
   "execution_count": 22,
   "id": "0fab41d5",
   "metadata": {},
   "outputs": [],
   "source": [
    "userids = user_item_matrix.index.values\n",
    "itemids = user_item_matrix.columns.values\n",
    "\n",
    "matrix_userids = np.arange(len(userids))\n",
    "matrix_itemids = np.arange(len(itemids))\n",
    "\n",
    "id_to_itemid = dict(zip(matrix_itemids, itemids))\n",
    "id_to_userid = dict(zip(matrix_userids, userids))\n",
    "\n",
    "itemid_to_id = dict(zip(itemids, matrix_itemids))\n",
    "userid_to_id = dict(zip(userids, matrix_userids))"
   ]
  },
  {
   "cell_type": "markdown",
   "id": "b40467fc",
   "metadata": {},
   "source": [
    "#### Базовая модель из урока"
   ]
  },
  {
   "cell_type": "code",
   "execution_count": 23,
   "id": "f0953743",
   "metadata": {},
   "outputs": [
    {
     "data": {
      "application/vnd.jupyter.widget-view+json": {
       "model_id": "7c9119bcfc3744d586f0b023b86c364e",
       "version_major": 2,
       "version_minor": 0
      },
      "text/plain": [
       "  0%|          | 0/15 [00:00<?, ?it/s]"
      ]
     },
     "metadata": {},
     "output_type": "display_data"
    },
    {
     "name": "stdout",
     "output_type": "stream",
     "text": [
      "Wall time: 12 s\n"
     ]
    },
    {
     "data": {
      "text/plain": [
       "0.11547502448579824"
      ]
     },
     "execution_count": 23,
     "metadata": {},
     "output_type": "execute_result"
    }
   ],
   "source": [
    "%%time\n",
    "\n",
    "\n",
    "model = AlternatingLeastSquares(factors=44, \n",
    "                                regularization=0.001,\n",
    "                                iterations=15, \n",
    "                                calculate_training_loss=True, \n",
    "                                use_gpu=False)\n",
    "\n",
    "model.fit(csr_matrix(user_item_matrix).T.tocsr(),  # На вход item-user matrix\n",
    "          show_progress=True)\n",
    "\n",
    "result = result_test.copy()\n",
    "result['als'] = result['user_id'].apply(lambda x: get_recommendations(x, model=model, N=5))\n",
    "metric_base_als = result.apply(lambda row: precision_at_k(row['als'], row['actual']), axis=1).mean()\n",
    "del result\n",
    "\n",
    "metric_base_als"
   ]
  },
  {
   "cell_type": "markdown",
   "id": "608a4968",
   "metadata": {},
   "source": [
    "Используем метрику базовой модели из урока для оценки перебора параметров."
   ]
  },
  {
   "cell_type": "markdown",
   "id": "f6c22f9f",
   "metadata": {},
   "source": [
    "#### Обучение модели при помощи перебора параметров"
   ]
  },
  {
   "cell_type": "code",
   "execution_count": 24,
   "id": "e834922a",
   "metadata": {},
   "outputs": [
    {
     "data": {
      "text/html": [
       "<div>\n",
       "<style scoped>\n",
       "    .dataframe tbody tr th:only-of-type {\n",
       "        vertical-align: middle;\n",
       "    }\n",
       "\n",
       "    .dataframe tbody tr th {\n",
       "        vertical-align: top;\n",
       "    }\n",
       "\n",
       "    .dataframe thead th {\n",
       "        text-align: right;\n",
       "    }\n",
       "</style>\n",
       "<table border=\"1\" class=\"dataframe\">\n",
       "  <thead>\n",
       "    <tr style=\"text-align: right;\">\n",
       "      <th></th>\n",
       "      <th>10</th>\n",
       "      <th>15</th>\n",
       "      <th>20</th>\n",
       "    </tr>\n",
       "  </thead>\n",
       "  <tbody>\n",
       "    <tr>\n",
       "      <th>0.1</th>\n",
       "      <td>0.0</td>\n",
       "      <td>0.0</td>\n",
       "      <td>0.0</td>\n",
       "    </tr>\n",
       "    <tr>\n",
       "      <th>0.05</th>\n",
       "      <td>0.0</td>\n",
       "      <td>0.0</td>\n",
       "      <td>0.0</td>\n",
       "    </tr>\n",
       "    <tr>\n",
       "      <th>0.01</th>\n",
       "      <td>0.0</td>\n",
       "      <td>0.0</td>\n",
       "      <td>0.0</td>\n",
       "    </tr>\n",
       "    <tr>\n",
       "      <th>0.005</th>\n",
       "      <td>0.0</td>\n",
       "      <td>0.0</td>\n",
       "      <td>0.0</td>\n",
       "    </tr>\n",
       "    <tr>\n",
       "      <th>0.001</th>\n",
       "      <td>0.0</td>\n",
       "      <td>0.0</td>\n",
       "      <td>0.0</td>\n",
       "    </tr>\n",
       "  </tbody>\n",
       "</table>\n",
       "</div>"
      ],
      "text/plain": [
       "        10   15   20\n",
       "0.1    0.0  0.0  0.0\n",
       "0.05   0.0  0.0  0.0\n",
       "0.01   0.0  0.0  0.0\n",
       "0.005  0.0  0.0  0.0\n",
       "0.001  0.0  0.0  0.0"
      ]
     },
     "execution_count": 24,
     "metadata": {},
     "output_type": "execute_result"
    }
   ],
   "source": [
    "# Формирование таблицы гиперпараметров для подсчёта метрик\n",
    "# столбцы - количество итераций,\n",
    "# строки - коэффициенты ругеляризации.\n",
    "# Данные параметры были получены методом перебора.\n",
    "df_metrics = pd.DataFrame(np.zeros((5, 3)),\n",
    "                          index=['0.1', '0.05', '0.01', '0.005', '0.001'],\n",
    "                          columns=['10', '15', '20',])\n",
    "\n",
    "# Проверка.\n",
    "df_metrics"
   ]
  },
  {
   "cell_type": "code",
   "execution_count": 25,
   "id": "ef310821",
   "metadata": {
    "scrolled": true
   },
   "outputs": [
    {
     "name": "stdout",
     "output_type": "stream",
     "text": [
      "Wall time: 3min 27s\n"
     ]
    }
   ],
   "source": [
    "%%time\n",
    "\n",
    "\n",
    "# Формирования таблиц метрик для обучающей и валидационной выборок.\n",
    "df_metrics_sales_value_train = df_metrics.copy()\n",
    "df_metrics_sales_value_test = df_metrics.copy()\n",
    "\n",
    "# Перебор гиперпараметров, указанных в таблице метрик.\n",
    "for n_factors in df_metrics_sales_value_train.columns:\n",
    "    for reg_coeff in df_metrics_sales_value_train.index:\n",
    "        \n",
    "        # Таблицы для оценки качества прогнозирования.\n",
    "        result_train_temp = result_train.copy()\n",
    "        result_test_temp = result_test.copy()\n",
    "        \n",
    "        # Инициализация модели с выбранными гиперпараметрами.\n",
    "        model = AlternatingLeastSquares(factors=int(n_factors),\n",
    "                                        regularization=float(reg_coeff),\n",
    "                                        iterations=15,\n",
    "                                        calculate_training_loss=True,\n",
    "                                        use_gpu=False)\n",
    "        \n",
    "        # Обучение модели.\n",
    "        model.fit(csr_matrix(user_item_matrix).T.tocsr(), show_progress=False)\n",
    "        \n",
    "        # Прогнозирование о оценка качества на тернировочной выборке.\n",
    "        result_train_temp['als'] = result_train_temp['user_id'].apply(lambda x: get_recommendations(x, model=model, N=5))\n",
    "        df_metrics_sales_value_train.loc[reg_coeff, n_factors] = (\n",
    "            result_train_temp\n",
    "            .apply(lambda row: precision_at_k(row['als'], row['actual']), axis=1)\n",
    "            .mean()        \n",
    "        )\n",
    "        del result_train_temp\n",
    "        \n",
    "        # Прогнозирование о оценка качества на валидационной выборке.\n",
    "        result_test_temp['als'] = result_test_temp['user_id'].apply(lambda x: get_recommendations(x, model=model, N=5))\n",
    "        df_metrics_sales_value_test.loc[reg_coeff, n_factors] = (\n",
    "            result_test_temp\n",
    "            .apply(lambda row: precision_at_k(row['als'], row['actual']), axis=1)\n",
    "            .mean()        \n",
    "        )   \n",
    "        del result_test_temp"
   ]
  },
  {
   "cell_type": "code",
   "execution_count": 26,
   "id": "9c7a64a4",
   "metadata": {},
   "outputs": [
    {
     "data": {
      "text/html": [
       "<div>\n",
       "<style scoped>\n",
       "    .dataframe tbody tr th:only-of-type {\n",
       "        vertical-align: middle;\n",
       "    }\n",
       "\n",
       "    .dataframe tbody tr th {\n",
       "        vertical-align: top;\n",
       "    }\n",
       "\n",
       "    .dataframe thead th {\n",
       "        text-align: right;\n",
       "    }\n",
       "</style>\n",
       "<table border=\"1\" class=\"dataframe\">\n",
       "  <thead>\n",
       "    <tr style=\"text-align: right;\">\n",
       "      <th></th>\n",
       "      <th>10</th>\n",
       "      <th>15</th>\n",
       "      <th>20</th>\n",
       "    </tr>\n",
       "  </thead>\n",
       "  <tbody>\n",
       "    <tr>\n",
       "      <th>0.1</th>\n",
       "      <td>0.540136</td>\n",
       "      <td>0.536935</td>\n",
       "      <td>0.535334</td>\n",
       "    </tr>\n",
       "    <tr>\n",
       "      <th>0.05</th>\n",
       "      <td>0.537495</td>\n",
       "      <td>0.532933</td>\n",
       "      <td>0.536935</td>\n",
       "    </tr>\n",
       "    <tr>\n",
       "      <th>0.01</th>\n",
       "      <td>0.542697</td>\n",
       "      <td>0.526451</td>\n",
       "      <td>0.536214</td>\n",
       "    </tr>\n",
       "    <tr>\n",
       "      <th>0.005</th>\n",
       "      <td>0.532693</td>\n",
       "      <td>0.525170</td>\n",
       "      <td>0.525010</td>\n",
       "    </tr>\n",
       "    <tr>\n",
       "      <th>0.001</th>\n",
       "      <td>0.537655</td>\n",
       "      <td>0.529572</td>\n",
       "      <td>0.530692</td>\n",
       "    </tr>\n",
       "  </tbody>\n",
       "</table>\n",
       "</div>"
      ],
      "text/plain": [
       "             10        15        20\n",
       "0.1    0.540136  0.536935  0.535334\n",
       "0.05   0.537495  0.532933  0.536935\n",
       "0.01   0.542697  0.526451  0.536214\n",
       "0.005  0.532693  0.525170  0.525010\n",
       "0.001  0.537655  0.529572  0.530692"
      ]
     },
     "execution_count": 26,
     "metadata": {},
     "output_type": "execute_result"
    }
   ],
   "source": [
    "df_metrics_sales_value_train"
   ]
  },
  {
   "cell_type": "code",
   "execution_count": 27,
   "id": "1f510cac",
   "metadata": {},
   "outputs": [
    {
     "data": {
      "text/html": [
       "<div>\n",
       "<style scoped>\n",
       "    .dataframe tbody tr th:only-of-type {\n",
       "        vertical-align: middle;\n",
       "    }\n",
       "\n",
       "    .dataframe tbody tr th {\n",
       "        vertical-align: top;\n",
       "    }\n",
       "\n",
       "    .dataframe thead th {\n",
       "        text-align: right;\n",
       "    }\n",
       "</style>\n",
       "<table border=\"1\" class=\"dataframe\">\n",
       "  <thead>\n",
       "    <tr style=\"text-align: right;\">\n",
       "      <th></th>\n",
       "      <th>10</th>\n",
       "      <th>15</th>\n",
       "      <th>20</th>\n",
       "    </tr>\n",
       "  </thead>\n",
       "  <tbody>\n",
       "    <tr>\n",
       "      <th>0.1</th>\n",
       "      <td>0.149265</td>\n",
       "      <td>0.141528</td>\n",
       "      <td>0.131146</td>\n",
       "    </tr>\n",
       "    <tr>\n",
       "      <th>0.05</th>\n",
       "      <td>0.150833</td>\n",
       "      <td>0.140744</td>\n",
       "      <td>0.130069</td>\n",
       "    </tr>\n",
       "    <tr>\n",
       "      <th>0.01</th>\n",
       "      <td>0.150049</td>\n",
       "      <td>0.135162</td>\n",
       "      <td>0.131342</td>\n",
       "    </tr>\n",
       "    <tr>\n",
       "      <th>0.005</th>\n",
       "      <td>0.148776</td>\n",
       "      <td>0.133105</td>\n",
       "      <td>0.128893</td>\n",
       "    </tr>\n",
       "    <tr>\n",
       "      <th>0.001</th>\n",
       "      <td>0.145250</td>\n",
       "      <td>0.134182</td>\n",
       "      <td>0.127816</td>\n",
       "    </tr>\n",
       "  </tbody>\n",
       "</table>\n",
       "</div>"
      ],
      "text/plain": [
       "             10        15        20\n",
       "0.1    0.149265  0.141528  0.131146\n",
       "0.05   0.150833  0.140744  0.130069\n",
       "0.01   0.150049  0.135162  0.131342\n",
       "0.005  0.148776  0.133105  0.128893\n",
       "0.001  0.145250  0.134182  0.127816"
      ]
     },
     "execution_count": 27,
     "metadata": {},
     "output_type": "execute_result"
    }
   ],
   "source": [
    "df_metrics_sales_value_test"
   ]
  },
  {
   "cell_type": "markdown",
   "id": "8849b548",
   "metadata": {},
   "source": [
    "Анализ метрик качества обученной модели на основе признака \"sales_value\" показал следующие особенности:\n",
    "- качество прогнозирования на обучающей выборке гораздо лучше, чем на валидационной. Модель также переобучилась;\n",
    "- перебор гиперпараметров позволил получить метрики качества лучшие, чем метрика базовой модели;\n",
    "- качество базовой модели и моделей с перебором гиперпараметров хуже, чем у аналогичных моделей, обученных на основе признака \"quantity\"."
   ]
  },
  {
   "cell_type": "markdown",
   "id": "e394c5b4",
   "metadata": {},
   "source": [
    "### Построение модели на основе признака \"retail_disc\""
   ]
  },
  {
   "cell_type": "markdown",
   "id": "79bc39a7",
   "metadata": {},
   "source": [
    "#### Подготовка User-Item матрицы"
   ]
  },
  {
   "cell_type": "code",
   "execution_count": 28,
   "id": "99b913dc",
   "metadata": {},
   "outputs": [
    {
     "data": {
      "text/plain": [
       "((2278490, 12), (118314, 12))"
      ]
     },
     "execution_count": 28,
     "metadata": {},
     "output_type": "execute_result"
    }
   ],
   "source": [
    "# Три последние недели будут использованы для валидации обученной модели.\n",
    "test_size_weeks = 3\n",
    "\n",
    "# Разбиение данных на обучающую и тестовую выборки.\n",
    "df_data_train = df_data[df_data['week_no'] < df_data['week_no'].max() - test_size_weeks].copy()\n",
    "df_data_test = df_data[df_data['week_no'] >= df_data['week_no'].max() - test_size_weeks].copy()\n",
    "\n",
    "# Проверка вывод размерностей выборок.\n",
    "df_data_train.shape, df_data_test.shape"
   ]
  },
  {
   "cell_type": "code",
   "execution_count": 29,
   "id": "dca1c9a9",
   "metadata": {},
   "outputs": [],
   "source": [
    "# Указание модуля скидки для работы метода ALS.\n",
    "df_data_train['retail_disc'] = np.abs(df_data_train['retail_disc'])\n",
    "df_data_test['retail_disc'] = np.abs(df_data_test['retail_disc'])"
   ]
  },
  {
   "cell_type": "code",
   "execution_count": 30,
   "id": "f051116a",
   "metadata": {},
   "outputs": [],
   "source": [
    "# Формирование таблицы, где для каждого товара указана сумма скидок.\n",
    "popularity = (\n",
    "    df_data_train\n",
    "    .copy()\n",
    "    .groupby('item_id')['retail_disc']\n",
    "    .sum()\n",
    "#     .count()\n",
    "    .reset_index()\n",
    ")\n",
    "\n",
    "# Составление списка 5000 наиболее продаваемых товаров.\n",
    "top_5000 = popularity.copy().sort_values('retail_disc', ascending=False).head(5000).item_id.tolist()\n",
    "\n",
    "# Товары вне топ 5000 определены в отдельную категорию.\n",
    "df_data_train.loc[~df_data_train['item_id'].isin(top_5000), 'item_id'] = 999999"
   ]
  },
  {
   "cell_type": "code",
   "execution_count": 31,
   "id": "04eaf94e",
   "metadata": {},
   "outputs": [
    {
     "data": {
      "text/html": [
       "<div>\n",
       "<style scoped>\n",
       "    .dataframe tbody tr th:only-of-type {\n",
       "        vertical-align: middle;\n",
       "    }\n",
       "\n",
       "    .dataframe tbody tr th {\n",
       "        vertical-align: top;\n",
       "    }\n",
       "\n",
       "    .dataframe thead th {\n",
       "        text-align: right;\n",
       "    }\n",
       "</style>\n",
       "<table border=\"1\" class=\"dataframe\">\n",
       "  <thead>\n",
       "    <tr style=\"text-align: right;\">\n",
       "      <th>item_id</th>\n",
       "      <th>27978</th>\n",
       "      <th>269894</th>\n",
       "      <th>323018</th>\n",
       "      <th>818981</th>\n",
       "      <th>819255</th>\n",
       "      <th>819308</th>\n",
       "      <th>819330</th>\n",
       "      <th>819400</th>\n",
       "      <th>819518</th>\n",
       "      <th>819549</th>\n",
       "      <th>...</th>\n",
       "      <th>16053242</th>\n",
       "      <th>16122432</th>\n",
       "      <th>16729299</th>\n",
       "      <th>16729363</th>\n",
       "      <th>16729415</th>\n",
       "      <th>16769972</th>\n",
       "      <th>16830135</th>\n",
       "      <th>17105257</th>\n",
       "      <th>17105530</th>\n",
       "      <th>17242362</th>\n",
       "    </tr>\n",
       "    <tr>\n",
       "      <th>user_id</th>\n",
       "      <th></th>\n",
       "      <th></th>\n",
       "      <th></th>\n",
       "      <th></th>\n",
       "      <th></th>\n",
       "      <th></th>\n",
       "      <th></th>\n",
       "      <th></th>\n",
       "      <th></th>\n",
       "      <th></th>\n",
       "      <th></th>\n",
       "      <th></th>\n",
       "      <th></th>\n",
       "      <th></th>\n",
       "      <th></th>\n",
       "      <th></th>\n",
       "      <th></th>\n",
       "      <th></th>\n",
       "      <th></th>\n",
       "      <th></th>\n",
       "      <th></th>\n",
       "    </tr>\n",
       "  </thead>\n",
       "  <tbody>\n",
       "    <tr>\n",
       "      <th>1</th>\n",
       "      <td>0.0</td>\n",
       "      <td>0.0</td>\n",
       "      <td>0.0</td>\n",
       "      <td>0.0</td>\n",
       "      <td>0.0</td>\n",
       "      <td>0.0</td>\n",
       "      <td>0.0</td>\n",
       "      <td>0.0</td>\n",
       "      <td>0.0</td>\n",
       "      <td>0.0</td>\n",
       "      <td>...</td>\n",
       "      <td>0.0</td>\n",
       "      <td>0.0</td>\n",
       "      <td>0.0</td>\n",
       "      <td>0.0</td>\n",
       "      <td>0.0</td>\n",
       "      <td>0.0</td>\n",
       "      <td>0.0</td>\n",
       "      <td>0.0</td>\n",
       "      <td>0.0</td>\n",
       "      <td>0.0</td>\n",
       "    </tr>\n",
       "    <tr>\n",
       "      <th>2</th>\n",
       "      <td>0.0</td>\n",
       "      <td>0.0</td>\n",
       "      <td>0.0</td>\n",
       "      <td>0.0</td>\n",
       "      <td>0.0</td>\n",
       "      <td>0.0</td>\n",
       "      <td>0.0</td>\n",
       "      <td>0.0</td>\n",
       "      <td>0.0</td>\n",
       "      <td>0.0</td>\n",
       "      <td>...</td>\n",
       "      <td>0.0</td>\n",
       "      <td>0.0</td>\n",
       "      <td>0.0</td>\n",
       "      <td>0.0</td>\n",
       "      <td>0.0</td>\n",
       "      <td>0.0</td>\n",
       "      <td>0.0</td>\n",
       "      <td>0.0</td>\n",
       "      <td>0.0</td>\n",
       "      <td>0.0</td>\n",
       "    </tr>\n",
       "    <tr>\n",
       "      <th>3</th>\n",
       "      <td>0.0</td>\n",
       "      <td>0.0</td>\n",
       "      <td>0.0</td>\n",
       "      <td>0.0</td>\n",
       "      <td>0.0</td>\n",
       "      <td>0.0</td>\n",
       "      <td>0.0</td>\n",
       "      <td>0.0</td>\n",
       "      <td>0.0</td>\n",
       "      <td>0.0</td>\n",
       "      <td>...</td>\n",
       "      <td>0.0</td>\n",
       "      <td>0.0</td>\n",
       "      <td>0.0</td>\n",
       "      <td>0.0</td>\n",
       "      <td>0.0</td>\n",
       "      <td>0.0</td>\n",
       "      <td>0.0</td>\n",
       "      <td>0.0</td>\n",
       "      <td>0.0</td>\n",
       "      <td>0.0</td>\n",
       "    </tr>\n",
       "  </tbody>\n",
       "</table>\n",
       "<p>3 rows × 5001 columns</p>\n",
       "</div>"
      ],
      "text/plain": [
       "item_id  27978     269894    323018    818981    819255    819308    819330    \\\n",
       "user_id                                                                         \n",
       "1             0.0       0.0       0.0       0.0       0.0       0.0       0.0   \n",
       "2             0.0       0.0       0.0       0.0       0.0       0.0       0.0   \n",
       "3             0.0       0.0       0.0       0.0       0.0       0.0       0.0   \n",
       "\n",
       "item_id  819400    819518    819549    ...  16053242  16122432  16729299  \\\n",
       "user_id                                ...                                 \n",
       "1             0.0       0.0       0.0  ...       0.0       0.0       0.0   \n",
       "2             0.0       0.0       0.0  ...       0.0       0.0       0.0   \n",
       "3             0.0       0.0       0.0  ...       0.0       0.0       0.0   \n",
       "\n",
       "item_id  16729363  16729415  16769972  16830135  17105257  17105530  17242362  \n",
       "user_id                                                                        \n",
       "1             0.0       0.0       0.0       0.0       0.0       0.0       0.0  \n",
       "2             0.0       0.0       0.0       0.0       0.0       0.0       0.0  \n",
       "3             0.0       0.0       0.0       0.0       0.0       0.0       0.0  \n",
       "\n",
       "[3 rows x 5001 columns]"
      ]
     },
     "execution_count": 31,
     "metadata": {},
     "output_type": "execute_result"
    }
   ],
   "source": [
    "user_item_matrix = pd.pivot_table(df_data_train,\n",
    "                                  index='user_id',\n",
    "                                  columns='item_id', \n",
    "                                  values='retail_disc',\n",
    "#                                   aggfunc='count', \n",
    "                                  aggfunc='sum',\n",
    "                                  fill_value=0\n",
    "                                 )\n",
    "\n",
    "# Необходимый тип матрицы для implicit.\n",
    "user_item_matrix = user_item_matrix.astype(float) \n",
    "\n",
    "# Перевод в формат saprse matrix.\n",
    "sparse_user_item = csr_matrix(user_item_matrix).tocsr()\n",
    "\n",
    "user_item_matrix.head(3)"
   ]
  },
  {
   "cell_type": "markdown",
   "id": "adb298b0",
   "metadata": {},
   "source": [
    "#### Словари перевода user_id и item_id к порядковым id и наоброт"
   ]
  },
  {
   "cell_type": "code",
   "execution_count": 32,
   "id": "561cf24c",
   "metadata": {},
   "outputs": [],
   "source": [
    "userids = user_item_matrix.index.values\n",
    "itemids = user_item_matrix.columns.values\n",
    "\n",
    "matrix_userids = np.arange(len(userids))\n",
    "matrix_itemids = np.arange(len(itemids))\n",
    "\n",
    "id_to_itemid = dict(zip(matrix_itemids, itemids))\n",
    "id_to_userid = dict(zip(matrix_userids, userids))\n",
    "\n",
    "itemid_to_id = dict(zip(itemids, matrix_itemids))\n",
    "userid_to_id = dict(zip(userids, matrix_userids))"
   ]
  },
  {
   "cell_type": "markdown",
   "id": "4da1b289",
   "metadata": {},
   "source": [
    "#### Базовая модель из урока"
   ]
  },
  {
   "cell_type": "code",
   "execution_count": 33,
   "id": "f2623ad3",
   "metadata": {},
   "outputs": [
    {
     "data": {
      "application/vnd.jupyter.widget-view+json": {
       "model_id": "b713081acdb145809b492ea4b0165e1c",
       "version_major": 2,
       "version_minor": 0
      },
      "text/plain": [
       "  0%|          | 0/15 [00:00<?, ?it/s]"
      ]
     },
     "metadata": {},
     "output_type": "display_data"
    },
    {
     "name": "stdout",
     "output_type": "stream",
     "text": [
      "Wall time: 10 s\n"
     ]
    },
    {
     "data": {
      "text/plain": [
       "0.13976493633692458"
      ]
     },
     "execution_count": 33,
     "metadata": {},
     "output_type": "execute_result"
    }
   ],
   "source": [
    "%%time\n",
    "\n",
    "\n",
    "model = AlternatingLeastSquares(factors=44, \n",
    "                                regularization=0.001,\n",
    "                                iterations=15, \n",
    "                                calculate_training_loss=True, \n",
    "                                use_gpu=False)\n",
    "\n",
    "model.fit(csr_matrix(user_item_matrix).T.tocsr(),  # На вход item-user matrix\n",
    "          show_progress=True)\n",
    "\n",
    "result = result_test.copy()\n",
    "result['als'] = result['user_id'].apply(lambda x: get_recommendations(x, model=model, N=5))\n",
    "metric_base_als = result.apply(lambda row: precision_at_k(row['als'], row['actual']), axis=1).mean()\n",
    "del result\n",
    "\n",
    "metric_base_als"
   ]
  },
  {
   "cell_type": "markdown",
   "id": "f91f2cd8",
   "metadata": {},
   "source": [
    "Используем метрику базовой модели из урока для оценки перебора параметров."
   ]
  },
  {
   "cell_type": "markdown",
   "id": "ce70b1da",
   "metadata": {},
   "source": [
    "#### Обучение модели при помощи перебора параметров"
   ]
  },
  {
   "cell_type": "code",
   "execution_count": 34,
   "id": "5fcb2fd2",
   "metadata": {},
   "outputs": [
    {
     "data": {
      "text/html": [
       "<div>\n",
       "<style scoped>\n",
       "    .dataframe tbody tr th:only-of-type {\n",
       "        vertical-align: middle;\n",
       "    }\n",
       "\n",
       "    .dataframe tbody tr th {\n",
       "        vertical-align: top;\n",
       "    }\n",
       "\n",
       "    .dataframe thead th {\n",
       "        text-align: right;\n",
       "    }\n",
       "</style>\n",
       "<table border=\"1\" class=\"dataframe\">\n",
       "  <thead>\n",
       "    <tr style=\"text-align: right;\">\n",
       "      <th></th>\n",
       "      <th>25</th>\n",
       "      <th>30</th>\n",
       "      <th>35</th>\n",
       "    </tr>\n",
       "  </thead>\n",
       "  <tbody>\n",
       "    <tr>\n",
       "      <th>0.1</th>\n",
       "      <td>0.0</td>\n",
       "      <td>0.0</td>\n",
       "      <td>0.0</td>\n",
       "    </tr>\n",
       "    <tr>\n",
       "      <th>0.05</th>\n",
       "      <td>0.0</td>\n",
       "      <td>0.0</td>\n",
       "      <td>0.0</td>\n",
       "    </tr>\n",
       "    <tr>\n",
       "      <th>0.01</th>\n",
       "      <td>0.0</td>\n",
       "      <td>0.0</td>\n",
       "      <td>0.0</td>\n",
       "    </tr>\n",
       "    <tr>\n",
       "      <th>0.005</th>\n",
       "      <td>0.0</td>\n",
       "      <td>0.0</td>\n",
       "      <td>0.0</td>\n",
       "    </tr>\n",
       "    <tr>\n",
       "      <th>0.001</th>\n",
       "      <td>0.0</td>\n",
       "      <td>0.0</td>\n",
       "      <td>0.0</td>\n",
       "    </tr>\n",
       "  </tbody>\n",
       "</table>\n",
       "</div>"
      ],
      "text/plain": [
       "        25   30   35\n",
       "0.1    0.0  0.0  0.0\n",
       "0.05   0.0  0.0  0.0\n",
       "0.01   0.0  0.0  0.0\n",
       "0.005  0.0  0.0  0.0\n",
       "0.001  0.0  0.0  0.0"
      ]
     },
     "execution_count": 34,
     "metadata": {},
     "output_type": "execute_result"
    }
   ],
   "source": [
    "# Формирование таблицы гиперпараметров для подсчёта метрик\n",
    "# столбцы - количество итераций,\n",
    "# строки - коэффициенты ругеляризации.\n",
    "# Данные параметры были получены методом перебора.\n",
    "df_metrics = pd.DataFrame(np.zeros((5, 3)),\n",
    "                          index=['0.1', '0.05', '0.01', '0.005', '0.001'],\n",
    "                          columns=['25', '30', '35',])\n",
    "\n",
    "# Проверка.\n",
    "df_metrics"
   ]
  },
  {
   "cell_type": "code",
   "execution_count": 35,
   "id": "617c8d00",
   "metadata": {
    "scrolled": true
   },
   "outputs": [
    {
     "name": "stdout",
     "output_type": "stream",
     "text": [
      "Wall time: 3min 41s\n"
     ]
    }
   ],
   "source": [
    "%%time\n",
    "\n",
    "\n",
    "# Формирования таблиц метрик для обучающей и валидационной выборок.\n",
    "df_metrics_retail_disc_train = df_metrics.copy()\n",
    "df_metrics_retail_disc_test = df_metrics.copy()\n",
    "\n",
    "# Перебор гиперпараметров, указанных в таблице метрик.\n",
    "for n_factors in df_metrics_retail_disc_train.columns:\n",
    "    for reg_coeff in df_metrics_retail_disc_train.index:\n",
    "        \n",
    "        # Таблицы для оценки качества прогнозирования.\n",
    "        result_train_temp = result_train.copy()\n",
    "        result_test_temp = result_test.copy()\n",
    "        \n",
    "        # Инициализация модели с выбранными гиперпараметрами.\n",
    "        model = AlternatingLeastSquares(factors=int(n_factors),\n",
    "                                        regularization=float(reg_coeff),\n",
    "                                        iterations=15,\n",
    "                                        calculate_training_loss=True,\n",
    "                                        use_gpu=False)\n",
    "        \n",
    "        # Обучение модели.\n",
    "        model.fit(csr_matrix(user_item_matrix).T.tocsr(), show_progress=False)\n",
    "        \n",
    "        # Прогнозирование о оценка качества на тернировочной выборке.\n",
    "        result_train_temp['als'] = result_train_temp['user_id'].apply(lambda x: get_recommendations(x, model=model, N=5))\n",
    "        df_metrics_retail_disc_train.loc[reg_coeff, n_factors] = (\n",
    "            result_train_temp\n",
    "            .apply(lambda row: precision_at_k(row['als'], row['actual']), axis=1)\n",
    "            .mean()        \n",
    "        )\n",
    "        del result_train_temp\n",
    "        \n",
    "        # Прогнозирование о оценка качества на валидационной выборке.\n",
    "        result_test_temp['als'] = result_test_temp['user_id'].apply(lambda x: get_recommendations(x, model=model, N=5))\n",
    "        df_metrics_retail_disc_test.loc[reg_coeff, n_factors] = (\n",
    "            result_test_temp\n",
    "            .apply(lambda row: precision_at_k(row['als'], row['actual']), axis=1)\n",
    "            .mean()        \n",
    "        )   \n",
    "        del result_test_temp"
   ]
  },
  {
   "cell_type": "code",
   "execution_count": 36,
   "id": "021ed66b",
   "metadata": {},
   "outputs": [
    {
     "data": {
      "text/html": [
       "<div>\n",
       "<style scoped>\n",
       "    .dataframe tbody tr th:only-of-type {\n",
       "        vertical-align: middle;\n",
       "    }\n",
       "\n",
       "    .dataframe tbody tr th {\n",
       "        vertical-align: top;\n",
       "    }\n",
       "\n",
       "    .dataframe thead th {\n",
       "        text-align: right;\n",
       "    }\n",
       "</style>\n",
       "<table border=\"1\" class=\"dataframe\">\n",
       "  <thead>\n",
       "    <tr style=\"text-align: right;\">\n",
       "      <th></th>\n",
       "      <th>25</th>\n",
       "      <th>30</th>\n",
       "      <th>35</th>\n",
       "    </tr>\n",
       "  </thead>\n",
       "  <tbody>\n",
       "    <tr>\n",
       "      <th>0.1</th>\n",
       "      <td>0.585354</td>\n",
       "      <td>0.612885</td>\n",
       "      <td>0.629932</td>\n",
       "    </tr>\n",
       "    <tr>\n",
       "      <th>0.05</th>\n",
       "      <td>0.583113</td>\n",
       "      <td>0.607043</td>\n",
       "      <td>0.633373</td>\n",
       "    </tr>\n",
       "    <tr>\n",
       "      <th>0.01</th>\n",
       "      <td>0.584954</td>\n",
       "      <td>0.611605</td>\n",
       "      <td>0.632573</td>\n",
       "    </tr>\n",
       "    <tr>\n",
       "      <th>0.005</th>\n",
       "      <td>0.590236</td>\n",
       "      <td>0.615926</td>\n",
       "      <td>0.632093</td>\n",
       "    </tr>\n",
       "    <tr>\n",
       "      <th>0.001</th>\n",
       "      <td>0.591597</td>\n",
       "      <td>0.615206</td>\n",
       "      <td>0.640336</td>\n",
       "    </tr>\n",
       "  </tbody>\n",
       "</table>\n",
       "</div>"
      ],
      "text/plain": [
       "             25        30        35\n",
       "0.1    0.585354  0.612885  0.629932\n",
       "0.05   0.583113  0.607043  0.633373\n",
       "0.01   0.584954  0.611605  0.632573\n",
       "0.005  0.590236  0.615926  0.632093\n",
       "0.001  0.591597  0.615206  0.640336"
      ]
     },
     "execution_count": 36,
     "metadata": {},
     "output_type": "execute_result"
    }
   ],
   "source": [
    "df_metrics_retail_disc_train"
   ]
  },
  {
   "cell_type": "code",
   "execution_count": 37,
   "id": "304cb91d",
   "metadata": {},
   "outputs": [
    {
     "data": {
      "text/html": [
       "<div>\n",
       "<style scoped>\n",
       "    .dataframe tbody tr th:only-of-type {\n",
       "        vertical-align: middle;\n",
       "    }\n",
       "\n",
       "    .dataframe tbody tr th {\n",
       "        vertical-align: top;\n",
       "    }\n",
       "\n",
       "    .dataframe thead th {\n",
       "        text-align: right;\n",
       "    }\n",
       "</style>\n",
       "<table border=\"1\" class=\"dataframe\">\n",
       "  <thead>\n",
       "    <tr style=\"text-align: right;\">\n",
       "      <th></th>\n",
       "      <th>25</th>\n",
       "      <th>30</th>\n",
       "      <th>35</th>\n",
       "    </tr>\n",
       "  </thead>\n",
       "  <tbody>\n",
       "    <tr>\n",
       "      <th>0.1</th>\n",
       "      <td>0.132125</td>\n",
       "      <td>0.135847</td>\n",
       "      <td>0.137512</td>\n",
       "    </tr>\n",
       "    <tr>\n",
       "      <th>0.05</th>\n",
       "      <td>0.132419</td>\n",
       "      <td>0.136435</td>\n",
       "      <td>0.136239</td>\n",
       "    </tr>\n",
       "    <tr>\n",
       "      <th>0.01</th>\n",
       "      <td>0.131342</td>\n",
       "      <td>0.132615</td>\n",
       "      <td>0.137218</td>\n",
       "    </tr>\n",
       "    <tr>\n",
       "      <th>0.005</th>\n",
       "      <td>0.130069</td>\n",
       "      <td>0.137512</td>\n",
       "      <td>0.140157</td>\n",
       "    </tr>\n",
       "    <tr>\n",
       "      <th>0.001</th>\n",
       "      <td>0.135162</td>\n",
       "      <td>0.135064</td>\n",
       "      <td>0.137610</td>\n",
       "    </tr>\n",
       "  </tbody>\n",
       "</table>\n",
       "</div>"
      ],
      "text/plain": [
       "             25        30        35\n",
       "0.1    0.132125  0.135847  0.137512\n",
       "0.05   0.132419  0.136435  0.136239\n",
       "0.01   0.131342  0.132615  0.137218\n",
       "0.005  0.130069  0.137512  0.140157\n",
       "0.001  0.135162  0.135064  0.137610"
      ]
     },
     "execution_count": 37,
     "metadata": {},
     "output_type": "execute_result"
    }
   ],
   "source": [
    "df_metrics_retail_disc_test"
   ]
  },
  {
   "cell_type": "markdown",
   "id": "f3c4cb5a",
   "metadata": {},
   "source": [
    "Анализ метрик качества обученной модели на основе признака \"retail_disc\" показал следующие особенности:\n",
    "- качество прогнозирования на обучающей выборке гораздо лучше, чем на валидационной. Модель также переобучилась;\n",
    "- перебор гиперпараметров не дал существенного улучшения метрик зачества;\n",
    "- аналогично \"sales_value\", качество базовой модели и моделей с перебором гиперпараметров хуже, чем у аналогичных моделей, обученных на основе признака \"quantity\"."
   ]
  },
  {
   "cell_type": "markdown",
   "id": "c7d4659d",
   "metadata": {},
   "source": [
    "### Выводы"
   ]
  },
  {
   "cell_type": "markdown",
   "id": "cbf28e67",
   "metadata": {},
   "source": [
    "Все модели продемонстрировали примерно одинаковые затраты времени на обучения при переборе гиперпараметров - около 3 с половиной минут.\n",
    "\n",
    "Наилучшие метрики качества показала модель построенная на основе признака \"quantity\". Перебор гиперпараметров помог ещё больше улучшить метрику.\n",
    "\n",
    "Для двух моделей \"quantity\" и \"sales_value\" перебор гиперпараметров показал улучшение метрик качества. Для модели \"retail_disc\" перебор не дал существенного улучшения результатов."
   ]
  },
  {
   "cell_type": "code",
   "execution_count": null,
   "id": "c476999a",
   "metadata": {},
   "outputs": [],
   "source": []
  }
 ],
 "metadata": {
  "kernelspec": {
   "display_name": "Python 3 (ipykernel)",
   "language": "python",
   "name": "python3"
  },
  "language_info": {
   "codemirror_mode": {
    "name": "ipython",
    "version": 3
   },
   "file_extension": ".py",
   "mimetype": "text/x-python",
   "name": "python",
   "nbconvert_exporter": "python",
   "pygments_lexer": "ipython3",
   "version": "3.9.4"
  }
 },
 "nbformat": 4,
 "nbformat_minor": 5
}
