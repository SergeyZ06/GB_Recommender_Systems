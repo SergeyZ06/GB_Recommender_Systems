{
 "cells": [
  {
   "cell_type": "markdown",
   "id": "96f11651",
   "metadata": {},
   "source": [
    "# 3th_homework"
   ]
  },
  {
   "cell_type": "markdown",
   "id": "77121a4e",
   "metadata": {},
   "source": [
    "### Import Section"
   ]
  },
  {
   "cell_type": "code",
   "execution_count": 4,
   "id": "4e2d9176",
   "metadata": {},
   "outputs": [],
   "source": [
    "import numpy as np\n",
    "import pandas as pd\n",
    "\n",
    "import implicit"
   ]
  },
  {
   "cell_type": "markdown",
   "id": "43777fd6",
   "metadata": {},
   "source": [
    "### Global Settings Section"
   ]
  },
  {
   "cell_type": "code",
   "execution_count": 5,
   "id": "12ca44ce",
   "metadata": {},
   "outputs": [],
   "source": [
    "# random_state_global = 0"
   ]
  },
  {
   "cell_type": "markdown",
   "id": "81d4ed99",
   "metadata": {},
   "source": [
    "### Path Section"
   ]
  },
  {
   "cell_type": "code",
   "execution_count": 6,
   "id": "8f863143",
   "metadata": {},
   "outputs": [],
   "source": [
    "# PATH_DATA_"
   ]
  },
  {
   "cell_type": "markdown",
   "id": "1e78741b",
   "metadata": {},
   "source": [
    "## Theoretical Part"
   ]
  },
  {
   "cell_type": "markdown",
   "id": "f042bbca",
   "metadata": {},
   "source": [
    "1. <Вопрос 1>\n",
    "\n",
    "    User-User рекомендации строятся на оценке эмбеддинга пользователя:\n",
    "        - эмбеддинг пользователя;\n",
    "        - поиск наиболее похожих пользователей;\n",
    "        - подготовка рекомендаций на основе усреднённой оценки пользователей.\n",
    "    \n",
    "    Item-Item рекомендации, аналогично, используют эмбеддинг продукта:\n",
    "        - эмбеддинг продукта;\n",
    "        - поиск наиболее похожих продуктов;\n",
    "        - рекомендация новых товаров для пользователя.\n",
    "    \n",
    "    Схожесть заключается в эмбеддинге и поиске похожих пользователей или продуктов. Различия - для продуктов достаточно рекомендовать наиболее похожие продукты согласно некой мере схожести, для пользователей нужна некая грруповая оценка новых продуктов.\n",
    "    \n",
    "    Поэтому без доработок функцию вряд ли получится применить.\n",
    "    \n",
    "    ALS отличается от Item-Item тем, что использует категоризацию пользователей и продуктов. Item-Item использует наиболее похожие продукты, а ALS наиболее близкие категории как для продуктов, так и для пользователей. Затем для пользователей с соответствующей категорией могут быть подобраны наиболее вероятные продукты из этой категории."
   ]
  },
  {
   "cell_type": "markdown",
   "id": "7d88f930",
   "metadata": {},
   "source": [
    "**Заглушка, до 04.04.22 постараюсь выполнить работу.**"
   ]
  },
  {
   "cell_type": "code",
   "execution_count": null,
   "id": "7a060e62",
   "metadata": {},
   "outputs": [],
   "source": []
  }
 ],
 "metadata": {
  "kernelspec": {
   "display_name": "Python 3 (ipykernel)",
   "language": "python",
   "name": "python3"
  },
  "language_info": {
   "codemirror_mode": {
    "name": "ipython",
    "version": 3
   },
   "file_extension": ".py",
   "mimetype": "text/x-python",
   "name": "python",
   "nbconvert_exporter": "python",
   "pygments_lexer": "ipython3",
   "version": "3.9.4"
  }
 },
 "nbformat": 4,
 "nbformat_minor": 5
}
