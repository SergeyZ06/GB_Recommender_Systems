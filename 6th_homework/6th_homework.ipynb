{
 "cells": [
  {
   "cell_type": "markdown",
   "id": "a6b1b75d",
   "metadata": {},
   "source": [
    "# 6th_homework"
   ]
  },
  {
   "cell_type": "markdown",
   "id": "c9724f7f",
   "metadata": {},
   "source": [
    "### Import Section"
   ]
  },
  {
   "cell_type": "code",
   "execution_count": 1,
   "id": "170a73d9",
   "metadata": {},
   "outputs": [],
   "source": [
    "import numpy as np\n",
    "import pandas as pd\n",
    "\n",
    "from scipy.sparse import csr_matrix\n",
    "\n",
    "from implicit.als import AlternatingLeastSquares\n",
    "from implicit.nearest_neighbours import ItemItemRecommender\n",
    "\n",
    "from lightgbm import LGBMClassifier\n",
    "from catboost import CatBoostClassifier\n",
    "\n",
    "from src import utils\n",
    "from src import recommenders\n",
    "from src import metrics\n",
    "\n",
    "from matplotlib import pyplot as plt\n",
    "\n",
    "from sklearn.metrics import classification_report\n",
    "from sklearn.metrics import precision_score"
   ]
  },
  {
   "cell_type": "markdown",
   "id": "7c2dc831",
   "metadata": {},
   "source": [
    "### Global Settings Section"
   ]
  },
  {
   "cell_type": "code",
   "execution_count": 2,
   "id": "650fe7fa",
   "metadata": {},
   "outputs": [],
   "source": [
    "random_state_global = 0"
   ]
  },
  {
   "cell_type": "markdown",
   "id": "1c2b5858",
   "metadata": {},
   "source": [
    "### Path Section"
   ]
  },
  {
   "cell_type": "code",
   "execution_count": 3,
   "id": "f4954665",
   "metadata": {},
   "outputs": [],
   "source": [
    "PATH_DATA = r'../2th lesson/retail_train.csv'\n",
    "PATH_ITEM_FEATURES = r'../2th lesson/product.csv'\n",
    "PATH_USER_FEATURES = r'../2th lesson/hh_demographic.csv'"
   ]
  },
  {
   "cell_type": "markdown",
   "id": "58523a12",
   "metadata": {},
   "source": [
    "## Задание 1"
   ]
  },
  {
   "cell_type": "markdown",
   "id": "a7455bfe",
   "metadata": {},
   "source": [
    "A) Попробуйте различные варианты генерации кандидатов. Какие из них дают наибольший recall@k ?\n",
    "- Пока пробуем отобрать 50 кандидатов (k=50)\n",
    "- Качество измеряем на data_val_lvl_1: следующие 6 недель после трейна\n",
    "\n",
    "Дают ли own recommendtions + top-popular лучший recall?  \n",
    "\n",
    "B)* Как зависит recall@k от k? Постройте для одной схемы генерации кандидатов эту зависимость для k = {20, 50, 100, 200, 500}  \n",
    "C)* Исходя из прошлого вопроса, как вы думаете, какое значение k является наиболее разумным?"
   ]
  },
  {
   "cell_type": "markdown",
   "id": "2476065f",
   "metadata": {},
   "source": [
    "#### Загрузка данных"
   ]
  },
  {
   "cell_type": "code",
   "execution_count": 4,
   "id": "fe5f65da",
   "metadata": {},
   "outputs": [],
   "source": [
    "# Загрузка данных.\n",
    "data = pd.read_csv(PATH_DATA)\n",
    "item_features = pd.read_csv(PATH_ITEM_FEATURES)\n",
    "user_features = pd.read_csv(PATH_USER_FEATURES)\n",
    "\n",
    "# Обработка названий столбцов.\n",
    "item_features.columns = [col.lower() for col in item_features.columns]\n",
    "user_features.columns = [col.lower() for col in user_features.columns]\n",
    "\n",
    "item_features = item_features.rename(columns={'product_id': 'item_id'})\n",
    "user_features = user_features.rename(columns={'household_key': 'user_id'})"
   ]
  },
  {
   "cell_type": "code",
   "execution_count": 5,
   "id": "56a41759",
   "metadata": {},
   "outputs": [
    {
     "data": {
      "text/html": [
       "<div>\n",
       "<style scoped>\n",
       "    .dataframe tbody tr th:only-of-type {\n",
       "        vertical-align: middle;\n",
       "    }\n",
       "\n",
       "    .dataframe tbody tr th {\n",
       "        vertical-align: top;\n",
       "    }\n",
       "\n",
       "    .dataframe thead th {\n",
       "        text-align: right;\n",
       "    }\n",
       "</style>\n",
       "<table border=\"1\" class=\"dataframe\">\n",
       "  <thead>\n",
       "    <tr style=\"text-align: right;\">\n",
       "      <th></th>\n",
       "      <th>user_id</th>\n",
       "      <th>basket_id</th>\n",
       "      <th>day</th>\n",
       "      <th>item_id</th>\n",
       "      <th>quantity</th>\n",
       "      <th>sales_value</th>\n",
       "      <th>store_id</th>\n",
       "      <th>retail_disc</th>\n",
       "      <th>trans_time</th>\n",
       "      <th>week_no</th>\n",
       "      <th>coupon_disc</th>\n",
       "      <th>coupon_match_disc</th>\n",
       "    </tr>\n",
       "  </thead>\n",
       "  <tbody>\n",
       "    <tr>\n",
       "      <th>0</th>\n",
       "      <td>2375</td>\n",
       "      <td>26984851472</td>\n",
       "      <td>1</td>\n",
       "      <td>1004906</td>\n",
       "      <td>1</td>\n",
       "      <td>1.39</td>\n",
       "      <td>364</td>\n",
       "      <td>-0.6</td>\n",
       "      <td>1631</td>\n",
       "      <td>1</td>\n",
       "      <td>0.0</td>\n",
       "      <td>0.0</td>\n",
       "    </tr>\n",
       "    <tr>\n",
       "      <th>1</th>\n",
       "      <td>2375</td>\n",
       "      <td>26984851472</td>\n",
       "      <td>1</td>\n",
       "      <td>1033142</td>\n",
       "      <td>1</td>\n",
       "      <td>0.82</td>\n",
       "      <td>364</td>\n",
       "      <td>0.0</td>\n",
       "      <td>1631</td>\n",
       "      <td>1</td>\n",
       "      <td>0.0</td>\n",
       "      <td>0.0</td>\n",
       "    </tr>\n",
       "  </tbody>\n",
       "</table>\n",
       "</div>"
      ],
      "text/plain": [
       "   user_id    basket_id  day  item_id  quantity  sales_value  store_id  \\\n",
       "0     2375  26984851472    1  1004906         1         1.39       364   \n",
       "1     2375  26984851472    1  1033142         1         0.82       364   \n",
       "\n",
       "   retail_disc  trans_time  week_no  coupon_disc  coupon_match_disc  \n",
       "0         -0.6        1631        1          0.0                0.0  \n",
       "1          0.0        1631        1          0.0                0.0  "
      ]
     },
     "execution_count": 5,
     "metadata": {},
     "output_type": "execute_result"
    }
   ],
   "source": [
    "# Проверка.\n",
    "data.head(2)"
   ]
  },
  {
   "cell_type": "code",
   "execution_count": 6,
   "id": "476a3ee0",
   "metadata": {},
   "outputs": [
    {
     "data": {
      "text/html": [
       "<div>\n",
       "<style scoped>\n",
       "    .dataframe tbody tr th:only-of-type {\n",
       "        vertical-align: middle;\n",
       "    }\n",
       "\n",
       "    .dataframe tbody tr th {\n",
       "        vertical-align: top;\n",
       "    }\n",
       "\n",
       "    .dataframe thead th {\n",
       "        text-align: right;\n",
       "    }\n",
       "</style>\n",
       "<table border=\"1\" class=\"dataframe\">\n",
       "  <thead>\n",
       "    <tr style=\"text-align: right;\">\n",
       "      <th></th>\n",
       "      <th>item_id</th>\n",
       "      <th>manufacturer</th>\n",
       "      <th>department</th>\n",
       "      <th>brand</th>\n",
       "      <th>commodity_desc</th>\n",
       "      <th>sub_commodity_desc</th>\n",
       "      <th>curr_size_of_product</th>\n",
       "    </tr>\n",
       "  </thead>\n",
       "  <tbody>\n",
       "    <tr>\n",
       "      <th>0</th>\n",
       "      <td>25671</td>\n",
       "      <td>2</td>\n",
       "      <td>GROCERY</td>\n",
       "      <td>National</td>\n",
       "      <td>FRZN ICE</td>\n",
       "      <td>ICE - CRUSHED/CUBED</td>\n",
       "      <td>22 LB</td>\n",
       "    </tr>\n",
       "    <tr>\n",
       "      <th>1</th>\n",
       "      <td>26081</td>\n",
       "      <td>2</td>\n",
       "      <td>MISC. TRANS.</td>\n",
       "      <td>National</td>\n",
       "      <td>NO COMMODITY DESCRIPTION</td>\n",
       "      <td>NO SUBCOMMODITY DESCRIPTION</td>\n",
       "      <td></td>\n",
       "    </tr>\n",
       "  </tbody>\n",
       "</table>\n",
       "</div>"
      ],
      "text/plain": [
       "   item_id  manufacturer    department     brand            commodity_desc  \\\n",
       "0    25671             2       GROCERY  National                  FRZN ICE   \n",
       "1    26081             2  MISC. TRANS.  National  NO COMMODITY DESCRIPTION   \n",
       "\n",
       "            sub_commodity_desc curr_size_of_product  \n",
       "0          ICE - CRUSHED/CUBED                22 LB  \n",
       "1  NO SUBCOMMODITY DESCRIPTION                       "
      ]
     },
     "execution_count": 6,
     "metadata": {},
     "output_type": "execute_result"
    }
   ],
   "source": [
    "# Проверка.\n",
    "item_features.head(2)"
   ]
  },
  {
   "cell_type": "code",
   "execution_count": 7,
   "id": "6e434120",
   "metadata": {
    "scrolled": true
   },
   "outputs": [
    {
     "data": {
      "text/html": [
       "<div>\n",
       "<style scoped>\n",
       "    .dataframe tbody tr th:only-of-type {\n",
       "        vertical-align: middle;\n",
       "    }\n",
       "\n",
       "    .dataframe tbody tr th {\n",
       "        vertical-align: top;\n",
       "    }\n",
       "\n",
       "    .dataframe thead th {\n",
       "        text-align: right;\n",
       "    }\n",
       "</style>\n",
       "<table border=\"1\" class=\"dataframe\">\n",
       "  <thead>\n",
       "    <tr style=\"text-align: right;\">\n",
       "      <th></th>\n",
       "      <th>age_desc</th>\n",
       "      <th>marital_status_code</th>\n",
       "      <th>income_desc</th>\n",
       "      <th>homeowner_desc</th>\n",
       "      <th>hh_comp_desc</th>\n",
       "      <th>household_size_desc</th>\n",
       "      <th>kid_category_desc</th>\n",
       "      <th>user_id</th>\n",
       "    </tr>\n",
       "  </thead>\n",
       "  <tbody>\n",
       "    <tr>\n",
       "      <th>0</th>\n",
       "      <td>65+</td>\n",
       "      <td>A</td>\n",
       "      <td>35-49K</td>\n",
       "      <td>Homeowner</td>\n",
       "      <td>2 Adults No Kids</td>\n",
       "      <td>2</td>\n",
       "      <td>None/Unknown</td>\n",
       "      <td>1</td>\n",
       "    </tr>\n",
       "    <tr>\n",
       "      <th>1</th>\n",
       "      <td>45-54</td>\n",
       "      <td>A</td>\n",
       "      <td>50-74K</td>\n",
       "      <td>Homeowner</td>\n",
       "      <td>2 Adults No Kids</td>\n",
       "      <td>2</td>\n",
       "      <td>None/Unknown</td>\n",
       "      <td>7</td>\n",
       "    </tr>\n",
       "  </tbody>\n",
       "</table>\n",
       "</div>"
      ],
      "text/plain": [
       "  age_desc marital_status_code income_desc homeowner_desc      hh_comp_desc  \\\n",
       "0      65+                   A      35-49K      Homeowner  2 Adults No Kids   \n",
       "1    45-54                   A      50-74K      Homeowner  2 Adults No Kids   \n",
       "\n",
       "  household_size_desc kid_category_desc  user_id  \n",
       "0                   2      None/Unknown        1  \n",
       "1                   2      None/Unknown        7  "
      ]
     },
     "execution_count": 7,
     "metadata": {},
     "output_type": "execute_result"
    }
   ],
   "source": [
    "# Проверка.\n",
    "user_features.head(2)"
   ]
  },
  {
   "cell_type": "markdown",
   "id": "54f22fbb",
   "metadata": {},
   "source": [
    "#### Разбиение данных"
   ]
  },
  {
   "cell_type": "code",
   "execution_count": 8,
   "id": "f3325954",
   "metadata": {},
   "outputs": [],
   "source": [
    "# Разбиение данных.\n",
    "data_train, data_test = utils.train_test_split(data, 'week_no', data['week_no'].max() - 9)\n",
    "data_valid, data_test = utils.train_test_split(data_test, 'week_no', data_test['week_no'].max() - 3)"
   ]
  },
  {
   "cell_type": "code",
   "execution_count": 9,
   "id": "6d52eb3a",
   "metadata": {},
   "outputs": [
    {
     "data": {
      "text/plain": [
       "(2396804, 12)"
      ]
     },
     "execution_count": 9,
     "metadata": {},
     "output_type": "execute_result"
    }
   ],
   "source": [
    "# Проверка: размер исходного набора данных.\n",
    "data.shape"
   ]
  },
  {
   "cell_type": "code",
   "execution_count": 10,
   "id": "91728023",
   "metadata": {},
   "outputs": [
    {
     "data": {
      "text/plain": [
       "(2108779, 12)"
      ]
     },
     "execution_count": 10,
     "metadata": {},
     "output_type": "execute_result"
    }
   ],
   "source": [
    "# Проверка: размер обучающего набора данных.\n",
    "data_train.shape"
   ]
  },
  {
   "cell_type": "code",
   "execution_count": 11,
   "id": "a7f876da",
   "metadata": {},
   "outputs": [
    {
     "data": {
      "text/plain": [
       "(165198, 12)"
      ]
     },
     "execution_count": 11,
     "metadata": {},
     "output_type": "execute_result"
    }
   ],
   "source": [
    "# Удаление товаров, которых нет в обучающей выборке.\n",
    "data_valid = data_valid[data_valid['user_id'].isin(data_train['user_id'])]\n",
    "data_valid = data_valid[data_valid['item_id'].isin(data_train['item_id'])]\n",
    "\n",
    "# Проверка: размер валидационного набора данных.\n",
    "data_valid.shape"
   ]
  },
  {
   "cell_type": "code",
   "execution_count": 12,
   "id": "eec39ee1",
   "metadata": {},
   "outputs": [
    {
     "data": {
      "text/plain": [
       "array([86, 87, 88, 89, 90, 91], dtype=int64)"
      ]
     },
     "execution_count": 12,
     "metadata": {},
     "output_type": "execute_result"
    }
   ],
   "source": [
    "# Проверка: недели валидационного набора данных.\n",
    "data_valid['week_no'].unique()"
   ]
  },
  {
   "cell_type": "code",
   "execution_count": 13,
   "id": "8aafbc7c",
   "metadata": {},
   "outputs": [
    {
     "data": {
      "text/plain": [
       "(114212, 12)"
      ]
     },
     "execution_count": 13,
     "metadata": {},
     "output_type": "execute_result"
    }
   ],
   "source": [
    "# Удаление товаров, которых нет в обучающей выборке.\n",
    "data_test = data_test[data_test['user_id'].isin(data_train['user_id'])]\n",
    "data_test = data_test[data_test['item_id'].isin(data_train['item_id'])]\n",
    "\n",
    "# Проверка: размер тестового набора данных.\n",
    "data_test.shape"
   ]
  },
  {
   "cell_type": "code",
   "execution_count": 14,
   "id": "50e307bd",
   "metadata": {},
   "outputs": [
    {
     "data": {
      "text/plain": [
       "array([92, 93, 94, 95], dtype=int64)"
      ]
     },
     "execution_count": 14,
     "metadata": {},
     "output_type": "execute_result"
    }
   ],
   "source": [
    "# Проверка: недели тестового набора данных.\n",
    "data_test['week_no'].unique()"
   ]
  },
  {
   "cell_type": "markdown",
   "id": "accb21d6",
   "metadata": {},
   "source": [
    "#### Обработка данных"
   ]
  },
  {
   "cell_type": "code",
   "execution_count": 15,
   "id": "3e015687",
   "metadata": {},
   "outputs": [
    {
     "data": {
      "text/html": [
       "<div>\n",
       "<style scoped>\n",
       "    .dataframe tbody tr th:only-of-type {\n",
       "        vertical-align: middle;\n",
       "    }\n",
       "\n",
       "    .dataframe tbody tr th {\n",
       "        vertical-align: top;\n",
       "    }\n",
       "\n",
       "    .dataframe thead th {\n",
       "        text-align: right;\n",
       "    }\n",
       "</style>\n",
       "<table border=\"1\" class=\"dataframe\">\n",
       "  <thead>\n",
       "    <tr style=\"text-align: right;\">\n",
       "      <th></th>\n",
       "      <th>user_id</th>\n",
       "      <th>basket_id</th>\n",
       "      <th>day</th>\n",
       "      <th>item_id</th>\n",
       "      <th>quantity</th>\n",
       "      <th>sales_value</th>\n",
       "      <th>store_id</th>\n",
       "      <th>retail_disc</th>\n",
       "      <th>trans_time</th>\n",
       "      <th>week_no</th>\n",
       "      <th>coupon_disc</th>\n",
       "      <th>coupon_match_disc</th>\n",
       "    </tr>\n",
       "  </thead>\n",
       "  <tbody>\n",
       "    <tr>\n",
       "      <th>2109568</th>\n",
       "      <td>856</td>\n",
       "      <td>40630539494</td>\n",
       "      <td>593</td>\n",
       "      <td>999999</td>\n",
       "      <td>1</td>\n",
       "      <td>1.99</td>\n",
       "      <td>372</td>\n",
       "      <td>-1.0</td>\n",
       "      <td>1831</td>\n",
       "      <td>85</td>\n",
       "      <td>0.0</td>\n",
       "      <td>0.0</td>\n",
       "    </tr>\n",
       "    <tr>\n",
       "      <th>2109569</th>\n",
       "      <td>856</td>\n",
       "      <td>40630539494</td>\n",
       "      <td>593</td>\n",
       "      <td>1120213</td>\n",
       "      <td>1</td>\n",
       "      <td>1.67</td>\n",
       "      <td>372</td>\n",
       "      <td>0.0</td>\n",
       "      <td>1831</td>\n",
       "      <td>85</td>\n",
       "      <td>0.0</td>\n",
       "      <td>0.0</td>\n",
       "    </tr>\n",
       "    <tr>\n",
       "      <th>2109570</th>\n",
       "      <td>856</td>\n",
       "      <td>40630539494</td>\n",
       "      <td>593</td>\n",
       "      <td>999999</td>\n",
       "      <td>1</td>\n",
       "      <td>5.69</td>\n",
       "      <td>372</td>\n",
       "      <td>-0.3</td>\n",
       "      <td>1831</td>\n",
       "      <td>85</td>\n",
       "      <td>0.0</td>\n",
       "      <td>0.0</td>\n",
       "    </tr>\n",
       "    <tr>\n",
       "      <th>2109571</th>\n",
       "      <td>856</td>\n",
       "      <td>40630539494</td>\n",
       "      <td>593</td>\n",
       "      <td>999999</td>\n",
       "      <td>1</td>\n",
       "      <td>10.99</td>\n",
       "      <td>372</td>\n",
       "      <td>-3.3</td>\n",
       "      <td>1831</td>\n",
       "      <td>85</td>\n",
       "      <td>0.0</td>\n",
       "      <td>0.0</td>\n",
       "    </tr>\n",
       "    <tr>\n",
       "      <th>2109572</th>\n",
       "      <td>856</td>\n",
       "      <td>40630539494</td>\n",
       "      <td>593</td>\n",
       "      <td>999999</td>\n",
       "      <td>1</td>\n",
       "      <td>0.89</td>\n",
       "      <td>372</td>\n",
       "      <td>0.0</td>\n",
       "      <td>1831</td>\n",
       "      <td>85</td>\n",
       "      <td>0.0</td>\n",
       "      <td>0.0</td>\n",
       "    </tr>\n",
       "  </tbody>\n",
       "</table>\n",
       "</div>"
      ],
      "text/plain": [
       "         user_id    basket_id  day  item_id  quantity  sales_value  store_id  \\\n",
       "2109568      856  40630539494  593   999999         1         1.99       372   \n",
       "2109569      856  40630539494  593  1120213         1         1.67       372   \n",
       "2109570      856  40630539494  593   999999         1         5.69       372   \n",
       "2109571      856  40630539494  593   999999         1        10.99       372   \n",
       "2109572      856  40630539494  593   999999         1         0.89       372   \n",
       "\n",
       "         retail_disc  trans_time  week_no  coupon_disc  coupon_match_disc  \n",
       "2109568         -1.0        1831       85          0.0                0.0  \n",
       "2109569          0.0        1831       85          0.0                0.0  \n",
       "2109570         -0.3        1831       85          0.0                0.0  \n",
       "2109571         -3.3        1831       85          0.0                0.0  \n",
       "2109572          0.0        1831       85          0.0                0.0  "
      ]
     },
     "execution_count": 15,
     "metadata": {},
     "output_type": "execute_result"
    }
   ],
   "source": [
    "# Фильтрация товаров.\n",
    "data_train = utils.prefilter_items(data_train, 'item_id', 'quantity')\n",
    "\n",
    "# Проверка.\n",
    "data_train.tail()"
   ]
  },
  {
   "cell_type": "markdown",
   "id": "62603baf",
   "metadata": {},
   "source": [
    "#### Подготовка таблиц для результатов прогнозирования"
   ]
  },
  {
   "cell_type": "code",
   "execution_count": 16,
   "id": "b8b89d52",
   "metadata": {},
   "outputs": [
    {
     "data": {
      "text/html": [
       "<div>\n",
       "<style scoped>\n",
       "    .dataframe tbody tr th:only-of-type {\n",
       "        vertical-align: middle;\n",
       "    }\n",
       "\n",
       "    .dataframe tbody tr th {\n",
       "        vertical-align: top;\n",
       "    }\n",
       "\n",
       "    .dataframe thead th {\n",
       "        text-align: right;\n",
       "    }\n",
       "</style>\n",
       "<table border=\"1\" class=\"dataframe\">\n",
       "  <thead>\n",
       "    <tr style=\"text-align: right;\">\n",
       "      <th></th>\n",
       "      <th>user_id</th>\n",
       "      <th>actual</th>\n",
       "    </tr>\n",
       "  </thead>\n",
       "  <tbody>\n",
       "    <tr>\n",
       "      <th>0</th>\n",
       "      <td>1</td>\n",
       "      <td>[999999, 840361, 845307, 852014, 856942, 91267...</td>\n",
       "    </tr>\n",
       "    <tr>\n",
       "      <th>1</th>\n",
       "      <td>2</td>\n",
       "      <td>[854852, 930118, 1077555, 1098066, 999999, 556...</td>\n",
       "    </tr>\n",
       "  </tbody>\n",
       "</table>\n",
       "</div>"
      ],
      "text/plain": [
       "   user_id                                             actual\n",
       "0        1  [999999, 840361, 845307, 852014, 856942, 91267...\n",
       "1        2  [854852, 930118, 1077555, 1098066, 999999, 556..."
      ]
     },
     "execution_count": 16,
     "metadata": {},
     "output_type": "execute_result"
    }
   ],
   "source": [
    "# Подготовка тренировочной таблицы.\n",
    "result_train = utils.prepare_result(data_train)\n",
    "\n",
    "# Проверка.\n",
    "result_train.head(2)"
   ]
  },
  {
   "cell_type": "code",
   "execution_count": 17,
   "id": "36801fda",
   "metadata": {},
   "outputs": [
    {
     "data": {
      "text/html": [
       "<div>\n",
       "<style scoped>\n",
       "    .dataframe tbody tr th:only-of-type {\n",
       "        vertical-align: middle;\n",
       "    }\n",
       "\n",
       "    .dataframe tbody tr th {\n",
       "        vertical-align: top;\n",
       "    }\n",
       "\n",
       "    .dataframe thead th {\n",
       "        text-align: right;\n",
       "    }\n",
       "</style>\n",
       "<table border=\"1\" class=\"dataframe\">\n",
       "  <thead>\n",
       "    <tr style=\"text-align: right;\">\n",
       "      <th></th>\n",
       "      <th>user_id</th>\n",
       "      <th>actual</th>\n",
       "    </tr>\n",
       "  </thead>\n",
       "  <tbody>\n",
       "    <tr>\n",
       "      <th>0</th>\n",
       "      <td>1</td>\n",
       "      <td>[853529, 865456, 867607, 872137, 875240, 87737...</td>\n",
       "    </tr>\n",
       "    <tr>\n",
       "      <th>1</th>\n",
       "      <td>2</td>\n",
       "      <td>[838136, 839656, 861272, 866211, 870791, 87391...</td>\n",
       "    </tr>\n",
       "  </tbody>\n",
       "</table>\n",
       "</div>"
      ],
      "text/plain": [
       "   user_id                                             actual\n",
       "0        1  [853529, 865456, 867607, 872137, 875240, 87737...\n",
       "1        2  [838136, 839656, 861272, 866211, 870791, 87391..."
      ]
     },
     "execution_count": 17,
     "metadata": {},
     "output_type": "execute_result"
    }
   ],
   "source": [
    "# Подготовка валидационной таблицы.\n",
    "result_valid = utils.prepare_result(data_valid)\n",
    "\n",
    "# Проверка.\n",
    "result_valid.head(2)"
   ]
  },
  {
   "cell_type": "code",
   "execution_count": 18,
   "id": "02d0fd2c",
   "metadata": {},
   "outputs": [
    {
     "data": {
      "text/html": [
       "<div>\n",
       "<style scoped>\n",
       "    .dataframe tbody tr th:only-of-type {\n",
       "        vertical-align: middle;\n",
       "    }\n",
       "\n",
       "    .dataframe tbody tr th {\n",
       "        vertical-align: top;\n",
       "    }\n",
       "\n",
       "    .dataframe thead th {\n",
       "        text-align: right;\n",
       "    }\n",
       "</style>\n",
       "<table border=\"1\" class=\"dataframe\">\n",
       "  <thead>\n",
       "    <tr style=\"text-align: right;\">\n",
       "      <th></th>\n",
       "      <th>user_id</th>\n",
       "      <th>actual</th>\n",
       "    </tr>\n",
       "  </thead>\n",
       "  <tbody>\n",
       "    <tr>\n",
       "      <th>0</th>\n",
       "      <td>1</td>\n",
       "      <td>[821867, 834484, 856942, 865456, 889248, 90795...</td>\n",
       "    </tr>\n",
       "    <tr>\n",
       "      <th>1</th>\n",
       "      <td>3</td>\n",
       "      <td>[835476, 851057, 872021, 878302, 879948, 90963...</td>\n",
       "    </tr>\n",
       "  </tbody>\n",
       "</table>\n",
       "</div>"
      ],
      "text/plain": [
       "   user_id                                             actual\n",
       "0        1  [821867, 834484, 856942, 865456, 889248, 90795...\n",
       "1        3  [835476, 851057, 872021, 878302, 879948, 90963..."
      ]
     },
     "execution_count": 18,
     "metadata": {},
     "output_type": "execute_result"
    }
   ],
   "source": [
    "# Подготовка тестовой таблицы.\n",
    "result_test = utils.prepare_result(data_test)\n",
    "\n",
    "# Проверка.\n",
    "result_test.head(2)"
   ]
  },
  {
   "cell_type": "markdown",
   "id": "c04937a5",
   "metadata": {},
   "source": [
    "#### Применение модели первого уровня"
   ]
  },
  {
   "cell_type": "code",
   "execution_count": 19,
   "id": "9e3a6ffb",
   "metadata": {},
   "outputs": [],
   "source": [
    "# Инициализация модели первого уровня.\n",
    "mr = recommenders.MainRecommender(random_state=random_state_global)"
   ]
  },
  {
   "cell_type": "code",
   "execution_count": 20,
   "id": "b1c825bb",
   "metadata": {
    "scrolled": true
   },
   "outputs": [
    {
     "name": "stderr",
     "output_type": "stream",
     "text": [
      "WARNING:root:OpenBLAS detected. Its highly recommend to set the environment variable 'export OPENBLAS_NUM_THREADS=1' to disable its internal multithreading\n"
     ]
    },
    {
     "data": {
      "application/vnd.jupyter.widget-view+json": {
       "model_id": "a63f74aac71d405d879ac49a76e97501",
       "version_major": 2,
       "version_minor": 0
      },
      "text/plain": [
       "  0%|          | 0/15 [00:00<?, ?it/s]"
      ]
     },
     "metadata": {},
     "output_type": "display_data"
    },
    {
     "data": {
      "application/vnd.jupyter.widget-view+json": {
       "model_id": "5cfb2f19a78843678848daeea58d87a9",
       "version_major": 2,
       "version_minor": 0
      },
      "text/plain": [
       "  0%|          | 0/5001 [00:00<?, ?it/s]"
      ]
     },
     "metadata": {},
     "output_type": "display_data"
    },
    {
     "name": "stdout",
     "output_type": "stream",
     "text": [
      "Wall time: 3.46 s\n"
     ]
    }
   ],
   "source": [
    "%%time\n",
    "\n",
    "# Обучения модели первого уровня.\n",
    "mr.fit(data_train)"
   ]
  },
  {
   "cell_type": "markdown",
   "id": "892a6cec",
   "metadata": {},
   "source": [
    "#### Модель первого уровня \"model_als\""
   ]
  },
  {
   "cell_type": "code",
   "execution_count": 21,
   "id": "c0f098c7",
   "metadata": {},
   "outputs": [],
   "source": [
    "# Формирование таблицы метрик модели первого уровня.\n",
    "df_metrics = pd.DataFrame(columns=['precision_train', 'precision_valid', 'precision_test',\n",
    "                                   'recall_train', 'recall_valid', 'recall_test'])"
   ]
  },
  {
   "cell_type": "code",
   "execution_count": 22,
   "id": "18de4f0f",
   "metadata": {},
   "outputs": [
    {
     "name": "stdout",
     "output_type": "stream",
     "text": [
      "Wall time: 7.21 s\n"
     ]
    },
    {
     "data": {
      "text/html": [
       "<div>\n",
       "<style scoped>\n",
       "    .dataframe tbody tr th:only-of-type {\n",
       "        vertical-align: middle;\n",
       "    }\n",
       "\n",
       "    .dataframe tbody tr th {\n",
       "        vertical-align: top;\n",
       "    }\n",
       "\n",
       "    .dataframe thead th {\n",
       "        text-align: right;\n",
       "    }\n",
       "</style>\n",
       "<table border=\"1\" class=\"dataframe\">\n",
       "  <thead>\n",
       "    <tr style=\"text-align: right;\">\n",
       "      <th></th>\n",
       "      <th>user_id</th>\n",
       "      <th>actual</th>\n",
       "      <th>pred_als</th>\n",
       "    </tr>\n",
       "  </thead>\n",
       "  <tbody>\n",
       "    <tr>\n",
       "      <th>0</th>\n",
       "      <td>1</td>\n",
       "      <td>[999999, 840361, 845307, 852014, 856942, 91267...</td>\n",
       "      <td>[981760, 1005186, 911878, 962568, 826249, 8623...</td>\n",
       "    </tr>\n",
       "    <tr>\n",
       "      <th>1</th>\n",
       "      <td>2</td>\n",
       "      <td>[854852, 930118, 1077555, 1098066, 999999, 556...</td>\n",
       "      <td>[981760, 1005186, 844165, 911878, 826249, 8623...</td>\n",
       "    </tr>\n",
       "  </tbody>\n",
       "</table>\n",
       "</div>"
      ],
      "text/plain": [
       "   user_id                                             actual  \\\n",
       "0        1  [999999, 840361, 845307, 852014, 856942, 91267...   \n",
       "1        2  [854852, 930118, 1077555, 1098066, 999999, 556...   \n",
       "\n",
       "                                            pred_als  \n",
       "0  [981760, 1005186, 911878, 962568, 826249, 8623...  \n",
       "1  [981760, 1005186, 844165, 911878, 826249, 8623...  "
      ]
     },
     "execution_count": 22,
     "metadata": {},
     "output_type": "execute_result"
    }
   ],
   "source": [
    "%%time\n",
    "\n",
    "# Прогнозирование при помощи модели AlternatingLeastSquares на тестовой выборке.\n",
    "result_train['pred_als'] = result_train['user_id'].apply(lambda user_id: mr.predict_als(user_id, N=50))\n",
    "\n",
    "# Проверка.\n",
    "result_train.head(2)"
   ]
  },
  {
   "cell_type": "code",
   "execution_count": 23,
   "id": "abfe818f",
   "metadata": {},
   "outputs": [],
   "source": [
    "# Вычисление метрик на тестовой выборке.\n",
    "df_metrics.loc['model_als', 'precision_train'] = metrics.precision_at_k(result_train['actual'], result_train['pred_als'], K=50)\n",
    "df_metrics.loc['model_als', 'recall_train'] = metrics.recall_at_k(result_train['actual'], result_train['pred_als'], K=50)"
   ]
  },
  {
   "cell_type": "code",
   "execution_count": 24,
   "id": "4b8feea7",
   "metadata": {},
   "outputs": [
    {
     "name": "stdout",
     "output_type": "stream",
     "text": [
      "Wall time: 5.98 s\n"
     ]
    },
    {
     "data": {
      "text/html": [
       "<div>\n",
       "<style scoped>\n",
       "    .dataframe tbody tr th:only-of-type {\n",
       "        vertical-align: middle;\n",
       "    }\n",
       "\n",
       "    .dataframe tbody tr th {\n",
       "        vertical-align: top;\n",
       "    }\n",
       "\n",
       "    .dataframe thead th {\n",
       "        text-align: right;\n",
       "    }\n",
       "</style>\n",
       "<table border=\"1\" class=\"dataframe\">\n",
       "  <thead>\n",
       "    <tr style=\"text-align: right;\">\n",
       "      <th></th>\n",
       "      <th>user_id</th>\n",
       "      <th>actual</th>\n",
       "      <th>pred_als</th>\n",
       "    </tr>\n",
       "  </thead>\n",
       "  <tbody>\n",
       "    <tr>\n",
       "      <th>0</th>\n",
       "      <td>1</td>\n",
       "      <td>[853529, 865456, 867607, 872137, 875240, 87737...</td>\n",
       "      <td>[981760, 1005186, 911878, 962568, 826249, 8623...</td>\n",
       "    </tr>\n",
       "    <tr>\n",
       "      <th>1</th>\n",
       "      <td>2</td>\n",
       "      <td>[838136, 839656, 861272, 866211, 870791, 87391...</td>\n",
       "      <td>[981760, 1005186, 844165, 911878, 826249, 8623...</td>\n",
       "    </tr>\n",
       "  </tbody>\n",
       "</table>\n",
       "</div>"
      ],
      "text/plain": [
       "   user_id                                             actual  \\\n",
       "0        1  [853529, 865456, 867607, 872137, 875240, 87737...   \n",
       "1        2  [838136, 839656, 861272, 866211, 870791, 87391...   \n",
       "\n",
       "                                            pred_als  \n",
       "0  [981760, 1005186, 911878, 962568, 826249, 8623...  \n",
       "1  [981760, 1005186, 844165, 911878, 826249, 8623...  "
      ]
     },
     "execution_count": 24,
     "metadata": {},
     "output_type": "execute_result"
    }
   ],
   "source": [
    "%%time\n",
    "\n",
    "# Прогнозирование при помощи модели AlternatingLeastSquares на валидационной выборке.\n",
    "result_valid['pred_als'] = result_valid['user_id'].apply(lambda user_id: mr.predict_als(user_id, N=50))\n",
    "\n",
    "# Проверка.\n",
    "result_valid.head(2)"
   ]
  },
  {
   "cell_type": "code",
   "execution_count": 25,
   "id": "e2d2b623",
   "metadata": {},
   "outputs": [],
   "source": [
    "# Вычисление метрик на валидационной выборке.\n",
    "df_metrics.loc['model_als', 'precision_valid'] = metrics.precision_at_k(result_valid['actual'], result_valid['pred_als'], K=50)\n",
    "df_metrics.loc['model_als', 'recall_valid'] = metrics.recall_at_k(result_valid['actual'], result_valid['pred_als'], K=50)"
   ]
  },
  {
   "cell_type": "markdown",
   "id": "e58c5b1f",
   "metadata": {},
   "source": [
    "#### Модель первого уровня \"model_sur\""
   ]
  },
  {
   "cell_type": "code",
   "execution_count": 26,
   "id": "8339ea8c",
   "metadata": {},
   "outputs": [
    {
     "name": "stdout",
     "output_type": "stream",
     "text": [
      "Wall time: 2.24 s\n"
     ]
    },
    {
     "data": {
      "text/html": [
       "<div>\n",
       "<style scoped>\n",
       "    .dataframe tbody tr th:only-of-type {\n",
       "        vertical-align: middle;\n",
       "    }\n",
       "\n",
       "    .dataframe tbody tr th {\n",
       "        vertical-align: top;\n",
       "    }\n",
       "\n",
       "    .dataframe thead th {\n",
       "        text-align: right;\n",
       "    }\n",
       "</style>\n",
       "<table border=\"1\" class=\"dataframe\">\n",
       "  <thead>\n",
       "    <tr style=\"text-align: right;\">\n",
       "      <th></th>\n",
       "      <th>user_id</th>\n",
       "      <th>actual</th>\n",
       "      <th>pred_als</th>\n",
       "      <th>pred_sur</th>\n",
       "    </tr>\n",
       "  </thead>\n",
       "  <tbody>\n",
       "    <tr>\n",
       "      <th>0</th>\n",
       "      <td>1</td>\n",
       "      <td>[999999, 840361, 845307, 852014, 856942, 91267...</td>\n",
       "      <td>[981760, 1005186, 911878, 962568, 826249, 8623...</td>\n",
       "      <td>[6534178, 6533889, 6534166, 6544236, 1404121, ...</td>\n",
       "    </tr>\n",
       "    <tr>\n",
       "      <th>1</th>\n",
       "      <td>2</td>\n",
       "      <td>[854852, 930118, 1077555, 1098066, 999999, 556...</td>\n",
       "      <td>[981760, 1005186, 844165, 911878, 826249, 8623...</td>\n",
       "      <td>[6534178, 6533889, 6534166, 6544236, 1404121, ...</td>\n",
       "    </tr>\n",
       "  </tbody>\n",
       "</table>\n",
       "</div>"
      ],
      "text/plain": [
       "   user_id                                             actual  \\\n",
       "0        1  [999999, 840361, 845307, 852014, 856942, 91267...   \n",
       "1        2  [854852, 930118, 1077555, 1098066, 999999, 556...   \n",
       "\n",
       "                                            pred_als  \\\n",
       "0  [981760, 1005186, 911878, 962568, 826249, 8623...   \n",
       "1  [981760, 1005186, 844165, 911878, 826249, 8623...   \n",
       "\n",
       "                                            pred_sur  \n",
       "0  [6534178, 6533889, 6534166, 6544236, 1404121, ...  \n",
       "1  [6534178, 6533889, 6534166, 6544236, 1404121, ...  "
      ]
     },
     "execution_count": 26,
     "metadata": {},
     "output_type": "execute_result"
    }
   ],
   "source": [
    "%%time\n",
    "\n",
    "# Прогнозирование при помощи модели similar_users_recommendation на тестовой выборке.\n",
    "result_train['pred_sur'] = result_train['user_id'].apply(lambda user_id: mr.predict_sur(user_id, N=50))\n",
    "\n",
    "# Проверка.\n",
    "result_train.head(2)"
   ]
  },
  {
   "cell_type": "code",
   "execution_count": 27,
   "id": "8182b539",
   "metadata": {},
   "outputs": [],
   "source": [
    "# Вычисление метрик на тестовой выборке.\n",
    "df_metrics.loc['model_sur', 'precision_train'] = metrics.precision_at_k(result_train['actual'], result_train['pred_sur'], K=50)\n",
    "df_metrics.loc['model_sur', 'recall_train'] = metrics.recall_at_k(result_train['actual'], result_train['pred_sur'], K=50)"
   ]
  },
  {
   "cell_type": "code",
   "execution_count": 28,
   "id": "c6486a70",
   "metadata": {},
   "outputs": [
    {
     "name": "stdout",
     "output_type": "stream",
     "text": [
      "Wall time: 1.93 s\n"
     ]
    },
    {
     "data": {
      "text/html": [
       "<div>\n",
       "<style scoped>\n",
       "    .dataframe tbody tr th:only-of-type {\n",
       "        vertical-align: middle;\n",
       "    }\n",
       "\n",
       "    .dataframe tbody tr th {\n",
       "        vertical-align: top;\n",
       "    }\n",
       "\n",
       "    .dataframe thead th {\n",
       "        text-align: right;\n",
       "    }\n",
       "</style>\n",
       "<table border=\"1\" class=\"dataframe\">\n",
       "  <thead>\n",
       "    <tr style=\"text-align: right;\">\n",
       "      <th></th>\n",
       "      <th>user_id</th>\n",
       "      <th>actual</th>\n",
       "      <th>pred_als</th>\n",
       "      <th>pred_sur</th>\n",
       "    </tr>\n",
       "  </thead>\n",
       "  <tbody>\n",
       "    <tr>\n",
       "      <th>0</th>\n",
       "      <td>1</td>\n",
       "      <td>[853529, 865456, 867607, 872137, 875240, 87737...</td>\n",
       "      <td>[981760, 1005186, 911878, 962568, 826249, 8623...</td>\n",
       "      <td>[6534178, 6533889, 6534166, 6544236, 1404121, ...</td>\n",
       "    </tr>\n",
       "    <tr>\n",
       "      <th>1</th>\n",
       "      <td>2</td>\n",
       "      <td>[838136, 839656, 861272, 866211, 870791, 87391...</td>\n",
       "      <td>[981760, 1005186, 844165, 911878, 826249, 8623...</td>\n",
       "      <td>[6534178, 6533889, 6534166, 6544236, 1404121, ...</td>\n",
       "    </tr>\n",
       "  </tbody>\n",
       "</table>\n",
       "</div>"
      ],
      "text/plain": [
       "   user_id                                             actual  \\\n",
       "0        1  [853529, 865456, 867607, 872137, 875240, 87737...   \n",
       "1        2  [838136, 839656, 861272, 866211, 870791, 87391...   \n",
       "\n",
       "                                            pred_als  \\\n",
       "0  [981760, 1005186, 911878, 962568, 826249, 8623...   \n",
       "1  [981760, 1005186, 844165, 911878, 826249, 8623...   \n",
       "\n",
       "                                            pred_sur  \n",
       "0  [6534178, 6533889, 6534166, 6544236, 1404121, ...  \n",
       "1  [6534178, 6533889, 6534166, 6544236, 1404121, ...  "
      ]
     },
     "execution_count": 28,
     "metadata": {},
     "output_type": "execute_result"
    }
   ],
   "source": [
    "%%time\n",
    "\n",
    "# Прогнозирование при помощи модели similar_users_recommendation на валидационной выборке.\n",
    "result_valid['pred_sur'] = result_valid['user_id'].apply(lambda user_id: mr.predict_sur(user_id, N=50))\n",
    "\n",
    "# Проверка.\n",
    "result_valid.head(2)"
   ]
  },
  {
   "cell_type": "code",
   "execution_count": 29,
   "id": "2db2561a",
   "metadata": {},
   "outputs": [],
   "source": [
    "# Вычисление метрик на валидационной выборке.\n",
    "df_metrics.loc['model_sur', 'precision_valid'] = metrics.precision_at_k(result_valid['actual'], result_valid['pred_sur'], K=50)\n",
    "df_metrics.loc['model_sur', 'recall_valid'] = metrics.recall_at_k(result_valid['actual'], result_valid['pred_sur'], K=50)"
   ]
  },
  {
   "cell_type": "markdown",
   "id": "b9861afd",
   "metadata": {},
   "source": [
    "#### Анализ метрик"
   ]
  },
  {
   "cell_type": "code",
   "execution_count": 30,
   "id": "2af5b21e",
   "metadata": {
    "scrolled": true
   },
   "outputs": [
    {
     "data": {
      "text/html": [
       "<div>\n",
       "<style scoped>\n",
       "    .dataframe tbody tr th:only-of-type {\n",
       "        vertical-align: middle;\n",
       "    }\n",
       "\n",
       "    .dataframe tbody tr th {\n",
       "        vertical-align: top;\n",
       "    }\n",
       "\n",
       "    .dataframe thead th {\n",
       "        text-align: right;\n",
       "    }\n",
       "</style>\n",
       "<table border=\"1\" class=\"dataframe\">\n",
       "  <thead>\n",
       "    <tr style=\"text-align: right;\">\n",
       "      <th></th>\n",
       "      <th>precision_train</th>\n",
       "      <th>precision_valid</th>\n",
       "      <th>precision_test</th>\n",
       "      <th>recall_train</th>\n",
       "      <th>recall_valid</th>\n",
       "      <th>recall_test</th>\n",
       "    </tr>\n",
       "  </thead>\n",
       "  <tbody>\n",
       "    <tr>\n",
       "      <th>model_als</th>\n",
       "      <td>0.409576</td>\n",
       "      <td>0.103749</td>\n",
       "      <td>NaN</td>\n",
       "      <td>0.103796</td>\n",
       "      <td>0.101098</td>\n",
       "      <td>NaN</td>\n",
       "    </tr>\n",
       "    <tr>\n",
       "      <th>model_sur</th>\n",
       "      <td>0.220993</td>\n",
       "      <td>0.054958</td>\n",
       "      <td>NaN</td>\n",
       "      <td>0.074026</td>\n",
       "      <td>0.059383</td>\n",
       "      <td>NaN</td>\n",
       "    </tr>\n",
       "  </tbody>\n",
       "</table>\n",
       "</div>"
      ],
      "text/plain": [
       "          precision_train precision_valid precision_test recall_train  \\\n",
       "model_als        0.409576        0.103749            NaN     0.103796   \n",
       "model_sur        0.220993        0.054958            NaN     0.074026   \n",
       "\n",
       "          recall_valid recall_test  \n",
       "model_als     0.101098         NaN  \n",
       "model_sur     0.059383         NaN  "
      ]
     },
     "execution_count": 30,
     "metadata": {},
     "output_type": "execute_result"
    }
   ],
   "source": [
    "# Вывод метрик.\n",
    "df_metrics"
   ]
  },
  {
   "cell_type": "markdown",
   "id": "1a414513",
   "metadata": {},
   "source": [
    "Наилучшую метрику \"recall@k\" на валидационной выборке демонстрирует модель AlternatingLeastSquares со следующими настройками:\n",
    "\n",
    "     regularization=0.1,\n",
    "     iterations=15,\n",
    "     calculate_training_loss=True,\n",
    "     use_gpu=False,\n",
    "     random_state=random_state_global (0)\n",
    "\n",
    "Также стоит заметить, что модель similar_users_recommendation не выдёт достаточное количество прогнозов, поэтому использует наиболее популярные товары."
   ]
  },
  {
   "cell_type": "markdown",
   "id": "da409109",
   "metadata": {},
   "source": [
    "#### Зависимость метрики \"recall@k\" от K"
   ]
  },
  {
   "cell_type": "code",
   "execution_count": 31,
   "id": "d28ed446",
   "metadata": {},
   "outputs": [],
   "source": [
    "# Список для проверки различных количеств рекомендованных товаров K.\n",
    "list_k = [20, 50, 100, 200, 500]"
   ]
  },
  {
   "cell_type": "code",
   "execution_count": 32,
   "id": "7e55329e",
   "metadata": {},
   "outputs": [
    {
     "name": "stdout",
     "output_type": "stream",
     "text": [
      "Wall time: 7.56 s\n"
     ]
    }
   ],
   "source": [
    "%%time\n",
    "\n",
    "# Прогнозирование при помощи модели AlternatingLeastSquares на валидационной выборке.\n",
    "result_valid['pred_als'] = result_valid['user_id'].apply(lambda user_id: mr.predict_als(user_id, N=500))"
   ]
  },
  {
   "cell_type": "code",
   "execution_count": 33,
   "id": "a8434bfa",
   "metadata": {},
   "outputs": [
    {
     "name": "stdout",
     "output_type": "stream",
     "text": [
      "Wall time: 37 s\n"
     ]
    }
   ],
   "source": [
    "%%time\n",
    "\n",
    "# Прогнозирование при помощи модели similar_users_recommendation на валидационной выборке.\n",
    "result_valid['pred_sur'] = result_valid['user_id'].apply(lambda user_id: mr.predict_sur(user_id, N=500))"
   ]
  },
  {
   "cell_type": "code",
   "execution_count": 34,
   "id": "6c234442",
   "metadata": {},
   "outputs": [
    {
     "name": "stdout",
     "output_type": "stream",
     "text": [
      "Wall time: 1.64 s\n"
     ]
    },
    {
     "data": {
      "text/html": [
       "<div>\n",
       "<style scoped>\n",
       "    .dataframe tbody tr th:only-of-type {\n",
       "        vertical-align: middle;\n",
       "    }\n",
       "\n",
       "    .dataframe tbody tr th {\n",
       "        vertical-align: top;\n",
       "    }\n",
       "\n",
       "    .dataframe thead th {\n",
       "        text-align: right;\n",
       "    }\n",
       "</style>\n",
       "<table border=\"1\" class=\"dataframe\">\n",
       "  <thead>\n",
       "    <tr style=\"text-align: right;\">\n",
       "      <th></th>\n",
       "      <th>K</th>\n",
       "      <th>pred_als</th>\n",
       "      <th>pred_sur</th>\n",
       "    </tr>\n",
       "  </thead>\n",
       "  <tbody>\n",
       "    <tr>\n",
       "      <th>0</th>\n",
       "      <td>20</td>\n",
       "      <td>0.010975</td>\n",
       "      <td>0.017575</td>\n",
       "    </tr>\n",
       "    <tr>\n",
       "      <th>1</th>\n",
       "      <td>50</td>\n",
       "      <td>0.025824</td>\n",
       "      <td>0.059383</td>\n",
       "    </tr>\n",
       "    <tr>\n",
       "      <th>2</th>\n",
       "      <td>100</td>\n",
       "      <td>0.050234</td>\n",
       "      <td>0.1098</td>\n",
       "    </tr>\n",
       "    <tr>\n",
       "      <th>3</th>\n",
       "      <td>200</td>\n",
       "      <td>0.116758</td>\n",
       "      <td>0.158766</td>\n",
       "    </tr>\n",
       "    <tr>\n",
       "      <th>4</th>\n",
       "      <td>500</td>\n",
       "      <td>0.281016</td>\n",
       "      <td>0.241932</td>\n",
       "    </tr>\n",
       "  </tbody>\n",
       "</table>\n",
       "</div>"
      ],
      "text/plain": [
       "     K  pred_als  pred_sur\n",
       "0   20  0.010975  0.017575\n",
       "1   50  0.025824  0.059383\n",
       "2  100  0.050234    0.1098\n",
       "3  200  0.116758  0.158766\n",
       "4  500  0.281016  0.241932"
      ]
     },
     "execution_count": 34,
     "metadata": {},
     "output_type": "execute_result"
    }
   ],
   "source": [
    "%%time\n",
    "\n",
    "# Расчёт метрик.\n",
    "df_metrics_recall = pd.DataFrame(columns=['K', 'pred_als', 'pred_sur'])\n",
    "\n",
    "for i in range(len(list_k)):\n",
    "    df_metrics_recall.loc[i, 'K'] = list_k[i]\n",
    "    df_metrics_recall.loc[i, 'pred_als'] = metrics.recall_at_k(result_valid['actual'], result_valid['pred_als'], K=list_k[i])\n",
    "    df_metrics_recall.loc[i, 'pred_sur'] = metrics.recall_at_k(result_valid['actual'], result_valid['pred_sur'], K=list_k[i])\n",
    "\n",
    "df_metrics_recall"
   ]
  },
  {
   "cell_type": "code",
   "execution_count": 35,
   "id": "0ee51b2d",
   "metadata": {},
   "outputs": [
    {
     "data": {
      "image/png": "[encoded data removed]",
      "text/plain": [
       "<Figure size 1080x360 with 1 Axes>"
      ]
     },
     "metadata": {
      "needs_background": "light"
     },
     "output_type": "display_data"
    }
   ],
   "source": [
    "# Визуализация метрик.\n",
    "df_metrics_recall.plot(x='K', y=['pred_als', 'pred_sur'], figsize=(15, 5), grid=True)\n",
    "\n",
    "plt.legend(prop={'size': 20})\n",
    "plt.xticks(np.arange(0, 550, 50))\n",
    "\n",
    "plt.title('График зависимости метрики \"recall@k\" от количества рассматриваемых товаров K', fontsize=16)\n",
    "plt.xlabel('Количество товаров K', fontsize=14)\n",
    "plt.ylabel('Значения метрики \"recall@k\"', fontsize=14);"
   ]
  },
  {
   "cell_type": "markdown",
   "id": "359696db",
   "metadata": {},
   "source": [
    "С ростом количества рекомендуемых товаров K значение метрики \"recall@k\" для обеих моделей увеличивается. Улучшение метрики может быть объяснено тем, что у моделей становится больше попыток для верных прогнозов: больше товаров - больше шанс угадать. В действительности пользователи редко рассматривают больше десяти рекомендаций, поэтому показания метрики следует учитывать около соответствующих значений.\n",
    "\n",
    "Однако в случае с многоуровневой рекомендательной системой, первая модель для дальнейшего рассмотрения может выбирать значительно больше товаров. У моделей на следующих уровнях будет больше простора для уточнения рекомендаций."
   ]
  },
  {
   "cell_type": "markdown",
   "id": "dc843529",
   "metadata": {},
   "source": [
    "## Задание 2"
   ]
  },
  {
   "cell_type": "markdown",
   "id": "35d62bd2",
   "metadata": {},
   "source": [
    "Обучите модель 2-ого уровня, при этом:\n",
    "- Добавьте минимум по 2 фичи для юзера, товара и пары юзер-товар\n",
    "- Измерьте отдельно precision@5 модели 1-ого уровня и двухуровневой модели на data_val_lvl_2\n",
    "- Вырос ли precision@5 при использовании двухуровневой модели?"
   ]
  },
  {
   "cell_type": "markdown",
   "id": "1eade3be",
   "metadata": {},
   "source": [
    "#### Оценка метрики \"precision@5\" для одноуровневой модели"
   ]
  },
  {
   "cell_type": "code",
   "execution_count": 36,
   "id": "86d39cee",
   "metadata": {},
   "outputs": [
    {
     "name": "stdout",
     "output_type": "stream",
     "text": [
      "Wall time: 5.98 s\n"
     ]
    }
   ],
   "source": [
    "%%time\n",
    "\n",
    "# Прогнозирование пяти товаров при помощи двух моделей AlternatingLeastSquares и similar_users_recommendation.\n",
    "result_test['pred_als'] = result_test['user_id'].apply(lambda user_id: mr.predict_als(user_id, N=5))\n",
    "result_test['pred_sur'] = result_test['user_id'].apply(lambda user_id: mr.predict_sur(user_id, N=5))"
   ]
  },
  {
   "cell_type": "code",
   "execution_count": 37,
   "id": "22e70f57",
   "metadata": {},
   "outputs": [
    {
     "data": {
      "text/html": [
       "<div>\n",
       "<style scoped>\n",
       "    .dataframe tbody tr th:only-of-type {\n",
       "        vertical-align: middle;\n",
       "    }\n",
       "\n",
       "    .dataframe tbody tr th {\n",
       "        vertical-align: top;\n",
       "    }\n",
       "\n",
       "    .dataframe thead th {\n",
       "        text-align: right;\n",
       "    }\n",
       "</style>\n",
       "<table border=\"1\" class=\"dataframe\">\n",
       "  <thead>\n",
       "    <tr style=\"text-align: right;\">\n",
       "      <th></th>\n",
       "      <th>precision_lvl_1</th>\n",
       "      <th>precision_lvl_2</th>\n",
       "    </tr>\n",
       "  </thead>\n",
       "  <tbody>\n",
       "    <tr>\n",
       "      <th>model_als</th>\n",
       "      <td>0.145633</td>\n",
       "      <td>NaN</td>\n",
       "    </tr>\n",
       "    <tr>\n",
       "      <th>model_sur</th>\n",
       "      <td>0.046222</td>\n",
       "      <td>NaN</td>\n",
       "    </tr>\n",
       "  </tbody>\n",
       "</table>\n",
       "</div>"
      ],
      "text/plain": [
       "          precision_lvl_1 precision_lvl_2\n",
       "model_als        0.145633             NaN\n",
       "model_sur        0.046222             NaN"
      ]
     },
     "execution_count": 37,
     "metadata": {},
     "output_type": "execute_result"
    }
   ],
   "source": [
    "# Расчёт метрик.\n",
    "df_metrics = pd.DataFrame(columns=['precision_lvl_1', 'precision_lvl_2'])\n",
    "\n",
    "df_metrics.loc['model_als', 'precision_lvl_1'] = metrics.precision_at_k(result_test['actual'], result_test['pred_als'], K=5)\n",
    "df_metrics.loc['model_sur', 'precision_lvl_1'] = metrics.precision_at_k(result_test['actual'], result_test['pred_sur'], K=5)\n",
    "\n",
    "df_metrics"
   ]
  },
  {
   "cell_type": "markdown",
   "id": "90ed6ad6",
   "metadata": {},
   "source": [
    "Модель AlternatingLeastSquares демонстрирует лучшую метрику качества \"precision@5\", поэтому далее двухуровневую модель будем строить на её основе."
   ]
  },
  {
   "cell_type": "markdown",
   "id": "640014b8",
   "metadata": {},
   "source": [
    "### Подготовка данных для модели второго уровня - обучающая выборка"
   ]
  },
  {
   "cell_type": "code",
   "execution_count": 38,
   "id": "0b1dfb8f",
   "metadata": {},
   "outputs": [
    {
     "data": {
      "text/html": [
       "<div>\n",
       "<style scoped>\n",
       "    .dataframe tbody tr th:only-of-type {\n",
       "        vertical-align: middle;\n",
       "    }\n",
       "\n",
       "    .dataframe tbody tr th {\n",
       "        vertical-align: top;\n",
       "    }\n",
       "\n",
       "    .dataframe thead th {\n",
       "        text-align: right;\n",
       "    }\n",
       "</style>\n",
       "<table border=\"1\" class=\"dataframe\">\n",
       "  <thead>\n",
       "    <tr style=\"text-align: right;\">\n",
       "      <th></th>\n",
       "      <th>user_id</th>\n",
       "      <th>actual</th>\n",
       "      <th>pred_als</th>\n",
       "      <th>pred_sur</th>\n",
       "    </tr>\n",
       "  </thead>\n",
       "  <tbody>\n",
       "    <tr>\n",
       "      <th>0</th>\n",
       "      <td>1</td>\n",
       "      <td>[853529, 865456, 867607, 872137, 875240, 87737...</td>\n",
       "      <td>[9705473, 1042438, 962568, 944137, 1075214, 10...</td>\n",
       "      <td>[6534178, 6533889, 6534166, 6544236, 1404121, ...</td>\n",
       "    </tr>\n",
       "    <tr>\n",
       "      <th>1</th>\n",
       "      <td>2</td>\n",
       "      <td>[838136, 839656, 861272, 866211, 870791, 87391...</td>\n",
       "      <td>[9705473, 1042438, 962568, 944137, 944139, 107...</td>\n",
       "      <td>[6534178, 6533889, 6534166, 6544236, 1404121, ...</td>\n",
       "    </tr>\n",
       "  </tbody>\n",
       "</table>\n",
       "</div>"
      ],
      "text/plain": [
       "   user_id                                             actual  \\\n",
       "0        1  [853529, 865456, 867607, 872137, 875240, 87737...   \n",
       "1        2  [838136, 839656, 861272, 866211, 870791, 87391...   \n",
       "\n",
       "                                            pred_als  \\\n",
       "0  [9705473, 1042438, 962568, 944137, 1075214, 10...   \n",
       "1  [9705473, 1042438, 962568, 944137, 944139, 107...   \n",
       "\n",
       "                                            pred_sur  \n",
       "0  [6534178, 6533889, 6534166, 6544236, 1404121, ...  \n",
       "1  [6534178, 6533889, 6534166, 6544236, 1404121, ...  "
      ]
     },
     "execution_count": 38,
     "metadata": {},
     "output_type": "execute_result"
    }
   ],
   "source": [
    "# Вывод результатов прогноза моделей первого уровня на валидационной выборке.\n",
    "result_valid.head(2)"
   ]
  },
  {
   "cell_type": "code",
   "execution_count": 39,
   "id": "dfef0279",
   "metadata": {},
   "outputs": [
    {
     "data": {
      "text/html": [
       "<div>\n",
       "<style scoped>\n",
       "    .dataframe tbody tr th:only-of-type {\n",
       "        vertical-align: middle;\n",
       "    }\n",
       "\n",
       "    .dataframe tbody tr th {\n",
       "        vertical-align: top;\n",
       "    }\n",
       "\n",
       "    .dataframe thead th {\n",
       "        text-align: right;\n",
       "    }\n",
       "</style>\n",
       "<table border=\"1\" class=\"dataframe\">\n",
       "  <thead>\n",
       "    <tr style=\"text-align: right;\">\n",
       "      <th></th>\n",
       "      <th>user_id</th>\n",
       "      <th>item_id</th>\n",
       "      <th>pred_als</th>\n",
       "      <th>actual</th>\n",
       "    </tr>\n",
       "  </thead>\n",
       "  <tbody>\n",
       "    <tr>\n",
       "      <th>0</th>\n",
       "      <td>1</td>\n",
       "      <td>9705473</td>\n",
       "      <td>1</td>\n",
       "      <td>0</td>\n",
       "    </tr>\n",
       "    <tr>\n",
       "      <th>1</th>\n",
       "      <td>1</td>\n",
       "      <td>1042438</td>\n",
       "      <td>1</td>\n",
       "      <td>0</td>\n",
       "    </tr>\n",
       "    <tr>\n",
       "      <th>2</th>\n",
       "      <td>1</td>\n",
       "      <td>962568</td>\n",
       "      <td>1</td>\n",
       "      <td>0</td>\n",
       "    </tr>\n",
       "    <tr>\n",
       "      <th>3</th>\n",
       "      <td>1</td>\n",
       "      <td>944137</td>\n",
       "      <td>1</td>\n",
       "      <td>0</td>\n",
       "    </tr>\n",
       "    <tr>\n",
       "      <th>4</th>\n",
       "      <td>1</td>\n",
       "      <td>944139</td>\n",
       "      <td>1</td>\n",
       "      <td>0</td>\n",
       "    </tr>\n",
       "    <tr>\n",
       "      <th>5</th>\n",
       "      <td>1</td>\n",
       "      <td>1075214</td>\n",
       "      <td>1</td>\n",
       "      <td>0</td>\n",
       "    </tr>\n",
       "    <tr>\n",
       "      <th>6</th>\n",
       "      <td>1</td>\n",
       "      <td>1005583</td>\n",
       "      <td>1</td>\n",
       "      <td>0</td>\n",
       "    </tr>\n",
       "  </tbody>\n",
       "</table>\n",
       "</div>"
      ],
      "text/plain": [
       "   user_id  item_id  pred_als  actual\n",
       "0        1  9705473         1       0\n",
       "1        1  1042438         1       0\n",
       "2        1   962568         1       0\n",
       "3        1   944137         1       0\n",
       "4        1   944139         1       0\n",
       "5        1  1075214         1       0\n",
       "6        1  1005583         1       0"
      ]
     },
     "execution_count": 39,
     "metadata": {},
     "output_type": "execute_result"
    }
   ],
   "source": [
    "# Подготовка таблицы для обучения модели второго уровня.\n",
    "X_train = utils.prepare_result_lvl_2(data=result_valid, feature_predicted='pred_als')\n",
    "\n",
    "# Проверка.\n",
    "X_train.head(7)"
   ]
  },
  {
   "cell_type": "markdown",
   "id": "9791ba3f",
   "metadata": {},
   "source": [
    "#### Добавление признаков пользователей"
   ]
  },
  {
   "cell_type": "code",
   "execution_count": 40,
   "id": "b333faea",
   "metadata": {},
   "outputs": [
    {
     "data": {
      "text/html": [
       "<div>\n",
       "<style scoped>\n",
       "    .dataframe tbody tr th:only-of-type {\n",
       "        vertical-align: middle;\n",
       "    }\n",
       "\n",
       "    .dataframe tbody tr th {\n",
       "        vertical-align: top;\n",
       "    }\n",
       "\n",
       "    .dataframe thead th {\n",
       "        text-align: right;\n",
       "    }\n",
       "</style>\n",
       "<table border=\"1\" class=\"dataframe\">\n",
       "  <thead>\n",
       "    <tr style=\"text-align: right;\">\n",
       "      <th></th>\n",
       "      <th>user_id</th>\n",
       "      <th>item_id</th>\n",
       "      <th>pred_als</th>\n",
       "      <th>actual</th>\n",
       "      <th>age_desc</th>\n",
       "      <th>income_desc</th>\n",
       "    </tr>\n",
       "  </thead>\n",
       "  <tbody>\n",
       "    <tr>\n",
       "      <th>0</th>\n",
       "      <td>1</td>\n",
       "      <td>9705473</td>\n",
       "      <td>1</td>\n",
       "      <td>0</td>\n",
       "      <td>65+</td>\n",
       "      <td>35-49K</td>\n",
       "    </tr>\n",
       "    <tr>\n",
       "      <th>1</th>\n",
       "      <td>1</td>\n",
       "      <td>1042438</td>\n",
       "      <td>1</td>\n",
       "      <td>0</td>\n",
       "      <td>65+</td>\n",
       "      <td>35-49K</td>\n",
       "    </tr>\n",
       "  </tbody>\n",
       "</table>\n",
       "</div>"
      ],
      "text/plain": [
       "   user_id  item_id  pred_als  actual age_desc income_desc\n",
       "0        1  9705473         1       0      65+      35-49K\n",
       "1        1  1042438         1       0      65+      35-49K"
      ]
     },
     "execution_count": 40,
     "metadata": {},
     "output_type": "execute_result"
    }
   ],
   "source": [
    "# Добавление признаков пользователей \"age_desc\" и \"income_desc\".\n",
    "X_train = X_train.merge(user_features[['user_id', 'age_desc', 'income_desc']], on='user_id')\n",
    "\n",
    "# Проверка.\n",
    "X_train.head(2)"
   ]
  },
  {
   "cell_type": "markdown",
   "id": "49eed7d0",
   "metadata": {},
   "source": [
    "#### Добавление признаков товаров"
   ]
  },
  {
   "cell_type": "code",
   "execution_count": 41,
   "id": "a134d810",
   "metadata": {
    "scrolled": true
   },
   "outputs": [
    {
     "data": {
      "text/html": [
       "<div>\n",
       "<style scoped>\n",
       "    .dataframe tbody tr th:only-of-type {\n",
       "        vertical-align: middle;\n",
       "    }\n",
       "\n",
       "    .dataframe tbody tr th {\n",
       "        vertical-align: top;\n",
       "    }\n",
       "\n",
       "    .dataframe thead th {\n",
       "        text-align: right;\n",
       "    }\n",
       "</style>\n",
       "<table border=\"1\" class=\"dataframe\">\n",
       "  <thead>\n",
       "    <tr style=\"text-align: right;\">\n",
       "      <th></th>\n",
       "      <th>user_id</th>\n",
       "      <th>item_id</th>\n",
       "      <th>pred_als</th>\n",
       "      <th>actual</th>\n",
       "      <th>age_desc</th>\n",
       "      <th>income_desc</th>\n",
       "      <th>manufacturer</th>\n",
       "      <th>department</th>\n",
       "    </tr>\n",
       "  </thead>\n",
       "  <tbody>\n",
       "    <tr>\n",
       "      <th>0</th>\n",
       "      <td>1</td>\n",
       "      <td>9705473</td>\n",
       "      <td>1</td>\n",
       "      <td>0</td>\n",
       "      <td>65+</td>\n",
       "      <td>35-49K</td>\n",
       "      <td>661</td>\n",
       "      <td>PRODUCE</td>\n",
       "    </tr>\n",
       "    <tr>\n",
       "      <th>1</th>\n",
       "      <td>16</td>\n",
       "      <td>9705473</td>\n",
       "      <td>1</td>\n",
       "      <td>0</td>\n",
       "      <td>45-54</td>\n",
       "      <td>50-74K</td>\n",
       "      <td>661</td>\n",
       "      <td>PRODUCE</td>\n",
       "    </tr>\n",
       "  </tbody>\n",
       "</table>\n",
       "</div>"
      ],
      "text/plain": [
       "   user_id  item_id  pred_als  actual age_desc income_desc  manufacturer  \\\n",
       "0        1  9705473         1       0      65+      35-49K           661   \n",
       "1       16  9705473         1       0    45-54      50-74K           661   \n",
       "\n",
       "  department  \n",
       "0    PRODUCE  \n",
       "1    PRODUCE  "
      ]
     },
     "execution_count": 41,
     "metadata": {},
     "output_type": "execute_result"
    }
   ],
   "source": [
    "# Добавление признаков товаров \"manufacturer\" и \"department\".\n",
    "X_train = X_train.merge(item_features[['item_id', 'manufacturer', 'department']], on='item_id')\n",
    "\n",
    "# Проверка.\n",
    "X_train.head(2)"
   ]
  },
  {
   "cell_type": "markdown",
   "id": "89041e54",
   "metadata": {},
   "source": [
    "#### Добавление признаков пары пользователь-товар"
   ]
  },
  {
   "cell_type": "code",
   "execution_count": 42,
   "id": "a272fabd",
   "metadata": {},
   "outputs": [
    {
     "name": "stdout",
     "output_type": "stream",
     "text": [
      "Wall time: 2.96 s\n"
     ]
    },
    {
     "data": {
      "text/html": [
       "<div>\n",
       "<style scoped>\n",
       "    .dataframe tbody tr th:only-of-type {\n",
       "        vertical-align: middle;\n",
       "    }\n",
       "\n",
       "    .dataframe tbody tr th {\n",
       "        vertical-align: top;\n",
       "    }\n",
       "\n",
       "    .dataframe thead th {\n",
       "        text-align: right;\n",
       "    }\n",
       "</style>\n",
       "<table border=\"1\" class=\"dataframe\">\n",
       "  <thead>\n",
       "    <tr style=\"text-align: right;\">\n",
       "      <th></th>\n",
       "      <th>user_item_id</th>\n",
       "      <th>quantity</th>\n",
       "      <th>sales_value</th>\n",
       "    </tr>\n",
       "  </thead>\n",
       "  <tbody>\n",
       "    <tr>\n",
       "      <th>0</th>\n",
       "      <td>1000_1001827</td>\n",
       "      <td>1</td>\n",
       "      <td>1.69</td>\n",
       "    </tr>\n",
       "    <tr>\n",
       "      <th>1</th>\n",
       "      <td>1000_1003188</td>\n",
       "      <td>28</td>\n",
       "      <td>40.00</td>\n",
       "    </tr>\n",
       "  </tbody>\n",
       "</table>\n",
       "</div>"
      ],
      "text/plain": [
       "   user_item_id  quantity  sales_value\n",
       "0  1000_1001827         1         1.69\n",
       "1  1000_1003188        28        40.00"
      ]
     },
     "execution_count": 42,
     "metadata": {},
     "output_type": "execute_result"
    }
   ],
   "source": [
    "%%time\n",
    "\n",
    "# Формирование таблицы признаков пользователь-товар.\n",
    "user_item_features = data_train.copy()\n",
    "\n",
    "user_item_features['user_item_id'] = (\n",
    "    user_item_features['user_id']\n",
    "    .astype(str)\n",
    "    .str\n",
    "    .cat(user_item_features['item_id'].astype(str), sep='_')\n",
    ")\n",
    "\n",
    "user_item_features = (\n",
    "    user_item_features\n",
    "    .groupby(by='user_item_id')[['quantity', 'sales_value']]\n",
    "    .sum()\n",
    "    .reset_index()\n",
    ")\n",
    "\n",
    "user_item_features.head(2)"
   ]
  },
  {
   "cell_type": "code",
   "execution_count": 43,
   "id": "4d74ff8b",
   "metadata": {},
   "outputs": [
    {
     "data": {
      "text/html": [
       "<div>\n",
       "<style scoped>\n",
       "    .dataframe tbody tr th:only-of-type {\n",
       "        vertical-align: middle;\n",
       "    }\n",
       "\n",
       "    .dataframe tbody tr th {\n",
       "        vertical-align: top;\n",
       "    }\n",
       "\n",
       "    .dataframe thead th {\n",
       "        text-align: right;\n",
       "    }\n",
       "</style>\n",
       "<table border=\"1\" class=\"dataframe\">\n",
       "  <thead>\n",
       "    <tr style=\"text-align: right;\">\n",
       "      <th></th>\n",
       "      <th>user_id</th>\n",
       "      <th>item_id</th>\n",
       "      <th>pred_als</th>\n",
       "      <th>actual</th>\n",
       "      <th>age_desc</th>\n",
       "      <th>income_desc</th>\n",
       "      <th>manufacturer</th>\n",
       "      <th>department</th>\n",
       "      <th>user_item_id</th>\n",
       "    </tr>\n",
       "  </thead>\n",
       "  <tbody>\n",
       "    <tr>\n",
       "      <th>0</th>\n",
       "      <td>1</td>\n",
       "      <td>9705473</td>\n",
       "      <td>1</td>\n",
       "      <td>0</td>\n",
       "      <td>65+</td>\n",
       "      <td>35-49K</td>\n",
       "      <td>661</td>\n",
       "      <td>PRODUCE</td>\n",
       "      <td>1_9705473</td>\n",
       "    </tr>\n",
       "    <tr>\n",
       "      <th>1</th>\n",
       "      <td>16</td>\n",
       "      <td>9705473</td>\n",
       "      <td>1</td>\n",
       "      <td>0</td>\n",
       "      <td>45-54</td>\n",
       "      <td>50-74K</td>\n",
       "      <td>661</td>\n",
       "      <td>PRODUCE</td>\n",
       "      <td>16_9705473</td>\n",
       "    </tr>\n",
       "  </tbody>\n",
       "</table>\n",
       "</div>"
      ],
      "text/plain": [
       "   user_id  item_id  pred_als  actual age_desc income_desc  manufacturer  \\\n",
       "0        1  9705473         1       0      65+      35-49K           661   \n",
       "1       16  9705473         1       0    45-54      50-74K           661   \n",
       "\n",
       "  department user_item_id  \n",
       "0    PRODUCE    1_9705473  \n",
       "1    PRODUCE   16_9705473  "
      ]
     },
     "execution_count": 43,
     "metadata": {},
     "output_type": "execute_result"
    }
   ],
   "source": [
    "# Формирование идентификатора пользователь-товар.\n",
    "X_train['user_item_id'] = (\n",
    "    X_train['user_id']\n",
    "    .astype(str)\n",
    "    .str\n",
    "    .cat(X_train['item_id'].astype(str), sep='_')\n",
    ")\n",
    "\n",
    "X_train.head(2)"
   ]
  },
  {
   "cell_type": "code",
   "execution_count": 44,
   "id": "8898bdbd",
   "metadata": {},
   "outputs": [
    {
     "data": {
      "text/html": [
       "<div>\n",
       "<style scoped>\n",
       "    .dataframe tbody tr th:only-of-type {\n",
       "        vertical-align: middle;\n",
       "    }\n",
       "\n",
       "    .dataframe tbody tr th {\n",
       "        vertical-align: top;\n",
       "    }\n",
       "\n",
       "    .dataframe thead th {\n",
       "        text-align: right;\n",
       "    }\n",
       "</style>\n",
       "<table border=\"1\" class=\"dataframe\">\n",
       "  <thead>\n",
       "    <tr style=\"text-align: right;\">\n",
       "      <th></th>\n",
       "      <th>user_id</th>\n",
       "      <th>item_id</th>\n",
       "      <th>pred_als</th>\n",
       "      <th>actual</th>\n",
       "      <th>age_desc</th>\n",
       "      <th>income_desc</th>\n",
       "      <th>manufacturer</th>\n",
       "      <th>department</th>\n",
       "      <th>quantity</th>\n",
       "      <th>sales_value</th>\n",
       "    </tr>\n",
       "  </thead>\n",
       "  <tbody>\n",
       "    <tr>\n",
       "      <th>0</th>\n",
       "      <td>127</td>\n",
       "      <td>9705473</td>\n",
       "      <td>1</td>\n",
       "      <td>0</td>\n",
       "      <td>45-54</td>\n",
       "      <td>25-34K</td>\n",
       "      <td>661</td>\n",
       "      <td>PRODUCE</td>\n",
       "      <td>3</td>\n",
       "      <td>2.07</td>\n",
       "    </tr>\n",
       "    <tr>\n",
       "      <th>1</th>\n",
       "      <td>294</td>\n",
       "      <td>9705473</td>\n",
       "      <td>1</td>\n",
       "      <td>1</td>\n",
       "      <td>25-34</td>\n",
       "      <td>50-74K</td>\n",
       "      <td>661</td>\n",
       "      <td>PRODUCE</td>\n",
       "      <td>23</td>\n",
       "      <td>15.87</td>\n",
       "    </tr>\n",
       "  </tbody>\n",
       "</table>\n",
       "</div>"
      ],
      "text/plain": [
       "   user_id  item_id  pred_als  actual age_desc income_desc  manufacturer  \\\n",
       "0      127  9705473         1       0    45-54      25-34K           661   \n",
       "1      294  9705473         1       1    25-34      50-74K           661   \n",
       "\n",
       "  department  quantity  sales_value  \n",
       "0    PRODUCE         3         2.07  \n",
       "1    PRODUCE        23        15.87  "
      ]
     },
     "execution_count": 44,
     "metadata": {},
     "output_type": "execute_result"
    }
   ],
   "source": [
    "# Добавление признаков пользователь-товар \"quantity\" и \"sales_value\".\n",
    "X_train = X_train.merge(user_item_features, on='user_item_id')\n",
    "X_train = X_train.drop(columns=['user_item_id'])\n",
    "\n",
    "# Проверка.\n",
    "X_train.head(2)"
   ]
  },
  {
   "cell_type": "code",
   "execution_count": 45,
   "id": "353e3884",
   "metadata": {},
   "outputs": [
    {
     "name": "stdout",
     "output_type": "stream",
     "text": [
      "<class 'pandas.core.frame.DataFrame'>\n",
      "Int64Index: 65593 entries, 0 to 65592\n",
      "Data columns (total 10 columns):\n",
      " #   Column        Non-Null Count  Dtype  \n",
      "---  ------        --------------  -----  \n",
      " 0   user_id       65593 non-null  int64  \n",
      " 1   item_id       65593 non-null  int64  \n",
      " 2   pred_als      65593 non-null  int64  \n",
      " 3   actual        65593 non-null  int32  \n",
      " 4   age_desc      65593 non-null  object \n",
      " 5   income_desc   65593 non-null  object \n",
      " 6   manufacturer  65593 non-null  int64  \n",
      " 7   department    65593 non-null  object \n",
      " 8   quantity      65593 non-null  int64  \n",
      " 9   sales_value   65593 non-null  float64\n",
      "dtypes: float64(1), int32(1), int64(5), object(3)\n",
      "memory usage: 5.3+ MB\n"
     ]
    }
   ],
   "source": [
    "# Проверка структуры сформированной таблицы.\n",
    "X_train.info()"
   ]
  },
  {
   "cell_type": "markdown",
   "id": "c02d48c6",
   "metadata": {},
   "source": [
    "### Подготовка данных для модели второго уровня - тестовая выборка"
   ]
  },
  {
   "cell_type": "code",
   "execution_count": 46,
   "id": "3630f76f",
   "metadata": {},
   "outputs": [
    {
     "data": {
      "text/html": [
       "<div>\n",
       "<style scoped>\n",
       "    .dataframe tbody tr th:only-of-type {\n",
       "        vertical-align: middle;\n",
       "    }\n",
       "\n",
       "    .dataframe tbody tr th {\n",
       "        vertical-align: top;\n",
       "    }\n",
       "\n",
       "    .dataframe thead th {\n",
       "        text-align: right;\n",
       "    }\n",
       "</style>\n",
       "<table border=\"1\" class=\"dataframe\">\n",
       "  <thead>\n",
       "    <tr style=\"text-align: right;\">\n",
       "      <th></th>\n",
       "      <th>user_id</th>\n",
       "      <th>actual</th>\n",
       "      <th>pred_als</th>\n",
       "      <th>pred_sur</th>\n",
       "    </tr>\n",
       "  </thead>\n",
       "  <tbody>\n",
       "    <tr>\n",
       "      <th>0</th>\n",
       "      <td>1</td>\n",
       "      <td>[821867, 834484, 856942, 865456, 889248, 90795...</td>\n",
       "      <td>[981760, 1082185, 995242, 1029743, 1127831]</td>\n",
       "      <td>[6534178, 6533889, 6534166, 6544236, 1404121]</td>\n",
       "    </tr>\n",
       "    <tr>\n",
       "      <th>1</th>\n",
       "      <td>3</td>\n",
       "      <td>[835476, 851057, 872021, 878302, 879948, 90963...</td>\n",
       "      <td>[1085604, 844165, 951590, 962229, 8090521]</td>\n",
       "      <td>[6533889, 6534178, 6534166, 6544236, 1404121]</td>\n",
       "    </tr>\n",
       "  </tbody>\n",
       "</table>\n",
       "</div>"
      ],
      "text/plain": [
       "   user_id                                             actual  \\\n",
       "0        1  [821867, 834484, 856942, 865456, 889248, 90795...   \n",
       "1        3  [835476, 851057, 872021, 878302, 879948, 90963...   \n",
       "\n",
       "                                      pred_als  \\\n",
       "0  [981760, 1082185, 995242, 1029743, 1127831]   \n",
       "1   [1085604, 844165, 951590, 962229, 8090521]   \n",
       "\n",
       "                                        pred_sur  \n",
       "0  [6534178, 6533889, 6534166, 6544236, 1404121]  \n",
       "1  [6533889, 6534178, 6534166, 6544236, 1404121]  "
      ]
     },
     "execution_count": 46,
     "metadata": {},
     "output_type": "execute_result"
    }
   ],
   "source": [
    "# Вывод результатов прогноза моделей первого уровня на тестовой выборке.\n",
    "result_test.head(2)"
   ]
  },
  {
   "cell_type": "code",
   "execution_count": 47,
   "id": "f0b28732",
   "metadata": {},
   "outputs": [
    {
     "data": {
      "text/html": [
       "<div>\n",
       "<style scoped>\n",
       "    .dataframe tbody tr th:only-of-type {\n",
       "        vertical-align: middle;\n",
       "    }\n",
       "\n",
       "    .dataframe tbody tr th {\n",
       "        vertical-align: top;\n",
       "    }\n",
       "\n",
       "    .dataframe thead th {\n",
       "        text-align: right;\n",
       "    }\n",
       "</style>\n",
       "<table border=\"1\" class=\"dataframe\">\n",
       "  <thead>\n",
       "    <tr style=\"text-align: right;\">\n",
       "      <th></th>\n",
       "      <th>user_id</th>\n",
       "      <th>item_id</th>\n",
       "      <th>pred_als</th>\n",
       "      <th>actual</th>\n",
       "    </tr>\n",
       "  </thead>\n",
       "  <tbody>\n",
       "    <tr>\n",
       "      <th>0</th>\n",
       "      <td>1</td>\n",
       "      <td>1085604</td>\n",
       "      <td>1</td>\n",
       "      <td>0</td>\n",
       "    </tr>\n",
       "    <tr>\n",
       "      <th>1</th>\n",
       "      <td>1</td>\n",
       "      <td>844165</td>\n",
       "      <td>1</td>\n",
       "      <td>0</td>\n",
       "    </tr>\n",
       "    <tr>\n",
       "      <th>2</th>\n",
       "      <td>1</td>\n",
       "      <td>951590</td>\n",
       "      <td>1</td>\n",
       "      <td>0</td>\n",
       "    </tr>\n",
       "    <tr>\n",
       "      <th>3</th>\n",
       "      <td>1</td>\n",
       "      <td>962229</td>\n",
       "      <td>1</td>\n",
       "      <td>0</td>\n",
       "    </tr>\n",
       "    <tr>\n",
       "      <th>4</th>\n",
       "      <td>1</td>\n",
       "      <td>8090521</td>\n",
       "      <td>1</td>\n",
       "      <td>0</td>\n",
       "    </tr>\n",
       "    <tr>\n",
       "      <th>5</th>\n",
       "      <td>3</td>\n",
       "      <td>981760</td>\n",
       "      <td>1</td>\n",
       "      <td>0</td>\n",
       "    </tr>\n",
       "    <tr>\n",
       "      <th>6</th>\n",
       "      <td>3</td>\n",
       "      <td>1082185</td>\n",
       "      <td>1</td>\n",
       "      <td>0</td>\n",
       "    </tr>\n",
       "  </tbody>\n",
       "</table>\n",
       "</div>"
      ],
      "text/plain": [
       "   user_id  item_id  pred_als  actual\n",
       "0        1  1085604         1       0\n",
       "1        1   844165         1       0\n",
       "2        1   951590         1       0\n",
       "3        1   962229         1       0\n",
       "4        1  8090521         1       0\n",
       "5        3   981760         1       0\n",
       "6        3  1082185         1       0"
      ]
     },
     "execution_count": 47,
     "metadata": {},
     "output_type": "execute_result"
    }
   ],
   "source": [
    "# Подготовка таблицы для проверки модели второго уровня.\n",
    "X_test = utils.prepare_result_lvl_2(data=result_test, feature_predicted='pred_als')\n",
    "\n",
    "# Проверка.\n",
    "X_test.head(7)"
   ]
  },
  {
   "cell_type": "markdown",
   "id": "c2fdcb78",
   "metadata": {},
   "source": [
    "#### Добавление признаков пользователей"
   ]
  },
  {
   "cell_type": "code",
   "execution_count": 48,
   "id": "aa247a0e",
   "metadata": {},
   "outputs": [
    {
     "data": {
      "text/html": [
       "<div>\n",
       "<style scoped>\n",
       "    .dataframe tbody tr th:only-of-type {\n",
       "        vertical-align: middle;\n",
       "    }\n",
       "\n",
       "    .dataframe tbody tr th {\n",
       "        vertical-align: top;\n",
       "    }\n",
       "\n",
       "    .dataframe thead th {\n",
       "        text-align: right;\n",
       "    }\n",
       "</style>\n",
       "<table border=\"1\" class=\"dataframe\">\n",
       "  <thead>\n",
       "    <tr style=\"text-align: right;\">\n",
       "      <th></th>\n",
       "      <th>user_id</th>\n",
       "      <th>item_id</th>\n",
       "      <th>pred_als</th>\n",
       "      <th>actual</th>\n",
       "      <th>age_desc</th>\n",
       "      <th>income_desc</th>\n",
       "    </tr>\n",
       "  </thead>\n",
       "  <tbody>\n",
       "    <tr>\n",
       "      <th>0</th>\n",
       "      <td>1</td>\n",
       "      <td>1085604</td>\n",
       "      <td>1</td>\n",
       "      <td>0</td>\n",
       "      <td>65+</td>\n",
       "      <td>35-49K</td>\n",
       "    </tr>\n",
       "    <tr>\n",
       "      <th>1</th>\n",
       "      <td>1</td>\n",
       "      <td>844165</td>\n",
       "      <td>1</td>\n",
       "      <td>0</td>\n",
       "      <td>65+</td>\n",
       "      <td>35-49K</td>\n",
       "    </tr>\n",
       "  </tbody>\n",
       "</table>\n",
       "</div>"
      ],
      "text/plain": [
       "   user_id  item_id  pred_als  actual age_desc income_desc\n",
       "0        1  1085604         1       0      65+      35-49K\n",
       "1        1   844165         1       0      65+      35-49K"
      ]
     },
     "execution_count": 48,
     "metadata": {},
     "output_type": "execute_result"
    }
   ],
   "source": [
    "# Добавление признаков пользователей \"age_desc\" и \"income_desc\".\n",
    "X_test = X_test.merge(user_features[['user_id', 'age_desc', 'income_desc']], on='user_id')\n",
    "\n",
    "# Проверка.\n",
    "X_test.head(2)"
   ]
  },
  {
   "cell_type": "markdown",
   "id": "a9295e81",
   "metadata": {},
   "source": [
    "#### Добавление признаков товаров"
   ]
  },
  {
   "cell_type": "code",
   "execution_count": 49,
   "id": "d9e74df7",
   "metadata": {
    "scrolled": true
   },
   "outputs": [
    {
     "data": {
      "text/html": [
       "<div>\n",
       "<style scoped>\n",
       "    .dataframe tbody tr th:only-of-type {\n",
       "        vertical-align: middle;\n",
       "    }\n",
       "\n",
       "    .dataframe tbody tr th {\n",
       "        vertical-align: top;\n",
       "    }\n",
       "\n",
       "    .dataframe thead th {\n",
       "        text-align: right;\n",
       "    }\n",
       "</style>\n",
       "<table border=\"1\" class=\"dataframe\">\n",
       "  <thead>\n",
       "    <tr style=\"text-align: right;\">\n",
       "      <th></th>\n",
       "      <th>user_id</th>\n",
       "      <th>item_id</th>\n",
       "      <th>pred_als</th>\n",
       "      <th>actual</th>\n",
       "      <th>age_desc</th>\n",
       "      <th>income_desc</th>\n",
       "      <th>manufacturer</th>\n",
       "      <th>department</th>\n",
       "    </tr>\n",
       "  </thead>\n",
       "  <tbody>\n",
       "    <tr>\n",
       "      <th>0</th>\n",
       "      <td>1</td>\n",
       "      <td>1085604</td>\n",
       "      <td>1</td>\n",
       "      <td>0</td>\n",
       "      <td>65+</td>\n",
       "      <td>35-49K</td>\n",
       "      <td>103</td>\n",
       "      <td>GROCERY</td>\n",
       "    </tr>\n",
       "    <tr>\n",
       "      <th>1</th>\n",
       "      <td>300</td>\n",
       "      <td>1085604</td>\n",
       "      <td>1</td>\n",
       "      <td>0</td>\n",
       "      <td>55-64</td>\n",
       "      <td>Under 15K</td>\n",
       "      <td>103</td>\n",
       "      <td>GROCERY</td>\n",
       "    </tr>\n",
       "  </tbody>\n",
       "</table>\n",
       "</div>"
      ],
      "text/plain": [
       "   user_id  item_id  pred_als  actual age_desc income_desc  manufacturer  \\\n",
       "0        1  1085604         1       0      65+      35-49K           103   \n",
       "1      300  1085604         1       0    55-64   Under 15K           103   \n",
       "\n",
       "  department  \n",
       "0    GROCERY  \n",
       "1    GROCERY  "
      ]
     },
     "execution_count": 49,
     "metadata": {},
     "output_type": "execute_result"
    }
   ],
   "source": [
    "# Добавление признаков товаров \"manufacturer\" и \"department\".\n",
    "X_test = X_test.merge(item_features[['item_id', 'manufacturer', 'department']], on='item_id')\n",
    "\n",
    "# Проверка.\n",
    "X_test.head(2)"
   ]
  },
  {
   "cell_type": "markdown",
   "id": "e8b119f8",
   "metadata": {},
   "source": [
    "#### Добавление признаков пары пользователь-товар"
   ]
  },
  {
   "cell_type": "code",
   "execution_count": 50,
   "id": "88ce59cb",
   "metadata": {},
   "outputs": [
    {
     "data": {
      "text/html": [
       "<div>\n",
       "<style scoped>\n",
       "    .dataframe tbody tr th:only-of-type {\n",
       "        vertical-align: middle;\n",
       "    }\n",
       "\n",
       "    .dataframe tbody tr th {\n",
       "        vertical-align: top;\n",
       "    }\n",
       "\n",
       "    .dataframe thead th {\n",
       "        text-align: right;\n",
       "    }\n",
       "</style>\n",
       "<table border=\"1\" class=\"dataframe\">\n",
       "  <thead>\n",
       "    <tr style=\"text-align: right;\">\n",
       "      <th></th>\n",
       "      <th>user_id</th>\n",
       "      <th>item_id</th>\n",
       "      <th>pred_als</th>\n",
       "      <th>actual</th>\n",
       "      <th>age_desc</th>\n",
       "      <th>income_desc</th>\n",
       "      <th>manufacturer</th>\n",
       "      <th>department</th>\n",
       "      <th>user_item_id</th>\n",
       "    </tr>\n",
       "  </thead>\n",
       "  <tbody>\n",
       "    <tr>\n",
       "      <th>0</th>\n",
       "      <td>1</td>\n",
       "      <td>1085604</td>\n",
       "      <td>1</td>\n",
       "      <td>0</td>\n",
       "      <td>65+</td>\n",
       "      <td>35-49K</td>\n",
       "      <td>103</td>\n",
       "      <td>GROCERY</td>\n",
       "      <td>1_1085604</td>\n",
       "    </tr>\n",
       "    <tr>\n",
       "      <th>1</th>\n",
       "      <td>300</td>\n",
       "      <td>1085604</td>\n",
       "      <td>1</td>\n",
       "      <td>0</td>\n",
       "      <td>55-64</td>\n",
       "      <td>Under 15K</td>\n",
       "      <td>103</td>\n",
       "      <td>GROCERY</td>\n",
       "      <td>300_1085604</td>\n",
       "    </tr>\n",
       "  </tbody>\n",
       "</table>\n",
       "</div>"
      ],
      "text/plain": [
       "   user_id  item_id  pred_als  actual age_desc income_desc  manufacturer  \\\n",
       "0        1  1085604         1       0      65+      35-49K           103   \n",
       "1      300  1085604         1       0    55-64   Under 15K           103   \n",
       "\n",
       "  department user_item_id  \n",
       "0    GROCERY    1_1085604  \n",
       "1    GROCERY  300_1085604  "
      ]
     },
     "execution_count": 50,
     "metadata": {},
     "output_type": "execute_result"
    }
   ],
   "source": [
    "# Формирование идентификатора пользователь-товар.\n",
    "X_test['user_item_id'] = (\n",
    "    X_test['user_id']\n",
    "    .astype(str)\n",
    "    .str\n",
    "    .cat(X_test['item_id'].astype(str), sep='_')\n",
    ")\n",
    "\n",
    "# Проверка.\n",
    "X_test.head(2)"
   ]
  },
  {
   "cell_type": "code",
   "execution_count": 51,
   "id": "b1f735a3",
   "metadata": {},
   "outputs": [
    {
     "data": {
      "text/html": [
       "<div>\n",
       "<style scoped>\n",
       "    .dataframe tbody tr th:only-of-type {\n",
       "        vertical-align: middle;\n",
       "    }\n",
       "\n",
       "    .dataframe tbody tr th {\n",
       "        vertical-align: top;\n",
       "    }\n",
       "\n",
       "    .dataframe thead th {\n",
       "        text-align: right;\n",
       "    }\n",
       "</style>\n",
       "<table border=\"1\" class=\"dataframe\">\n",
       "  <thead>\n",
       "    <tr style=\"text-align: right;\">\n",
       "      <th></th>\n",
       "      <th>user_id</th>\n",
       "      <th>item_id</th>\n",
       "      <th>pred_als</th>\n",
       "      <th>actual</th>\n",
       "      <th>age_desc</th>\n",
       "      <th>income_desc</th>\n",
       "      <th>manufacturer</th>\n",
       "      <th>department</th>\n",
       "      <th>quantity</th>\n",
       "      <th>sales_value</th>\n",
       "    </tr>\n",
       "  </thead>\n",
       "  <tbody>\n",
       "    <tr>\n",
       "      <th>0</th>\n",
       "      <td>334</td>\n",
       "      <td>1085604</td>\n",
       "      <td>1</td>\n",
       "      <td>0</td>\n",
       "      <td>45-54</td>\n",
       "      <td>Under 15K</td>\n",
       "      <td>103</td>\n",
       "      <td>GROCERY</td>\n",
       "      <td>1</td>\n",
       "      <td>1.00</td>\n",
       "    </tr>\n",
       "    <tr>\n",
       "      <th>1</th>\n",
       "      <td>864</td>\n",
       "      <td>1085604</td>\n",
       "      <td>1</td>\n",
       "      <td>0</td>\n",
       "      <td>35-44</td>\n",
       "      <td>15-24K</td>\n",
       "      <td>103</td>\n",
       "      <td>GROCERY</td>\n",
       "      <td>2</td>\n",
       "      <td>2.29</td>\n",
       "    </tr>\n",
       "  </tbody>\n",
       "</table>\n",
       "</div>"
      ],
      "text/plain": [
       "   user_id  item_id  pred_als  actual age_desc income_desc  manufacturer  \\\n",
       "0      334  1085604         1       0    45-54   Under 15K           103   \n",
       "1      864  1085604         1       0    35-44      15-24K           103   \n",
       "\n",
       "  department  quantity  sales_value  \n",
       "0    GROCERY         1         1.00  \n",
       "1    GROCERY         2         2.29  "
      ]
     },
     "execution_count": 51,
     "metadata": {},
     "output_type": "execute_result"
    }
   ],
   "source": [
    "# Добавление признаков пользователь-товар \"quantity\" и \"sales_value\".\n",
    "X_test = X_test.merge(user_item_features, on='user_item_id')\n",
    "X_test = X_test.drop(columns=['user_item_id'])\n",
    "\n",
    "# Проверка.\n",
    "X_test.head(2)"
   ]
  },
  {
   "cell_type": "code",
   "execution_count": 52,
   "id": "0b6ec42b",
   "metadata": {},
   "outputs": [
    {
     "name": "stdout",
     "output_type": "stream",
     "text": [
      "<class 'pandas.core.frame.DataFrame'>\n",
      "Int64Index: 1396 entries, 0 to 1395\n",
      "Data columns (total 10 columns):\n",
      " #   Column        Non-Null Count  Dtype  \n",
      "---  ------        --------------  -----  \n",
      " 0   user_id       1396 non-null   int64  \n",
      " 1   item_id       1396 non-null   int64  \n",
      " 2   pred_als      1396 non-null   int64  \n",
      " 3   actual        1396 non-null   int32  \n",
      " 4   age_desc      1396 non-null   object \n",
      " 5   income_desc   1396 non-null   object \n",
      " 6   manufacturer  1396 non-null   int64  \n",
      " 7   department    1396 non-null   object \n",
      " 8   quantity      1396 non-null   int64  \n",
      " 9   sales_value   1396 non-null   float64\n",
      "dtypes: float64(1), int32(1), int64(5), object(3)\n",
      "memory usage: 114.5+ KB\n"
     ]
    }
   ],
   "source": [
    "# Проверка структуры сформированной таблицы.\n",
    "X_test.info()"
   ]
  },
  {
   "cell_type": "markdown",
   "id": "794cb655",
   "metadata": {},
   "source": [
    "### Построение модели второго уровня"
   ]
  },
  {
   "cell_type": "markdown",
   "id": "da66edb3",
   "metadata": {},
   "source": [
    "#### Обучение модели"
   ]
  },
  {
   "cell_type": "code",
   "execution_count": 53,
   "id": "47f56b46",
   "metadata": {},
   "outputs": [],
   "source": [
    "# %%time\n",
    "\n",
    "# cat_feats = ['age_desc', 'income_desc', 'department']\n",
    "# feature_name = ['user_id', 'item_id', 'age_desc', 'income_desc', 'manufacturer', 'department', 'quantity', 'sales_value']\n",
    "\n",
    "# lgb = LGBMClassifier(objective='binary', max_depth=7, feature_name=feature_name, categorical_column=cat_feats)\n",
    "# lgb.fit(X=X_train.drop(columns=['pred_als', 'actual']),\n",
    "#         y=X_train['actual'])"
   ]
  },
  {
   "cell_type": "markdown",
   "id": "20a1b42e",
   "metadata": {},
   "source": [
    "Модель LGBMClassifier выдавала ошибку при работе с категориальными переменными, поэтому была использована модель CatBoostClassifier."
   ]
  },
  {
   "cell_type": "code",
   "execution_count": 54,
   "id": "0350ad5c",
   "metadata": {},
   "outputs": [
    {
     "name": "stdout",
     "output_type": "stream",
     "text": [
      "Wall time: 18.1 s\n"
     ]
    },
    {
     "data": {
      "text/plain": [
       "<catboost.core.CatBoostClassifier at 0x20f00dac9a0>"
      ]
     },
     "execution_count": 54,
     "metadata": {},
     "output_type": "execute_result"
    }
   ],
   "source": [
    "%%time\n",
    "\n",
    "cat_feats = ['age_desc', 'income_desc', 'department']\n",
    "\n",
    "cbc = CatBoostClassifier(silent=True, task_type='GPU', cat_features=cat_feats, random_state=random_state_global)\n",
    "\n",
    "cbc.fit(X=X_train.drop(columns=['pred_als', 'actual']),\n",
    "        y=X_train['actual'])"
   ]
  },
  {
   "cell_type": "markdown",
   "id": "beaf909e",
   "metadata": {},
   "source": [
    "#### Прогнозирование"
   ]
  },
  {
   "cell_type": "code",
   "execution_count": 55,
   "id": "62fe43b6",
   "metadata": {},
   "outputs": [
    {
     "data": {
      "text/html": [
       "<div>\n",
       "<style scoped>\n",
       "    .dataframe tbody tr th:only-of-type {\n",
       "        vertical-align: middle;\n",
       "    }\n",
       "\n",
       "    .dataframe tbody tr th {\n",
       "        vertical-align: top;\n",
       "    }\n",
       "\n",
       "    .dataframe thead th {\n",
       "        text-align: right;\n",
       "    }\n",
       "</style>\n",
       "<table border=\"1\" class=\"dataframe\">\n",
       "  <thead>\n",
       "    <tr style=\"text-align: right;\">\n",
       "      <th></th>\n",
       "      <th>user_id</th>\n",
       "      <th>item_id</th>\n",
       "      <th>pred_als</th>\n",
       "      <th>actual</th>\n",
       "      <th>age_desc</th>\n",
       "      <th>income_desc</th>\n",
       "      <th>manufacturer</th>\n",
       "      <th>department</th>\n",
       "      <th>quantity</th>\n",
       "      <th>sales_value</th>\n",
       "      <th>pred_cbc</th>\n",
       "    </tr>\n",
       "  </thead>\n",
       "  <tbody>\n",
       "    <tr>\n",
       "      <th>0</th>\n",
       "      <td>127</td>\n",
       "      <td>9705473</td>\n",
       "      <td>1</td>\n",
       "      <td>0</td>\n",
       "      <td>45-54</td>\n",
       "      <td>25-34K</td>\n",
       "      <td>661</td>\n",
       "      <td>PRODUCE</td>\n",
       "      <td>3</td>\n",
       "      <td>2.07</td>\n",
       "      <td>0</td>\n",
       "    </tr>\n",
       "    <tr>\n",
       "      <th>1</th>\n",
       "      <td>294</td>\n",
       "      <td>9705473</td>\n",
       "      <td>1</td>\n",
       "      <td>1</td>\n",
       "      <td>25-34</td>\n",
       "      <td>50-74K</td>\n",
       "      <td>661</td>\n",
       "      <td>PRODUCE</td>\n",
       "      <td>23</td>\n",
       "      <td>15.87</td>\n",
       "      <td>1</td>\n",
       "    </tr>\n",
       "  </tbody>\n",
       "</table>\n",
       "</div>"
      ],
      "text/plain": [
       "   user_id  item_id  pred_als  actual age_desc income_desc  manufacturer  \\\n",
       "0      127  9705473         1       0    45-54      25-34K           661   \n",
       "1      294  9705473         1       1    25-34      50-74K           661   \n",
       "\n",
       "  department  quantity  sales_value  pred_cbc  \n",
       "0    PRODUCE         3         2.07         0  \n",
       "1    PRODUCE        23        15.87         1  "
      ]
     },
     "execution_count": 55,
     "metadata": {},
     "output_type": "execute_result"
    }
   ],
   "source": [
    "# Прогнозирование моделью второго уровна на обучающей выборке.\n",
    "X_train['pred_cbc'] = cbc.predict(X_train.drop(columns=['pred_als', 'actual']))\n",
    "\n",
    "# Проверка.\n",
    "X_train.head(2)"
   ]
  },
  {
   "cell_type": "code",
   "execution_count": 56,
   "id": "88797e0a",
   "metadata": {},
   "outputs": [
    {
     "data": {
      "text/html": [
       "<div>\n",
       "<style scoped>\n",
       "    .dataframe tbody tr th:only-of-type {\n",
       "        vertical-align: middle;\n",
       "    }\n",
       "\n",
       "    .dataframe tbody tr th {\n",
       "        vertical-align: top;\n",
       "    }\n",
       "\n",
       "    .dataframe thead th {\n",
       "        text-align: right;\n",
       "    }\n",
       "</style>\n",
       "<table border=\"1\" class=\"dataframe\">\n",
       "  <thead>\n",
       "    <tr style=\"text-align: right;\">\n",
       "      <th></th>\n",
       "      <th>user_id</th>\n",
       "      <th>item_id</th>\n",
       "      <th>pred_als</th>\n",
       "      <th>actual</th>\n",
       "      <th>age_desc</th>\n",
       "      <th>income_desc</th>\n",
       "      <th>manufacturer</th>\n",
       "      <th>department</th>\n",
       "      <th>quantity</th>\n",
       "      <th>sales_value</th>\n",
       "      <th>pred_cbc</th>\n",
       "    </tr>\n",
       "  </thead>\n",
       "  <tbody>\n",
       "    <tr>\n",
       "      <th>0</th>\n",
       "      <td>334</td>\n",
       "      <td>1085604</td>\n",
       "      <td>1</td>\n",
       "      <td>0</td>\n",
       "      <td>45-54</td>\n",
       "      <td>Under 15K</td>\n",
       "      <td>103</td>\n",
       "      <td>GROCERY</td>\n",
       "      <td>1</td>\n",
       "      <td>1.00</td>\n",
       "      <td>0</td>\n",
       "    </tr>\n",
       "    <tr>\n",
       "      <th>1</th>\n",
       "      <td>864</td>\n",
       "      <td>1085604</td>\n",
       "      <td>1</td>\n",
       "      <td>0</td>\n",
       "      <td>35-44</td>\n",
       "      <td>15-24K</td>\n",
       "      <td>103</td>\n",
       "      <td>GROCERY</td>\n",
       "      <td>2</td>\n",
       "      <td>2.29</td>\n",
       "      <td>0</td>\n",
       "    </tr>\n",
       "  </tbody>\n",
       "</table>\n",
       "</div>"
      ],
      "text/plain": [
       "   user_id  item_id  pred_als  actual age_desc income_desc  manufacturer  \\\n",
       "0      334  1085604         1       0    45-54   Under 15K           103   \n",
       "1      864  1085604         1       0    35-44      15-24K           103   \n",
       "\n",
       "  department  quantity  sales_value  pred_cbc  \n",
       "0    GROCERY         1         1.00         0  \n",
       "1    GROCERY         2         2.29         0  "
      ]
     },
     "execution_count": 56,
     "metadata": {},
     "output_type": "execute_result"
    }
   ],
   "source": [
    "# Прогнозирование моделью второго уровна на тестовой выборке.\n",
    "X_test['pred_cbc'] = cbc.predict(X_test.drop(columns=['pred_als', 'actual']))\n",
    "\n",
    "# Проверка.\n",
    "X_test.head(2)"
   ]
  },
  {
   "cell_type": "markdown",
   "id": "eb64f638",
   "metadata": {},
   "source": [
    "#### Сравнение метрик моделей первого и второго уровней"
   ]
  },
  {
   "cell_type": "code",
   "execution_count": 57,
   "id": "b7afb1bc",
   "metadata": {
    "scrolled": true
   },
   "outputs": [
    {
     "data": {
      "text/plain": [
       "0.14411598798652295"
      ]
     },
     "execution_count": 57,
     "metadata": {},
     "output_type": "execute_result"
    }
   ],
   "source": [
    "# Вывод метрики модели первого уровня на валидационной выборке.\n",
    "precision_score(X_train['actual'], X_train['pred_als'])"
   ]
  },
  {
   "cell_type": "code",
   "execution_count": 58,
   "id": "f85ed1be",
   "metadata": {},
   "outputs": [
    {
     "name": "stdout",
     "output_type": "stream",
     "text": [
      "              precision    recall  f1-score   support\n",
      "\n",
      "           0       0.88      0.99      0.93     56140\n",
      "           1       0.76      0.23      0.36      9453\n",
      "\n",
      "    accuracy                           0.88     65593\n",
      "   macro avg       0.82      0.61      0.64     65593\n",
      "weighted avg       0.87      0.88      0.85     65593\n",
      "\n"
     ]
    }
   ],
   "source": [
    "# Вывод метрик модели второго уровня на обучающей выборке.\n",
    "print(classification_report(X_train['actual'], X_train['pred_cbc']))"
   ]
  },
  {
   "cell_type": "code",
   "execution_count": 59,
   "id": "94f49d08",
   "metadata": {},
   "outputs": [
    {
     "name": "stdout",
     "output_type": "stream",
     "text": [
      "              precision    recall  f1-score   support\n",
      "\n",
      "           0       0.82      0.85      0.83       937\n",
      "           1       0.67      0.63      0.65       459\n",
      "\n",
      "    accuracy                           0.77      1396\n",
      "   macro avg       0.74      0.74      0.74      1396\n",
      "weighted avg       0.77      0.77      0.77      1396\n",
      "\n"
     ]
    }
   ],
   "source": [
    "# Вывод метрик модели второго уровня на тестовой выборке.\n",
    "print(classification_report(X_test['actual'], X_test['pred_cbc']))"
   ]
  },
  {
   "cell_type": "markdown",
   "id": "f44037ad",
   "metadata": {},
   "source": [
    "Модель второго уровня демонстрируют значительно лучшую метрику \"precision\"."
   ]
  },
  {
   "cell_type": "markdown",
   "id": "6a0181f1",
   "metadata": {},
   "source": [
    "## Задание 3"
   ]
  },
  {
   "cell_type": "markdown",
   "id": "a076571c",
   "metadata": {},
   "source": [
    "#### Формирование результатов прогноза двухуровневой модели"
   ]
  },
  {
   "cell_type": "code",
   "execution_count": 60,
   "id": "3c421142",
   "metadata": {},
   "outputs": [
    {
     "data": {
      "text/html": [
       "<div>\n",
       "<style scoped>\n",
       "    .dataframe tbody tr th:only-of-type {\n",
       "        vertical-align: middle;\n",
       "    }\n",
       "\n",
       "    .dataframe tbody tr th {\n",
       "        vertical-align: top;\n",
       "    }\n",
       "\n",
       "    .dataframe thead th {\n",
       "        text-align: right;\n",
       "    }\n",
       "</style>\n",
       "<table border=\"1\" class=\"dataframe\">\n",
       "  <thead>\n",
       "    <tr style=\"text-align: right;\">\n",
       "      <th></th>\n",
       "      <th>user_id</th>\n",
       "      <th>actual</th>\n",
       "      <th>pred_als</th>\n",
       "      <th>pred_sur</th>\n",
       "      <th>pred_cbc</th>\n",
       "    </tr>\n",
       "  </thead>\n",
       "  <tbody>\n",
       "    <tr>\n",
       "      <th>0</th>\n",
       "      <td>7</td>\n",
       "      <td>[840386, 889774, 898068, 909714, 929067, 95347...</td>\n",
       "      <td>[981760, 1082185, 995242, 1029743, 1133018]</td>\n",
       "      <td>[6534178, 6533889, 6534166, 6544236, 1404121]</td>\n",
       "      <td>[1082185]</td>\n",
       "    </tr>\n",
       "    <tr>\n",
       "      <th>1</th>\n",
       "      <td>8</td>\n",
       "      <td>[835098, 872137, 910439, 924610, 992977, 10412...</td>\n",
       "      <td>[6534178, 397896, 1082185, 6534166, 1404121]</td>\n",
       "      <td>[6533889, 6534166, 6534178, 6544236, 1404121]</td>\n",
       "      <td>[1082185]</td>\n",
       "    </tr>\n",
       "  </tbody>\n",
       "</table>\n",
       "</div>"
      ],
      "text/plain": [
       "   user_id                                             actual  \\\n",
       "0        7  [840386, 889774, 898068, 909714, 929067, 95347...   \n",
       "1        8  [835098, 872137, 910439, 924610, 992977, 10412...   \n",
       "\n",
       "                                       pred_als  \\\n",
       "0   [981760, 1082185, 995242, 1029743, 1133018]   \n",
       "1  [6534178, 397896, 1082185, 6534166, 1404121]   \n",
       "\n",
       "                                        pred_sur   pred_cbc  \n",
       "0  [6534178, 6533889, 6534166, 6544236, 1404121]  [1082185]  \n",
       "1  [6533889, 6534166, 6534178, 6544236, 1404121]  [1082185]  "
      ]
     },
     "execution_count": 60,
     "metadata": {},
     "output_type": "execute_result"
    }
   ],
   "source": [
    "# Формирование результатов прогноза двухуровневой модели.\n",
    "result_test = result_test.merge(X_test[X_test['pred_cbc'] == 1]\n",
    "                                .groupby(by='user_id')['item_id']\n",
    "                                .agg(list)\n",
    "                                .reset_index()\n",
    "                                .rename(columns={'item_id': 'pred_cbc'}),\n",
    "                                on='user_id')\n",
    "\n",
    "# Проверка.\n",
    "result_test.head(2)"
   ]
  },
  {
   "cell_type": "markdown",
   "id": "27d8f656",
   "metadata": {},
   "source": [
    "#### Оценка метрики \"precision@5\" двухуровневой модели"
   ]
  },
  {
   "cell_type": "code",
   "execution_count": 61,
   "id": "d02ff936",
   "metadata": {},
   "outputs": [
    {
     "data": {
      "text/html": [
       "<div>\n",
       "<style scoped>\n",
       "    .dataframe tbody tr th:only-of-type {\n",
       "        vertical-align: middle;\n",
       "    }\n",
       "\n",
       "    .dataframe tbody tr th {\n",
       "        vertical-align: top;\n",
       "    }\n",
       "\n",
       "    .dataframe thead th {\n",
       "        text-align: right;\n",
       "    }\n",
       "</style>\n",
       "<table border=\"1\" class=\"dataframe\">\n",
       "  <thead>\n",
       "    <tr style=\"text-align: right;\">\n",
       "      <th></th>\n",
       "      <th>precision_lvl_1</th>\n",
       "      <th>precision_lvl_2</th>\n",
       "    </tr>\n",
       "  </thead>\n",
       "  <tbody>\n",
       "    <tr>\n",
       "      <th>model_als</th>\n",
       "      <td>0.145633</td>\n",
       "      <td>0.655574</td>\n",
       "    </tr>\n",
       "    <tr>\n",
       "      <th>model_sur</th>\n",
       "      <td>0.046222</td>\n",
       "      <td>NaN</td>\n",
       "    </tr>\n",
       "  </tbody>\n",
       "</table>\n",
       "</div>"
      ],
      "text/plain": [
       "          precision_lvl_1 precision_lvl_2\n",
       "model_als        0.145633        0.655574\n",
       "model_sur        0.046222             NaN"
      ]
     },
     "execution_count": 61,
     "metadata": {},
     "output_type": "execute_result"
    }
   ],
   "source": [
    "# Вычисление метрики \"precision@5\" двухуровневой модели.\n",
    "df_metrics.loc['model_als', 'precision_lvl_2'] = metrics.precision_at_k(result_test['actual'], result_test['pred_cbc'], K=5)\n",
    "\n",
    "# Вывод метрик.\n",
    "df_metrics"
   ]
  },
  {
   "cell_type": "markdown",
   "id": "f572193f",
   "metadata": {},
   "source": [
    "Построение двухуровневой модели на базе модели AlternatingLeastSquares позволило значительно улучшить метрику \"precision@5\"."
   ]
  },
  {
   "cell_type": "code",
   "execution_count": null,
   "id": "302aaf8f",
   "metadata": {},
   "outputs": [],
   "source": []
  }
 ],
 "metadata": {
  "kernelspec": {
   "display_name": "Python 3 (ipykernel)",
   "language": "python",
   "name": "python3"
  },
  "language_info": {
   "codemirror_mode": {
    "name": "ipython",
    "version": 3
   },
   "file_extension": ".py",
   "mimetype": "text/x-python",
   "name": "python",
   "nbconvert_exporter": "python",
   "pygments_lexer": "ipython3",
   "version": "3.9.4"
  }
 },
 "nbformat": 4,
 "nbformat_minor": 5
}
