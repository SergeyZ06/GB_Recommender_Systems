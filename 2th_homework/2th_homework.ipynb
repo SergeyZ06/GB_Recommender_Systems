{
 "cells": [
  {
   "cell_type": "markdown",
   "id": "4ed48939",
   "metadata": {},
   "source": [
    "# 2th_homework"
   ]
  },
  {
   "cell_type": "markdown",
   "id": "d85e1bed",
   "metadata": {},
   "source": [
    "### Import Section"
   ]
  },
  {
   "cell_type": "code",
   "execution_count": 1,
   "id": "721a2d79",
   "metadata": {},
   "outputs": [],
   "source": [
    "import numpy as np\n",
    "import pandas as pd\n",
    "\n",
    "from scipy.sparse import csr_matrix\n",
    "from scipy.sparse import coo_matrix\n",
    "\n",
    "from implicit.nearest_neighbours import CosineRecommender\n",
    "from implicit.nearest_neighbours import TFIDFRecommender"
   ]
  },
  {
   "cell_type": "markdown",
   "id": "80cacf7f",
   "metadata": {},
   "source": [
    "### Global Settings Section"
   ]
  },
  {
   "cell_type": "code",
   "execution_count": 2,
   "id": "c7639de7",
   "metadata": {},
   "outputs": [],
   "source": [
    "# random_state_global = 0"
   ]
  },
  {
   "cell_type": "markdown",
   "id": "27339466",
   "metadata": {},
   "source": [
    "### Path Section"
   ]
  },
  {
   "cell_type": "code",
   "execution_count": 3,
   "id": "09163a28",
   "metadata": {},
   "outputs": [],
   "source": [
    "PATH_DATA_RETAIL = r'retail_train.csv'"
   ]
  },
  {
   "cell_type": "markdown",
   "id": "7c7f0f25",
   "metadata": {},
   "source": [
    "## 0. Data Preparation"
   ]
  },
  {
   "cell_type": "markdown",
   "id": "3ba76f46",
   "metadata": {},
   "source": [
    "#### Loading DataFrame"
   ]
  },
  {
   "cell_type": "code",
   "execution_count": 4,
   "id": "5611587e",
   "metadata": {},
   "outputs": [],
   "source": [
    "df_retail = pd.read_csv(PATH_DATA_RETAIL)"
   ]
  },
  {
   "cell_type": "code",
   "execution_count": 5,
   "id": "920dfadc",
   "metadata": {},
   "outputs": [
    {
     "data": {
      "text/html": [
       "<div>\n",
       "<style scoped>\n",
       "    .dataframe tbody tr th:only-of-type {\n",
       "        vertical-align: middle;\n",
       "    }\n",
       "\n",
       "    .dataframe tbody tr th {\n",
       "        vertical-align: top;\n",
       "    }\n",
       "\n",
       "    .dataframe thead th {\n",
       "        text-align: right;\n",
       "    }\n",
       "</style>\n",
       "<table border=\"1\" class=\"dataframe\">\n",
       "  <thead>\n",
       "    <tr style=\"text-align: right;\">\n",
       "      <th></th>\n",
       "      <th>user_id</th>\n",
       "      <th>basket_id</th>\n",
       "      <th>day</th>\n",
       "      <th>item_id</th>\n",
       "      <th>quantity</th>\n",
       "      <th>sales_value</th>\n",
       "      <th>store_id</th>\n",
       "      <th>retail_disc</th>\n",
       "      <th>trans_time</th>\n",
       "      <th>week_no</th>\n",
       "      <th>coupon_disc</th>\n",
       "      <th>coupon_match_disc</th>\n",
       "    </tr>\n",
       "  </thead>\n",
       "  <tbody>\n",
       "    <tr>\n",
       "      <th>0</th>\n",
       "      <td>2375</td>\n",
       "      <td>26984851472</td>\n",
       "      <td>1</td>\n",
       "      <td>1004906</td>\n",
       "      <td>1</td>\n",
       "      <td>1.39</td>\n",
       "      <td>364</td>\n",
       "      <td>-0.60</td>\n",
       "      <td>1631</td>\n",
       "      <td>1</td>\n",
       "      <td>0.0</td>\n",
       "      <td>0.0</td>\n",
       "    </tr>\n",
       "    <tr>\n",
       "      <th>1</th>\n",
       "      <td>2375</td>\n",
       "      <td>26984851472</td>\n",
       "      <td>1</td>\n",
       "      <td>1033142</td>\n",
       "      <td>1</td>\n",
       "      <td>0.82</td>\n",
       "      <td>364</td>\n",
       "      <td>0.00</td>\n",
       "      <td>1631</td>\n",
       "      <td>1</td>\n",
       "      <td>0.0</td>\n",
       "      <td>0.0</td>\n",
       "    </tr>\n",
       "    <tr>\n",
       "      <th>2</th>\n",
       "      <td>2375</td>\n",
       "      <td>26984851472</td>\n",
       "      <td>1</td>\n",
       "      <td>1036325</td>\n",
       "      <td>1</td>\n",
       "      <td>0.99</td>\n",
       "      <td>364</td>\n",
       "      <td>-0.30</td>\n",
       "      <td>1631</td>\n",
       "      <td>1</td>\n",
       "      <td>0.0</td>\n",
       "      <td>0.0</td>\n",
       "    </tr>\n",
       "    <tr>\n",
       "      <th>3</th>\n",
       "      <td>2375</td>\n",
       "      <td>26984851472</td>\n",
       "      <td>1</td>\n",
       "      <td>1082185</td>\n",
       "      <td>1</td>\n",
       "      <td>1.21</td>\n",
       "      <td>364</td>\n",
       "      <td>0.00</td>\n",
       "      <td>1631</td>\n",
       "      <td>1</td>\n",
       "      <td>0.0</td>\n",
       "      <td>0.0</td>\n",
       "    </tr>\n",
       "    <tr>\n",
       "      <th>4</th>\n",
       "      <td>2375</td>\n",
       "      <td>26984851472</td>\n",
       "      <td>1</td>\n",
       "      <td>8160430</td>\n",
       "      <td>1</td>\n",
       "      <td>1.50</td>\n",
       "      <td>364</td>\n",
       "      <td>-0.39</td>\n",
       "      <td>1631</td>\n",
       "      <td>1</td>\n",
       "      <td>0.0</td>\n",
       "      <td>0.0</td>\n",
       "    </tr>\n",
       "  </tbody>\n",
       "</table>\n",
       "</div>"
      ],
      "text/plain": [
       "   user_id    basket_id  day  item_id  quantity  sales_value  store_id  \\\n",
       "0     2375  26984851472    1  1004906         1         1.39       364   \n",
       "1     2375  26984851472    1  1033142         1         0.82       364   \n",
       "2     2375  26984851472    1  1036325         1         0.99       364   \n",
       "3     2375  26984851472    1  1082185         1         1.21       364   \n",
       "4     2375  26984851472    1  8160430         1         1.50       364   \n",
       "\n",
       "   retail_disc  trans_time  week_no  coupon_disc  coupon_match_disc  \n",
       "0        -0.60        1631        1          0.0                0.0  \n",
       "1         0.00        1631        1          0.0                0.0  \n",
       "2        -0.30        1631        1          0.0                0.0  \n",
       "3         0.00        1631        1          0.0                0.0  \n",
       "4        -0.39        1631        1          0.0                0.0  "
      ]
     },
     "execution_count": 5,
     "metadata": {},
     "output_type": "execute_result"
    }
   ],
   "source": [
    "df_retail.head()"
   ]
  },
  {
   "cell_type": "markdown",
   "id": "d7547095",
   "metadata": {},
   "source": [
    "#### Train Test Split"
   ]
  },
  {
   "cell_type": "code",
   "execution_count": 6,
   "id": "9377266e",
   "metadata": {},
   "outputs": [],
   "source": [
    "test_size_weeks = 3\n",
    "columns_to_split = ['user_id', 'item_id', 'sales_value', 'quantity']\n",
    "\n",
    "df_train = df_retail.loc[df_retail['week_no'] < df_retail['week_no'].max() - test_size_weeks, columns_to_split]\n",
    "df_test = df_retail.loc[df_retail['week_no'] >= df_retail['week_no'].max() - test_size_weeks, columns_to_split]"
   ]
  },
  {
   "cell_type": "code",
   "execution_count": 7,
   "id": "843207a3",
   "metadata": {},
   "outputs": [
    {
     "name": "stdout",
     "output_type": "stream",
     "text": [
      "Размерность тренировочного набора данных:\t(2278490, 4)\n",
      "Размерность валидационного набора данных:\t(118314, 4)\n"
     ]
    }
   ],
   "source": [
    "print(f'Размерность тренировочного набора данных:\\t{df_train.shape}' \\\n",
    "      f'\\nРазмерность валидационного набора данных:\\t{df_test.shape}')"
   ]
  },
  {
   "cell_type": "code",
   "execution_count": 8,
   "id": "2ab8d98a",
   "metadata": {},
   "outputs": [
    {
     "data": {
      "text/html": [
       "<div>\n",
       "<style scoped>\n",
       "    .dataframe tbody tr th:only-of-type {\n",
       "        vertical-align: middle;\n",
       "    }\n",
       "\n",
       "    .dataframe tbody tr th {\n",
       "        vertical-align: top;\n",
       "    }\n",
       "\n",
       "    .dataframe thead th {\n",
       "        text-align: right;\n",
       "    }\n",
       "</style>\n",
       "<table border=\"1\" class=\"dataframe\">\n",
       "  <thead>\n",
       "    <tr style=\"text-align: right;\">\n",
       "      <th></th>\n",
       "      <th>user_id</th>\n",
       "      <th>item_id</th>\n",
       "      <th>sales_value</th>\n",
       "      <th>quantity</th>\n",
       "    </tr>\n",
       "  </thead>\n",
       "  <tbody>\n",
       "    <tr>\n",
       "      <th>0</th>\n",
       "      <td>2375</td>\n",
       "      <td>1004906</td>\n",
       "      <td>1.39</td>\n",
       "      <td>1</td>\n",
       "    </tr>\n",
       "    <tr>\n",
       "      <th>1</th>\n",
       "      <td>2375</td>\n",
       "      <td>1033142</td>\n",
       "      <td>0.82</td>\n",
       "      <td>1</td>\n",
       "    </tr>\n",
       "    <tr>\n",
       "      <th>2</th>\n",
       "      <td>2375</td>\n",
       "      <td>1036325</td>\n",
       "      <td>0.99</td>\n",
       "      <td>1</td>\n",
       "    </tr>\n",
       "    <tr>\n",
       "      <th>3</th>\n",
       "      <td>2375</td>\n",
       "      <td>1082185</td>\n",
       "      <td>1.21</td>\n",
       "      <td>1</td>\n",
       "    </tr>\n",
       "    <tr>\n",
       "      <th>4</th>\n",
       "      <td>2375</td>\n",
       "      <td>8160430</td>\n",
       "      <td>1.50</td>\n",
       "      <td>1</td>\n",
       "    </tr>\n",
       "  </tbody>\n",
       "</table>\n",
       "</div>"
      ],
      "text/plain": [
       "   user_id  item_id  sales_value  quantity\n",
       "0     2375  1004906         1.39         1\n",
       "1     2375  1033142         0.82         1\n",
       "2     2375  1036325         0.99         1\n",
       "3     2375  1082185         1.21         1\n",
       "4     2375  8160430         1.50         1"
      ]
     },
     "execution_count": 8,
     "metadata": {},
     "output_type": "execute_result"
    }
   ],
   "source": [
    "df_train.head()"
   ]
  },
  {
   "cell_type": "markdown",
   "id": "d9b8974f",
   "metadata": {},
   "source": [
    "### df_results"
   ]
  },
  {
   "cell_type": "markdown",
   "id": "e2dd93d6",
   "metadata": {},
   "source": [
    "Создание набора данных для валидации."
   ]
  },
  {
   "cell_type": "code",
   "execution_count": 9,
   "id": "86a47cb7",
   "metadata": {},
   "outputs": [],
   "source": [
    "df_results = (\n",
    "    df_test\n",
    "    .groupby(by='user_id')['item_id']\n",
    "    .unique()\n",
    "    .reset_index()\n",
    "    .rename(columns={'item_id': 'actual'})\n",
    ")"
   ]
  },
  {
   "cell_type": "code",
   "execution_count": 10,
   "id": "c2c2457b",
   "metadata": {
    "scrolled": true
   },
   "outputs": [
    {
     "data": {
      "text/html": [
       "<div>\n",
       "<style scoped>\n",
       "    .dataframe tbody tr th:only-of-type {\n",
       "        vertical-align: middle;\n",
       "    }\n",
       "\n",
       "    .dataframe tbody tr th {\n",
       "        vertical-align: top;\n",
       "    }\n",
       "\n",
       "    .dataframe thead th {\n",
       "        text-align: right;\n",
       "    }\n",
       "</style>\n",
       "<table border=\"1\" class=\"dataframe\">\n",
       "  <thead>\n",
       "    <tr style=\"text-align: right;\">\n",
       "      <th></th>\n",
       "      <th>user_id</th>\n",
       "      <th>actual</th>\n",
       "    </tr>\n",
       "  </thead>\n",
       "  <tbody>\n",
       "    <tr>\n",
       "      <th>0</th>\n",
       "      <td>1</td>\n",
       "      <td>[821867, 834484, 856942, 865456, 889248, 90795...</td>\n",
       "    </tr>\n",
       "    <tr>\n",
       "      <th>1</th>\n",
       "      <td>3</td>\n",
       "      <td>[835476, 851057, 872021, 878302, 879948, 90963...</td>\n",
       "    </tr>\n",
       "    <tr>\n",
       "      <th>2</th>\n",
       "      <td>6</td>\n",
       "      <td>[920308, 926804, 946489, 1006718, 1017061, 107...</td>\n",
       "    </tr>\n",
       "    <tr>\n",
       "      <th>3</th>\n",
       "      <td>7</td>\n",
       "      <td>[840386, 889774, 898068, 909714, 929067, 95347...</td>\n",
       "    </tr>\n",
       "    <tr>\n",
       "      <th>4</th>\n",
       "      <td>8</td>\n",
       "      <td>[835098, 872137, 910439, 924610, 992977, 10412...</td>\n",
       "    </tr>\n",
       "  </tbody>\n",
       "</table>\n",
       "</div>"
      ],
      "text/plain": [
       "   user_id                                             actual\n",
       "0        1  [821867, 834484, 856942, 865456, 889248, 90795...\n",
       "1        3  [835476, 851057, 872021, 878302, 879948, 90963...\n",
       "2        6  [920308, 926804, 946489, 1006718, 1017061, 107...\n",
       "3        7  [840386, 889774, 898068, 909714, 929067, 95347...\n",
       "4        8  [835098, 872137, 910439, 924610, 992977, 10412..."
      ]
     },
     "execution_count": 10,
     "metadata": {},
     "output_type": "execute_result"
    }
   ],
   "source": [
    "df_results.head()"
   ]
  },
  {
   "cell_type": "markdown",
   "id": "6ee087cb",
   "metadata": {},
   "source": [
    "### array_items"
   ]
  },
  {
   "cell_type": "markdown",
   "id": "c8276e6a",
   "metadata": {},
   "source": [
    "Создание массива всех товаров."
   ]
  },
  {
   "cell_type": "code",
   "execution_count": 11,
   "id": "881f076d",
   "metadata": {},
   "outputs": [],
   "source": [
    "array_items = df_train['item_id'].unique()"
   ]
  },
  {
   "cell_type": "code",
   "execution_count": 12,
   "id": "9aecc2b7",
   "metadata": {
    "scrolled": true
   },
   "outputs": [
    {
     "data": {
      "text/plain": [
       "array([ 1004906,  1033142,  1036325, ..., 15722756, 17170636, 15716393],\n",
       "      dtype=int64)"
      ]
     },
     "execution_count": 12,
     "metadata": {},
     "output_type": "execute_result"
    }
   ],
   "source": [
    "array_items"
   ]
  },
  {
   "cell_type": "code",
   "execution_count": 13,
   "id": "7d465a48",
   "metadata": {},
   "outputs": [
    {
     "data": {
      "text/plain": [
       "86865"
      ]
     },
     "execution_count": 13,
     "metadata": {},
     "output_type": "execute_result"
    }
   ],
   "source": [
    "len(array_items)"
   ]
  },
  {
   "cell_type": "markdown",
   "id": "fbab24e4",
   "metadata": {},
   "source": [
    "## 1. weighted_random_recommendation"
   ]
  },
  {
   "cell_type": "markdown",
   "id": "6a941b34",
   "metadata": {},
   "source": [
    "Реализация функции случайного семплирования с применением весов."
   ]
  },
  {
   "cell_type": "code",
   "execution_count": 14,
   "id": "d9b5cd9c",
   "metadata": {},
   "outputs": [],
   "source": [
    "# Функция для семплирования случайных товаров, но с учётом весов.\n",
    "def weighted_random_recommendation(items, items_weight=None, n=5):\n",
    "    # Если веса не заданы, но будут использоваться равные веса.\n",
    "    if items_weight is None:\n",
    "        return np.random.choice(items, size=n, replace=False)\n",
    "    \n",
    "    return np.random.choice(items, size=n, p=items_weight, replace=False)"
   ]
  },
  {
   "cell_type": "markdown",
   "id": "ac46fd62",
   "metadata": {},
   "source": [
    "Проверка работы функции без указания весов товаров."
   ]
  },
  {
   "cell_type": "code",
   "execution_count": 15,
   "id": "6d80c9ba",
   "metadata": {},
   "outputs": [],
   "source": [
    "df_results_rr = df_results.copy()"
   ]
  },
  {
   "cell_type": "code",
   "execution_count": 16,
   "id": "ba34f539",
   "metadata": {},
   "outputs": [
    {
     "name": "stdout",
     "output_type": "stream",
     "text": [
      "Wall time: 2.7 s\n"
     ]
    }
   ],
   "source": [
    "%%time\n",
    "\n",
    "df_results_rr['random_recommendation'] = (\n",
    "    df_results_rr['user_id']\n",
    "    .apply(lambda x: weighted_random_recommendation(items=array_items))\n",
    ")"
   ]
  },
  {
   "cell_type": "code",
   "execution_count": 17,
   "id": "23dcfe0d",
   "metadata": {
    "scrolled": true
   },
   "outputs": [
    {
     "data": {
      "text/html": [
       "<div>\n",
       "<style scoped>\n",
       "    .dataframe tbody tr th:only-of-type {\n",
       "        vertical-align: middle;\n",
       "    }\n",
       "\n",
       "    .dataframe tbody tr th {\n",
       "        vertical-align: top;\n",
       "    }\n",
       "\n",
       "    .dataframe thead th {\n",
       "        text-align: right;\n",
       "    }\n",
       "</style>\n",
       "<table border=\"1\" class=\"dataframe\">\n",
       "  <thead>\n",
       "    <tr style=\"text-align: right;\">\n",
       "      <th></th>\n",
       "      <th>user_id</th>\n",
       "      <th>actual</th>\n",
       "      <th>random_recommendation</th>\n",
       "    </tr>\n",
       "  </thead>\n",
       "  <tbody>\n",
       "    <tr>\n",
       "      <th>0</th>\n",
       "      <td>1</td>\n",
       "      <td>[821867, 834484, 856942, 865456, 889248, 90795...</td>\n",
       "      <td>[1121911, 2980579, 929815, 6602341, 8381265]</td>\n",
       "    </tr>\n",
       "    <tr>\n",
       "      <th>1</th>\n",
       "      <td>3</td>\n",
       "      <td>[835476, 851057, 872021, 878302, 879948, 90963...</td>\n",
       "      <td>[833591, 942650, 657576, 1731605, 12185466]</td>\n",
       "    </tr>\n",
       "    <tr>\n",
       "      <th>2</th>\n",
       "      <td>6</td>\n",
       "      <td>[920308, 926804, 946489, 1006718, 1017061, 107...</td>\n",
       "      <td>[1354189, 2541140, 1828522, 990444, 6602487]</td>\n",
       "    </tr>\n",
       "    <tr>\n",
       "      <th>3</th>\n",
       "      <td>7</td>\n",
       "      <td>[840386, 889774, 898068, 909714, 929067, 95347...</td>\n",
       "      <td>[13876458, 1691935, 15973062, 1082614, 994791]</td>\n",
       "    </tr>\n",
       "    <tr>\n",
       "      <th>4</th>\n",
       "      <td>8</td>\n",
       "      <td>[835098, 872137, 910439, 924610, 992977, 10412...</td>\n",
       "      <td>[1011215, 968478, 1008324, 1852773, 355985]</td>\n",
       "    </tr>\n",
       "  </tbody>\n",
       "</table>\n",
       "</div>"
      ],
      "text/plain": [
       "   user_id                                             actual  \\\n",
       "0        1  [821867, 834484, 856942, 865456, 889248, 90795...   \n",
       "1        3  [835476, 851057, 872021, 878302, 879948, 90963...   \n",
       "2        6  [920308, 926804, 946489, 1006718, 1017061, 107...   \n",
       "3        7  [840386, 889774, 898068, 909714, 929067, 95347...   \n",
       "4        8  [835098, 872137, 910439, 924610, 992977, 10412...   \n",
       "\n",
       "                            random_recommendation  \n",
       "0    [1121911, 2980579, 929815, 6602341, 8381265]  \n",
       "1     [833591, 942650, 657576, 1731605, 12185466]  \n",
       "2    [1354189, 2541140, 1828522, 990444, 6602487]  \n",
       "3  [13876458, 1691935, 15973062, 1082614, 994791]  \n",
       "4     [1011215, 968478, 1008324, 1852773, 355985]  "
      ]
     },
     "execution_count": 17,
     "metadata": {},
     "output_type": "execute_result"
    }
   ],
   "source": [
    "df_results_rr.head()"
   ]
  },
  {
   "cell_type": "markdown",
   "id": "adf6857e",
   "metadata": {},
   "source": [
    "Для каждого пользователя были выбраны пять случайных товаров.\n",
    "\n",
    "Сгенерируем веса для выбора товаров на основе их популярности: количество уникальных пользователей для каждого товара."
   ]
  },
  {
   "cell_type": "code",
   "execution_count": 18,
   "id": "a7746134",
   "metadata": {},
   "outputs": [],
   "source": [
    "# Формирование набора данных из двух строк:\n",
    "# item_id - уникальный идентификатор товара;\n",
    "# total_users - количество уникальных пользователей, которые приобрели данный товар.\n",
    "array_items_weights = (\n",
    "    df_train\n",
    "    .groupby(by='item_id')['user_id']\n",
    "    .nunique()\n",
    "    .reset_index()\n",
    "    .rename(columns={'user_id': 'total_users'})\n",
    ")\n",
    "\n",
    "# Перевод столбца \"total_users\" в вектор Numpy.\n",
    "array_items_weights = np.array(array_items_weights['total_users'])\n",
    "# Вычисление суммы всех элементов вектора для нормализации.\n",
    "items_weights_total = array_items_weights.sum()\n",
    "# Нормализация вектора.\n",
    "array_items_weights = array_items_weights / items_weights_total"
   ]
  },
  {
   "cell_type": "code",
   "execution_count": 19,
   "id": "5bc28ea7",
   "metadata": {},
   "outputs": [
    {
     "data": {
      "text/plain": [
       "array([2.38091837e-06, 7.93639456e-07, 7.93639456e-07, ...,\n",
       "       7.93639456e-07, 7.93639456e-07, 1.58727891e-06])"
      ]
     },
     "execution_count": 19,
     "metadata": {},
     "output_type": "execute_result"
    }
   ],
   "source": [
    "array_items_weights"
   ]
  },
  {
   "cell_type": "markdown",
   "id": "12a05318",
   "metadata": {},
   "source": [
    "Вызов функции с указанием весов."
   ]
  },
  {
   "cell_type": "code",
   "execution_count": 20,
   "id": "1d431622",
   "metadata": {},
   "outputs": [],
   "source": [
    "df_results_wrr = df_results.copy()"
   ]
  },
  {
   "cell_type": "code",
   "execution_count": 21,
   "id": "87eff6bb",
   "metadata": {},
   "outputs": [
    {
     "name": "stdout",
     "output_type": "stream",
     "text": [
      "Wall time: 1.27 s\n"
     ]
    }
   ],
   "source": [
    "%%time\n",
    "\n",
    "df_results_wrr['weighted_random_recommendation'] = (\n",
    "    df_results_wrr['user_id']\n",
    "    .apply(lambda x: weighted_random_recommendation(items=array_items, items_weight=array_items_weights))\n",
    ")"
   ]
  },
  {
   "cell_type": "code",
   "execution_count": 22,
   "id": "cbf63677",
   "metadata": {
    "scrolled": true
   },
   "outputs": [
    {
     "data": {
      "text/html": [
       "<div>\n",
       "<style scoped>\n",
       "    .dataframe tbody tr th:only-of-type {\n",
       "        vertical-align: middle;\n",
       "    }\n",
       "\n",
       "    .dataframe tbody tr th {\n",
       "        vertical-align: top;\n",
       "    }\n",
       "\n",
       "    .dataframe thead th {\n",
       "        text-align: right;\n",
       "    }\n",
       "</style>\n",
       "<table border=\"1\" class=\"dataframe\">\n",
       "  <thead>\n",
       "    <tr style=\"text-align: right;\">\n",
       "      <th></th>\n",
       "      <th>user_id</th>\n",
       "      <th>actual</th>\n",
       "      <th>weighted_random_recommendation</th>\n",
       "    </tr>\n",
       "  </thead>\n",
       "  <tbody>\n",
       "    <tr>\n",
       "      <th>0</th>\n",
       "      <td>1</td>\n",
       "      <td>[821867, 834484, 856942, 865456, 889248, 90795...</td>\n",
       "      <td>[5565680, 894123, 97991, 9527124, 6396315]</td>\n",
       "    </tr>\n",
       "    <tr>\n",
       "      <th>1</th>\n",
       "      <td>3</td>\n",
       "      <td>[835476, 851057, 872021, 878302, 879948, 90963...</td>\n",
       "      <td>[5805582, 834681, 5590390, 937460, 12330150]</td>\n",
       "    </tr>\n",
       "    <tr>\n",
       "      <th>2</th>\n",
       "      <td>6</td>\n",
       "      <td>[920308, 926804, 946489, 1006718, 1017061, 107...</td>\n",
       "      <td>[6979161, 863578, 10119913, 469747, 1521353]</td>\n",
       "    </tr>\n",
       "    <tr>\n",
       "      <th>3</th>\n",
       "      <td>7</td>\n",
       "      <td>[840386, 889774, 898068, 909714, 929067, 95347...</td>\n",
       "      <td>[1059292, 1019367, 873969, 1059665, 503913]</td>\n",
       "    </tr>\n",
       "    <tr>\n",
       "      <th>4</th>\n",
       "      <td>8</td>\n",
       "      <td>[835098, 872137, 910439, 924610, 992977, 10412...</td>\n",
       "      <td>[894358, 9935348, 1134840, 15596991, 1759399]</td>\n",
       "    </tr>\n",
       "  </tbody>\n",
       "</table>\n",
       "</div>"
      ],
      "text/plain": [
       "   user_id                                             actual  \\\n",
       "0        1  [821867, 834484, 856942, 865456, 889248, 90795...   \n",
       "1        3  [835476, 851057, 872021, 878302, 879948, 90963...   \n",
       "2        6  [920308, 926804, 946489, 1006718, 1017061, 107...   \n",
       "3        7  [840386, 889774, 898068, 909714, 929067, 95347...   \n",
       "4        8  [835098, 872137, 910439, 924610, 992977, 10412...   \n",
       "\n",
       "                  weighted_random_recommendation  \n",
       "0     [5565680, 894123, 97991, 9527124, 6396315]  \n",
       "1   [5805582, 834681, 5590390, 937460, 12330150]  \n",
       "2   [6979161, 863578, 10119913, 469747, 1521353]  \n",
       "3    [1059292, 1019367, 873969, 1059665, 503913]  \n",
       "4  [894358, 9935348, 1134840, 15596991, 1759399]  "
      ]
     },
     "execution_count": 22,
     "metadata": {},
     "output_type": "execute_result"
    }
   ],
   "source": [
    "df_results_wrr.head()"
   ]
  },
  {
   "cell_type": "markdown",
   "id": "5827662e",
   "metadata": {},
   "source": [
    "Теперь товары были выбраны с учётом их популярности у пользователей: товары с большим числом уникальных пользователей имели более высокие шансы попасть в выборку."
   ]
  },
  {
   "cell_type": "markdown",
   "id": "7398a604",
   "metadata": {},
   "source": [
    "## 2. Можно ли улучшить бейзлайны, если считать их на топ-5000 товарах? - это значит, что мы должны не просто забивать товары не из ТОП-5000 одним индексом 999999 и учиться на всех данных. А учиться только на взаимодействиях с товарами из ТОП5000"
   ]
  },
  {
   "cell_type": "markdown",
   "id": "c426a91f",
   "metadata": {},
   "source": [
    "#### Top 5000 items"
   ]
  },
  {
   "cell_type": "markdown",
   "id": "875d7654",
   "metadata": {},
   "source": [
    "Выбор первых 5000 наиболее популярных товаров: товаров с наибольшими объёмами продаж."
   ]
  },
  {
   "cell_type": "code",
   "execution_count": 23,
   "id": "4db9a15f",
   "metadata": {},
   "outputs": [],
   "source": [
    "array_items_top_5000 = (\n",
    "    df_train\n",
    "    .groupby(by='item_id')['sales_value']\n",
    "    .sum()\n",
    "    .reset_index()\n",
    "    .sort_values(by='sales_value', ascending=False)\n",
    "    .head(5000)['item_id']\n",
    "    .unique()\n",
    ")"
   ]
  },
  {
   "cell_type": "code",
   "execution_count": 24,
   "id": "d5eabd40",
   "metadata": {},
   "outputs": [
    {
     "data": {
      "text/plain": [
       "array([6534178, 6533889, 1029743, ...,  981716, 5575861,  915174],\n",
       "      dtype=int64)"
      ]
     },
     "execution_count": 24,
     "metadata": {},
     "output_type": "execute_result"
    }
   ],
   "source": [
    "array_items_top_5000"
   ]
  },
  {
   "cell_type": "code",
   "execution_count": 25,
   "id": "057ddcfe",
   "metadata": {},
   "outputs": [
    {
     "data": {
      "text/plain": [
       "5000"
      ]
     },
     "execution_count": 25,
     "metadata": {},
     "output_type": "execute_result"
    }
   ],
   "source": [
    "len(array_items_top_5000)"
   ]
  },
  {
   "cell_type": "markdown",
   "id": "e1e3246c",
   "metadata": {},
   "source": [
    "#### Metric \"Precision@k\""
   ]
  },
  {
   "cell_type": "markdown",
   "id": "1e965beb",
   "metadata": {},
   "source": [
    "Метрика качества: точность прогноза для первых k товаров."
   ]
  },
  {
   "cell_type": "code",
   "execution_count": 26,
   "id": "56b9d5b5",
   "metadata": {},
   "outputs": [],
   "source": [
    "def precision_at_k(actual, predicted, k=5):\n",
    "    \n",
    "    actual = np.array(actual)\n",
    "    predicted = np.array(predicted)\n",
    "    \n",
    "    return np.isin(predicted[:k], actual).sum() / k"
   ]
  },
  {
   "cell_type": "markdown",
   "id": "e3fd2a20",
   "metadata": {},
   "source": [
    "### weighted_random_recommendation"
   ]
  },
  {
   "cell_type": "markdown",
   "id": "782c0964",
   "metadata": {},
   "source": [
    "Выполним прогноз для топ 5000 товаров с весами и без.\n",
    "\n",
    "Сформируем веса для топ 5000 товаров."
   ]
  },
  {
   "cell_type": "code",
   "execution_count": 27,
   "id": "c0d3b20d",
   "metadata": {},
   "outputs": [],
   "source": [
    "# Формирование набора данных из двух строк:\n",
    "# item_id - уникальный идентификатор товара;\n",
    "# total_users - количество уникальных пользователей, которые приобрели данный товар.\n",
    "array_items_weights_top_5000 = (\n",
    "    df_train\n",
    "    .groupby(by='item_id')['user_id']\n",
    "    .nunique()\n",
    "    .reset_index()\n",
    "    .rename(columns={'user_id': 'total_users'})\n",
    ")\n",
    "\n",
    "# Отбор товаров, которые присутствуют в списке наиболее популярных.\n",
    "array_items_weights_top_5000 = array_items_weights_top_5000[\n",
    "    array_items_weights_top_5000['item_id'].isin(array_items_top_5000)\n",
    "]\n",
    "# Перевод столбца \"total_users\" в вектор Numpy.\n",
    "array_items_weights_top_5000 = np.array(array_items_weights_top_5000['total_users'])\n",
    "# Вычисление суммы всех элементов вектора для нормализации.\n",
    "items_weights_total_top_5000 = array_items_weights_top_5000.sum()\n",
    "# Нормализация вектора.\n",
    "array_items_weights_top_5000 = array_items_weights_top_5000 / items_weights_total_top_5000"
   ]
  },
  {
   "cell_type": "markdown",
   "id": "394e1b0a",
   "metadata": {},
   "source": [
    "Выполним семплирование для топ 5000 товаров без учёта весов."
   ]
  },
  {
   "cell_type": "code",
   "execution_count": 28,
   "id": "ca307821",
   "metadata": {},
   "outputs": [
    {
     "name": "stdout",
     "output_type": "stream",
     "text": [
      "Wall time: 182 ms\n"
     ]
    }
   ],
   "source": [
    "%%time\n",
    "\n",
    "df_results_rr['random_recommendation_top_5000'] = (\n",
    "    df_results_rr['user_id']\n",
    "    .apply(lambda x: weighted_random_recommendation(array_items_top_5000))\n",
    ")"
   ]
  },
  {
   "cell_type": "code",
   "execution_count": 29,
   "id": "5f3f8d02",
   "metadata": {
    "scrolled": false
   },
   "outputs": [
    {
     "data": {
      "text/html": [
       "<div>\n",
       "<style scoped>\n",
       "    .dataframe tbody tr th:only-of-type {\n",
       "        vertical-align: middle;\n",
       "    }\n",
       "\n",
       "    .dataframe tbody tr th {\n",
       "        vertical-align: top;\n",
       "    }\n",
       "\n",
       "    .dataframe thead th {\n",
       "        text-align: right;\n",
       "    }\n",
       "</style>\n",
       "<table border=\"1\" class=\"dataframe\">\n",
       "  <thead>\n",
       "    <tr style=\"text-align: right;\">\n",
       "      <th></th>\n",
       "      <th>user_id</th>\n",
       "      <th>actual</th>\n",
       "      <th>random_recommendation</th>\n",
       "      <th>random_recommendation_top_5000</th>\n",
       "    </tr>\n",
       "  </thead>\n",
       "  <tbody>\n",
       "    <tr>\n",
       "      <th>0</th>\n",
       "      <td>1</td>\n",
       "      <td>[821867, 834484, 856942, 865456, 889248, 90795...</td>\n",
       "      <td>[1121911, 2980579, 929815, 6602341, 8381265]</td>\n",
       "      <td>[1084551, 6534074, 12525270, 1077975, 851865]</td>\n",
       "    </tr>\n",
       "    <tr>\n",
       "      <th>1</th>\n",
       "      <td>3</td>\n",
       "      <td>[835476, 851057, 872021, 878302, 879948, 90963...</td>\n",
       "      <td>[833591, 942650, 657576, 1731605, 12185466]</td>\n",
       "      <td>[894140, 1113111, 852572, 1048727, 847270]</td>\n",
       "    </tr>\n",
       "    <tr>\n",
       "      <th>2</th>\n",
       "      <td>6</td>\n",
       "      <td>[920308, 926804, 946489, 1006718, 1017061, 107...</td>\n",
       "      <td>[1354189, 2541140, 1828522, 990444, 6602487]</td>\n",
       "      <td>[5564067, 950463, 995965, 999270, 1065556]</td>\n",
       "    </tr>\n",
       "    <tr>\n",
       "      <th>3</th>\n",
       "      <td>7</td>\n",
       "      <td>[840386, 889774, 898068, 909714, 929067, 95347...</td>\n",
       "      <td>[13876458, 1691935, 15973062, 1082614, 994791]</td>\n",
       "      <td>[846811, 972418, 944256, 9487885, 846986]</td>\n",
       "    </tr>\n",
       "    <tr>\n",
       "      <th>4</th>\n",
       "      <td>8</td>\n",
       "      <td>[835098, 872137, 910439, 924610, 992977, 10412...</td>\n",
       "      <td>[1011215, 968478, 1008324, 1852773, 355985]</td>\n",
       "      <td>[899624, 6633031, 5568489, 1052752, 7410071]</td>\n",
       "    </tr>\n",
       "  </tbody>\n",
       "</table>\n",
       "</div>"
      ],
      "text/plain": [
       "   user_id                                             actual  \\\n",
       "0        1  [821867, 834484, 856942, 865456, 889248, 90795...   \n",
       "1        3  [835476, 851057, 872021, 878302, 879948, 90963...   \n",
       "2        6  [920308, 926804, 946489, 1006718, 1017061, 107...   \n",
       "3        7  [840386, 889774, 898068, 909714, 929067, 95347...   \n",
       "4        8  [835098, 872137, 910439, 924610, 992977, 10412...   \n",
       "\n",
       "                            random_recommendation  \\\n",
       "0    [1121911, 2980579, 929815, 6602341, 8381265]   \n",
       "1     [833591, 942650, 657576, 1731605, 12185466]   \n",
       "2    [1354189, 2541140, 1828522, 990444, 6602487]   \n",
       "3  [13876458, 1691935, 15973062, 1082614, 994791]   \n",
       "4     [1011215, 968478, 1008324, 1852773, 355985]   \n",
       "\n",
       "                  random_recommendation_top_5000  \n",
       "0  [1084551, 6534074, 12525270, 1077975, 851865]  \n",
       "1     [894140, 1113111, 852572, 1048727, 847270]  \n",
       "2     [5564067, 950463, 995965, 999270, 1065556]  \n",
       "3      [846811, 972418, 944256, 9487885, 846986]  \n",
       "4   [899624, 6633031, 5568489, 1052752, 7410071]  "
      ]
     },
     "execution_count": 29,
     "metadata": {},
     "output_type": "execute_result"
    }
   ],
   "source": [
    "df_results_rr.head()"
   ]
  },
  {
   "cell_type": "markdown",
   "id": "03e36aae",
   "metadata": {},
   "source": [
    "Выполним семплирование для топ 5000 товаров с учётом весов."
   ]
  },
  {
   "cell_type": "code",
   "execution_count": 30,
   "id": "1caa7abf",
   "metadata": {},
   "outputs": [
    {
     "name": "stdout",
     "output_type": "stream",
     "text": [
      "Wall time: 171 ms\n"
     ]
    }
   ],
   "source": [
    "%%time\n",
    "\n",
    "df_results_wrr['weighted_random_recommendation_top_5000'] = (\n",
    "    df_results_wrr['user_id']\n",
    "    .apply(lambda x: weighted_random_recommendation(array_items_top_5000, array_items_weights_top_5000))\n",
    ")"
   ]
  },
  {
   "cell_type": "code",
   "execution_count": 31,
   "id": "e7aef856",
   "metadata": {
    "scrolled": true
   },
   "outputs": [
    {
     "data": {
      "text/html": [
       "<div>\n",
       "<style scoped>\n",
       "    .dataframe tbody tr th:only-of-type {\n",
       "        vertical-align: middle;\n",
       "    }\n",
       "\n",
       "    .dataframe tbody tr th {\n",
       "        vertical-align: top;\n",
       "    }\n",
       "\n",
       "    .dataframe thead th {\n",
       "        text-align: right;\n",
       "    }\n",
       "</style>\n",
       "<table border=\"1\" class=\"dataframe\">\n",
       "  <thead>\n",
       "    <tr style=\"text-align: right;\">\n",
       "      <th></th>\n",
       "      <th>user_id</th>\n",
       "      <th>actual</th>\n",
       "      <th>weighted_random_recommendation</th>\n",
       "      <th>weighted_random_recommendation_top_5000</th>\n",
       "    </tr>\n",
       "  </thead>\n",
       "  <tbody>\n",
       "    <tr>\n",
       "      <th>0</th>\n",
       "      <td>1</td>\n",
       "      <td>[821867, 834484, 856942, 865456, 889248, 90795...</td>\n",
       "      <td>[5565680, 894123, 97991, 9527124, 6396315]</td>\n",
       "      <td>[7440663, 1037965, 863030, 942565, 945652]</td>\n",
       "    </tr>\n",
       "    <tr>\n",
       "      <th>1</th>\n",
       "      <td>3</td>\n",
       "      <td>[835476, 851057, 872021, 878302, 879948, 90963...</td>\n",
       "      <td>[5805582, 834681, 5590390, 937460, 12330150]</td>\n",
       "      <td>[1109206, 1124695, 6979253, 1095393, 908514]</td>\n",
       "    </tr>\n",
       "    <tr>\n",
       "      <th>2</th>\n",
       "      <td>6</td>\n",
       "      <td>[920308, 926804, 946489, 1006718, 1017061, 107...</td>\n",
       "      <td>[6979161, 863578, 10119913, 469747, 1521353]</td>\n",
       "      <td>[5585701, 1124694, 1041407, 880469, 9653535]</td>\n",
       "    </tr>\n",
       "    <tr>\n",
       "      <th>3</th>\n",
       "      <td>7</td>\n",
       "      <td>[840386, 889774, 898068, 909714, 929067, 95347...</td>\n",
       "      <td>[1059292, 1019367, 873969, 1059665, 503913]</td>\n",
       "      <td>[1025435, 870211, 1059473, 9416653, 862488]</td>\n",
       "    </tr>\n",
       "    <tr>\n",
       "      <th>4</th>\n",
       "      <td>8</td>\n",
       "      <td>[835098, 872137, 910439, 924610, 992977, 10412...</td>\n",
       "      <td>[894358, 9935348, 1134840, 15596991, 1759399]</td>\n",
       "      <td>[12263788, 938512, 7441391, 910439, 868548]</td>\n",
       "    </tr>\n",
       "  </tbody>\n",
       "</table>\n",
       "</div>"
      ],
      "text/plain": [
       "   user_id                                             actual  \\\n",
       "0        1  [821867, 834484, 856942, 865456, 889248, 90795...   \n",
       "1        3  [835476, 851057, 872021, 878302, 879948, 90963...   \n",
       "2        6  [920308, 926804, 946489, 1006718, 1017061, 107...   \n",
       "3        7  [840386, 889774, 898068, 909714, 929067, 95347...   \n",
       "4        8  [835098, 872137, 910439, 924610, 992977, 10412...   \n",
       "\n",
       "                  weighted_random_recommendation  \\\n",
       "0     [5565680, 894123, 97991, 9527124, 6396315]   \n",
       "1   [5805582, 834681, 5590390, 937460, 12330150]   \n",
       "2   [6979161, 863578, 10119913, 469747, 1521353]   \n",
       "3    [1059292, 1019367, 873969, 1059665, 503913]   \n",
       "4  [894358, 9935348, 1134840, 15596991, 1759399]   \n",
       "\n",
       "        weighted_random_recommendation_top_5000  \n",
       "0    [7440663, 1037965, 863030, 942565, 945652]  \n",
       "1  [1109206, 1124695, 6979253, 1095393, 908514]  \n",
       "2  [5585701, 1124694, 1041407, 880469, 9653535]  \n",
       "3   [1025435, 870211, 1059473, 9416653, 862488]  \n",
       "4   [12263788, 938512, 7441391, 910439, 868548]  "
      ]
     },
     "execution_count": 31,
     "metadata": {},
     "output_type": "execute_result"
    }
   ],
   "source": [
    "df_results_wrr.head()"
   ]
  },
  {
   "cell_type": "markdown",
   "id": "fc8a9424",
   "metadata": {},
   "source": [
    "Посчитаем метрики для всех товаров и для топ 5000."
   ]
  },
  {
   "cell_type": "code",
   "execution_count": 32,
   "id": "a97cef10",
   "metadata": {},
   "outputs": [
    {
     "name": "stdout",
     "output_type": "stream",
     "text": [
      "Wall time: 1min 21s\n"
     ]
    }
   ],
   "source": [
    "%%time\n",
    "\n",
    "df_metrics = pd.DataFrame(\n",
    "    data=[[(df_results_rr['random_recommendation']\n",
    "            .apply(lambda row: precision_at_k(df_results_rr['actual'], row), 1)\n",
    "            .mean()),\n",
    "          (df_results_rr['random_recommendation_top_5000']\n",
    "           .apply(lambda row: precision_at_k(df_results_rr['actual'], row), 1)\n",
    "           .mean())]],\n",
    "    index=['random_recommendation'],\n",
    "    columns=['all_items', 'top_5000']\n",
    ")"
   ]
  },
  {
   "cell_type": "code",
   "execution_count": 33,
   "id": "abcfad42",
   "metadata": {},
   "outputs": [
    {
     "name": "stdout",
     "output_type": "stream",
     "text": [
      "Wall time: 1min 22s\n"
     ]
    }
   ],
   "source": [
    "%%time\n",
    "\n",
    "df_metrics.loc['weighted_random_recommendation', :] = [\n",
    "    (df_results_wrr['weighted_random_recommendation']\n",
    "         .apply(lambda row: precision_at_k(df_results_wrr['actual'], row), 1)\n",
    "         .mean()),\n",
    "    (df_results_wrr['weighted_random_recommendation_top_5000']\n",
    "         .apply(lambda row: precision_at_k(df_results_wrr['actual'], row), 1)\n",
    "         .mean())\n",
    "]"
   ]
  },
  {
   "cell_type": "code",
   "execution_count": 34,
   "id": "80d1f742",
   "metadata": {},
   "outputs": [
    {
     "data": {
      "text/html": [
       "<div>\n",
       "<style scoped>\n",
       "    .dataframe tbody tr th:only-of-type {\n",
       "        vertical-align: middle;\n",
       "    }\n",
       "\n",
       "    .dataframe tbody tr th {\n",
       "        vertical-align: top;\n",
       "    }\n",
       "\n",
       "    .dataframe thead th {\n",
       "        text-align: right;\n",
       "    }\n",
       "</style>\n",
       "<table border=\"1\" class=\"dataframe\">\n",
       "  <thead>\n",
       "    <tr style=\"text-align: right;\">\n",
       "      <th></th>\n",
       "      <th>all_items</th>\n",
       "      <th>top_5000</th>\n",
       "    </tr>\n",
       "  </thead>\n",
       "  <tbody>\n",
       "    <tr>\n",
       "      <th>random_recommendation</th>\n",
       "      <td>0.000294</td>\n",
       "      <td>0.002547</td>\n",
       "    </tr>\n",
       "    <tr>\n",
       "      <th>weighted_random_recommendation</th>\n",
       "      <td>0.000490</td>\n",
       "      <td>0.003624</td>\n",
       "    </tr>\n",
       "  </tbody>\n",
       "</table>\n",
       "</div>"
      ],
      "text/plain": [
       "                                all_items  top_5000\n",
       "random_recommendation            0.000294  0.002547\n",
       "weighted_random_recommendation   0.000490  0.003624"
      ]
     },
     "execution_count": 34,
     "metadata": {},
     "output_type": "execute_result"
    }
   ],
   "source": [
    "df_metrics"
   ]
  },
  {
   "cell_type": "markdown",
   "id": "7d9b2c3a",
   "metadata": {},
   "source": [
    "Оба метода демонстрируют посредственные метрики точности. Однако можно наблюдать тенденцию, что применение весов положительно сказывается на точности прогноза, как и применение выборки наиболее покупаемых товаров."
   ]
  },
  {
   "cell_type": "markdown",
   "id": "00ccb961",
   "metadata": {},
   "source": [
    "### CosineRecommender"
   ]
  },
  {
   "cell_type": "markdown",
   "id": "a789fb01",
   "metadata": {},
   "source": [
    "Для оценки эффективности базовых алгоритмов выполним прогнозирование при помощи рекомендательных моделей.\n",
    "\n",
    "Выполним прогнозирование на топ 5000 товарах, остальные товары будут проигнорированы фильтром модели.\n",
    "\n",
    "Далее идёт код из методички с незначительными изменениями."
   ]
  },
  {
   "cell_type": "code",
   "execution_count": 35,
   "id": "2ca21673",
   "metadata": {},
   "outputs": [],
   "source": [
    "df_results_cr = df_results[['user_id', 'actual']].copy()"
   ]
  },
  {
   "cell_type": "code",
   "execution_count": 36,
   "id": "ff7a9aca",
   "metadata": {},
   "outputs": [
    {
     "name": "stdout",
     "output_type": "stream",
     "text": [
      "Wall time: 2.06 s\n"
     ]
    }
   ],
   "source": [
    "%%time\n",
    "\n",
    "df_train_cr = df_train.copy()\n",
    "df_train_cr.loc[~df_train_cr['item_id'].isin(array_items_top_5000), 'item_id'] = 999999\n",
    "\n",
    "user_item_matrix = pd.pivot_table(df_train_cr, \n",
    "                                  index='user_id', \n",
    "                                  columns='item_id', \n",
    "                                  values='quantity',\n",
    "                                  aggfunc='count', \n",
    "                                  fill_value=0\n",
    "                                 )\n",
    "\n",
    "user_item_matrix[user_item_matrix > 0] = 1\n",
    "user_item_matrix = user_item_matrix.astype(float)\n",
    "\n",
    "sparse_user_item = csr_matrix(user_item_matrix).tocsr()"
   ]
  },
  {
   "cell_type": "code",
   "execution_count": 37,
   "id": "10567d5e",
   "metadata": {},
   "outputs": [],
   "source": [
    "userids = user_item_matrix.index.values\n",
    "itemids = user_item_matrix.columns.values\n",
    "\n",
    "matrix_userids = np.arange(len(userids))\n",
    "matrix_itemids = np.arange(len(itemids))\n",
    "\n",
    "id_to_itemid = dict(zip(matrix_itemids, itemids))\n",
    "id_to_userid = dict(zip(matrix_userids, userids))\n",
    "\n",
    "itemid_to_id = dict(zip(itemids, matrix_itemids))\n",
    "userid_to_id = dict(zip(userids, matrix_userids))"
   ]
  },
  {
   "cell_type": "code",
   "execution_count": 38,
   "id": "e2293d91",
   "metadata": {},
   "outputs": [
    {
     "data": {
      "application/vnd.jupyter.widget-view+json": {
       "model_id": "5b72a2ef4f1f4985a3ea12e989d570bb",
       "version_major": 2,
       "version_minor": 0
      },
      "text/plain": [
       "  0%|          | 0/5001 [00:00<?, ?it/s]"
      ]
     },
     "metadata": {},
     "output_type": "display_data"
    },
    {
     "name": "stdout",
     "output_type": "stream",
     "text": [
      "Wall time: 294 ms\n"
     ]
    }
   ],
   "source": [
    "%%time\n",
    "\n",
    "model_cr = CosineRecommender(K=5, num_threads=0)\n",
    "\n",
    "model_cr.fit(csr_matrix(user_item_matrix).T.tocsr(), \n",
    "          show_progress=True)"
   ]
  },
  {
   "cell_type": "code",
   "execution_count": 39,
   "id": "2f827867",
   "metadata": {},
   "outputs": [
    {
     "name": "stdout",
     "output_type": "stream",
     "text": [
      "Wall time: 48.9 ms\n"
     ]
    }
   ],
   "source": [
    "%%time\n",
    "\n",
    "df_results_cr['cosine_recommender'] = df_results_cr['user_id'].\\\n",
    "    apply(lambda x: [id_to_itemid[rec[0]] for rec in \n",
    "                    model_cr.recommend(userid=userid_to_id[x],\n",
    "                                       user_items=sparse_user_item,\n",
    "                                       N=5,\n",
    "                                       filter_already_liked_items=False,\n",
    "                                       filter_items=[itemid_to_id[999999]],\n",
    "                                       recalculate_user=True)])"
   ]
  },
  {
   "cell_type": "code",
   "execution_count": 40,
   "id": "595c76aa",
   "metadata": {},
   "outputs": [
    {
     "data": {
      "text/html": [
       "<div>\n",
       "<style scoped>\n",
       "    .dataframe tbody tr th:only-of-type {\n",
       "        vertical-align: middle;\n",
       "    }\n",
       "\n",
       "    .dataframe tbody tr th {\n",
       "        vertical-align: top;\n",
       "    }\n",
       "\n",
       "    .dataframe thead th {\n",
       "        text-align: right;\n",
       "    }\n",
       "</style>\n",
       "<table border=\"1\" class=\"dataframe\">\n",
       "  <thead>\n",
       "    <tr style=\"text-align: right;\">\n",
       "      <th></th>\n",
       "      <th>user_id</th>\n",
       "      <th>actual</th>\n",
       "      <th>cosine_recommender</th>\n",
       "    </tr>\n",
       "  </thead>\n",
       "  <tbody>\n",
       "    <tr>\n",
       "      <th>0</th>\n",
       "      <td>1</td>\n",
       "      <td>[821867, 834484, 856942, 865456, 889248, 90795...</td>\n",
       "      <td>[1082185, 981760, 1127831, 1098066, 961554]</td>\n",
       "    </tr>\n",
       "    <tr>\n",
       "      <th>1</th>\n",
       "      <td>3</td>\n",
       "      <td>[835476, 851057, 872021, 878302, 879948, 90963...</td>\n",
       "      <td>[1082185, 1098066, 981760, 826249, 883404]</td>\n",
       "    </tr>\n",
       "    <tr>\n",
       "      <th>2</th>\n",
       "      <td>6</td>\n",
       "      <td>[920308, 926804, 946489, 1006718, 1017061, 107...</td>\n",
       "      <td>[1082185, 981760, 1127831, 1098066, 878996]</td>\n",
       "    </tr>\n",
       "    <tr>\n",
       "      <th>3</th>\n",
       "      <td>7</td>\n",
       "      <td>[840386, 889774, 898068, 909714, 929067, 95347...</td>\n",
       "      <td>[1082185, 981760, 1127831, 961554, 1098066]</td>\n",
       "    </tr>\n",
       "    <tr>\n",
       "      <th>4</th>\n",
       "      <td>8</td>\n",
       "      <td>[835098, 872137, 910439, 924610, 992977, 10412...</td>\n",
       "      <td>[1082185, 981760, 1098066, 1127831, 826249]</td>\n",
       "    </tr>\n",
       "  </tbody>\n",
       "</table>\n",
       "</div>"
      ],
      "text/plain": [
       "   user_id                                             actual  \\\n",
       "0        1  [821867, 834484, 856942, 865456, 889248, 90795...   \n",
       "1        3  [835476, 851057, 872021, 878302, 879948, 90963...   \n",
       "2        6  [920308, 926804, 946489, 1006718, 1017061, 107...   \n",
       "3        7  [840386, 889774, 898068, 909714, 929067, 95347...   \n",
       "4        8  [835098, 872137, 910439, 924610, 992977, 10412...   \n",
       "\n",
       "                            cosine_recommender  \n",
       "0  [1082185, 981760, 1127831, 1098066, 961554]  \n",
       "1   [1082185, 1098066, 981760, 826249, 883404]  \n",
       "2  [1082185, 981760, 1127831, 1098066, 878996]  \n",
       "3  [1082185, 981760, 1127831, 961554, 1098066]  \n",
       "4  [1082185, 981760, 1098066, 1127831, 826249]  "
      ]
     },
     "execution_count": 40,
     "metadata": {},
     "output_type": "execute_result"
    }
   ],
   "source": [
    "df_results_cr.head()"
   ]
  },
  {
   "cell_type": "code",
   "execution_count": 41,
   "id": "ff1355da",
   "metadata": {},
   "outputs": [
    {
     "name": "stdout",
     "output_type": "stream",
     "text": [
      "Wall time: 41.4 s\n"
     ]
    }
   ],
   "source": [
    "%%time\n",
    "\n",
    "df_metrics.loc['cosine_recommender', :] = [\n",
    "    np.NaN,\n",
    "    (df_results_cr['cosine_recommender'].apply(lambda row: precision_at_k(df_results_cr['actual'], row), 1).mean())\n",
    "]"
   ]
  },
  {
   "cell_type": "code",
   "execution_count": 42,
   "id": "2bd93688",
   "metadata": {},
   "outputs": [
    {
     "data": {
      "text/html": [
       "<div>\n",
       "<style scoped>\n",
       "    .dataframe tbody tr th:only-of-type {\n",
       "        vertical-align: middle;\n",
       "    }\n",
       "\n",
       "    .dataframe tbody tr th {\n",
       "        vertical-align: top;\n",
       "    }\n",
       "\n",
       "    .dataframe thead th {\n",
       "        text-align: right;\n",
       "    }\n",
       "</style>\n",
       "<table border=\"1\" class=\"dataframe\">\n",
       "  <thead>\n",
       "    <tr style=\"text-align: right;\">\n",
       "      <th></th>\n",
       "      <th>all_items</th>\n",
       "      <th>top_5000</th>\n",
       "    </tr>\n",
       "  </thead>\n",
       "  <tbody>\n",
       "    <tr>\n",
       "      <th>random_recommendation</th>\n",
       "      <td>0.000294</td>\n",
       "      <td>0.002547</td>\n",
       "    </tr>\n",
       "    <tr>\n",
       "      <th>weighted_random_recommendation</th>\n",
       "      <td>0.000490</td>\n",
       "      <td>0.003624</td>\n",
       "    </tr>\n",
       "    <tr>\n",
       "      <th>cosine_recommender</th>\n",
       "      <td>NaN</td>\n",
       "      <td>0.047894</td>\n",
       "    </tr>\n",
       "  </tbody>\n",
       "</table>\n",
       "</div>"
      ],
      "text/plain": [
       "                                all_items  top_5000\n",
       "random_recommendation            0.000294  0.002547\n",
       "weighted_random_recommendation   0.000490  0.003624\n",
       "cosine_recommender                    NaN  0.047894"
      ]
     },
     "execution_count": 42,
     "metadata": {},
     "output_type": "execute_result"
    }
   ],
   "source": [
    "df_metrics"
   ]
  },
  {
   "cell_type": "markdown",
   "id": "5be9c9bd",
   "metadata": {},
   "source": [
    "Прогнозирование на всём объёме товаров затруднительно из-за ресурсоёмкости операции.\n",
    "\n",
    "Модель, использующая косинусную меру для подбора похожих товаров, демонстрирует гораздо лучшую метрику качества."
   ]
  },
  {
   "cell_type": "markdown",
   "id": "4e0f1f3e",
   "metadata": {},
   "source": [
    "### TFIDFRecommender"
   ]
  },
  {
   "cell_type": "markdown",
   "id": "dcb215dd",
   "metadata": {},
   "source": [
    "Выполним прогноз для топ 5000 товаров при помощи модели инверсии частоты."
   ]
  },
  {
   "cell_type": "code",
   "execution_count": 43,
   "id": "38580e9e",
   "metadata": {},
   "outputs": [],
   "source": [
    "df_results_tfidf = df_results[['user_id', 'actual']].copy()"
   ]
  },
  {
   "cell_type": "code",
   "execution_count": 44,
   "id": "a2f265f1",
   "metadata": {},
   "outputs": [
    {
     "data": {
      "application/vnd.jupyter.widget-view+json": {
       "model_id": "53af5e3ab0e44c11b2320ba618d696f7",
       "version_major": 2,
       "version_minor": 0
      },
      "text/plain": [
       "  0%|          | 0/5001 [00:00<?, ?it/s]"
      ]
     },
     "metadata": {},
     "output_type": "display_data"
    },
    {
     "name": "stdout",
     "output_type": "stream",
     "text": [
      "Wall time: 269 ms\n"
     ]
    }
   ],
   "source": [
    "%%time\n",
    "\n",
    "model_tfidf = TFIDFRecommender(K=5, num_threads=0)\n",
    "\n",
    "model_tfidf.fit(csr_matrix(user_item_matrix).T.tocsr(),\n",
    "                show_progress=True)"
   ]
  },
  {
   "cell_type": "code",
   "execution_count": 45,
   "id": "a947783e",
   "metadata": {},
   "outputs": [
    {
     "name": "stdout",
     "output_type": "stream",
     "text": [
      "Wall time: 57.8 ms\n"
     ]
    }
   ],
   "source": [
    "%%time\n",
    "\n",
    "df_results_tfidf['tfidf'] = df_results_tfidf['user_id'].\\\n",
    "    apply(lambda x: [id_to_itemid[rec[0]] for rec in\n",
    "                     model_tfidf.recommend(userid=userid_to_id[x],\n",
    "                                           user_items=sparse_user_item,\n",
    "                                           N=5,\n",
    "                                           filter_already_liked_items=False,\n",
    "                                           filter_items=[itemid_to_id[999999]],\n",
    "                                           recalculate_user=False)])"
   ]
  },
  {
   "cell_type": "code",
   "execution_count": 46,
   "id": "6894f605",
   "metadata": {},
   "outputs": [
    {
     "data": {
      "text/html": [
       "<div>\n",
       "<style scoped>\n",
       "    .dataframe tbody tr th:only-of-type {\n",
       "        vertical-align: middle;\n",
       "    }\n",
       "\n",
       "    .dataframe tbody tr th {\n",
       "        vertical-align: top;\n",
       "    }\n",
       "\n",
       "    .dataframe thead th {\n",
       "        text-align: right;\n",
       "    }\n",
       "</style>\n",
       "<table border=\"1\" class=\"dataframe\">\n",
       "  <thead>\n",
       "    <tr style=\"text-align: right;\">\n",
       "      <th></th>\n",
       "      <th>user_id</th>\n",
       "      <th>actual</th>\n",
       "      <th>tfidf</th>\n",
       "    </tr>\n",
       "  </thead>\n",
       "  <tbody>\n",
       "    <tr>\n",
       "      <th>0</th>\n",
       "      <td>1</td>\n",
       "      <td>[821867, 834484, 856942, 865456, 889248, 90795...</td>\n",
       "      <td>[1082185, 981760, 1127831, 1098066, 961554]</td>\n",
       "    </tr>\n",
       "    <tr>\n",
       "      <th>1</th>\n",
       "      <td>3</td>\n",
       "      <td>[835476, 851057, 872021, 878302, 879948, 90963...</td>\n",
       "      <td>[1082185, 981760, 1098066, 826249, 883404]</td>\n",
       "    </tr>\n",
       "    <tr>\n",
       "      <th>2</th>\n",
       "      <td>6</td>\n",
       "      <td>[920308, 926804, 946489, 1006718, 1017061, 107...</td>\n",
       "      <td>[1082185, 981760, 1127831, 878996, 961554]</td>\n",
       "    </tr>\n",
       "    <tr>\n",
       "      <th>3</th>\n",
       "      <td>7</td>\n",
       "      <td>[840386, 889774, 898068, 909714, 929067, 95347...</td>\n",
       "      <td>[1082185, 981760, 1127831, 961554, 826249]</td>\n",
       "    </tr>\n",
       "    <tr>\n",
       "      <th>4</th>\n",
       "      <td>8</td>\n",
       "      <td>[835098, 872137, 910439, 924610, 992977, 10412...</td>\n",
       "      <td>[1082185, 981760, 1098066, 826249, 1127831]</td>\n",
       "    </tr>\n",
       "  </tbody>\n",
       "</table>\n",
       "</div>"
      ],
      "text/plain": [
       "   user_id                                             actual  \\\n",
       "0        1  [821867, 834484, 856942, 865456, 889248, 90795...   \n",
       "1        3  [835476, 851057, 872021, 878302, 879948, 90963...   \n",
       "2        6  [920308, 926804, 946489, 1006718, 1017061, 107...   \n",
       "3        7  [840386, 889774, 898068, 909714, 929067, 95347...   \n",
       "4        8  [835098, 872137, 910439, 924610, 992977, 10412...   \n",
       "\n",
       "                                         tfidf  \n",
       "0  [1082185, 981760, 1127831, 1098066, 961554]  \n",
       "1   [1082185, 981760, 1098066, 826249, 883404]  \n",
       "2   [1082185, 981760, 1127831, 878996, 961554]  \n",
       "3   [1082185, 981760, 1127831, 961554, 826249]  \n",
       "4  [1082185, 981760, 1098066, 826249, 1127831]  "
      ]
     },
     "execution_count": 46,
     "metadata": {},
     "output_type": "execute_result"
    }
   ],
   "source": [
    "df_results_tfidf.head()"
   ]
  },
  {
   "cell_type": "code",
   "execution_count": 47,
   "id": "007e9278",
   "metadata": {},
   "outputs": [
    {
     "name": "stdout",
     "output_type": "stream",
     "text": [
      "Wall time: 41.8 s\n"
     ]
    }
   ],
   "source": [
    "%%time\n",
    "\n",
    "df_metrics.loc['tfidf', :] = [\n",
    "    np.NaN,\n",
    "    (df_results_tfidf['tfidf'].apply(lambda row: precision_at_k(df_results_tfidf['actual'], row), 1).mean())\n",
    "]"
   ]
  },
  {
   "cell_type": "code",
   "execution_count": 48,
   "id": "0caedf4c",
   "metadata": {},
   "outputs": [
    {
     "data": {
      "text/html": [
       "<div>\n",
       "<style scoped>\n",
       "    .dataframe tbody tr th:only-of-type {\n",
       "        vertical-align: middle;\n",
       "    }\n",
       "\n",
       "    .dataframe tbody tr th {\n",
       "        vertical-align: top;\n",
       "    }\n",
       "\n",
       "    .dataframe thead th {\n",
       "        text-align: right;\n",
       "    }\n",
       "</style>\n",
       "<table border=\"1\" class=\"dataframe\">\n",
       "  <thead>\n",
       "    <tr style=\"text-align: right;\">\n",
       "      <th></th>\n",
       "      <th>all_items</th>\n",
       "      <th>top_5000</th>\n",
       "    </tr>\n",
       "  </thead>\n",
       "  <tbody>\n",
       "    <tr>\n",
       "      <th>random_recommendation</th>\n",
       "      <td>0.000294</td>\n",
       "      <td>0.002547</td>\n",
       "    </tr>\n",
       "    <tr>\n",
       "      <th>weighted_random_recommendation</th>\n",
       "      <td>0.000490</td>\n",
       "      <td>0.003624</td>\n",
       "    </tr>\n",
       "    <tr>\n",
       "      <th>cosine_recommender</th>\n",
       "      <td>NaN</td>\n",
       "      <td>0.047894</td>\n",
       "    </tr>\n",
       "    <tr>\n",
       "      <th>tfidf</th>\n",
       "      <td>NaN</td>\n",
       "      <td>0.046131</td>\n",
       "    </tr>\n",
       "  </tbody>\n",
       "</table>\n",
       "</div>"
      ],
      "text/plain": [
       "                                all_items  top_5000\n",
       "random_recommendation            0.000294  0.002547\n",
       "weighted_random_recommendation   0.000490  0.003624\n",
       "cosine_recommender                    NaN  0.047894\n",
       "tfidf                                 NaN  0.046131"
      ]
     },
     "execution_count": 48,
     "metadata": {},
     "output_type": "execute_result"
    }
   ],
   "source": [
    "df_metrics"
   ]
  },
  {
   "cell_type": "markdown",
   "id": "2fcd7bb6",
   "metadata": {},
   "source": [
    "Модель, использующая инверсию частоты для прогнозирования, демонстрирует схожие результаты с моделью, использующей косинусную меру. При этом обе модели демонстрируют значительно лучшие результаты, чем случайное семплирование с весами и без.\n",
    "\n",
    "Выполнить прогнозирование на всех объектах также затруднительно из-за русорсоёмкости операции."
   ]
  },
  {
   "cell_type": "code",
   "execution_count": null,
   "id": "d543a04c",
   "metadata": {},
   "outputs": [],
   "source": []
  }
 ],
 "metadata": {
  "kernelspec": {
   "display_name": "Python 3 (ipykernel)",
   "language": "python",
   "name": "python3"
  },
  "language_info": {
   "codemirror_mode": {
    "name": "ipython",
    "version": 3
   },
   "file_extension": ".py",
   "mimetype": "text/x-python",
   "name": "python",
   "nbconvert_exporter": "python",
   "pygments_lexer": "ipython3",
   "version": "3.9.4"
  }
 },
 "nbformat": 4,
 "nbformat_minor": 5
}
